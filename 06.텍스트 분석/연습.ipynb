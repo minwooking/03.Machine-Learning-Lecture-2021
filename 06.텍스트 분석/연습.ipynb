{
 "cells": [
  {
   "cell_type": "markdown",
   "metadata": {},
   "source": [
    "\n",
    "- ngram range 를 1,1으로 했을때 count,Tfidf ,  를 svc,dt , rf 로 출력하는 \n",
    "- ngram range 를 1,2으로 했을때 count,Tfidf ,  를 svc,dt , rf 로 출력하는"
   ]
  },
  {
   "cell_type": "code",
   "execution_count": 1,
   "metadata": {},
   "outputs": [],
   "source": [
    "import numpy as np\n",
    "import pandas as pd\n",
    "import matplotlib.pyplot as plt\n",
    "from sklearn.feature_extraction.text import CountVectorizer\n",
    "from sklearn.svm import SVC # svc\n",
    "from sklearn.tree import DecisionTreeClassifier # Dt\n",
    "from sklearn.ensemble import RandomForestClassifier # RF\n",
    "from sklearn.feature_extraction.text import TfidfVectorizer\n",
    "from sklearn.model_selection import train_test_split\n"
   ]
  },
  {
   "cell_type": "code",
   "execution_count": 2,
   "metadata": {},
   "outputs": [],
   "source": [
    "df = pd.read_csv('data/labeledTrainData.tsv',sep='\\t',quoting=3)\n",
    "######전처리####################################################\n",
    "df.review = df.review.str.replace('<br />',' ').replace('[^A-Za-z]',' ')"
   ]
  },
  {
   "cell_type": "code",
   "execution_count": 3,
   "metadata": {},
   "outputs": [],
   "source": [
    "# train/test dataset 으로 분리\n",
    "X_train,X_test,y_train,y_test = train_test_split(\n",
    "    df['review'],df['sentiment'] , stratify= df['sentiment'] , random_state=2021)"
   ]
  },
  {
   "cell_type": "code",
   "execution_count": 4,
   "metadata": {},
   "outputs": [
    {
     "name": "stdout",
     "output_type": "stream",
     "text": [
      "모델:SVC()\t,벡터:cvect\tngram_range:1일때:0.87184입니다.\n",
      "모델:SVC()\t,벡터:cvect\tngram_range:2일때:0.87584입니다.\n",
      "모델:SVC()\t,벡터:tvect\tngram_range:1일때:0.89152입니다.\n",
      "모델:SVC()\t,벡터:tvect\tngram_range:2일때:0.88512입니다.\n",
      "모델:DecisionTreeClassifier()\t,벡터:cvect\tngram_range:1일때:0.72176입니다.\n",
      "모델:DecisionTreeClassifier()\t,벡터:cvect\tngram_range:2일때:0.72896입니다.\n",
      "모델:DecisionTreeClassifier()\t,벡터:tvect\tngram_range:1일때:0.71408입니다.\n",
      "모델:DecisionTreeClassifier()\t,벡터:tvect\tngram_range:2일때:0.69632입니다.\n",
      "모델:RandomForestClassifier()\t,벡터:cvect\tngram_range:1일때:0.85312입니다.\n",
      "모델:RandomForestClassifier()\t,벡터:cvect\tngram_range:2일때:0.8496입니다.\n",
      "모델:RandomForestClassifier()\t,벡터:tvect\tngram_range:1일때:0.84896입니다.\n",
      "모델:RandomForestClassifier()\t,벡터:tvect\tngram_range:2일때:0.84832입니다.\n"
     ]
    }
   ],
   "source": [
    "def auto(model,vect,i):\n",
    "    g= globals()\n",
    "    if vect == 'cvect':\n",
    "        g[f'{vect}{i}'] = CountVectorizer(stop_words='english',ngram_range=(1,i))\n",
    "    elif vect == 'tvect':\n",
    "        g[f'{vect}{i}'] = TfidfVectorizer(stop_words='english',ngram_range=(1,i))\n",
    "    g[f'{vect}{i}'].fit(X_train)\n",
    "    g[f'X_train_{vect}{i}'] = g[f'{vect}{i}'].transform(X_train)\n",
    "    g[f'X_test_{vect}{i}'] = g[f'{vect}{i}'].transform(X_test)\n",
    "    model.fit(g[f'X_train_{vect}{i}'],y_train)\n",
    "    return model.score(g[f'X_test_{vect}{i}'],y_test)\n"
   ]
  },
  {
   "cell_type": "code",
   "execution_count": null,
   "metadata": {},
   "outputs": [],
   "source": [
    "\n",
    "    \n",
    "for model in [SVC(),DecisionTreeClassifier(),RandomForestClassifier()]:\n",
    "    for vect in ['cvect','tvect']:\n",
    "            for i in [1,2]:\n",
    "                    print(f'모델:{model}\\t,벡터:{vect}\\tngram_range:{i}일때:{auto(model,vect,i)}입니다.')"
   ]
  }
 ],
 "metadata": {
  "interpreter": {
   "hash": "b3ba2566441a7c06988d0923437866b63cedc61552a5af99d1f4fb67d367b25f"
  },
  "kernelspec": {
   "display_name": "Python 3.8.8 64-bit ('base': conda)",
   "language": "python",
   "name": "python3"
  },
  "language_info": {
   "codemirror_mode": {
    "name": "ipython",
    "version": 3
   },
   "file_extension": ".py",
   "mimetype": "text/x-python",
   "name": "python",
   "nbconvert_exporter": "python",
   "pygments_lexer": "ipython3",
   "version": "3.8.8"
  },
  "orig_nbformat": 4
 },
 "nbformat": 4,
 "nbformat_minor": 2
}
