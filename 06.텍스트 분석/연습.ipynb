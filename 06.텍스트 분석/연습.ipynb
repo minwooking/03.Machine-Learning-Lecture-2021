{
 "cells": [
  {
   "cell_type": "markdown",
   "metadata": {},
   "source": [
    "\n",
    "- ngram range 를 1,1으로 했을때 count,Tfidf ,  를 svc,dt , rf 로 출력하는 \n",
    "- ngram range 를 1,2으로 했을때 count,Tfidf ,  를 svc,dt , rf 로 출력하는"
   ]
  },
  {
   "cell_type": "code",
   "execution_count": 2,
   "metadata": {},
   "outputs": [],
   "source": [
    "import numpy as np\n",
    "import pandas as pd\n",
    "import matplotlib.pyplot as plt\n",
    "from sklearn.feature_extraction.text import CountVectorizer\n",
    "from sklearn.svm import SVC # svc\n",
    "svc = SVC()\n",
    "from sklearn.tree import DecisionTreeClassifier # Dt\n",
    "dt = DecisionTreeClassifier()\n",
    "from sklearn.ensemble import RandomForestClassifier # RF\n",
    "rf = RandomForestClassifier()\n",
    "from sklearn.feature_extraction.text import TfidfVectorizer\n",
    " "
   ]
  },
  {
   "cell_type": "code",
   "execution_count": 3,
   "metadata": {},
   "outputs": [
    {
     "name": "stdout",
     "output_type": "stream",
     "text": [
      "<class 'pandas.core.frame.DataFrame'>\n",
      "RangeIndex: 25000 entries, 0 to 24999\n",
      "Data columns (total 3 columns):\n",
      " #   Column     Non-Null Count  Dtype \n",
      "---  ------     --------------  ----- \n",
      " 0   id         25000 non-null  object\n",
      " 1   sentiment  25000 non-null  int64 \n",
      " 2   review     25000 non-null  object\n",
      "dtypes: int64(1), object(2)\n",
      "memory usage: 586.1+ KB\n"
     ]
    },
    {
     "data": {
      "text/plain": [
       "(None,\n",
       "          id  sentiment                                             review\n",
       " 0  \"5814_8\"          1  \"With all this stuff going down at the moment ...\n",
       " 1  \"2381_9\"          1  \"\\\"The Classic War of the Worlds\\\" by Timothy ...\n",
       " 2  \"7759_3\"          0  \"The film starts with a manager (Nicholas Bell...\n",
       " 3  \"3630_4\"          0  \"It must be assumed that those who praised thi...\n",
       " 4  \"9495_8\"          1  \"Superbly trashy and wondrously unpretentious ...)"
      ]
     },
     "execution_count": 3,
     "metadata": {},
     "output_type": "execute_result"
    }
   ],
   "source": [
    "df = pd.read_csv('data/labeledTrainData.tsv',sep='\\t',quoting=3)\n",
    "df.info(),df.head()"
   ]
  },
  {
   "cell_type": "markdown",
   "metadata": {},
   "source": [
    "전처리"
   ]
  },
  {
   "cell_type": "code",
   "execution_count": 4,
   "metadata": {},
   "outputs": [],
   "source": [
    "df.review = df.review.str.replace('<br />',' ')"
   ]
  },
  {
   "cell_type": "code",
   "execution_count": 5,
   "metadata": {},
   "outputs": [
    {
     "name": "stderr",
     "output_type": "stream",
     "text": [
      "<ipython-input-5-760429ce98c7>:1: FutureWarning: The default value of regex will change from True to False in a future version.\n",
      "  df.review = df.review.str.replace('[^A-Za-z]',' ')\n"
     ]
    }
   ],
   "source": [
    "df.review = df.review.str.replace('[^A-Za-z]',' ')"
   ]
  },
  {
   "cell_type": "code",
   "execution_count": 6,
   "metadata": {},
   "outputs": [
    {
     "data": {
      "text/plain": [
       "' With all this stuff going down at the moment with MJ i ve started listening to his music  watching the odd documentary here and there  watched The Wiz and watched Moonwalker again  Maybe i just want to get a certain insight into this guy who i thought was really cool in the eighties just to maybe make up my mind whether he is guilty or innocent  Moonwalker is part biography  part feature film which i remember going to see at the cinema when it was originally released  Some of it has subtle messages about MJ s feeling towards the press and also the obvious message of drugs are bad m kay   Visually impressive but of course this is all about Michael Jackson so unless you remotely like MJ in anyway then you are going to hate this and find it boring  Some may call MJ an egotist for consenting to the making of this movie BUT MJ and most of his fans would say that he made it for the fans which if true is really nice of him   The actual feature film bit when it finally starts is only on for  '"
      ]
     },
     "execution_count": 6,
     "metadata": {},
     "output_type": "execute_result"
    }
   ],
   "source": [
    "df['review'][0][:1000]"
   ]
  },
  {
   "cell_type": "markdown",
   "metadata": {},
   "source": [
    "train/test dataset 으로 분리"
   ]
  },
  {
   "cell_type": "code",
   "execution_count": 7,
   "metadata": {},
   "outputs": [
    {
     "data": {
      "text/plain": [
       "(0    9375\n",
       " 1    9375\n",
       " Name: sentiment, dtype: int64,\n",
       " 0    3125\n",
       " 1    3125\n",
       " Name: sentiment, dtype: int64)"
      ]
     },
     "execution_count": 7,
     "metadata": {},
     "output_type": "execute_result"
    }
   ],
   "source": [
    "from sklearn.model_selection import train_test_split\n",
    "X_train,X_test,y_train,y_test = train_test_split(\n",
    "    df['review'],df['sentiment'] , stratify= df['sentiment'] , random_state=2021\n",
    ")\n",
    "y_train.value_counts(),y_test.value_counts()"
   ]
  },
  {
   "cell_type": "code",
   "execution_count": 8,
   "metadata": {},
   "outputs": [],
   "source": [
    "cvect_1 = CountVectorizer(stop_words='english',ngram_range=(1,1))\n",
    "cvect_1.fit(X_train)\n",
    "### 가공 ## \n",
    "cvect_1.fit(X_train)\n",
    "X_train_cv_1 = cvect_1.transform(X_train)\n",
    "X_test_cv_1 = cvect_1.transform(X_test)\n",
    "tvect_1 = TfidfVectorizer(stop_words='english',ngram_range=(1,2))\n",
    "tvect_1.fit(X_train)\n",
    "X_train_tv_1 = tvect_1.transform(X_train)\n",
    "X_test_tv_1 = tvect_1.transform(X_test)"
   ]
  },
  {
   "cell_type": "code",
   "execution_count": 9,
   "metadata": {},
   "outputs": [
    {
     "data": {
      "text/plain": [
       "((18750, 1384106), (18750, 65253), (6250, 1384106), (18750, 65253))"
      ]
     },
     "execution_count": 9,
     "metadata": {},
     "output_type": "execute_result"
    }
   ],
   "source": [
    "X_train_tv_1.shape,X_train_cv_1.shape, X_test_tv_1.shape,X_train_cv_1.shape"
   ]
  },
  {
   "cell_type": "code",
   "execution_count": 10,
   "metadata": {},
   "outputs": [],
   "source": [
    "cvect_2 = CountVectorizer(stop_words='english',ngram_range=(1,2))\n",
    "cvect_2.fit(X_train)\n",
    "cvect_2.fit(X_train)\n",
    "X_train_cv_2 = cvect_2.transform(X_train)\n",
    "X_test_cv_2 = cvect_2.transform(X_test)\n",
    "tvect_2 = TfidfVectorizer(stop_words='english',ngram_range=(1,2))\n",
    "tvect_2.fit(X_train)\n",
    "X_train_tv_2 = tvect_2.transform(X_train)\n",
    "X_test_tv_2 = tvect_2.transform(X_test)"
   ]
  },
  {
   "cell_type": "code",
   "execution_count": 11,
   "metadata": {},
   "outputs": [
    {
     "data": {
      "text/plain": [
       "((18750, 1384106), (6250, 1384106), (18750, 1384106), (6250, 1384106))"
      ]
     },
     "execution_count": 11,
     "metadata": {},
     "output_type": "execute_result"
    }
   ],
   "source": [
    "X_train_tv_2.shape, X_test_tv_2.shape,X_train_cv_2.shape , X_test_cv_2.shape\n"
   ]
  },
  {
   "cell_type": "code",
   "execution_count": 12,
   "metadata": {},
   "outputs": [
    {
     "name": "stdout",
     "output_type": "stream",
     "text": [
      "Wall time: 6min 47s\n",
      "Wall time: 13min 49s\n"
     ]
    },
    {
     "ename": "NameError",
     "evalue": "name 'dtc' is not defined",
     "output_type": "error",
     "traceback": [
      "\u001b[1;31m---------------------------------------------------------------------------\u001b[0m",
      "\u001b[1;31mNameError\u001b[0m                                 Traceback (most recent call last)",
      "\u001b[1;32m<timed eval>\u001b[0m in \u001b[0;36m<module>\u001b[1;34m\u001b[0m\n",
      "\u001b[1;31mNameError\u001b[0m: name 'dtc' is not defined"
     ]
    },
    {
     "ename": "NameError",
     "evalue": "name 'dtc' is not defined",
     "output_type": "error",
     "traceback": [
      "\u001b[1;31m---------------------------------------------------------------------------\u001b[0m",
      "\u001b[1;31mNameError\u001b[0m                                 Traceback (most recent call last)",
      "\u001b[1;32m<timed eval>\u001b[0m in \u001b[0;36m<module>\u001b[1;34m\u001b[0m\n",
      "\u001b[1;31mNameError\u001b[0m: name 'dtc' is not defined"
     ]
    },
    {
     "name": "stdout",
     "output_type": "stream",
     "text": [
      "Wall time: 32.3 s\n",
      "Wall time: 4min 4s\n"
     ]
    },
    {
     "data": {
      "text/plain": [
       "RandomForestClassifier()"
      ]
     },
     "execution_count": 12,
     "metadata": {},
     "output_type": "execute_result"
    }
   ],
   "source": [
    "%time svc.fit(X_train_cv_1,y_train)\n",
    "%time svc.fit(X_train_cv_2,y_train)\n",
    "%time dtc.fit(X_train_cv_1,y_train)\n",
    "%time dtc.fit(X_train_cv_1,y_train)\n",
    "%time rf.fit(X_train_cv_1,y_train)\n",
    "%time rf.fit(X_train_cv_2,y_train)\n"
   ]
  },
  {
   "cell_type": "code",
   "execution_count": 13,
   "metadata": {},
   "outputs": [
    {
     "name": "stdout",
     "output_type": "stream",
     "text": [
      "Wall time: 17.1 s\n",
      "Wall time: 16.2 s\n"
     ]
    },
    {
     "data": {
      "text/plain": [
       "DecisionTreeClassifier()"
      ]
     },
     "execution_count": 13,
     "metadata": {},
     "output_type": "execute_result"
    }
   ],
   "source": [
    "%time dt.fit(X_train_cv_1,y_train)\n",
    "%time dt.fit(X_train_cv_1,y_train)"
   ]
  },
  {
   "cell_type": "code",
   "execution_count": 14,
   "metadata": {},
   "outputs": [
    {
     "name": "stdout",
     "output_type": "stream",
     "text": [
      "Wall time: 15min 51s\n"
     ]
    }
   ],
   "source": [
    "%time svc.fit(X_train_tv_1,y_train)\n",
    "%time svc.fit(X_train_tv_2,y_train)\n",
    "%time dt.fit(X_train_tv_1,y_train)\n",
    "%time dt.fit(X_train_tv_1,y_train)\n",
    "%time rf.fit(X_train_tv_1,y_train)\n",
    "%time rf.fit(X_train_tv_2,y_train)"
   ]
  },
  {
   "cell_type": "code",
   "execution_count": null,
   "metadata": {},
   "outputs": [],
   "source": [
    "svc.score(X_test_cv_1,y_test),dt.score(X_test_cv_1,y_test),rf.score(X_test_cv_1,y_test),\n",
    "svc.score(X_test_cv_2,y_test),dt.score(X_test_cv_2,y_test),rf.score(X_test_cv_2,y_test),\n",
    "svc.score(X_test_tv_1,y_test),dt.score(X_test_tv_1,y_test),rf.score(X_test_tv_1,y_test),\n",
    "svc.score(X_test_tv_1,y_test),dt.score(X_test_tv_1,y_test),rf.score(X_test_tv_1,y_test),"
   ]
  },
  {
   "cell_type": "code",
   "execution_count": null,
   "metadata": {},
   "outputs": [],
   "source": [
    "for index in ['svc','dt','rf']:\n",
    "    for arg in ['cv','tv']:\n",
    "            for i in range (1,2):\n",
    "                #globals()[f'{index}'].fit(\n",
    "                #     globals()[f'X_test_{arg}_{i}'],\n",
    "                #     globals()[f'y_test_{arg}_{i}'],\n",
    "                #     )\n",
    "                globals()[f'{index}'].score(\n",
    "                    globals()[f'X_test_{arg}_{i}'],\n",
    "                    globals()[f'y_test_{arg}_{i}'],\n",
    "                      )"
   ]
  }
 ],
 "metadata": {
  "interpreter": {
   "hash": "b3ba2566441a7c06988d0923437866b63cedc61552a5af99d1f4fb67d367b25f"
  },
  "kernelspec": {
   "display_name": "Python 3.8.8 64-bit ('base': conda)",
   "language": "python",
   "name": "python3"
  },
  "language_info": {
   "codemirror_mode": {
    "name": "ipython",
    "version": 3
   },
   "file_extension": ".py",
   "mimetype": "text/x-python",
   "name": "python",
   "nbconvert_exporter": "python",
   "pygments_lexer": "ipython3",
   "version": "3.8.8"
  },
  "orig_nbformat": 4
 },
 "nbformat": 4,
 "nbformat_minor": 2
}
