{
  "nbformat": 4,
  "nbformat_minor": 0,
  "metadata": {
    "kernelspec": {
      "display_name": "Python 3",
      "language": "python",
      "name": "python3"
    },
    "language_info": {
      "codemirror_mode": {
        "name": "ipython",
        "version": 3
      },
      "file_extension": ".py",
      "mimetype": "text/x-python",
      "name": "python",
      "nbconvert_exporter": "python",
      "pygments_lexer": "ipython3",
      "version": "3.7.6"
    },
    "toc": {
      "base_numbering": 1,
      "nav_menu": {},
      "number_sections": false,
      "sideBar": true,
      "skip_h1_title": false,
      "title_cell": "Table of Contents",
      "title_sidebar": "Contents",
      "toc_cell": false,
      "toc_position": {},
      "toc_section_display": true,
      "toc_window_display": false
    },
    "varInspector": {
      "cols": {
        "lenName": 16,
        "lenType": 16,
        "lenVar": 40
      },
      "kernels_config": {
        "python": {
          "delete_cmd_postfix": "",
          "delete_cmd_prefix": "del ",
          "library": "var_list.py",
          "varRefreshCmd": "print(var_dic_list())"
        },
        "r": {
          "delete_cmd_postfix": ") ",
          "delete_cmd_prefix": "rm(",
          "library": "var_list.r",
          "varRefreshCmd": "cat(var_dic_list()) "
        }
      },
      "types_to_exclude": [
        "module",
        "function",
        "builtin_function_or_method",
        "instance",
        "_Feature"
      ],
      "window_display": false
    },
    "colab": {
      "name": "03.03회귀.ipynb의 사본",
      "provenance": [],
      "collapsed_sections": [
        "ETzoH9uQrcC8"
      ],
      "include_colab_link": true
    }
  },
  "cells": [
    {
      "cell_type": "markdown",
      "metadata": {
        "id": "view-in-github",
        "colab_type": "text"
      },
      "source": [
        "<a href=\"https://colab.research.google.com/github/minwooking/03.Machine-Learning-Lecture-2021/blob/main/03_03%ED%9A%8C%EA%B7%80_ipynb%EC%9D%98_review.ipynb\" target=\"_parent\"><img src=\"https://colab.research.google.com/assets/colab-badge.svg\" alt=\"Open In Colab\"/></a>"
      ]
    },
    {
      "cell_type": "code",
      "metadata": {
        "id": "drLL9kvJrcCw"
      },
      "source": [
        "from sklearn.datasets import load_boston\n",
        "from sklearn.model_selection import train_test_split\n",
        "\n",
        "data = load_boston()\n",
        "X_train, X_test, y_train, y_test = train_test_split(data.data, data.target, random_state=42)"
      ],
      "execution_count": null,
      "outputs": []
    },
    {
      "cell_type": "code",
      "metadata": {
        "colab": {
          "base_uri": "https://localhost:8080/"
        },
        "id": "iaWIKgxprcCz",
        "outputId": "27580bca-091f-421c-e7c4-4ee65c0a4b56"
      },
      "source": [
        "type(data)"
      ],
      "execution_count": null,
      "outputs": [
        {
          "output_type": "execute_result",
          "data": {
            "text/plain": [
              "sklearn.utils.Bunch"
            ]
          },
          "metadata": {},
          "execution_count": 2
        }
      ]
    },
    {
      "cell_type": "markdown",
      "metadata": {
        "id": "cWQQMy9crcC0"
      },
      "source": [
        "dict에서 k, v에 접근하는 방법\n",
        "- d['k'] = v\n",
        "- v = d['k']\n",
        "\n",
        "bunch는 key를 마치 attribute처럼 사용할 수 있도록해준다.\n",
        "- b.k = v\n",
        "- v = b.k"
      ]
    },
    {
      "cell_type": "code",
      "metadata": {
        "colab": {
          "base_uri": "https://localhost:8080/"
        },
        "id": "JVboIpwprcC1",
        "outputId": "6dfbf8af-ab0e-492e-968c-1662a4996c56"
      },
      "source": [
        "data.keys()"
      ],
      "execution_count": null,
      "outputs": [
        {
          "output_type": "execute_result",
          "data": {
            "text/plain": [
              "dict_keys(['data', 'target', 'feature_names', 'DESCR', 'filename'])"
            ]
          },
          "metadata": {},
          "execution_count": 3
        }
      ]
    },
    {
      "cell_type": "code",
      "metadata": {
        "colab": {
          "base_uri": "https://localhost:8080/"
        },
        "id": "NttzvhCxrcC1",
        "outputId": "7c67d908-9cf4-41fd-9779-d467f63ff811"
      },
      "source": [
        "print(data.DESCR)"
      ],
      "execution_count": null,
      "outputs": [
        {
          "output_type": "stream",
          "name": "stdout",
          "text": [
            ".. _boston_dataset:\n",
            "\n",
            "Boston house prices dataset\n",
            "---------------------------\n",
            "\n",
            "**Data Set Characteristics:**  \n",
            "\n",
            "    :Number of Instances: 506 \n",
            "\n",
            "    :Number of Attributes: 13 numeric/categorical predictive. Median Value (attribute 14) is usually the target.\n",
            "\n",
            "    :Attribute Information (in order):\n",
            "        - CRIM     per capita crime rate by town\n",
            "        - ZN       proportion of residential land zoned for lots over 25,000 sq.ft.\n",
            "        - INDUS    proportion of non-retail business acres per town\n",
            "        - CHAS     Charles River dummy variable (= 1 if tract bounds river; 0 otherwise)\n",
            "        - NOX      nitric oxides concentration (parts per 10 million)\n",
            "        - RM       average number of rooms per dwelling\n",
            "        - AGE      proportion of owner-occupied units built prior to 1940\n",
            "        - DIS      weighted distances to five Boston employment centres\n",
            "        - RAD      index of accessibility to radial highways\n",
            "        - TAX      full-value property-tax rate per $10,000\n",
            "        - PTRATIO  pupil-teacher ratio by town\n",
            "        - B        1000(Bk - 0.63)^2 where Bk is the proportion of blacks by town\n",
            "        - LSTAT    % lower status of the population\n",
            "        - MEDV     Median value of owner-occupied homes in $1000's\n",
            "\n",
            "    :Missing Attribute Values: None\n",
            "\n",
            "    :Creator: Harrison, D. and Rubinfeld, D.L.\n",
            "\n",
            "This is a copy of UCI ML housing dataset.\n",
            "https://archive.ics.uci.edu/ml/machine-learning-databases/housing/\n",
            "\n",
            "\n",
            "This dataset was taken from the StatLib library which is maintained at Carnegie Mellon University.\n",
            "\n",
            "The Boston house-price data of Harrison, D. and Rubinfeld, D.L. 'Hedonic\n",
            "prices and the demand for clean air', J. Environ. Economics & Management,\n",
            "vol.5, 81-102, 1978.   Used in Belsley, Kuh & Welsch, 'Regression diagnostics\n",
            "...', Wiley, 1980.   N.B. Various transformations are used in the table on\n",
            "pages 244-261 of the latter.\n",
            "\n",
            "The Boston house-price data has been used in many machine learning papers that address regression\n",
            "problems.   \n",
            "     \n",
            ".. topic:: References\n",
            "\n",
            "   - Belsley, Kuh & Welsch, 'Regression diagnostics: Identifying Influential Data and Sources of Collinearity', Wiley, 1980. 244-261.\n",
            "   - Quinlan,R. (1993). Combining Instance-Based and Model-Based Learning. In Proceedings on the Tenth International Conference of Machine Learning, 236-243, University of Massachusetts, Amherst. Morgan Kaufmann.\n",
            "\n"
          ]
        }
      ]
    },
    {
      "cell_type": "code",
      "metadata": {
        "colab": {
          "base_uri": "https://localhost:8080/"
        },
        "id": "6imA4GEOrcC2",
        "outputId": "619f89c9-5d63-4f0c-e22f-f46547eb4b7e"
      },
      "source": [
        "from sklearn.linear_model import LinearRegression\n",
        "\n",
        "model = LinearRegression()\n",
        "model.fit(X_train, y_train)"
      ],
      "execution_count": null,
      "outputs": [
        {
          "output_type": "execute_result",
          "data": {
            "text/plain": [
              "LinearRegression(copy_X=True, fit_intercept=True, n_jobs=None, normalize=False)"
            ]
          },
          "metadata": {},
          "execution_count": 5
        }
      ]
    },
    {
      "cell_type": "code",
      "metadata": {
        "colab": {
          "base_uri": "https://localhost:8080/"
        },
        "id": "EcRPRmOnrcC2",
        "outputId": "b54c61d0-c7f3-4a6e-97a0-8ed3de037582"
      },
      "source": [
        "score = model.score(X_test, y_test)\n",
        "print(f\"결정계수 : {score}\")"
      ],
      "execution_count": null,
      "outputs": [
        {
          "output_type": "stream",
          "name": "stdout",
          "text": [
            "결정계수 : 0.6844267283527068\n"
          ]
        }
      ]
    },
    {
      "cell_type": "markdown",
      "metadata": {
        "id": "IwKTCNTprcC3"
      },
      "source": [
        "$$R^2 = 1- \\cfrac {SSE}{SST} = \\cfrac {SSR}{SST}$$\n",
        "- $SST = \\sum_i (y_i - \\bar y)^2$ : Sum of Square Total (Variance)\n",
        "- $SSE = \\sum_i (y_i - \\hat y_i)^2$ : Sum of Squared Error\n",
        "- $SSR = \\sum_i (\\hat y_i - \\bar y)^2$ : Sum of Squared Regression"
      ]
    },
    {
      "cell_type": "code",
      "metadata": {
        "id": "2Td8O_3PrcC3"
      },
      "source": [
        "yhat = model.predict(X_test)"
      ],
      "execution_count": null,
      "outputs": []
    },
    {
      "cell_type": "code",
      "metadata": {
        "colab": {
          "base_uri": "https://localhost:8080/"
        },
        "id": "Y07mKTetrcC4",
        "outputId": "91ff916f-e83d-4dde-f1fd-c2064d85c360"
      },
      "source": [
        "import numpy as np\n",
        "SST = np.square(y_test - y_test.mean()).sum()\n",
        "SSE = np.square(y_test - yhat).sum()\n",
        "\n",
        "R2 = 1 - SSE/SST\n",
        "R2"
      ],
      "execution_count": null,
      "outputs": [
        {
          "output_type": "execute_result",
          "data": {
            "text/plain": [
              "0.6844267283527068"
            ]
          },
          "metadata": {},
          "execution_count": 8
        }
      ]
    },
    {
      "cell_type": "code",
      "metadata": {
        "id": "X5R7KhtcrcC4",
        "colab": {
          "base_uri": "https://localhost:8080/"
        },
        "outputId": "e666d428-5b18-4373-ab73-33b8b56565a7"
      },
      "source": [
        "X_train.shape"
      ],
      "execution_count": null,
      "outputs": [
        {
          "output_type": "execute_result",
          "data": {
            "text/plain": [
              "(379, 13)"
            ]
          },
          "metadata": {},
          "execution_count": 9
        }
      ]
    },
    {
      "cell_type": "markdown",
      "metadata": {
        "id": "H6Fc_-j_rcC4"
      },
      "source": [
        "X의 shape이 (n, p)라면:\n",
        "\n",
        "$$\\begin{align}\n",
        "SST &= SSE + SSR\\\\\n",
        "\\sum_i (y_i - \\bar y)^2 &= \\sum_i (y_i - \\hat y_i + \\hat y_i - \\bar y)^2 \\\\\n",
        "\\sum_i (y_i - \\bar y)^2 &= \\sum_i (y_i - \\hat y_i)^2 + \\sum_i (\\hat y_i - \\bar y)^2\\\\\n",
        "\\text{DoF} : (n - 1) &= (n - p - 1) + (p )\n",
        "\\end{align}$$\n",
        "\n",
        "- $\\hat y = X \\cdot W + b$\n",
        "- MSE(Mean Squared Error) : $\\cfrac {SSE}{n-p-1}$\n",
        "- $y = \\hat y + \\epsilon$, 잔차 $\\epsilon$의 분산값 $\\sigma_e^2 = MSE$"
      ]
    },
    {
      "cell_type": "markdown",
      "metadata": {
        "id": "rmVlQUs7rcC5"
      },
      "source": [
        "$$\\begin{align}\n",
        "Loss(w) &= \\sum_i \\epsilon^2 = \\sum_i (y - \\hat y)^2 \\\\\n",
        "&= (y - X \\cdot w)^T \\cdot (y - X \\cdot w)\\\\\n",
        "\\cfrac {\\partial Loss}{\\partial w} &= 2 (X^T \\cdot X) \\cdot w - 2X^T \\cdot y \\\\\n",
        "w(t+1) &= w(t) - \\text{lr} * \\cfrac {\\partial Loss}{\\partial w} \\Bigg|_{w =w(t)}\n",
        "\\end{align}$$"
      ]
    },
    {
      "cell_type": "markdown",
      "metadata": {
        "id": "5DX14zStrcC5"
      },
      "source": [
        "[Quiz] 보스턴 집값 데이터의 train data에 대한 $R^2$을 구하여라."
      ]
    },
    {
      "cell_type": "code",
      "metadata": {
        "colab": {
          "base_uri": "https://localhost:8080/"
        },
        "id": "zLc5WihprcC5",
        "outputId": "37bdb5e5-2bcf-4146-d6d7-37b00711d91f"
      },
      "source": [
        "R2train = model.score(X_train, y_train)\n",
        "R2train"
      ],
      "execution_count": null,
      "outputs": [
        {
          "output_type": "execute_result",
          "data": {
            "text/plain": [
              "0.748087259862344"
            ]
          },
          "metadata": {},
          "execution_count": 10
        }
      ]
    },
    {
      "cell_type": "markdown",
      "metadata": {
        "id": "PAQNiVParcC5"
      },
      "source": [
        "[Quiz] 임의의 noise 데이터를 추가할 때, 학습 데이터에서의 $R^2$은 어떻게 될까?"
      ]
    },
    {
      "cell_type": "code",
      "metadata": {
        "colab": {
          "base_uri": "https://localhost:8080/"
        },
        "id": "ZddJoPGjrcC6",
        "outputId": "972e4f50-5cb5-4af1-8eda-a5debe2e4f18"
      },
      "source": [
        "noise = np.random.randint(5, 30, (data.data.shape[0], 5))\n",
        "newX = np.hstack([noise, data.data])\n",
        "\n",
        "X_train, X_test, y_train, y_test = train_test_split(newX, data.target, random_state=42)\n",
        "m = LinearRegression()\n",
        "m.fit(X_train, y_train)\n",
        "\n",
        "R2newTr = m.score(X_train, y_train)\n",
        "R2newTe = m.score(X_test, y_test)\n",
        "print(\"기본 데이터에서 학습 결정계수: %.3f, 테스트 결정계수: %.3f\" %(R2train, score))\n",
        "print(\"노이즈 데이터에서 학습 결정계수: %.3f, 테스트 결정계수: %.3f\" %(R2newTr, R2newTe))"
      ],
      "execution_count": null,
      "outputs": [
        {
          "output_type": "stream",
          "name": "stdout",
          "text": [
            "기본 데이터에서 학습 결정계수: 0.748, 테스트 결정계수: 0.684\n",
            "노이즈 데이터에서 학습 결정계수: 0.754, 테스트 결정계수: 0.694\n"
          ]
        }
      ]
    },
    {
      "cell_type": "code",
      "metadata": {
        "colab": {
          "base_uri": "https://localhost:8080/"
        },
        "id": "ybapOfZnrcC6",
        "outputId": "c4787115-18fa-4184-e13a-a60cb484176a"
      },
      "source": [
        "data.data.shape, noise.shape, newX.shape"
      ],
      "execution_count": null,
      "outputs": [
        {
          "output_type": "execute_result",
          "data": {
            "text/plain": [
              "((506, 13), (506, 5), (506, 18))"
            ]
          },
          "metadata": {},
          "execution_count": 12
        }
      ]
    },
    {
      "cell_type": "markdown",
      "metadata": {
        "id": "sAQjKzsGrcC6"
      },
      "source": [
        "모든 머신러닝에서 일반적으로 변수의 수가 많아지면 변수로부터 불필요한 정보를 습득하려는 경향이 있다."
      ]
    },
    {
      "cell_type": "code",
      "metadata": {
        "colab": {
          "base_uri": "https://localhost:8080/"
        },
        "id": "IdpQ337vrcC6",
        "outputId": "52c51b8f-800e-42d0-fd80-ffd90395a941"
      },
      "source": [
        "model.coef_"
      ],
      "execution_count": null,
      "outputs": [
        {
          "output_type": "execute_result",
          "data": {
            "text/plain": [
              "array([-1.28322638e-01,  2.95517751e-02,  4.88590934e-02,  2.77350326e+00,\n",
              "       -1.62388292e+01,  4.36875476e+00, -9.24808158e-03, -1.40086668e+00,\n",
              "        2.57761243e-01, -9.95694820e-03, -9.23122944e-01,  1.31854199e-02,\n",
              "       -5.17639519e-01])"
            ]
          },
          "metadata": {},
          "execution_count": 13
        }
      ]
    },
    {
      "cell_type": "code",
      "metadata": {
        "colab": {
          "base_uri": "https://localhost:8080/"
        },
        "id": "x8q76W_NrcC7",
        "outputId": "be75a825-dd73-4b87-ac54-e83692457221"
      },
      "source": [
        "data.feature_names"
      ],
      "execution_count": null,
      "outputs": [
        {
          "output_type": "execute_result",
          "data": {
            "text/plain": [
              "array(['CRIM', 'ZN', 'INDUS', 'CHAS', 'NOX', 'RM', 'AGE', 'DIS', 'RAD',\n",
              "       'TAX', 'PTRATIO', 'B', 'LSTAT'], dtype='<U7')"
            ]
          },
          "metadata": {},
          "execution_count": 14
        }
      ]
    },
    {
      "cell_type": "code",
      "metadata": {
        "colab": {
          "base_uri": "https://localhost:8080/"
        },
        "id": "CrxKRFmArcC7",
        "outputId": "765a3bbe-bb11-4e5b-e1dc-eb847f962ed7"
      },
      "source": [
        "m.coef_"
      ],
      "execution_count": null,
      "outputs": [
        {
          "output_type": "execute_result",
          "data": {
            "text/plain": [
              "array([-7.91471334e-03,  4.11646900e-02,  3.79294571e-02,  8.35655098e-04,\n",
              "       -7.98055326e-02, -1.11620568e-01,  2.85939328e-02,  4.24097256e-02,\n",
              "        3.10396107e+00, -1.58887466e+01,  4.23810125e+00, -5.42490315e-03,\n",
              "       -1.34830179e+00,  2.41604409e-01, -9.16377320e-03, -9.14610862e-01,\n",
              "        1.28502618e-02, -5.27397858e-01])"
            ]
          },
          "metadata": {},
          "execution_count": 15
        }
      ]
    },
    {
      "cell_type": "markdown",
      "metadata": {
        "id": "f6lcfyqErcC7"
      },
      "source": [
        "[Quiz] 상관성있는 데이터에서의 결정계수와 회귀계수의 변화\n",
        "- 보스턴 데이터에서 아래와 같이 2개의 변수를 추가하고\n",
        " - CN = 5\\*CRIM - 5\\*NOX, \n",
        " - RA = 6\\*RM - 3\\*AGE + CRIM\n",
        "- newX2라는 데이터를 생성하고, \n",
        "- 이 데이터로부터 학습과 테스트 데이터를 나누어서, 각각에 대한 $R^2$을 구하여라.\n",
        "- 그리고 변화된 회귀계수를 비교해보자."
      ]
    },
    {
      "cell_type": "code",
      "metadata": {
        "id": "53sDWH4frcC7"
      },
      "source": [
        "CRIM, NOX, RM, AGE = data.data[:,0], data.data[:,4], data.data[:,5], data.data[:,6]\n",
        "CN, RA = 5*CRIM - 5*NOX, 6*RM - 3*AGE + CRIM"
      ],
      "execution_count": null,
      "outputs": []
    },
    {
      "cell_type": "code",
      "metadata": {
        "id": "JVo8XX2lrcC7",
        "colab": {
          "base_uri": "https://localhost:8080/"
        },
        "outputId": "fb9eec04-8430-4814-84fa-6f83be145300"
      },
      "source": [
        "CN.shape"
      ],
      "execution_count": null,
      "outputs": [
        {
          "output_type": "execute_result",
          "data": {
            "text/plain": [
              "(506,)"
            ]
          },
          "metadata": {},
          "execution_count": 17
        }
      ]
    },
    {
      "cell_type": "code",
      "metadata": {
        "id": "f_Z6dAbNrcC8"
      },
      "source": [
        "newX2 = np.hstack([data.data, CN.reshape((-1,1)), RA.reshape((-1,1))])"
      ],
      "execution_count": null,
      "outputs": []
    },
    {
      "cell_type": "code",
      "metadata": {
        "colab": {
          "base_uri": "https://localhost:8080/"
        },
        "id": "qYNL_Cr3rcC8",
        "outputId": "000d8937-6e1e-4141-d4ee-55b76c3b9630"
      },
      "source": [
        "X_train, X_test, y_train, y_test = train_test_split(newX2, data.target, random_state=42)\n",
        "m2 = LinearRegression()\n",
        "m2.fit(X_train, y_train)\n",
        "\n",
        "R2newTr = m2.score(X_train, y_train)\n",
        "R2newTe = m2.score(X_test, y_test)\n",
        "print(\"기본 데이터에서 학습 결정계수: %.3f, 테스트 결정계수: %.3f\" %(R2train, score))\n",
        "print(\"추가 데이터에서 학습 결정계수: %.3f, 테스트 결정계수: %.3f\" %(R2newTr, R2newTe))"
      ],
      "execution_count": null,
      "outputs": [
        {
          "output_type": "stream",
          "name": "stdout",
          "text": [
            "기본 데이터에서 학습 결정계수: 0.748, 테스트 결정계수: 0.684\n",
            "추가 데이터에서 학습 결정계수: 0.748, 테스트 결정계수: 0.684\n"
          ]
        }
      ]
    },
    {
      "cell_type": "code",
      "metadata": {
        "colab": {
          "base_uri": "https://localhost:8080/"
        },
        "id": "S11IsDhtrcC8",
        "outputId": "0f466223-024d-4fc1-9bf4-5ebb9368e818"
      },
      "source": [
        "model.coef_"
      ],
      "execution_count": null,
      "outputs": [
        {
          "output_type": "execute_result",
          "data": {
            "text/plain": [
              "array([-1.28322638e-01,  2.95517751e-02,  4.88590934e-02,  2.77350326e+00,\n",
              "       -1.62388292e+01,  4.36875476e+00, -9.24808158e-03, -1.40086668e+00,\n",
              "        2.57761243e-01, -9.95694820e-03, -9.23122944e-01,  1.31854199e-02,\n",
              "       -5.17639519e-01])"
            ]
          },
          "metadata": {},
          "execution_count": 20
        }
      ]
    },
    {
      "cell_type": "code",
      "metadata": {
        "colab": {
          "base_uri": "https://localhost:8080/"
        },
        "id": "JJtACxbqrcC8",
        "outputId": "ebdae775-2eb7-43e0-a886-f0e4c6681805"
      },
      "source": [
        "m2.coef_"
      ],
      "execution_count": null,
      "outputs": [
        {
          "output_type": "execute_result",
          "data": {
            "text/plain": [
              "array([-8.22528436,  0.02955178,  0.04885909,  2.77350326, -8.53349762,\n",
              "        2.01897366,  1.16564247, -1.40086668,  0.25776124, -0.00995695,\n",
              "       -0.92312294,  0.01318542, -0.51763952,  1.54106631,  0.39163018])"
            ]
          },
          "metadata": {},
          "execution_count": 21
        }
      ]
    },
    {
      "cell_type": "markdown",
      "metadata": {
        "id": "0-TvZ0f0rcC8"
      },
      "source": [
        "우리가 수집한 데이터에서:\n",
        "1. 임의의 노이즈가 주는 영향:\n",
        " - 학습 정확도는 올라가고, 테스트 정확도는 내려간다.\n",
        " - 모델의 정확도는 낮아진다.\n",
        "2. 변수간의 상관성이 높은 경우, 변수간에 중복된 정보를 가지는 경우\n",
        " - 회귀계수의 단위가 커지게 된다.\n",
        " - 이유는 중복되지 않는 정보(작은량의 정보)를 빼내기 위해\n",
        " - 중복된 정보간의 큰 차이를 만들어서 작은 정보를 빼내려고 합니다.\n",
        " - 회귀계수를 크게 만들어야 이런 작업을 할 수 있다.\n",
        " \n",
        "각각의 변수 $X_1 = 0.1*A + \\alpha$, $X_2 = -5*A + \\beta$, $X_0 = A$의 정보량이다. 이때, A라는 정보는 3 변수에 서로 중복되어 있고, 이때 $\\alpha$와 $\\beta$라는 정보를 빼내려면, 다음과 같은 작업을 회귀모델에서는 수행하게 된다.\n",
        "- $\\alpha = X_1 - 0.1 * X_0$\n",
        "- $\\beta = X_2 + 5*X_0$\n",
        "\n",
        "일반적으로 우리가 수집한 데이터는 위와 같이 노이즈도 가지고 있고, 중복된 정보도 가지게된다. 이를 통해 노이즈를 학습하려고 하면 할 수록, 회귀계수가 커지는 경향이 있다. 이를 다중공선성 문제라 한다."
      ]
    },
    {
      "cell_type": "markdown",
      "metadata": {
        "id": "ETzoH9uQrcC8"
      },
      "source": [
        "## 다중공선성 문제\n",
        "이러한 다중공선성 문제를 해결하기 위한 2가지 방법:\n",
        "1. Ridge Regression : L2 규제화된 Linear Regression\n",
        "2. Lasso Regression : L1 규제화된 LInear Regression\n",
        "\n",
        "위 2가지 방법은 결국 작은 노이즈까지 학습하는 것을 방지하기 위해 w이 절대값이 커지는 것을 방지(규제)하는 방법을 사용합니다.\n",
        "\n",
        "Ridge Regression:\n",
        "$$Loss(w) = \\sum_i (y - \\hat y)^2 + \\alpha ||w||^2$$\n",
        "- 상대적으로 정확도가 높다\n",
        "\n",
        "Lasso Regression:\n",
        "$$Loss(w) = \\sum_i (y - \\hat y)^2 + \\alpha |w|$$\n",
        "- 더 적은 변수로 예측이 가능하다. (덜 중요한 변수는 포기)\n",
        "- 예측시간이 빠르다. 더 좋은 장점을 갖다.\n",
        "- 사업적용이 용이하다.\n",
        "\n",
        "ElasticNet Regression:\n",
        "$$Loss(w) = \\sum_i (y - \\hat y)^2 + \\alpha (\\beta|w| + (1-\\beta)||w||^2)$$\n",
        "\n",
        "w ~ 0.1\n",
        "- Ridge 규제항: $|w|^2 \\sim 0.01$ => 대부분 변수의 weight를 작은 값.\n",
        "- Lasso 규제항: $|w| \\sim 0.1$ => 설명력이 낮은 변수들의 weight ~ 0\n",
        "\n",
        "---\n",
        "규제항을 도입한 Ridge, Lasso의 공통적인 단점:\n",
        "1. 기존 Loss인 MSE와 |W|에 대한 규제간의 weight factor인 $\\alpha$를 튜닝해야 함.\n",
        " - 튜닝이란? 우리가 가지고 있는 데이터 X, y에 적합한 $\\alpha$를 찾는 일\n",
        " - 여러개의 $\\alpha$를 가지고 있는 모델을 학습해서, 테스트 데이터에서의 $R^2$가 더 좋은 것을 선택하는 일\n",
        "2. p 개의 변수들을 모두 동일한 스케일로 맞추어야 한다. Scaling이라 한다.\n",
        " - 큰 단위로 측정한 작은값변수와 작은 단위로 측정한 큰값변수가 있을 때\n",
        " - 큰 단위로 측정한 작은값변수의 weight는 커져야 하는데, 규제항에 의해 그 중요도(weight)를 줄일 수 밖에 없고, 어떤 경우는 그 정보를 상실하게 된다.\n",
        " - 이는 Ridge, Lasso 모두 모든 회귀계수에 일률적인 규제강도 $\\alpha$를 가지기 때문\n",
        " - 변수의 스케일 간의 차이에 의해 발생하는 이러한 문제를 해결하기 위해서는 학습전 모든 변수들을 같은 스케일을 가지도록 조정해줘야 한다."
      ]
    },
    {
      "cell_type": "markdown",
      "metadata": {
        "id": "GRAmY521rcC9"
      },
      "source": [
        "## Ridge, Lasso 적용하기"
      ]
    },
    {
      "cell_type": "code",
      "metadata": {
        "id": "ZSjh5D4XrcC9"
      },
      "source": [
        "from sklearn.datasets import load_diabetes\n",
        "from sklearn.model_selection import train_test_split\n",
        "\n",
        "data = load_diabetes()\n",
        "X_train, X_test, y_train, y_test = train_test_split(data.data, data.target, random_state=42)"
      ],
      "execution_count": null,
      "outputs": []
    },
    {
      "cell_type": "code",
      "metadata": {
        "colab": {
          "base_uri": "https://localhost:8080/"
        },
        "id": "MBtstzYqrcC9",
        "outputId": "050f7878-d7b8-4c1f-b1cb-050911fcc451"
      },
      "source": [
        "data.keys()"
      ],
      "execution_count": null,
      "outputs": [
        {
          "output_type": "execute_result",
          "data": {
            "text/plain": [
              "dict_keys(['data', 'target', 'DESCR', 'feature_names', 'data_filename', 'target_filename'])"
            ]
          },
          "metadata": {},
          "execution_count": 23
        }
      ]
    },
    {
      "cell_type": "code",
      "metadata": {
        "colab": {
          "base_uri": "https://localhost:8080/"
        },
        "id": "mD68ktc_rcC9",
        "outputId": "32fee977-777b-4316-83ab-1d0d6a4c73db"
      },
      "source": [
        "print(data.DESCR)"
      ],
      "execution_count": null,
      "outputs": [
        {
          "output_type": "stream",
          "name": "stdout",
          "text": [
            ".. _diabetes_dataset:\n",
            "\n",
            "Diabetes dataset\n",
            "----------------\n",
            "\n",
            "Ten baseline variables, age, sex, body mass index, average blood\n",
            "pressure, and six blood serum measurements were obtained for each of n =\n",
            "442 diabetes patients, as well as the response of interest, a\n",
            "quantitative measure of disease progression one year after baseline.\n",
            "\n",
            "**Data Set Characteristics:**\n",
            "\n",
            "  :Number of Instances: 442\n",
            "\n",
            "  :Number of Attributes: First 10 columns are numeric predictive values\n",
            "\n",
            "  :Target: Column 11 is a quantitative measure of disease progression one year after baseline\n",
            "\n",
            "  :Attribute Information:\n",
            "      - Age\n",
            "      - Sex\n",
            "      - Body mass index\n",
            "      - Average blood pressure\n",
            "      - S1\n",
            "      - S2\n",
            "      - S3\n",
            "      - S4\n",
            "      - S5\n",
            "      - S6\n",
            "\n",
            "Note: Each of these 10 feature variables have been mean centered and scaled by the standard deviation times `n_samples` (i.e. the sum of squares of each column totals 1).\n",
            "\n",
            "Source URL:\n",
            "https://www4.stat.ncsu.edu/~boos/var.select/diabetes.html\n",
            "\n",
            "For more information see:\n",
            "Bradley Efron, Trevor Hastie, Iain Johnstone and Robert Tibshirani (2004) \"Least Angle Regression,\" Annals of Statistics (with discussion), 407-499.\n",
            "(https://web.stanford.edu/~hastie/Papers/LARS/LeastAngle_2002.pdf)\n"
          ]
        }
      ]
    },
    {
      "cell_type": "markdown",
      "metadata": {
        "id": "SzZPgg9mrcC-"
      },
      "source": [
        "Ridge나 Lasso의 경우 회귀계수 즉, 입력변수에 대한 weight에 대한 규제를 갖기 때문에, 입력변수들에 대한 동등한 규제를 위해 입력변수들에 대한 scaling이 필요하다.\n",
        "\n",
        "당뇨병 데이터의 경우, 아래와같이 모든 변수들이 정규화되어 있기 때문에 따라 scaling을 필요로하지 않는다."
      ]
    },
    {
      "cell_type": "code",
      "metadata": {
        "colab": {
          "base_uri": "https://localhost:8080/"
        },
        "id": "aNkZKCDFrcC-",
        "outputId": "6051ada1-fded-4707-accc-423ebb81c70a"
      },
      "source": [
        "data.data"
      ],
      "execution_count": null,
      "outputs": [
        {
          "output_type": "execute_result",
          "data": {
            "text/plain": [
              "array([[ 0.03807591,  0.05068012,  0.06169621, ..., -0.00259226,\n",
              "         0.01990842, -0.01764613],\n",
              "       [-0.00188202, -0.04464164, -0.05147406, ..., -0.03949338,\n",
              "        -0.06832974, -0.09220405],\n",
              "       [ 0.08529891,  0.05068012,  0.04445121, ..., -0.00259226,\n",
              "         0.00286377, -0.02593034],\n",
              "       ...,\n",
              "       [ 0.04170844,  0.05068012, -0.01590626, ..., -0.01107952,\n",
              "        -0.04687948,  0.01549073],\n",
              "       [-0.04547248, -0.04464164,  0.03906215, ...,  0.02655962,\n",
              "         0.04452837, -0.02593034],\n",
              "       [-0.04547248, -0.04464164, -0.0730303 , ..., -0.03949338,\n",
              "        -0.00421986,  0.00306441]])"
            ]
          },
          "metadata": {},
          "execution_count": 25
        }
      ]
    },
    {
      "cell_type": "code",
      "metadata": {
        "colab": {
          "base_uri": "https://localhost:8080/"
        },
        "id": "5EbWqLCercC-",
        "outputId": "8991ab9a-7b8d-4efe-b9c0-56795f13e808"
      },
      "source": [
        "data.data.mean(axis=0)"
      ],
      "execution_count": null,
      "outputs": [
        {
          "output_type": "execute_result",
          "data": {
            "text/plain": [
              "array([-3.63428493e-16,  1.30834257e-16, -8.04534920e-16,  1.28165452e-16,\n",
              "       -8.83531559e-17,  1.32702421e-16, -4.57464634e-16,  3.77730150e-16,\n",
              "       -3.83085422e-16, -3.41288202e-16])"
            ]
          },
          "metadata": {},
          "execution_count": 26
        }
      ]
    },
    {
      "cell_type": "code",
      "metadata": {
        "colab": {
          "base_uri": "https://localhost:8080/"
        },
        "id": "mGZFp58vrcC-",
        "outputId": "59ee4713-6c46-46d0-ca34-3e781877799d"
      },
      "source": [
        "data.data.std(axis=0)"
      ],
      "execution_count": null,
      "outputs": [
        {
          "output_type": "execute_result",
          "data": {
            "text/plain": [
              "array([0.04756515, 0.04756515, 0.04756515, 0.04756515, 0.04756515,\n",
              "       0.04756515, 0.04756515, 0.04756515, 0.04756515, 0.04756515])"
            ]
          },
          "metadata": {},
          "execution_count": 27
        }
      ]
    },
    {
      "cell_type": "code",
      "metadata": {
        "colab": {
          "base_uri": "https://localhost:8080/"
        },
        "id": "EUOGb3qJrcC-",
        "outputId": "f55296fa-f34f-4833-8735-7f9ce3bb1c43"
      },
      "source": [
        "from sklearn.linear_model import Ridge, Lasso, ElasticNet\n",
        "\n",
        "ridge = Ridge(alpha=1.0)\n",
        "ridge.fit(X_train, y_train)\n",
        "ridge.score(X_test, y_test)"
      ],
      "execution_count": null,
      "outputs": [
        {
          "output_type": "execute_result",
          "data": {
            "text/plain": [
              "0.4384009113704955"
            ]
          },
          "metadata": {},
          "execution_count": 28
        }
      ]
    },
    {
      "cell_type": "code",
      "metadata": {
        "colab": {
          "base_uri": "https://localhost:8080/"
        },
        "id": "4XBD9pxKrcC-",
        "outputId": "636b45b3-f392-4d1c-ab4a-40d510189984"
      },
      "source": [
        "lasso = Lasso(alpha=1.0)\n",
        "lasso.fit(X_train, y_train)\n",
        "lasso.score(X_test, y_test)"
      ],
      "execution_count": null,
      "outputs": [
        {
          "output_type": "execute_result",
          "data": {
            "text/plain": [
              "0.37914194389255096"
            ]
          },
          "metadata": {},
          "execution_count": 29
        }
      ]
    },
    {
      "cell_type": "code",
      "metadata": {
        "colab": {
          "base_uri": "https://localhost:8080/"
        },
        "id": "egTtpuplrcC-",
        "outputId": "e9e8f7d2-73c9-42f8-b8fa-b2c9f6668fdd"
      },
      "source": [
        "elastic = ElasticNet(alpha=1.0, l1_ratio=.5)\n",
        "elastic.fit(X_train, y_train)\n",
        "elastic.score(X_test, y_test)"
      ],
      "execution_count": null,
      "outputs": [
        {
          "output_type": "execute_result",
          "data": {
            "text/plain": [
              "-0.0044383730131891674"
            ]
          },
          "metadata": {},
          "execution_count": 30
        }
      ]
    },
    {
      "cell_type": "markdown",
      "metadata": {
        "id": "ljdDcCsUrcC_"
      },
      "source": [
        "- $R^2 = 1 - \\cfrac {SSE}{SST}< 0$ : SSE가 SST보다 크다는 것을 의미\n",
        "- y의 값을 y의 평균값으로 예측하는 dummy 모델보다 않좋다는 것을 말한다."
      ]
    },
    {
      "cell_type": "code",
      "metadata": {
        "colab": {
          "base_uri": "https://localhost:8080/",
          "height": 284
        },
        "id": "g1CnyKRMrcC_",
        "outputId": "1409d800-db66-42db-b98e-156eb92671df"
      },
      "source": [
        "preds = elastic.predict(X_test)\n",
        "\n",
        "import matplotlib.pyplot as plt\n",
        "%matplotlib inline\n",
        "\n",
        "plt.scatter(y_test, preds)"
      ],
      "execution_count": null,
      "outputs": [
        {
          "output_type": "execute_result",
          "data": {
            "text/plain": [
              "<matplotlib.collections.PathCollection at 0x7f03a9d5e510>"
            ]
          },
          "metadata": {},
          "execution_count": 31
        },
        {
          "output_type": "display_data",
          "data": {
            "image/png": "[encoded data removed]",
            "text/plain": [
              "<Figure size 432x288 with 1 Axes>"
            ]
          },
          "metadata": {
            "needs_background": "light"
          }
        }
      ]
    },
    {
      "cell_type": "markdown",
      "metadata": {
        "id": "ThO5fYs8rcC_"
      },
      "source": [
        "정규화 선형회귀 모델별 가중치(계수) 비교"
      ]
    },
    {
      "cell_type": "code",
      "metadata": {
        "colab": {
          "base_uri": "https://localhost:8080/",
          "height": 195
        },
        "id": "D2fpiiZ5rcC_",
        "outputId": "1883bf9e-8f49-4328-f06d-cf9119d79cfd"
      },
      "source": [
        "import pandas as pd\n",
        "linear = LinearRegression().fit(X_train, y_train)\n",
        "\n",
        "coefs = np.vstack((linear.coef_, ridge.coef_, lasso.coef_, elastic.coef_))\n",
        "\n",
        "coefs_df = pd.DataFrame(coefs, columns=data.feature_names,\n",
        "                       index = ['linear', 'ridge', 'lasso', 'elastic'])\n",
        "coefs_df"
      ],
      "execution_count": null,
      "outputs": [
        {
          "output_type": "execute_result",
          "data": {
            "text/html": [
              "<div>\n",
              "<style scoped>\n",
              "    .dataframe tbody tr th:only-of-type {\n",
              "        vertical-align: middle;\n",
              "    }\n",
              "\n",
              "    .dataframe tbody tr th {\n",
              "        vertical-align: top;\n",
              "    }\n",
              "\n",
              "    .dataframe thead th {\n",
              "        text-align: right;\n",
              "    }\n",
              "</style>\n",
              "<table border=\"1\" class=\"dataframe\">\n",
              "  <thead>\n",
              "    <tr style=\"text-align: right;\">\n",
              "      <th></th>\n",
              "      <th>age</th>\n",
              "      <th>sex</th>\n",
              "      <th>bmi</th>\n",
              "      <th>bp</th>\n",
              "      <th>s1</th>\n",
              "      <th>s2</th>\n",
              "      <th>s3</th>\n",
              "      <th>s4</th>\n",
              "      <th>s5</th>\n",
              "      <th>s6</th>\n",
              "    </tr>\n",
              "  </thead>\n",
              "  <tbody>\n",
              "    <tr>\n",
              "      <th>linear</th>\n",
              "      <td>47.746571</td>\n",
              "      <td>-241.991804</td>\n",
              "      <td>531.968569</td>\n",
              "      <td>381.565299</td>\n",
              "      <td>-918.490206</td>\n",
              "      <td>508.251474</td>\n",
              "      <td>116.940405</td>\n",
              "      <td>269.485086</td>\n",
              "      <td>695.806221</td>\n",
              "      <td>26.323431</td>\n",
              "    </tr>\n",
              "    <tr>\n",
              "      <th>ridge</th>\n",
              "      <td>50.551555</td>\n",
              "      <td>-67.722365</td>\n",
              "      <td>278.300728</td>\n",
              "      <td>197.624014</td>\n",
              "      <td>-6.245973</td>\n",
              "      <td>-26.226985</td>\n",
              "      <td>-151.394518</td>\n",
              "      <td>120.323196</td>\n",
              "      <td>215.854694</td>\n",
              "      <td>101.755543</td>\n",
              "    </tr>\n",
              "    <tr>\n",
              "      <th>lasso</th>\n",
              "      <td>0.000000</td>\n",
              "      <td>-0.000000</td>\n",
              "      <td>398.384368</td>\n",
              "      <td>46.178843</td>\n",
              "      <td>0.000000</td>\n",
              "      <td>0.000000</td>\n",
              "      <td>-0.000000</td>\n",
              "      <td>0.000000</td>\n",
              "      <td>238.187402</td>\n",
              "      <td>0.000000</td>\n",
              "    </tr>\n",
              "    <tr>\n",
              "      <th>elastic</th>\n",
              "      <td>0.413088</td>\n",
              "      <td>0.000000</td>\n",
              "      <td>3.298991</td>\n",
              "      <td>2.256939</td>\n",
              "      <td>0.339380</td>\n",
              "      <td>0.080784</td>\n",
              "      <td>-1.874661</td>\n",
              "      <td>2.143869</td>\n",
              "      <td>2.947964</td>\n",
              "      <td>1.701981</td>\n",
              "    </tr>\n",
              "  </tbody>\n",
              "</table>\n",
              "</div>"
            ],
            "text/plain": [
              "               age         sex         bmi  ...          s4          s5          s6\n",
              "linear   47.746571 -241.991804  531.968569  ...  269.485086  695.806221   26.323431\n",
              "ridge    50.551555  -67.722365  278.300728  ...  120.323196  215.854694  101.755543\n",
              "lasso     0.000000   -0.000000  398.384368  ...    0.000000  238.187402    0.000000\n",
              "elastic   0.413088    0.000000    3.298991  ...    2.143869    2.947964    1.701981\n",
              "\n",
              "[4 rows x 10 columns]"
            ]
          },
          "metadata": {},
          "execution_count": 32
        }
      ]
    },
    {
      "cell_type": "markdown",
      "metadata": {
        "id": "nqxfza1jrcC_"
      },
      "source": [
        "규제계수 $\\alpha$를 튜닝하지 않으면, 아래와 같이 일반 선형회귀보다 규제화된 선형회귀가 더 성능이 않좋다."
      ]
    },
    {
      "cell_type": "code",
      "metadata": {
        "colab": {
          "base_uri": "https://localhost:8080/"
        },
        "id": "dld9SNN-rcC_",
        "outputId": "f84d9bc6-a11a-4ee5-e562-96f7d6a3ab5b"
      },
      "source": [
        "linear.score(X_test, y_test)"
      ],
      "execution_count": null,
      "outputs": [
        {
          "output_type": "execute_result",
          "data": {
            "text/plain": [
              "0.48490866359057994"
            ]
          },
          "metadata": {},
          "execution_count": 33
        }
      ]
    },
    {
      "cell_type": "markdown",
      "metadata": {
        "id": "rBuAjLONrcC_"
      },
      "source": [
        "[Quiz] 당뇨 데이터에 대한 Ridge 모델에 대해 규제계수 $\\alpha$를 튜닝해서, Linear Regressor 보다 테스트 데이터에 대해 더 좋은 $R^2$을 갖는 모델을 생성해보자."
      ]
    },
    {
      "cell_type": "code",
      "metadata": {
        "colab": {
          "base_uri": "https://localhost:8080/"
        },
        "id": "9W7Na8tDrcC_",
        "outputId": "f19ddfda-29ca-457b-f86c-f80a349e3d6e"
      },
      "source": [
        "alls = {}\n",
        "alls['a'], alls['R2tr'], alls['R2te'] = [], [], []\n",
        "best = {}\n",
        "s = 0\n",
        "for i in range(-4, 2):\n",
        "    a = 10**i\n",
        "    m = Ridge(alpha=a)\n",
        "    m.fit(X_train, y_train)\n",
        "    R2tr = m.score(X_test, y_test)\n",
        "    R2te = m.score(X_test, y_test)\n",
        "    alls['a'].append(a)\n",
        "    alls['R2tr'].append(R2tr)\n",
        "    alls['R2te'].append(R2te)\n",
        "    if R2te > s:\n",
        "        s = R2te\n",
        "        best['a'] = a\n",
        "        best['R2tr'] = R2tr\n",
        "        best['R2te'] = R2te\n",
        "        best['model'] = m\n",
        "        \n",
        "best"
      ],
      "execution_count": null,
      "outputs": [
        {
          "output_type": "execute_result",
          "data": {
            "text/plain": [
              "{'R2te': 0.49182837290627063,\n",
              " 'R2tr': 0.49182837290627063,\n",
              " 'a': 0.1,\n",
              " 'model': Ridge(alpha=0.1, copy_X=True, fit_intercept=True, max_iter=None,\n",
              "       normalize=False, random_state=None, solver='auto', tol=0.001)}"
            ]
          },
          "metadata": {},
          "execution_count": 34
        }
      ]
    },
    {
      "cell_type": "code",
      "metadata": {
        "colab": {
          "base_uri": "https://localhost:8080/",
          "height": 237
        },
        "id": "-Q2BUzMfrcDA",
        "outputId": "ad763c1c-c55f-43d6-9610-8e7bfe3e9d2e"
      },
      "source": [
        "import pandas as pd\n",
        "alldf = pd.DataFrame(alls)\n",
        "alldf"
      ],
      "execution_count": null,
      "outputs": [
        {
          "output_type": "execute_result",
          "data": {
            "text/html": [
              "<div>\n",
              "<style scoped>\n",
              "    .dataframe tbody tr th:only-of-type {\n",
              "        vertical-align: middle;\n",
              "    }\n",
              "\n",
              "    .dataframe tbody tr th {\n",
              "        vertical-align: top;\n",
              "    }\n",
              "\n",
              "    .dataframe thead th {\n",
              "        text-align: right;\n",
              "    }\n",
              "</style>\n",
              "<table border=\"1\" class=\"dataframe\">\n",
              "  <thead>\n",
              "    <tr style=\"text-align: right;\">\n",
              "      <th></th>\n",
              "      <th>a</th>\n",
              "      <th>R2tr</th>\n",
              "      <th>R2te</th>\n",
              "    </tr>\n",
              "  </thead>\n",
              "  <tbody>\n",
              "    <tr>\n",
              "      <th>0</th>\n",
              "      <td>0.0001</td>\n",
              "      <td>0.484972</td>\n",
              "      <td>0.484972</td>\n",
              "    </tr>\n",
              "    <tr>\n",
              "      <th>1</th>\n",
              "      <td>0.0010</td>\n",
              "      <td>0.485442</td>\n",
              "      <td>0.485442</td>\n",
              "    </tr>\n",
              "    <tr>\n",
              "      <th>2</th>\n",
              "      <td>0.0100</td>\n",
              "      <td>0.487060</td>\n",
              "      <td>0.487060</td>\n",
              "    </tr>\n",
              "    <tr>\n",
              "      <th>3</th>\n",
              "      <td>0.1000</td>\n",
              "      <td>0.491828</td>\n",
              "      <td>0.491828</td>\n",
              "    </tr>\n",
              "    <tr>\n",
              "      <th>4</th>\n",
              "      <td>1.0000</td>\n",
              "      <td>0.438401</td>\n",
              "      <td>0.438401</td>\n",
              "    </tr>\n",
              "    <tr>\n",
              "      <th>5</th>\n",
              "      <td>10.0000</td>\n",
              "      <td>0.156424</td>\n",
              "      <td>0.156424</td>\n",
              "    </tr>\n",
              "  </tbody>\n",
              "</table>\n",
              "</div>"
            ],
            "text/plain": [
              "         a      R2tr      R2te\n",
              "0   0.0001  0.484972  0.484972\n",
              "1   0.0010  0.485442  0.485442\n",
              "2   0.0100  0.487060  0.487060\n",
              "3   0.1000  0.491828  0.491828\n",
              "4   1.0000  0.438401  0.438401\n",
              "5  10.0000  0.156424  0.156424"
            ]
          },
          "metadata": {},
          "execution_count": 35
        }
      ]
    },
    {
      "cell_type": "code",
      "metadata": {
        "colab": {
          "base_uri": "https://localhost:8080/"
        },
        "id": "S8PLvB8MrcDA",
        "outputId": "04135e13-6f7f-46d2-e9f6-3f460cc7a147"
      },
      "source": [
        "alls = {}\n",
        "alls['a'], alls['R2tr'], alls['R2te'] = [], [], []\n",
        "best = {}\n",
        "s = 0\n",
        "for a in [.3, .2, .1, .08, .06]:\n",
        "    m = Ridge(alpha=a)\n",
        "    m.fit(X_train, y_train)\n",
        "    R2tr = m.score(X_test, y_test)\n",
        "    R2te = m.score(X_test, y_test)\n",
        "    alls['a'].append(a)\n",
        "    alls['R2tr'].append(R2tr)\n",
        "    alls['R2te'].append(R2te)\n",
        "    if R2te > s:\n",
        "        s = R2te\n",
        "        best['a'] = a\n",
        "        best['R2tr'] = R2tr\n",
        "        best['R2te'] = R2te\n",
        "        best['model'] = m\n",
        "        \n",
        "best"
      ],
      "execution_count": null,
      "outputs": [
        {
          "output_type": "execute_result",
          "data": {
            "text/plain": [
              "{'R2te': 0.49182837290627063,\n",
              " 'R2tr': 0.49182837290627063,\n",
              " 'a': 0.1,\n",
              " 'model': Ridge(alpha=0.1, copy_X=True, fit_intercept=True, max_iter=None,\n",
              "       normalize=False, random_state=None, solver='auto', tol=0.001)}"
            ]
          },
          "metadata": {},
          "execution_count": 36
        }
      ]
    },
    {
      "cell_type": "markdown",
      "metadata": {
        "id": "OXwc8WjRrcDA"
      },
      "source": [
        "[Quiz] Lasso를 튜닝하여 LinearRegressor보다 더 좋은 성능을 갖도록 하자."
      ]
    },
    {
      "cell_type": "code",
      "metadata": {
        "colab": {
          "base_uri": "https://localhost:8080/"
        },
        "id": "pXGf6n63rcDA",
        "outputId": "48f52dc1-844f-4b30-eb09-857b6a591e82"
      },
      "source": [
        "alls = {}\n",
        "alls['a'], alls['R2tr'], alls['R2te'] = [], [], []\n",
        "best = {}\n",
        "s = 0\n",
        "for i in range(-4, 2):\n",
        "    a = 10**i\n",
        "    m = Lasso(alpha=a)\n",
        "    m.fit(X_train, y_train)\n",
        "    R2tr = m.score(X_test, y_test)\n",
        "    R2te = m.score(X_test, y_test)\n",
        "    alls['a'].append(a)\n",
        "    alls['R2tr'].append(R2tr)\n",
        "    alls['R2te'].append(R2te)\n",
        "    if R2te > s:\n",
        "        s = R2te\n",
        "        best['a'] = a\n",
        "        best['R2tr'] = R2tr\n",
        "        best['R2te'] = R2te\n",
        "        best['model'] = m\n",
        "        \n",
        "best"
      ],
      "execution_count": null,
      "outputs": [
        {
          "output_type": "execute_result",
          "data": {
            "text/plain": [
              "{'R2te': 0.501975882135411,\n",
              " 'R2tr': 0.501975882135411,\n",
              " 'a': 0.1,\n",
              " 'model': Lasso(alpha=0.1, copy_X=True, fit_intercept=True, max_iter=1000,\n",
              "       normalize=False, positive=False, precompute=False, random_state=None,\n",
              "       selection='cyclic', tol=0.0001, warm_start=False)}"
            ]
          },
          "metadata": {},
          "execution_count": 37
        }
      ]
    },
    {
      "cell_type": "code",
      "metadata": {
        "colab": {
          "base_uri": "https://localhost:8080/"
        },
        "id": "Uj-JQQOsrcDA",
        "outputId": "ca84a14f-6e0c-4f2b-b30f-60a37f03edf5"
      },
      "source": [
        "alls = {}\n",
        "alls['a'], alls['R2tr'], alls['R2te'] = [], [], []\n",
        "best = {}\n",
        "s = 0\n",
        "for a in [.3, .2, .1, .08, .06]:\n",
        "    m = Lasso(alpha=a)\n",
        "    m.fit(X_train, y_train)\n",
        "    R2tr = m.score(X_test, y_test)\n",
        "    R2te = m.score(X_test, y_test)\n",
        "    alls['a'].append(a)\n",
        "    alls['R2tr'].append(R2tr)\n",
        "    alls['R2te'].append(R2te)\n",
        "    if R2te > s:\n",
        "        s = R2te\n",
        "        best['a'] = a\n",
        "        best['R2tr'] = R2tr\n",
        "        best['R2te'] = R2te\n",
        "        best['model'] = m\n",
        "        \n",
        "best"
      ],
      "execution_count": null,
      "outputs": [
        {
          "output_type": "execute_result",
          "data": {
            "text/plain": [
              "{'R2te': 0.501975882135411,\n",
              " 'R2tr': 0.501975882135411,\n",
              " 'a': 0.1,\n",
              " 'model': Lasso(alpha=0.1, copy_X=True, fit_intercept=True, max_iter=1000,\n",
              "       normalize=False, positive=False, precompute=False, random_state=None,\n",
              "       selection='cyclic', tol=0.0001, warm_start=False)}"
            ]
          },
          "metadata": {},
          "execution_count": 38
        }
      ]
    },
    {
      "cell_type": "code",
      "metadata": {
        "colab": {
          "base_uri": "https://localhost:8080/"
        },
        "id": "GJgeCGTCrcDA",
        "outputId": "fac66577-164d-47d5-973a-8f656586fee6"
      },
      "source": [
        "best['model'].coef_"
      ],
      "execution_count": null,
      "outputs": [
        {
          "output_type": "execute_result",
          "data": {
            "text/plain": [
              "array([   0.        , -151.41550421,  540.85933829,  337.22472854,\n",
              "        -85.19030645,   -0.        , -262.90345036,    0.        ,\n",
              "        418.24822392,    9.92430726])"
            ]
          },
          "metadata": {},
          "execution_count": 39
        }
      ]
    },
    {
      "cell_type": "markdown",
      "metadata": {
        "id": "-msnenZgrcDA"
      },
      "source": [
        "[Quiz] 정규화되지 않은 보스턴집값 데이터에서 정규화를 수행한 후, Ridge 회귀를 적용하자.\n",
        "\n",
        "sklearn에서 제공하는 Scaler는 3가지가 있다:\n",
        "1. MinMaxScaler: $X' = \\cfrac {X - X.min()}{X.max() - X.min()}$\n",
        "2. StandardScaler: $X' = \\cfrac {X - X.mean()}{X.std()}$\n",
        "3. RobustScaler: $X' = \\cfrac {X - X.median()}{X.IQR()}$"
      ]
    },
    {
      "cell_type": "code",
      "metadata": {
        "id": "2c2ictiUrcDB"
      },
      "source": [
        "from sklearn.preprocessing import RobustScaler\n",
        "\n",
        "data = load_boston()\n",
        "X_train, X_test, y_train, y_test = train_test_split(data.data, data.target, random_state=42)\n",
        "\n",
        "scaler = RobustScaler()\n",
        "scaledXtr = scaler.fit_transform(X_train)\n",
        "scaledXte = scaler.transform(X_test)"
      ],
      "execution_count": null,
      "outputs": []
    },
    {
      "cell_type": "code",
      "metadata": {
        "colab": {
          "base_uri": "https://localhost:8080/"
        },
        "id": "WedOd7BqrcDB",
        "outputId": "4d39353c-4e85-445b-e4ef-334ac1d77222"
      },
      "source": [
        "alls = {}\n",
        "alls['a'], alls['R2tr'], alls['R2te'] = [], [], []\n",
        "best = {}\n",
        "s = 0\n",
        "for i in range(-4, 2):\n",
        "    a = 10**i\n",
        "    m = Ridge(alpha=a)\n",
        "    m.fit(scaledXtr, y_train)\n",
        "    R2tr = m.score(scaledXtr, y_train)\n",
        "    R2te = m.score(scaledXte, y_test)\n",
        "    alls['a'].append(a)\n",
        "    alls['R2tr'].append(R2tr)\n",
        "    alls['R2te'].append(R2te)\n",
        "    if R2te > s:\n",
        "        s = R2te\n",
        "        best['a'] = a\n",
        "        best['R2tr'] = R2tr\n",
        "        best['R2te'] = R2te\n",
        "        best['model'] = m\n",
        "        \n",
        "best"
      ],
      "execution_count": null,
      "outputs": [
        {
          "output_type": "execute_result",
          "data": {
            "text/plain": [
              "{'R2te': 0.6844265404363801,\n",
              " 'R2tr': 0.7480872598608889,\n",
              " 'a': 0.0001,\n",
              " 'model': Ridge(alpha=0.0001, copy_X=True, fit_intercept=True, max_iter=None,\n",
              "       normalize=False, random_state=None, solver='auto', tol=0.001)}"
            ]
          },
          "metadata": {},
          "execution_count": 41
        }
      ]
    },
    {
      "cell_type": "code",
      "metadata": {
        "id": "l7WJLQskrcDB",
        "colab": {
          "base_uri": "https://localhost:8080/",
          "height": 237
        },
        "outputId": "8089ab6a-da7c-48c3-be04-f63342c6f150"
      },
      "source": [
        "pd.DataFrame(alls)"
      ],
      "execution_count": null,
      "outputs": [
        {
          "output_type": "execute_result",
          "data": {
            "text/html": [
              "<div>\n",
              "<style scoped>\n",
              "    .dataframe tbody tr th:only-of-type {\n",
              "        vertical-align: middle;\n",
              "    }\n",
              "\n",
              "    .dataframe tbody tr th {\n",
              "        vertical-align: top;\n",
              "    }\n",
              "\n",
              "    .dataframe thead th {\n",
              "        text-align: right;\n",
              "    }\n",
              "</style>\n",
              "<table border=\"1\" class=\"dataframe\">\n",
              "  <thead>\n",
              "    <tr style=\"text-align: right;\">\n",
              "      <th></th>\n",
              "      <th>a</th>\n",
              "      <th>R2tr</th>\n",
              "      <th>R2te</th>\n",
              "    </tr>\n",
              "  </thead>\n",
              "  <tbody>\n",
              "    <tr>\n",
              "      <th>0</th>\n",
              "      <td>0.0001</td>\n",
              "      <td>0.748087</td>\n",
              "      <td>0.684427</td>\n",
              "    </tr>\n",
              "    <tr>\n",
              "      <th>1</th>\n",
              "      <td>0.0010</td>\n",
              "      <td>0.748087</td>\n",
              "      <td>0.684425</td>\n",
              "    </tr>\n",
              "    <tr>\n",
              "      <th>2</th>\n",
              "      <td>0.0100</td>\n",
              "      <td>0.748087</td>\n",
              "      <td>0.684408</td>\n",
              "    </tr>\n",
              "    <tr>\n",
              "      <th>3</th>\n",
              "      <td>0.1000</td>\n",
              "      <td>0.748086</td>\n",
              "      <td>0.684239</td>\n",
              "    </tr>\n",
              "    <tr>\n",
              "      <th>4</th>\n",
              "      <td>1.0000</td>\n",
              "      <td>0.747969</td>\n",
              "      <td>0.682614</td>\n",
              "    </tr>\n",
              "    <tr>\n",
              "      <th>5</th>\n",
              "      <td>10.0000</td>\n",
              "      <td>0.743846</td>\n",
              "      <td>0.670918</td>\n",
              "    </tr>\n",
              "  </tbody>\n",
              "</table>\n",
              "</div>"
            ],
            "text/plain": [
              "         a      R2tr      R2te\n",
              "0   0.0001  0.748087  0.684427\n",
              "1   0.0010  0.748087  0.684425\n",
              "2   0.0100  0.748087  0.684408\n",
              "3   0.1000  0.748086  0.684239\n",
              "4   1.0000  0.747969  0.682614\n",
              "5  10.0000  0.743846  0.670918"
            ]
          },
          "metadata": {},
          "execution_count": 42
        }
      ]
    },
    {
      "cell_type": "markdown",
      "metadata": {
        "id": "G0tfAsQ7rcDB"
      },
      "source": [
        "[Quiz] Lasso 모델에 대해 위와 같이 a를 튜닝하여 best model을 찾아보자."
      ]
    },
    {
      "cell_type": "code",
      "metadata": {
        "colab": {
          "base_uri": "https://localhost:8080/"
        },
        "id": "Dd7HzytDrcDB",
        "outputId": "88a809c0-d7e2-47f5-a103-3cdf5363b62a"
      },
      "source": [
        "alls = {}\n",
        "alls['a'], alls['R2tr'], alls['R2te'] = [], [], []\n",
        "best = {}\n",
        "s = 0\n",
        "for i in range(-6, 2):\n",
        "    a = 10**i\n",
        "    m = Lasso(alpha=a)\n",
        "    m.fit(scaledXtr, y_train)\n",
        "    R2tr = m.score(scaledXtr, y_train)\n",
        "    R2te = m.score(scaledXte, y_test)\n",
        "    alls['a'].append(a)\n",
        "    alls['R2tr'].append(R2tr)\n",
        "    alls['R2te'].append(R2te)\n",
        "    if R2te > s:\n",
        "        s = R2te\n",
        "        best['a'] = a\n",
        "        best['R2tr'] = R2tr\n",
        "        best['R2te'] = R2te\n",
        "        best['model'] = m\n",
        "        \n",
        "best"
      ],
      "execution_count": null,
      "outputs": [
        {
          "output_type": "execute_result",
          "data": {
            "text/plain": [
              "{'R2te': 0.684426607999653,\n",
              " 'R2tr': 0.7480872598600883,\n",
              " 'a': 1e-06,\n",
              " 'model': Lasso(alpha=1e-06, copy_X=True, fit_intercept=True, max_iter=1000,\n",
              "       normalize=False, positive=False, precompute=False, random_state=None,\n",
              "       selection='cyclic', tol=0.0001, warm_start=False)}"
            ]
          },
          "metadata": {},
          "execution_count": 43
        }
      ]
    },
    {
      "cell_type": "code",
      "metadata": {
        "id": "gqeyHUCorcDC",
        "colab": {
          "base_uri": "https://localhost:8080/",
          "height": 300
        },
        "outputId": "93750af7-45fa-49a4-b9e8-3a30021dce22"
      },
      "source": [
        "pd.DataFrame(alls)"
      ],
      "execution_count": null,
      "outputs": [
        {
          "output_type": "execute_result",
          "data": {
            "text/html": [
              "<div>\n",
              "<style scoped>\n",
              "    .dataframe tbody tr th:only-of-type {\n",
              "        vertical-align: middle;\n",
              "    }\n",
              "\n",
              "    .dataframe tbody tr th {\n",
              "        vertical-align: top;\n",
              "    }\n",
              "\n",
              "    .dataframe thead th {\n",
              "        text-align: right;\n",
              "    }\n",
              "</style>\n",
              "<table border=\"1\" class=\"dataframe\">\n",
              "  <thead>\n",
              "    <tr style=\"text-align: right;\">\n",
              "      <th></th>\n",
              "      <th>a</th>\n",
              "      <th>R2tr</th>\n",
              "      <th>R2te</th>\n",
              "    </tr>\n",
              "  </thead>\n",
              "  <tbody>\n",
              "    <tr>\n",
              "      <th>0</th>\n",
              "      <td>0.000001</td>\n",
              "      <td>0.748087</td>\n",
              "      <td>0.684427</td>\n",
              "    </tr>\n",
              "    <tr>\n",
              "      <th>1</th>\n",
              "      <td>0.000010</td>\n",
              "      <td>0.748087</td>\n",
              "      <td>0.684426</td>\n",
              "    </tr>\n",
              "    <tr>\n",
              "      <th>2</th>\n",
              "      <td>0.000100</td>\n",
              "      <td>0.748087</td>\n",
              "      <td>0.684415</td>\n",
              "    </tr>\n",
              "    <tr>\n",
              "      <th>3</th>\n",
              "      <td>0.001000</td>\n",
              "      <td>0.748085</td>\n",
              "      <td>0.684305</td>\n",
              "    </tr>\n",
              "    <tr>\n",
              "      <th>4</th>\n",
              "      <td>0.010000</td>\n",
              "      <td>0.747863</td>\n",
              "      <td>0.682931</td>\n",
              "    </tr>\n",
              "    <tr>\n",
              "      <th>5</th>\n",
              "      <td>0.100000</td>\n",
              "      <td>0.737338</td>\n",
              "      <td>0.653581</td>\n",
              "    </tr>\n",
              "    <tr>\n",
              "      <th>6</th>\n",
              "      <td>1.000000</td>\n",
              "      <td>0.665688</td>\n",
              "      <td>0.579762</td>\n",
              "    </tr>\n",
              "    <tr>\n",
              "      <th>7</th>\n",
              "      <td>10.000000</td>\n",
              "      <td>0.047110</td>\n",
              "      <td>0.039901</td>\n",
              "    </tr>\n",
              "  </tbody>\n",
              "</table>\n",
              "</div>"
            ],
            "text/plain": [
              "           a      R2tr      R2te\n",
              "0   0.000001  0.748087  0.684427\n",
              "1   0.000010  0.748087  0.684426\n",
              "2   0.000100  0.748087  0.684415\n",
              "3   0.001000  0.748085  0.684305\n",
              "4   0.010000  0.747863  0.682931\n",
              "5   0.100000  0.737338  0.653581\n",
              "6   1.000000  0.665688  0.579762\n",
              "7  10.000000  0.047110  0.039901"
            ]
          },
          "metadata": {},
          "execution_count": 44
        }
      ]
    },
    {
      "cell_type": "code",
      "metadata": {
        "id": "nD_gSfQWrcDC",
        "colab": {
          "base_uri": "https://localhost:8080/"
        },
        "outputId": "5f6f5e29-4060-413f-fec1-8ee0b0b09947"
      },
      "source": [
        "linearModel = LinearRegression()\n",
        "linearModel.fit(scaledXtr, y_train)\n",
        "R2tr = linearModel.score(scaledXtr, y_train)\n",
        "R2te = linearModel.score(scaledXte, y_test)\n",
        "R2tr, R2te"
      ],
      "execution_count": null,
      "outputs": [
        {
          "output_type": "execute_result",
          "data": {
            "text/plain": [
              "(0.7480872598623441, 0.6844267283527131)"
            ]
          },
          "metadata": {},
          "execution_count": 45
        }
      ]
    },
    {
      "cell_type": "markdown",
      "metadata": {
        "id": "OV4hiTy0rcDC"
      },
      "source": [
        "## 일반적인 regressor 사용방법\n",
        "SVR, DecisionTreeRegress, RandomForestRegressor, GradientBoostingRegressor ... 이런 모든 회귀용(target이 연속형) 모델의 일반적인 사용법은 이전에 배운 LinearRegressor, Ridge, Lasso 등과 동일하다.\n",
        "\n",
        "물론 모델의 알고리즘에 따라 설정해야 할 하이퍼파라미터가 달라지는 것은 예외로 한다.\n",
        "\n",
        "사용법:\n",
        "1. 모델 instance 생성: m = Ridge()\n",
        "2. 모델 학습: m.fit(X_train, y_train)\n",
        "3. 모델 평가: m.score(X_test, y_test)\n",
        "4. 모델 예측: m.predict(X_test)\n",
        "5. 회귀 계수: m.coef_"
      ]
    },
    {
      "cell_type": "code",
      "metadata": {
        "id": "Hm9Vyfe1rcDC",
        "colab": {
          "base_uri": "https://localhost:8080/"
        },
        "outputId": "860a92c0-e4d1-40e7-c6ca-60bf6a72c79b"
      },
      "source": [
        "best['model']"
      ],
      "execution_count": null,
      "outputs": [
        {
          "output_type": "execute_result",
          "data": {
            "text/plain": [
              "Lasso(alpha=1e-06, copy_X=True, fit_intercept=True, max_iter=1000,\n",
              "      normalize=False, positive=False, precompute=False, random_state=None,\n",
              "      selection='cyclic', tol=0.0001, warm_start=False)"
            ]
          },
          "metadata": {},
          "execution_count": 46
        }
      ]
    },
    {
      "cell_type": "markdown",
      "metadata": {
        "id": "tZHKjlbDrcDC"
      },
      "source": [
        "[Quiz] 보스턴 집값 데이터에 대해:\n",
        "1. train / test를 나누고\n",
        "2. scaling 없이할 때, knn regressor를 이용하여 최상의 k, R2을 구하시오\n",
        "3. RobustScaler를 사용할 때, 2번과 같은 작업을 수행하고 결과를 비교하시오.\n",
        "\n",
        "회귀모델에 대한 평가지표:\n",
        "1. $R^2 = 1 - \\cfrac {SSE}{SST}$\n",
        "2. MSE: loss이자 평가지표\n",
        "3. $MAE = \\cfrac 1 n \\sum |y_i - \\hat y_i|$\n",
        "4. $RMSE = \\sqrt{MSE}$"
      ]
    },
    {
      "cell_type": "code",
      "metadata": {
        "id": "BUehZghFrcDC"
      },
      "source": [
        "from sklearn.neighbors import KNeighborsRegressor\n",
        "from sklearn.preprocessing import RobustScaler\n",
        "from sklearn.datasets import load_boston\n",
        "from sklearn.model_selection import train_test_split\n",
        "\n",
        "data = load_boston()\n",
        "X_train, X_test, y_train, y_test = train_test_split(data.data, data.target, random_state=42)"
      ],
      "execution_count": null,
      "outputs": []
    },
    {
      "cell_type": "code",
      "metadata": {
        "id": "Oe-CG49qrcDC",
        "colab": {
          "base_uri": "https://localhost:8080/",
          "height": 313
        },
        "outputId": "2305c94e-ed0a-4ab6-cf4b-6d5f554ac46e"
      },
      "source": [
        "ks = [1, 3, 5, 7, 9, 11]\n",
        "\n",
        "def kNNtuner(ks, xtr, ytr, xts, yts):\n",
        "    best = {}\n",
        "    scores = {}\n",
        "    scores['k'] = []\n",
        "    scores['R2'] = []\n",
        "    bs = 0\n",
        "    for k in ks:\n",
        "        m = KNeighborsRegressor(k).fit(xtr, ytr)\n",
        "        R2 = m.score(xts, yts)\n",
        "        scores['k'].append(k)\n",
        "        scores['R2'].append(R2)\n",
        "        if R2 > bs:\n",
        "            bs = R2\n",
        "            best['k'] = k\n",
        "            best['R2'] = R2\n",
        "            best['m'] = m\n",
        "    \n",
        "    import pandas as pd\n",
        "    scores = pd.DataFrame(scores)\n",
        "    \n",
        "    return best, scores\n",
        "\n",
        "best, scores = kNNtuner(ks, X_train, y_train, X_test, y_test)\n",
        "\n",
        "print(best)\n",
        "scores"
      ],
      "execution_count": null,
      "outputs": [
        {
          "output_type": "stream",
          "name": "stdout",
          "text": [
            "{'k': 3, 'R2': 0.6946008632462907, 'm': KNeighborsRegressor(algorithm='auto', leaf_size=30, metric='minkowski',\n",
            "                    metric_params=None, n_jobs=None, n_neighbors=3, p=2,\n",
            "                    weights='uniform')}\n"
          ]
        },
        {
          "output_type": "execute_result",
          "data": {
            "text/html": [
              "<div>\n",
              "<style scoped>\n",
              "    .dataframe tbody tr th:only-of-type {\n",
              "        vertical-align: middle;\n",
              "    }\n",
              "\n",
              "    .dataframe tbody tr th {\n",
              "        vertical-align: top;\n",
              "    }\n",
              "\n",
              "    .dataframe thead th {\n",
              "        text-align: right;\n",
              "    }\n",
              "</style>\n",
              "<table border=\"1\" class=\"dataframe\">\n",
              "  <thead>\n",
              "    <tr style=\"text-align: right;\">\n",
              "      <th></th>\n",
              "      <th>k</th>\n",
              "      <th>R2</th>\n",
              "    </tr>\n",
              "  </thead>\n",
              "  <tbody>\n",
              "    <tr>\n",
              "      <th>0</th>\n",
              "      <td>1</td>\n",
              "      <td>0.481494</td>\n",
              "    </tr>\n",
              "    <tr>\n",
              "      <th>1</th>\n",
              "      <td>3</td>\n",
              "      <td>0.694601</td>\n",
              "    </tr>\n",
              "    <tr>\n",
              "      <th>2</th>\n",
              "      <td>5</td>\n",
              "      <td>0.639665</td>\n",
              "    </tr>\n",
              "    <tr>\n",
              "      <th>3</th>\n",
              "      <td>7</td>\n",
              "      <td>0.570995</td>\n",
              "    </tr>\n",
              "    <tr>\n",
              "      <th>4</th>\n",
              "      <td>9</td>\n",
              "      <td>0.514882</td>\n",
              "    </tr>\n",
              "    <tr>\n",
              "      <th>5</th>\n",
              "      <td>11</td>\n",
              "      <td>0.514995</td>\n",
              "    </tr>\n",
              "  </tbody>\n",
              "</table>\n",
              "</div>"
            ],
            "text/plain": [
              "    k        R2\n",
              "0   1  0.481494\n",
              "1   3  0.694601\n",
              "2   5  0.639665\n",
              "3   7  0.570995\n",
              "4   9  0.514882\n",
              "5  11  0.514995"
            ]
          },
          "metadata": {},
          "execution_count": 48
        }
      ]
    },
    {
      "cell_type": "markdown",
      "metadata": {
        "id": "Cuw3u7qKxTGS"
      },
      "source": [
        "거리기반 모델은 반듯이 스케일링을 수행하여, 각 변수들이 동등한 기여도를 갖도록 해주어야 한다."
      ]
    },
    {
      "cell_type": "code",
      "metadata": {
        "id": "vfEXpXWfrcDD",
        "colab": {
          "base_uri": "https://localhost:8080/",
          "height": 313
        },
        "outputId": "b8fe38ad-a667-49ad-d950-9a72896ac83b"
      },
      "source": [
        "from sklearn.preprocessing import RobustScaler\n",
        "mns = RobustScaler().fit(X_train)\n",
        "X_train_scaled = mns.transform(X_train)\n",
        "X_test_scaled = mns.transform(X_test)\n",
        "\n",
        "best, scores = kNNtuner(ks, X_train_scaled, y_train, X_test_scaled, y_test)\n",
        "\n",
        "print(best)\n",
        "scores"
      ],
      "execution_count": null,
      "outputs": [
        {
          "output_type": "stream",
          "name": "stdout",
          "text": [
            "{'k': 3, 'R2': 0.7293736562378218, 'm': KNeighborsRegressor(algorithm='auto', leaf_size=30, metric='minkowski',\n",
            "                    metric_params=None, n_jobs=None, n_neighbors=3, p=2,\n",
            "                    weights='uniform')}\n"
          ]
        },
        {
          "output_type": "execute_result",
          "data": {
            "text/html": [
              "<div>\n",
              "<style scoped>\n",
              "    .dataframe tbody tr th:only-of-type {\n",
              "        vertical-align: middle;\n",
              "    }\n",
              "\n",
              "    .dataframe tbody tr th {\n",
              "        vertical-align: top;\n",
              "    }\n",
              "\n",
              "    .dataframe thead th {\n",
              "        text-align: right;\n",
              "    }\n",
              "</style>\n",
              "<table border=\"1\" class=\"dataframe\">\n",
              "  <thead>\n",
              "    <tr style=\"text-align: right;\">\n",
              "      <th></th>\n",
              "      <th>k</th>\n",
              "      <th>R2</th>\n",
              "    </tr>\n",
              "  </thead>\n",
              "  <tbody>\n",
              "    <tr>\n",
              "      <th>0</th>\n",
              "      <td>1</td>\n",
              "      <td>0.445515</td>\n",
              "    </tr>\n",
              "    <tr>\n",
              "      <th>1</th>\n",
              "      <td>3</td>\n",
              "      <td>0.729374</td>\n",
              "    </tr>\n",
              "    <tr>\n",
              "      <th>2</th>\n",
              "      <td>5</td>\n",
              "      <td>0.722990</td>\n",
              "    </tr>\n",
              "    <tr>\n",
              "      <th>3</th>\n",
              "      <td>7</td>\n",
              "      <td>0.702703</td>\n",
              "    </tr>\n",
              "    <tr>\n",
              "      <th>4</th>\n",
              "      <td>9</td>\n",
              "      <td>0.684632</td>\n",
              "    </tr>\n",
              "    <tr>\n",
              "      <th>5</th>\n",
              "      <td>11</td>\n",
              "      <td>0.707657</td>\n",
              "    </tr>\n",
              "  </tbody>\n",
              "</table>\n",
              "</div>"
            ],
            "text/plain": [
              "    k        R2\n",
              "0   1  0.445515\n",
              "1   3  0.729374\n",
              "2   5  0.722990\n",
              "3   7  0.702703\n",
              "4   9  0.684632\n",
              "5  11  0.707657"
            ]
          },
          "metadata": {},
          "execution_count": 49
        }
      ]
    },
    {
      "cell_type": "markdown",
      "metadata": {
        "id": "LE7yWDeD0eH9"
      },
      "source": [
        "[Quiz] weights를 distance로 변경할 때, k 값을 튜닝하여 테스트셋에서 가장 좋은 $R^2$을 구해보자."
      ]
    },
    {
      "cell_type": "code",
      "metadata": {
        "id": "Ds0RCm_m0d1Z"
      },
      "source": [
        "def kNNtunerWithWeights(ks, xtr, ytr, xts, yts, w='uniform'):\n",
        "    best = {}\n",
        "    scores = {}\n",
        "    scores['k'] = []\n",
        "    scores['R2'] = []\n",
        "    bs = 0\n",
        "    for k in ks:\n",
        "        m = KNeighborsRegressor(k, w).fit(xtr, ytr)\n",
        "        R2 = m.score(xts, yts)\n",
        "        scores['k'].append(k)\n",
        "        scores['R2'].append(R2)\n",
        "        if R2 > bs:\n",
        "            bs = R2\n",
        "            best['k'] = k\n",
        "            best['R2'] = R2\n",
        "            best['m'] = m\n",
        "    \n",
        "    import pandas as pd\n",
        "    scores = pd.DataFrame(scores)\n",
        "    \n",
        "    return best, scores"
      ],
      "execution_count": null,
      "outputs": []
    },
    {
      "cell_type": "code",
      "metadata": {
        "id": "jH35l8dFrcDD",
        "colab": {
          "base_uri": "https://localhost:8080/",
          "height": 501
        },
        "outputId": "764d61d3-f4c6-4cbe-d16f-756a31bddc51"
      },
      "source": [
        "ks = range(3, 15)\n",
        "best, scores = kNNtunerWithWeights(ks, \n",
        "                                   X_train_scaled, y_train, \n",
        "                                   X_test_scaled, y_test, \n",
        "                                   'distance')\n",
        "\n",
        "print(best)\n",
        "scores"
      ],
      "execution_count": null,
      "outputs": [
        {
          "output_type": "stream",
          "name": "stdout",
          "text": [
            "{'k': 5, 'R2': 0.7269507925086454, 'm': KNeighborsRegressor(algorithm='auto', leaf_size=30, metric='minkowski',\n",
            "                    metric_params=None, n_jobs=None, n_neighbors=5, p=2,\n",
            "                    weights='distance')}\n"
          ]
        },
        {
          "output_type": "execute_result",
          "data": {
            "text/html": [
              "<div>\n",
              "<style scoped>\n",
              "    .dataframe tbody tr th:only-of-type {\n",
              "        vertical-align: middle;\n",
              "    }\n",
              "\n",
              "    .dataframe tbody tr th {\n",
              "        vertical-align: top;\n",
              "    }\n",
              "\n",
              "    .dataframe thead th {\n",
              "        text-align: right;\n",
              "    }\n",
              "</style>\n",
              "<table border=\"1\" class=\"dataframe\">\n",
              "  <thead>\n",
              "    <tr style=\"text-align: right;\">\n",
              "      <th></th>\n",
              "      <th>k</th>\n",
              "      <th>R2</th>\n",
              "    </tr>\n",
              "  </thead>\n",
              "  <tbody>\n",
              "    <tr>\n",
              "      <th>0</th>\n",
              "      <td>3</td>\n",
              "      <td>0.722440</td>\n",
              "    </tr>\n",
              "    <tr>\n",
              "      <th>1</th>\n",
              "      <td>4</td>\n",
              "      <td>0.722468</td>\n",
              "    </tr>\n",
              "    <tr>\n",
              "      <th>2</th>\n",
              "      <td>5</td>\n",
              "      <td>0.726951</td>\n",
              "    </tr>\n",
              "    <tr>\n",
              "      <th>3</th>\n",
              "      <td>6</td>\n",
              "      <td>0.720795</td>\n",
              "    </tr>\n",
              "    <tr>\n",
              "      <th>4</th>\n",
              "      <td>7</td>\n",
              "      <td>0.714737</td>\n",
              "    </tr>\n",
              "    <tr>\n",
              "      <th>5</th>\n",
              "      <td>8</td>\n",
              "      <td>0.702373</td>\n",
              "    </tr>\n",
              "    <tr>\n",
              "      <th>6</th>\n",
              "      <td>9</td>\n",
              "      <td>0.702749</td>\n",
              "    </tr>\n",
              "    <tr>\n",
              "      <th>7</th>\n",
              "      <td>10</td>\n",
              "      <td>0.722370</td>\n",
              "    </tr>\n",
              "    <tr>\n",
              "      <th>8</th>\n",
              "      <td>11</td>\n",
              "      <td>0.722280</td>\n",
              "    </tr>\n",
              "    <tr>\n",
              "      <th>9</th>\n",
              "      <td>12</td>\n",
              "      <td>0.719500</td>\n",
              "    </tr>\n",
              "    <tr>\n",
              "      <th>10</th>\n",
              "      <td>13</td>\n",
              "      <td>0.709455</td>\n",
              "    </tr>\n",
              "    <tr>\n",
              "      <th>11</th>\n",
              "      <td>14</td>\n",
              "      <td>0.703236</td>\n",
              "    </tr>\n",
              "  </tbody>\n",
              "</table>\n",
              "</div>"
            ],
            "text/plain": [
              "     k        R2\n",
              "0    3  0.722440\n",
              "1    4  0.722468\n",
              "2    5  0.726951\n",
              "3    6  0.720795\n",
              "4    7  0.714737\n",
              "5    8  0.702373\n",
              "6    9  0.702749\n",
              "7   10  0.722370\n",
              "8   11  0.722280\n",
              "9   12  0.719500\n",
              "10  13  0.709455\n",
              "11  14  0.703236"
            ]
          },
          "metadata": {},
          "execution_count": 56
        }
      ]
    },
    {
      "cell_type": "code",
      "metadata": {
        "id": "xiWcXkS61g6E"
      },
      "source": [
        ""
      ],
      "execution_count": null,
      "outputs": []
    }
  ]
}