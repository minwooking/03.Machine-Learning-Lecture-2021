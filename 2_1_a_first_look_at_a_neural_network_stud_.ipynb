{
  "nbformat": 4,
  "nbformat_minor": 0,
  "metadata": {
    "kernelspec": {
      "display_name": "TensorFlow 2.3 on Python 3.6 (CUDA 10.1)",
      "language": "python",
      "name": "python3"
    },
    "language_info": {
      "codemirror_mode": {
        "name": "ipython",
        "version": 3
      },
      "file_extension": ".py",
      "mimetype": "text/x-python",
      "name": "python",
      "nbconvert_exporter": "python",
      "pygments_lexer": "ipython3",
      "version": "3.6.9"
    },
    "colab": {
      "name": "2.1-a-first-look-at-a-neural-network_stud.ipynb의 사본",
      "provenance": [],
      "collapsed_sections": [],
      "include_colab_link": true
    },
    "accelerator": "GPU"
  },
  "cells": [
    {
      "cell_type": "markdown",
      "metadata": {
        "id": "view-in-github",
        "colab_type": "text"
      },
      "source": [
        "<a href=\"https://colab.research.google.com/github/minwooking/03.Machine-Learning-Lecture-2021/blob/main/2_1_a_first_look_at_a_neural_network_stud_.ipynb\" target=\"_parent\"><img src=\"https://colab.research.google.com/assets/colab-badge.svg\" alt=\"Open In Colab\"/></a>"
      ]
    },
    {
      "cell_type": "code",
      "metadata": {
        "colab": {
          "base_uri": "https://localhost:8080/",
          "height": 35
        },
        "id": "e6fX_ES561rF",
        "outputId": "3ae78601-a014-4ee3-da21-3f9de312474e"
      },
      "source": [
        "# pip install tensorflow==2.1.0\n",
        "from tensorflow import keras\n",
        "keras.__version__"
      ],
      "execution_count": null,
      "outputs": [
        {
          "output_type": "execute_result",
          "data": {
            "application/vnd.google.colaboratory.intrinsic+json": {
              "type": "string"
            },
            "text/plain": [
              "'2.7.0'"
            ]
          },
          "metadata": {},
          "execution_count": 2
        }
      ]
    },
    {
      "cell_type": "markdown",
      "metadata": {
        "id": "IVASeWJK61rR"
      },
      "source": [
        "# 신경망과의 첫 만남\n",
        "\n",
        "이 노트북은 [케라스 창시자에게 배우는 딥러닝](https://tensorflow.blog/케라스-창시자에게-배우는-딥러닝/) 책의 2장 1절의 코드 예제입니다. 책에는 더 많은 내용과 그림이 있습니다. 이 노트북에는 소스 코드에 관련된 설명만 포함합니다. 이 노트북의 설명은 케라스 버전 2.2.2에 맞추어져 있습니다. 케라스 최신 버전이 릴리스되면 노트북을 다시 테스트하기 때문에 설명과 코드의 결과가 조금 다를 수 있습니다.\n",
        "\n",
        "----\n",
        "\n",
        "케라스 파이썬 라이브러리를 사용하여 손글씨 숫자 분류를 학습하는 구체적인 신경망 예제를 살펴보겠습니다. 케라스나 비슷한 라이브러리를 사용한 경험이 없다면 당장은 이 첫 번째 예제를 모두 이해하지 못할 것입니다. 아직 케라스를 설치하지 않았을지도 모릅니다. 괜찮습니다. 다음 장에서 이 예제를 하나하나 자세히 설명합니다. 코드가 좀 이상하거나 요술처럼 보이더라도 너무 걱정하지 마세요. 일단 시작해 보겠습니다.\n",
        "\n",
        "여기에서 풀려고 하는 문제는 흑백 손글씨 숫자 이미지(28x28 픽셀)를 10개의 범주(0에서 9까지)로 분류하는 것입니다. 머신 러닝 커뮤니티에서 고전으로 취급받는 데이터셋인 MNIST를 사용하겠습니다. 이 데이터셋은 머신 러닝의 역사만큼 오래되었고 많은 연구에 사용되었습니다. 이 데이터셋은 1980년대에 미국 국립표준기술연구소에서 수집한 6만 개의 훈련 이미지와 1만 개의 테스트 이미지로 구성되어 있습니다. MNIST 문제를 알고리즘이 제대로 작동하는지 확인하기 위한 딥러닝계의 ‘Hello World’라고 생각해도 됩니다. 머신 러닝 기술자가 되기까지 연구 논문이나 블로그 포스트 등에서 MNIST를 보고 또 보게 될 것입니다."
      ]
    },
    {
      "cell_type": "markdown",
      "metadata": {
        "id": "Vsqnn4Nq61rS"
      },
      "source": [
        "MNIST 데이터셋은 넘파이 배열 형태로 케라스에 이미 포함되어 있습니다:"
      ]
    },
    {
      "cell_type": "code",
      "metadata": {
        "id": "iyJZmL0q61rT",
        "colab": {
          "base_uri": "https://localhost:8080/"
        },
        "outputId": "1fe222dd-7a45-467b-b470-6eed7e840594"
      },
      "source": [
        "from tensorflow.keras.datasets import mnist\n",
        "\n",
        "(train_images, train_labels), (test_images, test_labels) = mnist.load_data() # 트레인 테스트 스플릿을 할 필요가 없다. "
      ],
      "execution_count": null,
      "outputs": [
        {
          "output_type": "stream",
          "name": "stdout",
          "text": [
            "Downloading data from https://storage.googleapis.com/tensorflow/tf-keras-datasets/mnist.npz\n",
            "11493376/11490434 [==============================] - 0s 0us/step\n",
            "11501568/11490434 [==============================] - 0s 0us/step\n"
          ]
        }
      ]
    },
    {
      "cell_type": "markdown",
      "metadata": {
        "id": "66pRGtzH61rT"
      },
      "source": [
        "`train_images`와 `train_labels`가 모델이 학습해야 할 훈련 세트를 구성합니다. 모델은 `test_images`와 `test_labels`로 구성된 테스트 세트에서 테스트될 것입니다. 이미지는 넘파이 배열로 인코딩되어 있고 레이블은 0에서부터 9까지의 숫자 배열입니다. 이미지와 레이블은 일대일 관계를 가집니다.\n",
        "\n",
        "훈련 데이터를 살펴보겠습니다:"
      ]
    },
    {
      "cell_type": "code",
      "metadata": {
        "colab": {
          "base_uri": "https://localhost:8080/"
        },
        "id": "R_QhyqaG61rU",
        "outputId": "c759f11a-37ee-47ea-d816-9f75ecf3cb3b"
      },
      "source": [
        "train_images.shape # 학습데이터 60000만개  높이는 28 , 너비 28 컬러 x "
      ],
      "execution_count": null,
      "outputs": [
        {
          "output_type": "execute_result",
          "data": {
            "text/plain": [
              "(60000, 28, 28)"
            ]
          },
          "metadata": {},
          "execution_count": 4
        }
      ]
    },
    {
      "cell_type": "code",
      "metadata": {
        "colab": {
          "base_uri": "https://localhost:8080/"
        },
        "id": "J3z-oz1h61rU",
        "outputId": "c979fe89-431f-475a-e435-571bbee060ae"
      },
      "source": [
        "len(train_labels)"
      ],
      "execution_count": null,
      "outputs": [
        {
          "output_type": "execute_result",
          "data": {
            "text/plain": [
              "60000"
            ]
          },
          "metadata": {},
          "execution_count": 5
        }
      ]
    },
    {
      "cell_type": "code",
      "metadata": {
        "colab": {
          "base_uri": "https://localhost:8080/"
        },
        "id": "AVzXGWc661rV",
        "outputId": "2329180e-0d4e-4208-e018-fb019a219665"
      },
      "source": [
        "train_labels"
      ],
      "execution_count": null,
      "outputs": [
        {
          "output_type": "execute_result",
          "data": {
            "text/plain": [
              "array([5, 0, 4, ..., 5, 6, 8], dtype=uint8)"
            ]
          },
          "metadata": {},
          "execution_count": 6
        }
      ]
    },
    {
      "cell_type": "markdown",
      "metadata": {
        "id": "WGmkhj3D61rV"
      },
      "source": [
        "다음은 테스트 데이터입니다:"
      ]
    },
    {
      "cell_type": "code",
      "metadata": {
        "colab": {
          "base_uri": "https://localhost:8080/"
        },
        "id": "mP5V-tXb61rW",
        "outputId": "271a0650-5c6b-4b5a-902c-c662bd234899"
      },
      "source": [
        "test_images.shape # 테스트 데이터 "
      ],
      "execution_count": null,
      "outputs": [
        {
          "output_type": "execute_result",
          "data": {
            "text/plain": [
              "(10000, 28, 28)"
            ]
          },
          "metadata": {},
          "execution_count": 7
        }
      ]
    },
    {
      "cell_type": "code",
      "metadata": {
        "colab": {
          "base_uri": "https://localhost:8080/"
        },
        "id": "bjObtSen61rW",
        "outputId": "f71b6d8a-cd97-4d7b-cbb8-6b6dab83badc"
      },
      "source": [
        "len(test_labels)"
      ],
      "execution_count": null,
      "outputs": [
        {
          "output_type": "execute_result",
          "data": {
            "text/plain": [
              "10000"
            ]
          },
          "metadata": {},
          "execution_count": 8
        }
      ]
    },
    {
      "cell_type": "code",
      "metadata": {
        "colab": {
          "base_uri": "https://localhost:8080/"
        },
        "id": "62vOxzMQ61rX",
        "outputId": "5da9c1f8-9b7a-433b-a0f7-08b0151d67a9"
      },
      "source": [
        "test_labels"
      ],
      "execution_count": null,
      "outputs": [
        {
          "output_type": "execute_result",
          "data": {
            "text/plain": [
              "array([7, 2, 1, ..., 4, 5, 6], dtype=uint8)"
            ]
          },
          "metadata": {},
          "execution_count": 9
        }
      ]
    },
    {
      "cell_type": "markdown",
      "metadata": {
        "id": "lAU9OQPd61rX"
      },
      "source": [
        "다섯 번째 샘플을 맷플롯립 라이브러리를 사용해 확인해 보겠습니다."
      ]
    },
    {
      "cell_type": "code",
      "metadata": {
        "colab": {
          "base_uri": "https://localhost:8080/",
          "height": 265
        },
        "id": "A34OZ9a461rY",
        "outputId": "835ab8c5-8b35-49ee-a61e-87d8a59378e2"
      },
      "source": [
        "import matplotlib.pyplot as plt\n",
        "digit = train_images[1] # 가운데쪽에있는 데이터의 정보량은 많이가져와라 좀더 포커싱을 둬야한다. \n",
        "\n",
        "plt.imshow(digit, cmap=plt.cm.binary)\n",
        "plt.show()"
      ],
      "execution_count": null,
      "outputs": [
        {
          "output_type": "display_data",
          "data": {
            "image/png": "[encoded data removed]",
            "text/plain": [
              "<Figure size 432x288 with 1 Axes>"
            ]
          },
          "metadata": {
            "needs_background": "light"
          }
        }
      ]
    },
    {
      "cell_type": "code",
      "metadata": {
        "id": "1O0N7AiiTzJ-",
        "colab": {
          "base_uri": "https://localhost:8080/"
        },
        "outputId": "7c5cd9cf-3044-421a-863e-d08c55622489"
      },
      "source": [
        "train_labels[1]"
      ],
      "execution_count": null,
      "outputs": [
        {
          "output_type": "execute_result",
          "data": {
            "text/plain": [
              "5"
            ]
          },
          "metadata": {},
          "execution_count": 12
        }
      ]
    },
    {
      "cell_type": "markdown",
      "metadata": {
        "id": "LQr0ZJBpTzxi"
      },
      "source": [
        "#### softmax의 이해\n",
        "multi-class에 대한 probablity를 리턴하는 함수이다.\n",
        "- h = ReLU(X.w1 + b1)\n",
        "- yhat = Softmax(h.w + b)\n",
        "- z = h.w + b. z.shape = (batch, 10)\n",
        "\n",
        "1개의 데이터만 고려할 때, z은 임의의 (10,) 사이즈를 갖는 array\n",
        "\n",
        "$$Softmax(z_j) = \\cfrac {exp[z_j]} {\\sum_{i=1}^{10} exp[z_i]}$$\n",
        "- 0 < Softmax($z_j$) < 1\n",
        "\n",
        "벡터로 표현하면:\n",
        "\n",
        "$$Softmax(z) = \\cfrac {exp[z]} {\\sum_{i=1}^{10} exp[z_i]}$$\n",
        "- Softmax(z).sum() = 1\n",
        "\n",
        "** 참고로 ReLU는 아래와 같다:\n",
        "$$ReLU(z) = max(0, z)$$"
      ]
    },
    {
      "cell_type": "code",
      "source": [
        "# 소프트맥스를 구하는버 \n",
        "# 소프트맥스는 멀티클래스에 대해서 스코어를 프로버블리티로 바꿔주는게 소프트맥스이다.  \n",
        "import numpy as np\n",
        "z = np.array([3,1,5])\n",
        "softmax = lambda arr: np.exp(arr) / np.exp(arr).sum()\n",
        "print(softmax(z)) # \n",
        "print(softmax(z).sum())"
      ],
      "metadata": {
        "colab": {
          "base_uri": "https://localhost:8080/"
        },
        "id": "Siq6IZUuXOkl",
        "outputId": "89b44901-26c3-4796-be02-c184bfd82fd2"
      },
      "execution_count": null,
      "outputs": [
        {
          "output_type": "stream",
          "name": "stdout",
          "text": [
            "[0.11731043 0.01587624 0.86681333]\n",
            "1.0\n"
          ]
        }
      ]
    },
    {
      "cell_type": "markdown",
      "metadata": {
        "id": "50BIFbFW61rY"
      },
      "source": [
        "작업 순서는 다음과 같습니다. 먼저 훈련 데이터 `train_images`와 `train_labels`를 네트워크에 주입합니다. 그러면 네트워크는 이미지와 레이블을 연관시킬 수 있도록 학습됩니다. 마지막으로 `test_images`에 대한 예측을 네트워크에게 요청합니다. 그리고 이 예측이 `test_labels`와 맞는지 확인할 것입니다.\n",
        "\n",
        "신경망을 만들어 보겠습니다. 여기에서도 다음 코드를 완전히 이해하지 않아도 괜찮습니다."
      ]
    },
    {
      "cell_type": "markdown",
      "metadata": {
        "id": "vACi1PZ3RSNu"
      },
      "source": [
        "#### 딥러닝 모델 생성 순서:\n",
        "1) 모델 구조 정의\n",
        "- 빈 모델 생성: Sequential로 생성\n",
        "- add 메소드를 통해 layer를 하나씩 추가\n",
        "- Dense layer가 있는 경우, 첫 layer는 반듯이 input_shape을 지정해야 한다."
      ]
    },
    {
      "cell_type": "code",
      "metadata": {
        "id": "Lh-Lo2O061rZ"
      },
      "source": [
        "from tensorflow.keras import models\n",
        "from tensorflow.keras import layers\n",
        "\n",
        "network = models.Sequential()\n",
        "network.add(layers.Dense(512, activation='relu', input_shape=(28 * 28,)))\n",
        "network.add(layers.Dense(10, activation='softmax'))"
      ],
      "execution_count": null,
      "outputs": []
    },
    {
      "cell_type": "markdown",
      "metadata": {
        "id": "9s2XBgVx61rZ"
      },
      "source": [
        "수식으로 표현하면:\n",
        "- $h = \\text{ReLU}(X.w_1 + b_1) = \\max(0, X.w_1 + b_1)$.  \n",
        " - h.shape = (batch, 512)\n",
        "- $\\hat y = Softmax(h.w + b)$.   \n",
        " - yhat.shape = (batch, 10)\n",
        "\n",
        "신경망의 핵심 구성 요소는 일종의 데이터 처리 필터라고 생각할 수 있는 층입니다. 어떤 데이터가 들어가면 더 유용한 형태로 출력됩니다. 조금 더 구체적으로 층은 주어진 문제에 더 의미 있는 표현을 입력된 데이터로부터 추출합니다. 대부분의 딥러닝은 간단한 층을 연결하여 구성되어 있고, 점진적으로 데이터를 정제하는 형태를 띠고 있습니다. 딥러닝 모델은 데이터 정제 필터(층)가 연속되어 있는 데이터 프로세싱을 위한 여과기와 같습니다.\n",
        "\n",
        "이 예에서는 조밀하게 연결된 (또는 완전 연결된) 신경망 층인 `Dense` 층 2개가 연속되어 있습니다. 두 번째 (즉, 마지막) 층은 10개의 확률 점수가 들어 있는 배열(모두 더하면 1입니다)을 반환하는 소프트맥스 층입니다. 각 점수는 현재 숫자 이미지가 10개의 숫자 클래스 중 하나에 속할 확률입니다.\n",
        "\n",
        "신경망이 훈련 준비를 마치기 위해서 컴파일 단계에 포함될 세 가지가 더 필요합니다:\n",
        "\n",
        "* 손실 함수 : 훈련 데이터에서 신경망의 성능을 측정하는 방법으로 네트워크가 옳은 방향으로 학습될 수 있도록 도와 줍니다.\n",
        "* 옵티마이저: 입력된 데이터와 손실 함수를 기반으로 네트워크를 업데이트하는 메커니즘입니다.\n",
        "* 훈련과 테스트 과정을 모니터링할 지표 : 여기에서는 정확도(정확히 분류된 이미지의 비율)만 고려하겠습니다.\n",
        "\n",
        "손실 함수와 옵티마이저의 정확한 목적은 이어지는 두 개의 장에서 자세히 설명하겠습니다."
      ]
    },
    {
      "cell_type": "code",
      "metadata": {
        "colab": {
          "base_uri": "https://localhost:8080/"
        },
        "id": "SElyox56G7Da",
        "outputId": "fa2e65db-16c6-4f27-976d-daf2fddf1b7c"
      },
      "source": [
        "network.summary()"
      ],
      "execution_count": null,
      "outputs": [
        {
          "output_type": "stream",
          "name": "stdout",
          "text": [
            "Model: \"sequential\"\n",
            "_________________________________________________________________\n",
            " Layer (type)                Output Shape              Param #   \n",
            "=================================================================\n",
            " dense (Dense)               (None, 512)               401920    \n",
            "                                                                 \n",
            " dense_1 (Dense)             (None, 10)                5130      \n",
            "                                                                 \n",
            "=================================================================\n",
            "Total params: 407,050\n",
            "Trainable params: 407,050\n",
            "Non-trainable params: 0\n",
            "_________________________________________________________________\n"
          ]
        }
      ]
    },
    {
      "cell_type": "code",
      "metadata": {
        "colab": {
          "base_uri": "https://localhost:8080/"
        },
        "id": "18h6EmujRAtC",
        "outputId": "69a63cc2-9784-4d4c-df58-b41a68e3d6d9"
      },
      "source": [
        "# h[0] = X.w[0] + b[0] : \n",
        "# (1, ) = (28*28,).(28*28,) + (1,)\n",
        "# 1개 출력 픽셀을 만드는 데 필요한 파라미터의 수 = (28*28 + 1)\n",
        "# 512개의 출력 픽셀을 만드는 데 필요한 파라미터의 수\n",
        "(28*28 + 1)*512"
      ],
      "execution_count": null,
      "outputs": [
        {
          "output_type": "execute_result",
          "data": {
            "text/plain": [
              "401920"
            ]
          },
          "metadata": {},
          "execution_count": 13
        }
      ]
    },
    {
      "cell_type": "markdown",
      "metadata": {
        "id": "8pPV0wqwIy6N"
      },
      "source": [
        "[Quiz] 위 학습 파라미터의 갯수는 어떻게 계산이 이뤄지는 지 알아보자."
      ]
    },
    {
      "cell_type": "code",
      "metadata": {
        "colab": {
          "base_uri": "https://localhost:8080/"
        },
        "id": "5rKOK7wXI7E2",
        "outputId": "fbfc85e4-49b9-4449-b68d-46d63af340b3"
      },
      "source": [
        "# 1개의 h1 unit : h11 = ReLU(X.W1_1 + b1_1)\n",
        "print(28*28 + 1)\n",
        "# 512개의 h1 unit: h1 = RELU(X.W1 + b1)\n",
        "print(512*(28*28 + 1))\n",
        "\n",
        "# 1개의 yhat unit : yhat1 = Softmax(h1.W_1 + b_1)\n",
        "print(512 + 1)\n",
        "# 10개의 yhat unit: yhat = Softmax(h1.W + b)\n",
        "print(10*(512 + 1))"
      ],
      "execution_count": null,
      "outputs": [
        {
          "output_type": "stream",
          "name": "stdout",
          "text": [
            "785\n",
            "401920\n",
            "513\n",
            "5130\n"
          ]
        }
      ]
    },
    {
      "cell_type": "markdown",
      "metadata": {
        "id": "wJ-Z5CJVRN59"
      },
      "source": [
        "2) 모델 컴파일 : 학습 방법을 지정\n",
        "- optimizer: 학습 파라미터 업데이트 방법\n",
        "- loss : 감소시켜야할 값으로서, 이에 대한 gradient를 구해 loss를 감소시키는 방향으로 학습 파라미터를 업데이트\n",
        "- metrics: 모델의 성능을 평가하는 지표"
      ]
    },
    {
      "cell_type": "code",
      "metadata": {
        "id": "P7LURqVW61rZ"
      },
      "source": [
        "network.compile(optimizer='rmsprop',\n",
        "                loss='categorical_crossentropy',\n",
        "                metrics=['accuracy'])"
      ],
      "execution_count": null,
      "outputs": []
    },
    {
      "cell_type": "markdown",
      "metadata": {
        "id": "w7Ip3HHl9PuP"
      },
      "source": [
        "#### categrical cross entropy\n",
        "Likelihood : 우도, 그럴싸함. 모델이 얼마나 데이터를 잘 표현하고 있는 지를 나타내는 지료\n",
        "\n",
        "\\begin{align}\n",
        "L_i &= y_{i0}P(y_i=0) + y_{i1}P(y_i=1) + \\cdots + y_{i9}P(y_i=9) \\\\\n",
        "&= P(y_i=0)^{y_{i0}} P(y_i=1)^{y_{i1}} \\cdots P(y_i=9)^{y_{i9}} \\\\\n",
        "&= \\Pi_{c=0}^9 P(y_i=c)^{y_{ic}} \\\\\n",
        "L_j &= \\Pi_{c=0}^9 P(y_j=c)^{y_{jc}} \\\\\n",
        "L_{ij} &= \\Pi_{c=0}^9 P(y_i=c)^{y_{ic}} \\Pi_{c=0}^9 P(y_j=c)^{y_{jc}} \\\\\n",
        "L_{1 \\cdots n} &= \\Pi_{c=0}^9 P(y_1=c)^{y_{1c}} \\Pi_{c=0}^9 P(y_2=c)^{y_{2c}} \\cdots \\Pi_{c=0}^9 P(y_n=c)^{y_{nc}} \\\\\n",
        "&= \\Pi_{i=1}^n \\Pi_{c=0}^9 P(y_i=c)^{y_{ic}} \\\\\n",
        "\\log {L_{1 \\cdots n}} &= \\sum_{i=1}^n \\sum_{c=0}^9 \\left[ y_{ic} \\log {P(y_i=c) } \\right] \\\\\n",
        "\\text{NLL}(\\mathbf y, \\mathbf {\\hat y}) &= - \\sum_{i=1}^n \\sum_{c=0}^9 \\left[ y_{ic} \\log {P(y_i=c) } \\right] \\text{   : Catergorical Cross Entropy}\\\\\n",
        "&= - \\sum_{i=1}^n \\mathbf y_i \\cdot \\log {\\mathbf {\\hat y_i}}  \\\\\n",
        "\\text{NLL}_b (\\mathbf y, \\mathbf {\\hat y}) &= - \\sum_{i=1}^n \\sum_{c=0}^1 \\left[ y_{ic} \\log {P(y_i=c) } \\right] \\text{   : binary Cross Entropy} \\\\\n",
        " &= - \\sum_{i=1}^n \\left[ y_{i} \\log {P(y_i=1) } + (1 - y_{i}) \\log {(1 - P(y_i=1) )} \\right] \\\\\n",
        " &= - \\left[ \\mathbf y \\cdot \\log{ \\mathbf {\\hat y}} + (1 - \\mathbf y) \\cdot \\log {(1 - \\mathbf {\\hat y} )} \\right]\n",
        "\\end{align}\n"
      ]
    },
    {
      "cell_type": "markdown",
      "metadata": {
        "id": "xWarUkKf61ra"
      },
      "source": [
        "3) 데이터 전처리\n",
        "\n",
        "훈련을 시작하기 전에 데이터를 네트워크에 맞는 크기로 바꾸고 모든 값을 0과 1 사이로 스케일을 조정합니다. 예를 들어, 앞서 우리의 훈련 이미지는 `[0, 255]` 사이의 값인 `uint8` 타입의 `(60000, 28, 28)` 크기를 가진 배열로 저장되어 있습니다. 이 데이터를 0과 1 사이의 값을 가지는 `float32` 타입의 `(60000, 28 * 28)` 크기의 배열로 바꿉니다."
      ]
    },
    {
      "cell_type": "code",
      "metadata": {
        "id": "Yg--IDmA61ra"
      },
      "source": [
        "train_images = train_images.reshape((60000, 28 * 28))\n",
        "train_images = train_images.astype('float32') / 255    # MinMaxScaling\n",
        "\n",
        "test_images = test_images.reshape((10000, 28 * 28))\n",
        "test_images = test_images.astype('float32') / 255"
      ],
      "execution_count": null,
      "outputs": []
    },
    {
      "cell_type": "markdown",
      "metadata": {
        "id": "f2ic7Q6761ra"
      },
      "source": [
        "또한, 레이블을 범주형으로 인코딩해야 합니다. 이 단계는 3장에서 자세히 설명하겠습니다:"
      ]
    },
    {
      "cell_type": "code",
      "metadata": {
        "id": "HiVe4P5461rb"
      },
      "source": [
        "from tensorflow.keras.utils import to_categorical\n",
        "\n",
        "train_labels = to_categorical(train_labels)\n",
        "test_labels = to_categorical(test_labels)"
      ],
      "execution_count": null,
      "outputs": []
    },
    {
      "cell_type": "code",
      "metadata": {
        "colab": {
          "base_uri": "https://localhost:8080/"
        },
        "id": "Qnhp_LUsUkzM",
        "outputId": "03c53b78-dc47-44b3-ad59-5d3285ec2ca7"
      },
      "source": [
        "train_labels.shape"
      ],
      "execution_count": null,
      "outputs": [
        {
          "output_type": "execute_result",
          "data": {
            "text/plain": [
              "(60000, 10)"
            ]
          },
          "metadata": {},
          "execution_count": 18
        }
      ]
    },
    {
      "cell_type": "code",
      "metadata": {
        "colab": {
          "base_uri": "https://localhost:8080/"
        },
        "id": "TnimTwUTBWEe",
        "outputId": "eb4edbe0-bea0-440d-8595-73cb67b8d967"
      },
      "source": [
        "train_labels[:10]"
      ],
      "execution_count": null,
      "outputs": [
        {
          "output_type": "execute_result",
          "data": {
            "text/plain": [
              "array([[0., 0., 0., 0., 0., 1., 0., 0., 0., 0.],\n",
              "       [1., 0., 0., 0., 0., 0., 0., 0., 0., 0.],\n",
              "       [0., 0., 0., 0., 1., 0., 0., 0., 0., 0.],\n",
              "       [0., 1., 0., 0., 0., 0., 0., 0., 0., 0.],\n",
              "       [0., 0., 0., 0., 0., 0., 0., 0., 0., 1.],\n",
              "       [0., 0., 1., 0., 0., 0., 0., 0., 0., 0.],\n",
              "       [0., 1., 0., 0., 0., 0., 0., 0., 0., 0.],\n",
              "       [0., 0., 0., 1., 0., 0., 0., 0., 0., 0.],\n",
              "       [0., 1., 0., 0., 0., 0., 0., 0., 0., 0.],\n",
              "       [0., 0., 0., 0., 1., 0., 0., 0., 0., 0.]], dtype=float32)"
            ]
          },
          "metadata": {},
          "execution_count": 19
        }
      ]
    },
    {
      "cell_type": "markdown",
      "metadata": {
        "id": "Nq50KUXA61rb"
      },
      "source": [
        "#### 4) 학습\n",
        "이제 신경망을 훈련시킬 준비가 되었습니다. 케라스에서는 `fit` 메서드를 호출하여 훈련 데이터에 모델을 학습시킵니다:"
      ]
    },
    {
      "cell_type": "code",
      "metadata": {
        "colab": {
          "base_uri": "https://localhost:8080/"
        },
        "id": "GSB-Xz5Ek6Cg",
        "outputId": "65ac8c60-2acf-425d-b1b2-3dd0e358d8f6"
      },
      "source": [
        "60000 / 128"
      ],
      "execution_count": null,
      "outputs": [
        {
          "output_type": "execute_result",
          "data": {
            "text/plain": [
              "468.75"
            ]
          },
          "metadata": {},
          "execution_count": 20
        }
      ]
    },
    {
      "cell_type": "code",
      "metadata": {
        "colab": {
          "base_uri": "https://localhost:8080/"
        },
        "id": "-VI0wmkj61rb",
        "outputId": "01a58edb-f3de-491a-eba7-fb3bc42447cf"
      },
      "source": [
        "hist = network.fit(train_images, train_labels, epochs=5, batch_size=128)"
      ],
      "execution_count": null,
      "outputs": [
        {
          "output_type": "stream",
          "name": "stdout",
          "text": [
            "Epoch 1/5\n",
            "469/469 [==============================] - 4s 4ms/step - loss: 0.2555 - accuracy: 0.9264\n",
            "Epoch 2/5\n",
            "469/469 [==============================] - 2s 4ms/step - loss: 0.1033 - accuracy: 0.9693\n",
            "Epoch 3/5\n",
            "469/469 [==============================] - 2s 4ms/step - loss: 0.0690 - accuracy: 0.9784\n",
            "Epoch 4/5\n",
            "469/469 [==============================] - 2s 4ms/step - loss: 0.0503 - accuracy: 0.9848\n",
            "Epoch 5/5\n",
            "469/469 [==============================] - 2s 5ms/step - loss: 0.0378 - accuracy: 0.9888\n"
          ]
        }
      ]
    },
    {
      "cell_type": "markdown",
      "metadata": {
        "id": "TZGnukRU61rc"
      },
      "source": [
        "훈련하는 동안 두 개의 정보가 출력됩니다. 훈련 데이터에 대한 네트워크의 손실과 정확도입니다.\n",
        "\n",
        "훈련 데이터에 대해 0.989(98.9%)의 정확도를 금방 달성합니다. 이제 테스트 세트에서도 모델이 잘 작동하는지 확인해 보겠습니다:"
      ]
    },
    {
      "cell_type": "code",
      "metadata": {
        "colab": {
          "base_uri": "https://localhost:8080/"
        },
        "id": "Pwq-oGOT61rc",
        "outputId": "e968ab66-559d-46be-f531-b8840f82040a"
      },
      "source": [
        "test_loss, test_acc = network.evaluate(test_images, test_labels)"
      ],
      "execution_count": null,
      "outputs": [
        {
          "output_type": "stream",
          "name": "stdout",
          "text": [
            "313/313 [==============================] - 1s 4ms/step - loss: 0.0648 - accuracy: 0.9792\n"
          ]
        }
      ]
    },
    {
      "cell_type": "code",
      "metadata": {
        "colab": {
          "base_uri": "https://localhost:8080/"
        },
        "id": "TSdploNq61rc",
        "outputId": "282aed2c-b2ad-40a9-d5a4-139010cd6a8a"
      },
      "source": [
        "print('test_acc:', test_acc)"
      ],
      "execution_count": null,
      "outputs": [
        {
          "output_type": "stream",
          "name": "stdout",
          "text": [
            "test_acc: 0.979200005531311\n"
          ]
        }
      ]
    },
    {
      "cell_type": "markdown",
      "metadata": {
        "id": "Bb2rBZGT61rd"
      },
      "source": [
        "테스트 세트의 정확도는 97.8%로 나왔습니다. 훈련 세트 정확도보다는 약간 낮습니다. 훈련 정확도와 테스트 정확도 사이의 차이는 과대적합 때문입니다. 이는 머신 러닝 모델이 훈련 데이터보다 새로운 데이터에서 성능이 낮아지는 경향을 말합니다. 과대적합은 3장에서 자세하게 논의하겠습니다.\n",
        "\n",
        "이것으로 첫 번째 예제가 마무리되었습니다. 20줄 미만의 파이썬 코드로 손글씨 숫자를 분류하는 신경망을 만들고 훈련시켰습니다. 다음 장에서 여기서 보았던 코드 하나하나를 상세하게 설명하고 이들이 의미하는 바를 명확하게 설명하겠습니다. 이제 텐서, 신경망에 주입하는 데이터의 저장 형태, 층을 만들어주는 텐서 연산, 신경망을 훈련 샘플로부터 학습시키는 경사 하강법에 대해 알아보겠습니다."
      ]
    },
    {
      "cell_type": "code",
      "metadata": {
        "colab": {
          "base_uri": "https://localhost:8080/",
          "height": 282
        },
        "id": "Qg7k42qjMHyD",
        "outputId": "8c437507-32d1-4427-bf99-2ef7c04a4292"
      },
      "source": [
        "import pandas as pd\n",
        "pd.DataFrame(hist.history).plot()"
      ],
      "execution_count": null,
      "outputs": [
        {
          "output_type": "execute_result",
          "data": {
            "text/plain": [
              "<matplotlib.axes._subplots.AxesSubplot at 0x7f489aa0c510>"
            ]
          },
          "metadata": {},
          "execution_count": 24
        },
        {
          "output_type": "display_data",
          "data": {
            "image/png": "[encoded data removed]",
            "text/plain": [
              "<Figure size 432x288 with 1 Axes>"
            ]
          },
          "metadata": {
            "needs_background": "light"
          }
        }
      ]
    },
    {
      "cell_type": "markdown",
      "metadata": {
        "id": "quBcH1g1WxUq"
      },
      "source": [
        "[Quiz] iris, boston 데이터를 이용하여 딥러닝으로 문제를 해결해보자. 2개 이상의 hidden layers를 두고 정확도와 손실함수를 그래프로 그려보자."
      ]
    },
    {
      "cell_type": "code",
      "metadata": {
        "id": "tkyChRIvW2j_",
        "colab": {
          "base_uri": "https://localhost:8080/"
        },
        "outputId": "be0c408c-cfb5-4f40-bb8a-4f34dd5df3c4"
      },
      "source": [
        "from sklearn.datasets import load_boston, load_iris\n",
        "iris = load_iris()\n",
        "boston = load_boston()"
      ],
      "execution_count": null,
      "outputs": [
        {
          "output_type": "stream",
          "name": "stderr",
          "text": [
            "/usr/local/lib/python3.7/dist-packages/sklearn/utils/deprecation.py:87: FutureWarning: Function load_boston is deprecated; `load_boston` is deprecated in 1.0 and will be removed in 1.2.\n",
            "\n",
            "    The Boston housing prices dataset has an ethical problem. You can refer to\n",
            "    the documentation of this function for further details.\n",
            "\n",
            "    The scikit-learn maintainers therefore strongly discourage the use of this\n",
            "    dataset unless the purpose of the code is to study and educate about\n",
            "    ethical issues in data science and machine learning.\n",
            "\n",
            "    In this special case, you can fetch the dataset from the original\n",
            "    source::\n",
            "\n",
            "        import pandas as pd\n",
            "        import numpy as np\n",
            "\n",
            "\n",
            "        data_url = \"http://lib.stat.cmu.edu/datasets/boston\"\n",
            "        raw_df = pd.read_csv(data_url, sep=\"\\s+\", skiprows=22, header=None)\n",
            "        data = np.hstack([raw_df.values[::2, :], raw_df.values[1::2, :2]])\n",
            "        target = raw_df.values[1::2, 2]\n",
            "\n",
            "    Alternative datasets include the California housing dataset (i.e.\n",
            "    :func:`~sklearn.datasets.fetch_california_housing`) and the Ames housing\n",
            "    dataset. You can load the datasets as follows::\n",
            "\n",
            "        from sklearn.datasets import fetch_california_housing\n",
            "        housing = fetch_california_housing()\n",
            "\n",
            "    for the California housing dataset and::\n",
            "\n",
            "        from sklearn.datasets import fetch_openml\n",
            "        housing = fetch_openml(name=\"house_prices\", as_frame=True)\n",
            "\n",
            "    for the Ames housing dataset.\n",
            "    \n",
            "  warnings.warn(msg, category=FutureWarning)\n"
          ]
        }
      ]
    },
    {
      "cell_type": "code",
      "metadata": {
        "id": "6MF0yGTlXHCK"
      },
      "source": [
        "from sklearn.model_selection import train_test_split\n",
        "X_train, X_test, y_train, y_test = train_test_split(iris.data, iris.target,\n",
        "                                                   stratify=iris.target)"
      ],
      "execution_count": null,
      "outputs": []
    },
    {
      "cell_type": "code",
      "metadata": {
        "colab": {
          "base_uri": "https://localhost:8080/"
        },
        "id": "LBaqHLqosPbX",
        "outputId": "56bc82d4-825d-4890-deb5-002de8916717"
      },
      "source": [
        "from tensorflow.keras.models import Sequential\n",
        "from tensorflow.keras.layers import Dense\n",
        "\n",
        "m = Sequential()\n",
        "m.add(Dense(10, activation='relu', input_shape=(4,)))\n",
        "m.add(Dense(5, activation='relu'))\n",
        "m.add(Dense(3, activation='softmax'))\n",
        "\n",
        "m.summary()"
      ],
      "execution_count": null,
      "outputs": [
        {
          "output_type": "stream",
          "name": "stdout",
          "text": [
            "Model: \"sequential_1\"\n",
            "_________________________________________________________________\n",
            " Layer (type)                Output Shape              Param #   \n",
            "=================================================================\n",
            " dense_2 (Dense)             (None, 10)                50        \n",
            "                                                                 \n",
            " dense_3 (Dense)             (None, 5)                 55        \n",
            "                                                                 \n",
            " dense_4 (Dense)             (None, 3)                 18        \n",
            "                                                                 \n",
            "=================================================================\n",
            "Total params: 123\n",
            "Trainable params: 123\n",
            "Non-trainable params: 0\n",
            "_________________________________________________________________\n"
          ]
        }
      ]
    },
    {
      "cell_type": "code",
      "metadata": {
        "colab": {
          "base_uri": "https://localhost:8080/"
        },
        "id": "TyRsRvlksV5H",
        "outputId": "5bc89a09-ba32-4e80-d991-3bf37a8a1e43"
      },
      "source": [
        "# W.shape(4, 10), b.shape(10, )\n",
        "print(\"h1의 파라미터의 수: %d\" % (10 * (4 + 1)))\n",
        "# W.shape(10, 5), b.shape(5,)\n",
        "print(\"h2의 파라미터의 수: %d\" % (5 * (10 + 1)))\n",
        "# W.shape (5, 3), b.shape (3, )\n",
        "print(\"output의 파라미터의 수: %d\" % (3 * (5 + 1)))"
      ],
      "execution_count": null,
      "outputs": [
        {
          "output_type": "stream",
          "name": "stdout",
          "text": [
            "h1의 파라미터의 수: 50\n",
            "h2의 파라미터의 수: 55\n",
            "output의 파라미터의 수: 18\n"
          ]
        }
      ]
    },
    {
      "cell_type": "code",
      "metadata": {
        "id": "Fyyig6uDsW6R"
      },
      "source": [
        "m.compile('adam', 'categorical_crossentropy', ['accuracy'])"
      ],
      "execution_count": null,
      "outputs": []
    },
    {
      "cell_type": "code",
      "metadata": {
        "id": "CeEDLxU9scXn"
      },
      "source": [
        "from sklearn.preprocessing import RobustScaler\n",
        "from tensorflow.keras.utils import to_categorical\n",
        "\n",
        "scaler = RobustScaler()\n",
        "X_train = scaler.fit_transform(X_train)\n",
        "X_test = scaler.transform(X_test)\n",
        "\n",
        "y_train = to_categorical(y_train)\n",
        "y_test = to_categorical(y_test)"
      ],
      "execution_count": null,
      "outputs": []
    },
    {
      "cell_type": "code",
      "metadata": {
        "colab": {
          "base_uri": "https://localhost:8080/"
        },
        "id": "O-kwqO6QsfBP",
        "outputId": "c76b3e56-5f10-47c7-b406-00e6780bacdd"
      },
      "source": [
        "hist = m.fit(X_train, y_train, batch_size=16, epochs=100, \n",
        "             validation_data=(X_test, y_test))"
      ],
      "execution_count": null,
      "outputs": [
        {
          "output_type": "stream",
          "name": "stdout",
          "text": [
            "Epoch 1/100\n",
            "7/7 [==============================] - 1s 44ms/step - loss: 1.3814 - accuracy: 0.3214 - val_loss: 1.2880 - val_accuracy: 0.4737\n",
            "Epoch 2/100\n",
            "7/7 [==============================] - 0s 11ms/step - loss: 1.3341 - accuracy: 0.3304 - val_loss: 1.2450 - val_accuracy: 0.4474\n",
            "Epoch 3/100\n",
            "7/7 [==============================] - 0s 11ms/step - loss: 1.2931 - accuracy: 0.3661 - val_loss: 1.2044 - val_accuracy: 0.4474\n",
            "Epoch 4/100\n",
            "7/7 [==============================] - 0s 10ms/step - loss: 1.2516 - accuracy: 0.3839 - val_loss: 1.1661 - val_accuracy: 0.4474\n",
            "Epoch 5/100\n",
            "7/7 [==============================] - 0s 9ms/step - loss: 1.2157 - accuracy: 0.4018 - val_loss: 1.1294 - val_accuracy: 0.4737\n",
            "Epoch 6/100\n",
            "7/7 [==============================] - 0s 12ms/step - loss: 1.1802 - accuracy: 0.3839 - val_loss: 1.0947 - val_accuracy: 0.4474\n",
            "Epoch 7/100\n",
            "7/7 [==============================] - 0s 11ms/step - loss: 1.1464 - accuracy: 0.3750 - val_loss: 1.0622 - val_accuracy: 0.4474\n",
            "Epoch 8/100\n",
            "7/7 [==============================] - 0s 11ms/step - loss: 1.1143 - accuracy: 0.3929 - val_loss: 1.0318 - val_accuracy: 0.4211\n",
            "Epoch 9/100\n",
            "7/7 [==============================] - 0s 12ms/step - loss: 1.0857 - accuracy: 0.4018 - val_loss: 1.0025 - val_accuracy: 0.4474\n",
            "Epoch 10/100\n",
            "7/7 [==============================] - 0s 9ms/step - loss: 1.0571 - accuracy: 0.4375 - val_loss: 0.9761 - val_accuracy: 0.4211\n",
            "Epoch 11/100\n",
            "7/7 [==============================] - 0s 12ms/step - loss: 1.0294 - accuracy: 0.4554 - val_loss: 0.9528 - val_accuracy: 0.4211\n",
            "Epoch 12/100\n",
            "7/7 [==============================] - 0s 9ms/step - loss: 1.0043 - accuracy: 0.4554 - val_loss: 0.9320 - val_accuracy: 0.4211\n",
            "Epoch 13/100\n",
            "7/7 [==============================] - 0s 11ms/step - loss: 0.9833 - accuracy: 0.4464 - val_loss: 0.9137 - val_accuracy: 0.4211\n",
            "Epoch 14/100\n",
            "7/7 [==============================] - 0s 10ms/step - loss: 0.9618 - accuracy: 0.4375 - val_loss: 0.8975 - val_accuracy: 0.4737\n",
            "Epoch 15/100\n",
            "7/7 [==============================] - 0s 9ms/step - loss: 0.9436 - accuracy: 0.4643 - val_loss: 0.8824 - val_accuracy: 0.5263\n",
            "Epoch 16/100\n",
            "7/7 [==============================] - 0s 11ms/step - loss: 0.9254 - accuracy: 0.5268 - val_loss: 0.8697 - val_accuracy: 0.5789\n",
            "Epoch 17/100\n",
            "7/7 [==============================] - 0s 10ms/step - loss: 0.9086 - accuracy: 0.5625 - val_loss: 0.8585 - val_accuracy: 0.6842\n",
            "Epoch 18/100\n",
            "7/7 [==============================] - 0s 9ms/step - loss: 0.8951 - accuracy: 0.6071 - val_loss: 0.8485 - val_accuracy: 0.7105\n",
            "Epoch 19/100\n",
            "7/7 [==============================] - 0s 8ms/step - loss: 0.8802 - accuracy: 0.6250 - val_loss: 0.8385 - val_accuracy: 0.6842\n",
            "Epoch 20/100\n",
            "7/7 [==============================] - 0s 9ms/step - loss: 0.8672 - accuracy: 0.6607 - val_loss: 0.8293 - val_accuracy: 0.6842\n",
            "Epoch 21/100\n",
            "7/7 [==============================] - 0s 10ms/step - loss: 0.8553 - accuracy: 0.6964 - val_loss: 0.8204 - val_accuracy: 0.6842\n",
            "Epoch 22/100\n",
            "7/7 [==============================] - 0s 11ms/step - loss: 0.8431 - accuracy: 0.7143 - val_loss: 0.8122 - val_accuracy: 0.6842\n",
            "Epoch 23/100\n",
            "7/7 [==============================] - 0s 9ms/step - loss: 0.8324 - accuracy: 0.7143 - val_loss: 0.8045 - val_accuracy: 0.7105\n",
            "Epoch 24/100\n",
            "7/7 [==============================] - 0s 10ms/step - loss: 0.8223 - accuracy: 0.7411 - val_loss: 0.7975 - val_accuracy: 0.7105\n",
            "Epoch 25/100\n",
            "7/7 [==============================] - 0s 11ms/step - loss: 0.8128 - accuracy: 0.7500 - val_loss: 0.7906 - val_accuracy: 0.7105\n",
            "Epoch 26/100\n",
            "7/7 [==============================] - 0s 11ms/step - loss: 0.8036 - accuracy: 0.7679 - val_loss: 0.7832 - val_accuracy: 0.7105\n",
            "Epoch 27/100\n",
            "7/7 [==============================] - 0s 12ms/step - loss: 0.7950 - accuracy: 0.7679 - val_loss: 0.7769 - val_accuracy: 0.7105\n",
            "Epoch 28/100\n",
            "7/7 [==============================] - 0s 10ms/step - loss: 0.7873 - accuracy: 0.7768 - val_loss: 0.7696 - val_accuracy: 0.7105\n",
            "Epoch 29/100\n",
            "7/7 [==============================] - 0s 11ms/step - loss: 0.7794 - accuracy: 0.7679 - val_loss: 0.7648 - val_accuracy: 0.7105\n",
            "Epoch 30/100\n",
            "7/7 [==============================] - 0s 10ms/step - loss: 0.7720 - accuracy: 0.7679 - val_loss: 0.7596 - val_accuracy: 0.7105\n",
            "Epoch 31/100\n",
            "7/7 [==============================] - 0s 9ms/step - loss: 0.7651 - accuracy: 0.7768 - val_loss: 0.7536 - val_accuracy: 0.7105\n",
            "Epoch 32/100\n",
            "7/7 [==============================] - 0s 9ms/step - loss: 0.7582 - accuracy: 0.7768 - val_loss: 0.7459 - val_accuracy: 0.7105\n",
            "Epoch 33/100\n",
            "7/7 [==============================] - 0s 9ms/step - loss: 0.7511 - accuracy: 0.7768 - val_loss: 0.7399 - val_accuracy: 0.7368\n",
            "Epoch 34/100\n",
            "7/7 [==============================] - 0s 9ms/step - loss: 0.7444 - accuracy: 0.7857 - val_loss: 0.7327 - val_accuracy: 0.7368\n",
            "Epoch 35/100\n",
            "7/7 [==============================] - 0s 9ms/step - loss: 0.7380 - accuracy: 0.7857 - val_loss: 0.7258 - val_accuracy: 0.7368\n",
            "Epoch 36/100\n",
            "7/7 [==============================] - 0s 11ms/step - loss: 0.7313 - accuracy: 0.7946 - val_loss: 0.7201 - val_accuracy: 0.7368\n",
            "Epoch 37/100\n",
            "7/7 [==============================] - 0s 12ms/step - loss: 0.7248 - accuracy: 0.7946 - val_loss: 0.7138 - val_accuracy: 0.7368\n",
            "Epoch 38/100\n",
            "7/7 [==============================] - 0s 11ms/step - loss: 0.7186 - accuracy: 0.7946 - val_loss: 0.7078 - val_accuracy: 0.7368\n",
            "Epoch 39/100\n",
            "7/7 [==============================] - 0s 9ms/step - loss: 0.7125 - accuracy: 0.7946 - val_loss: 0.7019 - val_accuracy: 0.7368\n",
            "Epoch 40/100\n",
            "7/7 [==============================] - 0s 10ms/step - loss: 0.7064 - accuracy: 0.7946 - val_loss: 0.6961 - val_accuracy: 0.7368\n",
            "Epoch 41/100\n",
            "7/7 [==============================] - 0s 11ms/step - loss: 0.7004 - accuracy: 0.7946 - val_loss: 0.6899 - val_accuracy: 0.7368\n",
            "Epoch 42/100\n",
            "7/7 [==============================] - 0s 11ms/step - loss: 0.6946 - accuracy: 0.7946 - val_loss: 0.6834 - val_accuracy: 0.7368\n",
            "Epoch 43/100\n",
            "7/7 [==============================] - 0s 12ms/step - loss: 0.6894 - accuracy: 0.7946 - val_loss: 0.6760 - val_accuracy: 0.7632\n",
            "Epoch 44/100\n",
            "7/7 [==============================] - 0s 9ms/step - loss: 0.6832 - accuracy: 0.7946 - val_loss: 0.6710 - val_accuracy: 0.7632\n",
            "Epoch 45/100\n",
            "7/7 [==============================] - 0s 9ms/step - loss: 0.6776 - accuracy: 0.8036 - val_loss: 0.6659 - val_accuracy: 0.7632\n",
            "Epoch 46/100\n",
            "7/7 [==============================] - 0s 12ms/step - loss: 0.6720 - accuracy: 0.8036 - val_loss: 0.6602 - val_accuracy: 0.7895\n",
            "Epoch 47/100\n",
            "7/7 [==============================] - 0s 9ms/step - loss: 0.6667 - accuracy: 0.8036 - val_loss: 0.6559 - val_accuracy: 0.7895\n",
            "Epoch 48/100\n",
            "7/7 [==============================] - 0s 9ms/step - loss: 0.6611 - accuracy: 0.8036 - val_loss: 0.6506 - val_accuracy: 0.7895\n",
            "Epoch 49/100\n",
            "7/7 [==============================] - 0s 11ms/step - loss: 0.6557 - accuracy: 0.8036 - val_loss: 0.6449 - val_accuracy: 0.7895\n",
            "Epoch 50/100\n",
            "7/7 [==============================] - 0s 9ms/step - loss: 0.6504 - accuracy: 0.8125 - val_loss: 0.6393 - val_accuracy: 0.8158\n",
            "Epoch 51/100\n",
            "7/7 [==============================] - 0s 9ms/step - loss: 0.6451 - accuracy: 0.8304 - val_loss: 0.6331 - val_accuracy: 0.8158\n",
            "Epoch 52/100\n",
            "7/7 [==============================] - 0s 9ms/step - loss: 0.6397 - accuracy: 0.8214 - val_loss: 0.6286 - val_accuracy: 0.8158\n",
            "Epoch 53/100\n",
            "7/7 [==============================] - 0s 10ms/step - loss: 0.6344 - accuracy: 0.8393 - val_loss: 0.6238 - val_accuracy: 0.8158\n",
            "Epoch 54/100\n",
            "7/7 [==============================] - 0s 9ms/step - loss: 0.6292 - accuracy: 0.8393 - val_loss: 0.6185 - val_accuracy: 0.8158\n",
            "Epoch 55/100\n",
            "7/7 [==============================] - 0s 10ms/step - loss: 0.6243 - accuracy: 0.8393 - val_loss: 0.6152 - val_accuracy: 0.8158\n",
            "Epoch 56/100\n",
            "7/7 [==============================] - 0s 11ms/step - loss: 0.6190 - accuracy: 0.8393 - val_loss: 0.6100 - val_accuracy: 0.8158\n",
            "Epoch 57/100\n",
            "7/7 [==============================] - 0s 9ms/step - loss: 0.6140 - accuracy: 0.8393 - val_loss: 0.6059 - val_accuracy: 0.8158\n",
            "Epoch 58/100\n",
            "7/7 [==============================] - 0s 9ms/step - loss: 0.6090 - accuracy: 0.8482 - val_loss: 0.6000 - val_accuracy: 0.8158\n",
            "Epoch 59/100\n",
            "7/7 [==============================] - 0s 9ms/step - loss: 0.6040 - accuracy: 0.8661 - val_loss: 0.5953 - val_accuracy: 0.8158\n",
            "Epoch 60/100\n",
            "7/7 [==============================] - 0s 10ms/step - loss: 0.5990 - accuracy: 0.8661 - val_loss: 0.5912 - val_accuracy: 0.8158\n",
            "Epoch 61/100\n",
            "7/7 [==============================] - 0s 10ms/step - loss: 0.5943 - accuracy: 0.8661 - val_loss: 0.5853 - val_accuracy: 0.8158\n",
            "Epoch 62/100\n",
            "7/7 [==============================] - 0s 9ms/step - loss: 0.5893 - accuracy: 0.8661 - val_loss: 0.5814 - val_accuracy: 0.8158\n",
            "Epoch 63/100\n",
            "7/7 [==============================] - 0s 12ms/step - loss: 0.5845 - accuracy: 0.8661 - val_loss: 0.5776 - val_accuracy: 0.8158\n",
            "Epoch 64/100\n",
            "7/7 [==============================] - 0s 9ms/step - loss: 0.5798 - accuracy: 0.8661 - val_loss: 0.5724 - val_accuracy: 0.8158\n",
            "Epoch 65/100\n",
            "7/7 [==============================] - 0s 9ms/step - loss: 0.5752 - accuracy: 0.8661 - val_loss: 0.5666 - val_accuracy: 0.8421\n",
            "Epoch 66/100\n",
            "7/7 [==============================] - 0s 10ms/step - loss: 0.5702 - accuracy: 0.8750 - val_loss: 0.5627 - val_accuracy: 0.8421\n",
            "Epoch 67/100\n",
            "7/7 [==============================] - 0s 10ms/step - loss: 0.5654 - accuracy: 0.8839 - val_loss: 0.5584 - val_accuracy: 0.8421\n",
            "Epoch 68/100\n",
            "7/7 [==============================] - 0s 11ms/step - loss: 0.5609 - accuracy: 0.8839 - val_loss: 0.5567 - val_accuracy: 0.8421\n",
            "Epoch 69/100\n",
            "7/7 [==============================] - 0s 11ms/step - loss: 0.5560 - accuracy: 0.8839 - val_loss: 0.5519 - val_accuracy: 0.8421\n",
            "Epoch 70/100\n",
            "7/7 [==============================] - 0s 9ms/step - loss: 0.5514 - accuracy: 0.8929 - val_loss: 0.5490 - val_accuracy: 0.8421\n",
            "Epoch 71/100\n",
            "7/7 [==============================] - 0s 8ms/step - loss: 0.5471 - accuracy: 0.8929 - val_loss: 0.5426 - val_accuracy: 0.8421\n",
            "Epoch 72/100\n",
            "7/7 [==============================] - 0s 10ms/step - loss: 0.5421 - accuracy: 0.8839 - val_loss: 0.5376 - val_accuracy: 0.8421\n",
            "Epoch 73/100\n",
            "7/7 [==============================] - 0s 10ms/step - loss: 0.5375 - accuracy: 0.8929 - val_loss: 0.5350 - val_accuracy: 0.8421\n",
            "Epoch 74/100\n",
            "7/7 [==============================] - 0s 8ms/step - loss: 0.5331 - accuracy: 0.9018 - val_loss: 0.5297 - val_accuracy: 0.8421\n",
            "Epoch 75/100\n",
            "7/7 [==============================] - 0s 11ms/step - loss: 0.5285 - accuracy: 0.9018 - val_loss: 0.5257 - val_accuracy: 0.8421\n",
            "Epoch 76/100\n",
            "7/7 [==============================] - 0s 9ms/step - loss: 0.5239 - accuracy: 0.9018 - val_loss: 0.5208 - val_accuracy: 0.8684\n",
            "Epoch 77/100\n",
            "7/7 [==============================] - 0s 11ms/step - loss: 0.5197 - accuracy: 0.9018 - val_loss: 0.5175 - val_accuracy: 0.8684\n",
            "Epoch 78/100\n",
            "7/7 [==============================] - 0s 9ms/step - loss: 0.5149 - accuracy: 0.9018 - val_loss: 0.5146 - val_accuracy: 0.8684\n",
            "Epoch 79/100\n",
            "7/7 [==============================] - 0s 9ms/step - loss: 0.5104 - accuracy: 0.9107 - val_loss: 0.5111 - val_accuracy: 0.8684\n",
            "Epoch 80/100\n",
            "7/7 [==============================] - 0s 11ms/step - loss: 0.5059 - accuracy: 0.9107 - val_loss: 0.5055 - val_accuracy: 0.8684\n",
            "Epoch 81/100\n",
            "7/7 [==============================] - 0s 9ms/step - loss: 0.5015 - accuracy: 0.9107 - val_loss: 0.5006 - val_accuracy: 0.8684\n",
            "Epoch 82/100\n",
            "7/7 [==============================] - 0s 9ms/step - loss: 0.4969 - accuracy: 0.9196 - val_loss: 0.4967 - val_accuracy: 0.8684\n",
            "Epoch 83/100\n",
            "7/7 [==============================] - 0s 10ms/step - loss: 0.4922 - accuracy: 0.9196 - val_loss: 0.4936 - val_accuracy: 0.8684\n",
            "Epoch 84/100\n",
            "7/7 [==============================] - 0s 11ms/step - loss: 0.4875 - accuracy: 0.9196 - val_loss: 0.4906 - val_accuracy: 0.8684\n",
            "Epoch 85/100\n",
            "7/7 [==============================] - 0s 10ms/step - loss: 0.4830 - accuracy: 0.9196 - val_loss: 0.4874 - val_accuracy: 0.8684\n",
            "Epoch 86/100\n",
            "7/7 [==============================] - 0s 11ms/step - loss: 0.4784 - accuracy: 0.9196 - val_loss: 0.4853 - val_accuracy: 0.8684\n",
            "Epoch 87/100\n",
            "7/7 [==============================] - 0s 8ms/step - loss: 0.4738 - accuracy: 0.9196 - val_loss: 0.4810 - val_accuracy: 0.8684\n",
            "Epoch 88/100\n",
            "7/7 [==============================] - 0s 11ms/step - loss: 0.4689 - accuracy: 0.9286 - val_loss: 0.4751 - val_accuracy: 0.8684\n",
            "Epoch 89/100\n",
            "7/7 [==============================] - 0s 9ms/step - loss: 0.4642 - accuracy: 0.9286 - val_loss: 0.4705 - val_accuracy: 0.8684\n",
            "Epoch 90/100\n",
            "7/7 [==============================] - 0s 11ms/step - loss: 0.4598 - accuracy: 0.9286 - val_loss: 0.4662 - val_accuracy: 0.8684\n",
            "Epoch 91/100\n",
            "7/7 [==============================] - 0s 9ms/step - loss: 0.4552 - accuracy: 0.9286 - val_loss: 0.4626 - val_accuracy: 0.8684\n",
            "Epoch 92/100\n",
            "7/7 [==============================] - 0s 11ms/step - loss: 0.4509 - accuracy: 0.9286 - val_loss: 0.4604 - val_accuracy: 0.8684\n",
            "Epoch 93/100\n",
            "7/7 [==============================] - 0s 9ms/step - loss: 0.4465 - accuracy: 0.9286 - val_loss: 0.4557 - val_accuracy: 0.8947\n",
            "Epoch 94/100\n",
            "7/7 [==============================] - 0s 9ms/step - loss: 0.4422 - accuracy: 0.9286 - val_loss: 0.4538 - val_accuracy: 0.8684\n",
            "Epoch 95/100\n",
            "7/7 [==============================] - 0s 10ms/step - loss: 0.4380 - accuracy: 0.9286 - val_loss: 0.4504 - val_accuracy: 0.8947\n",
            "Epoch 96/100\n",
            "7/7 [==============================] - 0s 9ms/step - loss: 0.4332 - accuracy: 0.9286 - val_loss: 0.4448 - val_accuracy: 0.9211\n",
            "Epoch 97/100\n",
            "7/7 [==============================] - 0s 10ms/step - loss: 0.4291 - accuracy: 0.9286 - val_loss: 0.4415 - val_accuracy: 0.9211\n",
            "Epoch 98/100\n",
            "7/7 [==============================] - 0s 8ms/step - loss: 0.4248 - accuracy: 0.9286 - val_loss: 0.4372 - val_accuracy: 0.9211\n",
            "Epoch 99/100\n",
            "7/7 [==============================] - 0s 10ms/step - loss: 0.4205 - accuracy: 0.9286 - val_loss: 0.4342 - val_accuracy: 0.9211\n",
            "Epoch 100/100\n",
            "7/7 [==============================] - 0s 11ms/step - loss: 0.4168 - accuracy: 0.9375 - val_loss: 0.4305 - val_accuracy: 0.9211\n"
          ]
        }
      ]
    },
    {
      "cell_type": "code",
      "metadata": {
        "colab": {
          "base_uri": "https://localhost:8080/",
          "height": 392
        },
        "id": "wGfK7yfrskgX",
        "outputId": "b4df9c63-6711-44d4-a9d5-7e534365ae00"
      },
      "source": [
        "import pandas as pd\n",
        "pd.DataFrame(hist.history).plot(figsize=(8, 6))"
      ],
      "execution_count": null,
      "outputs": [
        {
          "output_type": "execute_result",
          "data": {
            "text/plain": [
              "<matplotlib.axes._subplots.AxesSubplot at 0x7f7e5a950bd0>"
            ]
          },
          "metadata": {},
          "execution_count": 33
        },
        {
          "output_type": "display_data",
          "data": {
            "image/png": "[encoded data removed]",
            "text/plain": [
              "<Figure size 576x432 with 1 Axes>"
            ]
          },
          "metadata": {
            "needs_background": "light"
          }
        }
      ]
    },
    {
      "cell_type": "markdown",
      "metadata": {
        "id": "sPZ-r6f4X9_E"
      },
      "source": [
        "boston 데이터에 대해서도 동일하게 모델을 작성할 수 있습니다. 단, 분류 문제가 아닌 회귀 문제이므로 :\n",
        "- 모델 구조 정의시 마지막 Dense layer의 activation을 ???\n",
        "- 컴파일 시, loss를 ???"
      ]
    },
    {
      "cell_type": "code",
      "metadata": {
        "colab": {
          "base_uri": "https://localhost:8080/",
          "height": 318
        },
        "id": "KRtSD_Qaso1n",
        "outputId": "102d24de-6847-4823-b88a-ccb62e7c2d63"
      },
      "source": [
        "pd.DataFrame(boston.data, columns=boston.feature_names).describe()"
      ],
      "execution_count": null,
      "outputs": [
        {
          "output_type": "execute_result",
          "data": {
            "text/html": [
              "<div>\n",
              "<style scoped>\n",
              "    .dataframe tbody tr th:only-of-type {\n",
              "        vertical-align: middle;\n",
              "    }\n",
              "\n",
              "    .dataframe tbody tr th {\n",
              "        vertical-align: top;\n",
              "    }\n",
              "\n",
              "    .dataframe thead th {\n",
              "        text-align: right;\n",
              "    }\n",
              "</style>\n",
              "<table border=\"1\" class=\"dataframe\">\n",
              "  <thead>\n",
              "    <tr style=\"text-align: right;\">\n",
              "      <th></th>\n",
              "      <th>CRIM</th>\n",
              "      <th>ZN</th>\n",
              "      <th>INDUS</th>\n",
              "      <th>CHAS</th>\n",
              "      <th>NOX</th>\n",
              "      <th>RM</th>\n",
              "      <th>AGE</th>\n",
              "      <th>DIS</th>\n",
              "      <th>RAD</th>\n",
              "      <th>TAX</th>\n",
              "      <th>PTRATIO</th>\n",
              "      <th>B</th>\n",
              "      <th>LSTAT</th>\n",
              "    </tr>\n",
              "  </thead>\n",
              "  <tbody>\n",
              "    <tr>\n",
              "      <th>count</th>\n",
              "      <td>506.000000</td>\n",
              "      <td>506.000000</td>\n",
              "      <td>506.000000</td>\n",
              "      <td>506.000000</td>\n",
              "      <td>506.000000</td>\n",
              "      <td>506.000000</td>\n",
              "      <td>506.000000</td>\n",
              "      <td>506.000000</td>\n",
              "      <td>506.000000</td>\n",
              "      <td>506.000000</td>\n",
              "      <td>506.000000</td>\n",
              "      <td>506.000000</td>\n",
              "      <td>506.000000</td>\n",
              "    </tr>\n",
              "    <tr>\n",
              "      <th>mean</th>\n",
              "      <td>3.613524</td>\n",
              "      <td>11.363636</td>\n",
              "      <td>11.136779</td>\n",
              "      <td>0.069170</td>\n",
              "      <td>0.554695</td>\n",
              "      <td>6.284634</td>\n",
              "      <td>68.574901</td>\n",
              "      <td>3.795043</td>\n",
              "      <td>9.549407</td>\n",
              "      <td>408.237154</td>\n",
              "      <td>18.455534</td>\n",
              "      <td>356.674032</td>\n",
              "      <td>12.653063</td>\n",
              "    </tr>\n",
              "    <tr>\n",
              "      <th>std</th>\n",
              "      <td>8.601545</td>\n",
              "      <td>23.322453</td>\n",
              "      <td>6.860353</td>\n",
              "      <td>0.253994</td>\n",
              "      <td>0.115878</td>\n",
              "      <td>0.702617</td>\n",
              "      <td>28.148861</td>\n",
              "      <td>2.105710</td>\n",
              "      <td>8.707259</td>\n",
              "      <td>168.537116</td>\n",
              "      <td>2.164946</td>\n",
              "      <td>91.294864</td>\n",
              "      <td>7.141062</td>\n",
              "    </tr>\n",
              "    <tr>\n",
              "      <th>min</th>\n",
              "      <td>0.006320</td>\n",
              "      <td>0.000000</td>\n",
              "      <td>0.460000</td>\n",
              "      <td>0.000000</td>\n",
              "      <td>0.385000</td>\n",
              "      <td>3.561000</td>\n",
              "      <td>2.900000</td>\n",
              "      <td>1.129600</td>\n",
              "      <td>1.000000</td>\n",
              "      <td>187.000000</td>\n",
              "      <td>12.600000</td>\n",
              "      <td>0.320000</td>\n",
              "      <td>1.730000</td>\n",
              "    </tr>\n",
              "    <tr>\n",
              "      <th>25%</th>\n",
              "      <td>0.082045</td>\n",
              "      <td>0.000000</td>\n",
              "      <td>5.190000</td>\n",
              "      <td>0.000000</td>\n",
              "      <td>0.449000</td>\n",
              "      <td>5.885500</td>\n",
              "      <td>45.025000</td>\n",
              "      <td>2.100175</td>\n",
              "      <td>4.000000</td>\n",
              "      <td>279.000000</td>\n",
              "      <td>17.400000</td>\n",
              "      <td>375.377500</td>\n",
              "      <td>6.950000</td>\n",
              "    </tr>\n",
              "    <tr>\n",
              "      <th>50%</th>\n",
              "      <td>0.256510</td>\n",
              "      <td>0.000000</td>\n",
              "      <td>9.690000</td>\n",
              "      <td>0.000000</td>\n",
              "      <td>0.538000</td>\n",
              "      <td>6.208500</td>\n",
              "      <td>77.500000</td>\n",
              "      <td>3.207450</td>\n",
              "      <td>5.000000</td>\n",
              "      <td>330.000000</td>\n",
              "      <td>19.050000</td>\n",
              "      <td>391.440000</td>\n",
              "      <td>11.360000</td>\n",
              "    </tr>\n",
              "    <tr>\n",
              "      <th>75%</th>\n",
              "      <td>3.677083</td>\n",
              "      <td>12.500000</td>\n",
              "      <td>18.100000</td>\n",
              "      <td>0.000000</td>\n",
              "      <td>0.624000</td>\n",
              "      <td>6.623500</td>\n",
              "      <td>94.075000</td>\n",
              "      <td>5.188425</td>\n",
              "      <td>24.000000</td>\n",
              "      <td>666.000000</td>\n",
              "      <td>20.200000</td>\n",
              "      <td>396.225000</td>\n",
              "      <td>16.955000</td>\n",
              "    </tr>\n",
              "    <tr>\n",
              "      <th>max</th>\n",
              "      <td>88.976200</td>\n",
              "      <td>100.000000</td>\n",
              "      <td>27.740000</td>\n",
              "      <td>1.000000</td>\n",
              "      <td>0.871000</td>\n",
              "      <td>8.780000</td>\n",
              "      <td>100.000000</td>\n",
              "      <td>12.126500</td>\n",
              "      <td>24.000000</td>\n",
              "      <td>711.000000</td>\n",
              "      <td>22.000000</td>\n",
              "      <td>396.900000</td>\n",
              "      <td>37.970000</td>\n",
              "    </tr>\n",
              "  </tbody>\n",
              "</table>\n",
              "</div>"
            ],
            "text/plain": [
              "             CRIM          ZN       INDUS  ...     PTRATIO           B       LSTAT\n",
              "count  506.000000  506.000000  506.000000  ...  506.000000  506.000000  506.000000\n",
              "mean     3.613524   11.363636   11.136779  ...   18.455534  356.674032   12.653063\n",
              "std      8.601545   23.322453    6.860353  ...    2.164946   91.294864    7.141062\n",
              "min      0.006320    0.000000    0.460000  ...   12.600000    0.320000    1.730000\n",
              "25%      0.082045    0.000000    5.190000  ...   17.400000  375.377500    6.950000\n",
              "50%      0.256510    0.000000    9.690000  ...   19.050000  391.440000   11.360000\n",
              "75%      3.677083   12.500000   18.100000  ...   20.200000  396.225000   16.955000\n",
              "max     88.976200  100.000000   27.740000  ...   22.000000  396.900000   37.970000\n",
              "\n",
              "[8 rows x 13 columns]"
            ]
          },
          "metadata": {},
          "execution_count": 34
        }
      ]
    },
    {
      "cell_type": "code",
      "metadata": {
        "colab": {
          "base_uri": "https://localhost:8080/",
          "height": 284
        },
        "id": "GbvyWpR9srho",
        "outputId": "7990454e-9be4-4d66-8e2e-b4eea71b8541"
      },
      "source": [
        "pd.Series(boston.target).hist()"
      ],
      "execution_count": null,
      "outputs": [
        {
          "output_type": "execute_result",
          "data": {
            "text/plain": [
              "<matplotlib.axes._subplots.AxesSubplot at 0x7f7e5ca16e50>"
            ]
          },
          "metadata": {},
          "execution_count": 35
        },
        {
          "output_type": "display_data",
          "data": {
            "image/png": "[encoded data removed]",
            "text/plain": [
              "<Figure size 432x288 with 1 Axes>"
            ]
          },
          "metadata": {
            "needs_background": "light"
          }
        }
      ]
    },
    {
      "cell_type": "markdown",
      "metadata": {
        "id": "4qPBjZYM4o2q"
      },
      "source": [
        "회귀문제를 다루는 방법:\n",
        "1. y 값을 그대로 예측위해서는 마지막 layer에서 linear activation을 수행. yhat = h.w + b\n",
        "2. y 값이 어떤 범위 내에 존재하는 문제라면, y값을 해당 범위로 MinMaxScaling을 하고, linear 또는 sigmoid를 사용한다."
      ]
    },
    {
      "cell_type": "code",
      "metadata": {
        "colab": {
          "base_uri": "https://localhost:8080/"
        },
        "id": "uvBPQir2s1lf",
        "outputId": "b7d4bf81-bf9d-442e-a7db-aaf916880c9d"
      },
      "source": [
        "from sklearn.model_selection import train_test_split\n",
        "X_train, X_test, y_train, y_test = train_test_split(boston.data, boston.target)\n",
        "\n",
        "scaler = RobustScaler()\n",
        "X_train = scaler.fit_transform(X_train)\n",
        "X_test = scaler.transform(X_test)\n",
        "\n",
        "net = Sequential()\n",
        "net.add(Dense(20, activation='relu', input_shape=(13,)))\n",
        "net.add(Dense(5, activation='relu'))\n",
        "net.add(Dense(1, activation='linear'))\n",
        "\n",
        "net.summary()"
      ],
      "execution_count": null,
      "outputs": [
        {
          "output_type": "stream",
          "name": "stdout",
          "text": [
            "Model: \"sequential_2\"\n",
            "_________________________________________________________________\n",
            "Layer (type)                 Output Shape              Param #   \n",
            "=================================================================\n",
            "dense_5 (Dense)              (None, 20)                280       \n",
            "_________________________________________________________________\n",
            "dense_6 (Dense)              (None, 5)                 105       \n",
            "_________________________________________________________________\n",
            "dense_7 (Dense)              (None, 1)                 6         \n",
            "=================================================================\n",
            "Total params: 391\n",
            "Trainable params: 391\n",
            "Non-trainable params: 0\n",
            "_________________________________________________________________\n"
          ]
        }
      ]
    },
    {
      "cell_type": "markdown",
      "metadata": {
        "id": "9GKswTlMyo48"
      },
      "source": [
        "사용가능한 손실함수의 목록은 https://keras.io/ko/losses/ 에서, metric의 목록 http://keras-ko.kr/api/metrics/ 에서 살펴볼 수 있다.\n",
        "- https://www.tensorflow.org/api_docs/python/tf/keras/losses\n",
        "- https://www.tensorflow.org/api_docs/python/tf/keras/metrics\n",
        "\n",
        "\n",
        "```python\n",
        "def mse(y, p):\n",
        "    return np.square(y - p).mean()\n",
        "\n",
        "def mae(y, p):\n",
        "    return np.abs(y - p).mean()\n",
        "```"
      ]
    },
    {
      "cell_type": "code",
      "metadata": {
        "colab": {
          "base_uri": "https://localhost:8080/"
        },
        "id": "xqxFT6Z3s5Hu",
        "outputId": "829e80af-7b29-4204-bb34-4481ebcec232"
      },
      "source": [
        "net.compile('adam', 'mse', ['mae'])\n",
        "\n",
        "hist = net.fit(X_train, y_train, batch_size=16, epochs=100, \n",
        "               validation_data=(X_test, y_test))"
      ],
      "execution_count": null,
      "outputs": [
        {
          "output_type": "stream",
          "name": "stdout",
          "text": [
            "Epoch 1/100\n",
            "24/24 [==============================] - 1s 10ms/step - loss: 575.9236 - mae: 22.0269 - val_loss: 543.7637 - val_mae: 21.4166\n",
            "Epoch 2/100\n",
            "24/24 [==============================] - 0s 5ms/step - loss: 543.6354 - mae: 21.2798 - val_loss: 510.0831 - val_mae: 20.6063\n",
            "Epoch 3/100\n",
            "24/24 [==============================] - 0s 4ms/step - loss: 508.3644 - mae: 20.4191 - val_loss: 472.5746 - val_mae: 19.6347\n",
            "Epoch 4/100\n",
            "24/24 [==============================] - 0s 4ms/step - loss: 469.4636 - mae: 19.4220 - val_loss: 433.6257 - val_mae: 18.5557\n",
            "Epoch 5/100\n",
            "24/24 [==============================] - 0s 5ms/step - loss: 429.7920 - mae: 18.3964 - val_loss: 393.2278 - val_mae: 17.5691\n",
            "Epoch 6/100\n",
            "24/24 [==============================] - 0s 5ms/step - loss: 387.8968 - mae: 17.3371 - val_loss: 352.3978 - val_mae: 16.6318\n",
            "Epoch 7/100\n",
            "24/24 [==============================] - 0s 4ms/step - loss: 346.2225 - mae: 16.2154 - val_loss: 308.8547 - val_mae: 15.5026\n",
            "Epoch 8/100\n",
            "24/24 [==============================] - 0s 4ms/step - loss: 304.1266 - mae: 15.0052 - val_loss: 266.3568 - val_mae: 14.2373\n",
            "Epoch 9/100\n",
            "24/24 [==============================] - 0s 4ms/step - loss: 262.6374 - mae: 13.7351 - val_loss: 229.8968 - val_mae: 13.1335\n",
            "Epoch 10/100\n",
            "24/24 [==============================] - 0s 5ms/step - loss: 227.7157 - mae: 12.6465 - val_loss: 196.4001 - val_mae: 12.1046\n",
            "Epoch 11/100\n",
            "24/24 [==============================] - 0s 4ms/step - loss: 197.3610 - mae: 11.6433 - val_loss: 172.3483 - val_mae: 11.3131\n",
            "Epoch 12/100\n",
            "24/24 [==============================] - 0s 5ms/step - loss: 174.9221 - mae: 10.8450 - val_loss: 154.6164 - val_mae: 10.7371\n",
            "Epoch 13/100\n",
            "24/24 [==============================] - 0s 4ms/step - loss: 157.5225 - mae: 10.1906 - val_loss: 140.3916 - val_mae: 10.2269\n",
            "Epoch 14/100\n",
            "24/24 [==============================] - 0s 6ms/step - loss: 143.0820 - mae: 9.6396 - val_loss: 128.2068 - val_mae: 9.7661\n",
            "Epoch 15/100\n",
            "24/24 [==============================] - 0s 4ms/step - loss: 130.1870 - mae: 9.1634 - val_loss: 116.9782 - val_mae: 9.3088\n",
            "Epoch 16/100\n",
            "24/24 [==============================] - 0s 4ms/step - loss: 118.3684 - mae: 8.7497 - val_loss: 107.0514 - val_mae: 8.8990\n",
            "Epoch 17/100\n",
            "24/24 [==============================] - 0s 5ms/step - loss: 108.1024 - mae: 8.3501 - val_loss: 97.3869 - val_mae: 8.4911\n",
            "Epoch 18/100\n",
            "24/24 [==============================] - 0s 4ms/step - loss: 98.2852 - mae: 7.9796 - val_loss: 88.5000 - val_mae: 8.0798\n",
            "Epoch 19/100\n",
            "24/24 [==============================] - 0s 5ms/step - loss: 89.4890 - mae: 7.6110 - val_loss: 80.6626 - val_mae: 7.6929\n",
            "Epoch 20/100\n",
            "24/24 [==============================] - 0s 4ms/step - loss: 81.7641 - mae: 7.2529 - val_loss: 72.9925 - val_mae: 7.2914\n",
            "Epoch 21/100\n",
            "24/24 [==============================] - 0s 4ms/step - loss: 74.4683 - mae: 6.9050 - val_loss: 65.7759 - val_mae: 6.8670\n",
            "Epoch 22/100\n",
            "24/24 [==============================] - 0s 5ms/step - loss: 67.7423 - mae: 6.5319 - val_loss: 59.4034 - val_mae: 6.4769\n",
            "Epoch 23/100\n",
            "24/24 [==============================] - 0s 5ms/step - loss: 61.4785 - mae: 6.1671 - val_loss: 53.5210 - val_mae: 6.1219\n",
            "Epoch 24/100\n",
            "24/24 [==============================] - 0s 5ms/step - loss: 56.0090 - mae: 5.8347 - val_loss: 48.1023 - val_mae: 5.7617\n",
            "Epoch 25/100\n",
            "24/24 [==============================] - 0s 4ms/step - loss: 50.9561 - mae: 5.5214 - val_loss: 43.3251 - val_mae: 5.4393\n",
            "Epoch 26/100\n",
            "24/24 [==============================] - 0s 4ms/step - loss: 46.6669 - mae: 5.2223 - val_loss: 39.0302 - val_mae: 5.1327\n",
            "Epoch 27/100\n",
            "24/24 [==============================] - 0s 4ms/step - loss: 42.5640 - mae: 4.9335 - val_loss: 35.4360 - val_mae: 4.8585\n",
            "Epoch 28/100\n",
            "24/24 [==============================] - 0s 4ms/step - loss: 39.0618 - mae: 4.6630 - val_loss: 32.1250 - val_mae: 4.6123\n",
            "Epoch 29/100\n",
            "24/24 [==============================] - 0s 5ms/step - loss: 36.0271 - mae: 4.4279 - val_loss: 29.2806 - val_mae: 4.3930\n",
            "Epoch 30/100\n",
            "24/24 [==============================] - 0s 4ms/step - loss: 33.3871 - mae: 4.2148 - val_loss: 27.0609 - val_mae: 4.1871\n",
            "Epoch 31/100\n",
            "24/24 [==============================] - 0s 4ms/step - loss: 31.3456 - mae: 4.0177 - val_loss: 25.0313 - val_mae: 4.0021\n",
            "Epoch 32/100\n",
            "24/24 [==============================] - 0s 5ms/step - loss: 29.3321 - mae: 3.8622 - val_loss: 23.4156 - val_mae: 3.8933\n",
            "Epoch 33/100\n",
            "24/24 [==============================] - 0s 5ms/step - loss: 27.7726 - mae: 3.7299 - val_loss: 21.9379 - val_mae: 3.7528\n",
            "Epoch 34/100\n",
            "24/24 [==============================] - 0s 5ms/step - loss: 26.3218 - mae: 3.5803 - val_loss: 20.8114 - val_mae: 3.6216\n",
            "Epoch 35/100\n",
            "24/24 [==============================] - 0s 5ms/step - loss: 25.1563 - mae: 3.4649 - val_loss: 19.8317 - val_mae: 3.5338\n",
            "Epoch 36/100\n",
            "24/24 [==============================] - 0s 4ms/step - loss: 24.2059 - mae: 3.3828 - val_loss: 19.0391 - val_mae: 3.4535\n",
            "Epoch 37/100\n",
            "24/24 [==============================] - 0s 4ms/step - loss: 23.3673 - mae: 3.3045 - val_loss: 18.3744 - val_mae: 3.3855\n",
            "Epoch 38/100\n",
            "24/24 [==============================] - 0s 4ms/step - loss: 22.5765 - mae: 3.2155 - val_loss: 17.6690 - val_mae: 3.2858\n",
            "Epoch 39/100\n",
            "24/24 [==============================] - 0s 4ms/step - loss: 21.8384 - mae: 3.1294 - val_loss: 17.1609 - val_mae: 3.2420\n",
            "Epoch 40/100\n",
            "24/24 [==============================] - 0s 4ms/step - loss: 21.4681 - mae: 3.1260 - val_loss: 16.7462 - val_mae: 3.2113\n",
            "Epoch 41/100\n",
            "24/24 [==============================] - 0s 4ms/step - loss: 20.6672 - mae: 3.0180 - val_loss: 16.2729 - val_mae: 3.1371\n",
            "Epoch 42/100\n",
            "24/24 [==============================] - 0s 4ms/step - loss: 20.1704 - mae: 2.9710 - val_loss: 15.9161 - val_mae: 3.1093\n",
            "Epoch 43/100\n",
            "24/24 [==============================] - 0s 4ms/step - loss: 19.7218 - mae: 2.9498 - val_loss: 15.5765 - val_mae: 3.0753\n",
            "Epoch 44/100\n",
            "24/24 [==============================] - 0s 4ms/step - loss: 19.4475 - mae: 2.8752 - val_loss: 15.1673 - val_mae: 3.0160\n",
            "Epoch 45/100\n",
            "24/24 [==============================] - 0s 5ms/step - loss: 18.8836 - mae: 2.8514 - val_loss: 14.9944 - val_mae: 3.0155\n",
            "Epoch 46/100\n",
            "24/24 [==============================] - 0s 4ms/step - loss: 18.6605 - mae: 2.8535 - val_loss: 14.7826 - val_mae: 2.9999\n",
            "Epoch 47/100\n",
            "24/24 [==============================] - 0s 4ms/step - loss: 18.2855 - mae: 2.8159 - val_loss: 14.4563 - val_mae: 2.9576\n",
            "Epoch 48/100\n",
            "24/24 [==============================] - 0s 4ms/step - loss: 17.9704 - mae: 2.7644 - val_loss: 14.1661 - val_mae: 2.9147\n",
            "Epoch 49/100\n",
            "24/24 [==============================] - 0s 5ms/step - loss: 17.7762 - mae: 2.7592 - val_loss: 14.0793 - val_mae: 2.9190\n",
            "Epoch 50/100\n",
            "24/24 [==============================] - 0s 4ms/step - loss: 17.4918 - mae: 2.7388 - val_loss: 13.8065 - val_mae: 2.8787\n",
            "Epoch 51/100\n",
            "24/24 [==============================] - 0s 5ms/step - loss: 17.1998 - mae: 2.7014 - val_loss: 13.6254 - val_mae: 2.8524\n",
            "Epoch 52/100\n",
            "24/24 [==============================] - 0s 5ms/step - loss: 17.0450 - mae: 2.6742 - val_loss: 13.3640 - val_mae: 2.8133\n",
            "Epoch 53/100\n",
            "24/24 [==============================] - 0s 5ms/step - loss: 16.9152 - mae: 2.6664 - val_loss: 13.1753 - val_mae: 2.7806\n",
            "Epoch 54/100\n",
            "24/24 [==============================] - 0s 4ms/step - loss: 16.5771 - mae: 2.6657 - val_loss: 13.3185 - val_mae: 2.8340\n",
            "Epoch 55/100\n",
            "24/24 [==============================] - 0s 4ms/step - loss: 16.5389 - mae: 2.6684 - val_loss: 13.0145 - val_mae: 2.7724\n",
            "Epoch 56/100\n",
            "24/24 [==============================] - 0s 4ms/step - loss: 16.3825 - mae: 2.6404 - val_loss: 12.7348 - val_mae: 2.7260\n",
            "Epoch 57/100\n",
            "24/24 [==============================] - 0s 5ms/step - loss: 16.1262 - mae: 2.6242 - val_loss: 12.7555 - val_mae: 2.7395\n",
            "Epoch 58/100\n",
            "24/24 [==============================] - 0s 5ms/step - loss: 16.0354 - mae: 2.6292 - val_loss: 12.7229 - val_mae: 2.7336\n",
            "Epoch 59/100\n",
            "24/24 [==============================] - 0s 4ms/step - loss: 15.8844 - mae: 2.6159 - val_loss: 12.5804 - val_mae: 2.7154\n",
            "Epoch 60/100\n",
            "24/24 [==============================] - 0s 4ms/step - loss: 15.7797 - mae: 2.5830 - val_loss: 12.3922 - val_mae: 2.6929\n",
            "Epoch 61/100\n",
            "24/24 [==============================] - 0s 5ms/step - loss: 15.6093 - mae: 2.5871 - val_loss: 12.3670 - val_mae: 2.6871\n",
            "Epoch 62/100\n",
            "24/24 [==============================] - 0s 5ms/step - loss: 15.5099 - mae: 2.5687 - val_loss: 12.2765 - val_mae: 2.6815\n",
            "Epoch 63/100\n",
            "24/24 [==============================] - 0s 4ms/step - loss: 15.3953 - mae: 2.5841 - val_loss: 12.2321 - val_mae: 2.6786\n",
            "Epoch 64/100\n",
            "24/24 [==============================] - 0s 5ms/step - loss: 15.3298 - mae: 2.5583 - val_loss: 12.0842 - val_mae: 2.6551\n",
            "Epoch 65/100\n",
            "24/24 [==============================] - 0s 4ms/step - loss: 15.2507 - mae: 2.5801 - val_loss: 12.1588 - val_mae: 2.6761\n",
            "Epoch 66/100\n",
            "24/24 [==============================] - 0s 4ms/step - loss: 15.1084 - mae: 2.5387 - val_loss: 11.9275 - val_mae: 2.6303\n",
            "Epoch 67/100\n",
            "24/24 [==============================] - 0s 5ms/step - loss: 14.9253 - mae: 2.5313 - val_loss: 11.9314 - val_mae: 2.6376\n",
            "Epoch 68/100\n",
            "24/24 [==============================] - 0s 4ms/step - loss: 14.9356 - mae: 2.5454 - val_loss: 11.8855 - val_mae: 2.6367\n",
            "Epoch 69/100\n",
            "24/24 [==============================] - 0s 5ms/step - loss: 14.8751 - mae: 2.5374 - val_loss: 11.8424 - val_mae: 2.6359\n",
            "Epoch 70/100\n",
            "24/24 [==============================] - 0s 5ms/step - loss: 14.7349 - mae: 2.5108 - val_loss: 11.7484 - val_mae: 2.6091\n",
            "Epoch 71/100\n",
            "24/24 [==============================] - 0s 5ms/step - loss: 14.5878 - mae: 2.5079 - val_loss: 11.7672 - val_mae: 2.6264\n",
            "Epoch 72/100\n",
            "24/24 [==============================] - 0s 5ms/step - loss: 14.5117 - mae: 2.5067 - val_loss: 11.6581 - val_mae: 2.6122\n",
            "Epoch 73/100\n",
            "24/24 [==============================] - 0s 5ms/step - loss: 14.4261 - mae: 2.4974 - val_loss: 11.6670 - val_mae: 2.6077\n",
            "Epoch 74/100\n",
            "24/24 [==============================] - 0s 5ms/step - loss: 14.3743 - mae: 2.5083 - val_loss: 11.6443 - val_mae: 2.6138\n",
            "Epoch 75/100\n",
            "24/24 [==============================] - 0s 5ms/step - loss: 14.2939 - mae: 2.4956 - val_loss: 11.4692 - val_mae: 2.5685\n",
            "Epoch 76/100\n",
            "24/24 [==============================] - 0s 4ms/step - loss: 14.2571 - mae: 2.4929 - val_loss: 11.5204 - val_mae: 2.5891\n",
            "Epoch 77/100\n",
            "24/24 [==============================] - 0s 5ms/step - loss: 14.1396 - mae: 2.4799 - val_loss: 11.3587 - val_mae: 2.5552\n",
            "Epoch 78/100\n",
            "24/24 [==============================] - 0s 5ms/step - loss: 14.1525 - mae: 2.4746 - val_loss: 11.4483 - val_mae: 2.5781\n",
            "Epoch 79/100\n",
            "24/24 [==============================] - 0s 5ms/step - loss: 13.9514 - mae: 2.4612 - val_loss: 11.2991 - val_mae: 2.5523\n",
            "Epoch 80/100\n",
            "24/24 [==============================] - 0s 5ms/step - loss: 13.9778 - mae: 2.4710 - val_loss: 11.2942 - val_mae: 2.5580\n",
            "Epoch 81/100\n",
            "24/24 [==============================] - 0s 4ms/step - loss: 13.9233 - mae: 2.4580 - val_loss: 11.2507 - val_mae: 2.5493\n",
            "Epoch 82/100\n",
            "24/24 [==============================] - 0s 5ms/step - loss: 13.8404 - mae: 2.4673 - val_loss: 11.2825 - val_mae: 2.5618\n",
            "Epoch 83/100\n",
            "24/24 [==============================] - 0s 5ms/step - loss: 13.7204 - mae: 2.4583 - val_loss: 11.1472 - val_mae: 2.5360\n",
            "Epoch 84/100\n",
            "24/24 [==============================] - 0s 5ms/step - loss: 13.5966 - mae: 2.4382 - val_loss: 11.1099 - val_mae: 2.5304\n",
            "Epoch 85/100\n",
            "24/24 [==============================] - 0s 5ms/step - loss: 13.5801 - mae: 2.4390 - val_loss: 11.1085 - val_mae: 2.5335\n",
            "Epoch 86/100\n",
            "24/24 [==============================] - 0s 4ms/step - loss: 13.4661 - mae: 2.4507 - val_loss: 11.0338 - val_mae: 2.5260\n",
            "Epoch 87/100\n",
            "24/24 [==============================] - 0s 5ms/step - loss: 13.3821 - mae: 2.4211 - val_loss: 10.9439 - val_mae: 2.5070\n",
            "Epoch 88/100\n",
            "24/24 [==============================] - 0s 4ms/step - loss: 13.3599 - mae: 2.4248 - val_loss: 11.0485 - val_mae: 2.5387\n",
            "Epoch 89/100\n",
            "24/24 [==============================] - 0s 5ms/step - loss: 13.2304 - mae: 2.4224 - val_loss: 10.9645 - val_mae: 2.5236\n",
            "Epoch 90/100\n",
            "24/24 [==============================] - 0s 5ms/step - loss: 13.2170 - mae: 2.4144 - val_loss: 10.8548 - val_mae: 2.5012\n",
            "Epoch 91/100\n",
            "24/24 [==============================] - 0s 5ms/step - loss: 13.1199 - mae: 2.4183 - val_loss: 10.8339 - val_mae: 2.5017\n",
            "Epoch 92/100\n",
            "24/24 [==============================] - 0s 5ms/step - loss: 13.0842 - mae: 2.4035 - val_loss: 10.7672 - val_mae: 2.4938\n",
            "Epoch 93/100\n",
            "24/24 [==============================] - 0s 4ms/step - loss: 13.0345 - mae: 2.4048 - val_loss: 10.8414 - val_mae: 2.5102\n",
            "Epoch 94/100\n",
            "24/24 [==============================] - 0s 5ms/step - loss: 12.9354 - mae: 2.3883 - val_loss: 10.6548 - val_mae: 2.4718\n",
            "Epoch 95/100\n",
            "24/24 [==============================] - 0s 4ms/step - loss: 12.8542 - mae: 2.3856 - val_loss: 10.6189 - val_mae: 2.4708\n",
            "Epoch 96/100\n",
            "24/24 [==============================] - 0s 4ms/step - loss: 12.7896 - mae: 2.3788 - val_loss: 10.5672 - val_mae: 2.4588\n",
            "Epoch 97/100\n",
            "24/24 [==============================] - 0s 4ms/step - loss: 12.7034 - mae: 2.3639 - val_loss: 10.6135 - val_mae: 2.4713\n",
            "Epoch 98/100\n",
            "24/24 [==============================] - 0s 5ms/step - loss: 12.7553 - mae: 2.3693 - val_loss: 10.4261 - val_mae: 2.4339\n",
            "Epoch 99/100\n",
            "24/24 [==============================] - 0s 5ms/step - loss: 12.5668 - mae: 2.3721 - val_loss: 10.5667 - val_mae: 2.4741\n",
            "Epoch 100/100\n",
            "24/24 [==============================] - 0s 4ms/step - loss: 12.5437 - mae: 2.3625 - val_loss: 10.4909 - val_mae: 2.4523\n"
          ]
        }
      ]
    },
    {
      "cell_type": "code",
      "metadata": {
        "colab": {
          "base_uri": "https://localhost:8080/",
          "height": 205
        },
        "id": "5UM8e1E_s9OX",
        "outputId": "42e7b917-15e1-4fe8-95af-f53a1cda7c5b"
      },
      "source": [
        "histDf = pd.DataFrame(hist.history)\n",
        "histDf.head()"
      ],
      "execution_count": null,
      "outputs": [
        {
          "output_type": "execute_result",
          "data": {
            "text/html": [
              "<div>\n",
              "<style scoped>\n",
              "    .dataframe tbody tr th:only-of-type {\n",
              "        vertical-align: middle;\n",
              "    }\n",
              "\n",
              "    .dataframe tbody tr th {\n",
              "        vertical-align: top;\n",
              "    }\n",
              "\n",
              "    .dataframe thead th {\n",
              "        text-align: right;\n",
              "    }\n",
              "</style>\n",
              "<table border=\"1\" class=\"dataframe\">\n",
              "  <thead>\n",
              "    <tr style=\"text-align: right;\">\n",
              "      <th></th>\n",
              "      <th>loss</th>\n",
              "      <th>mae</th>\n",
              "      <th>val_loss</th>\n",
              "      <th>val_mae</th>\n",
              "    </tr>\n",
              "  </thead>\n",
              "  <tbody>\n",
              "    <tr>\n",
              "      <th>0</th>\n",
              "      <td>575.923645</td>\n",
              "      <td>22.026903</td>\n",
              "      <td>543.763733</td>\n",
              "      <td>21.416563</td>\n",
              "    </tr>\n",
              "    <tr>\n",
              "      <th>1</th>\n",
              "      <td>543.635376</td>\n",
              "      <td>21.279802</td>\n",
              "      <td>510.083069</td>\n",
              "      <td>20.606318</td>\n",
              "    </tr>\n",
              "    <tr>\n",
              "      <th>2</th>\n",
              "      <td>508.364410</td>\n",
              "      <td>20.419113</td>\n",
              "      <td>472.574554</td>\n",
              "      <td>19.634705</td>\n",
              "    </tr>\n",
              "    <tr>\n",
              "      <th>3</th>\n",
              "      <td>469.463623</td>\n",
              "      <td>19.421995</td>\n",
              "      <td>433.625732</td>\n",
              "      <td>18.555676</td>\n",
              "    </tr>\n",
              "    <tr>\n",
              "      <th>4</th>\n",
              "      <td>429.792023</td>\n",
              "      <td>18.396368</td>\n",
              "      <td>393.227753</td>\n",
              "      <td>17.569080</td>\n",
              "    </tr>\n",
              "  </tbody>\n",
              "</table>\n",
              "</div>"
            ],
            "text/plain": [
              "         loss        mae    val_loss    val_mae\n",
              "0  575.923645  22.026903  543.763733  21.416563\n",
              "1  543.635376  21.279802  510.083069  20.606318\n",
              "2  508.364410  20.419113  472.574554  19.634705\n",
              "3  469.463623  19.421995  433.625732  18.555676\n",
              "4  429.792023  18.396368  393.227753  17.569080"
            ]
          },
          "metadata": {},
          "execution_count": 38
        }
      ]
    },
    {
      "cell_type": "code",
      "metadata": {
        "colab": {
          "base_uri": "https://localhost:8080/",
          "height": 394
        },
        "id": "6WpWKcbns9CH",
        "outputId": "1011ea93-4b76-4ac4-87d7-8bfd640bef2a"
      },
      "source": [
        "histDf[['loss', 'val_loss']].plot(figsize=(8, 6))"
      ],
      "execution_count": null,
      "outputs": [
        {
          "output_type": "execute_result",
          "data": {
            "text/plain": [
              "<matplotlib.axes._subplots.AxesSubplot at 0x7f7e6485c750>"
            ]
          },
          "metadata": {},
          "execution_count": 39
        },
        {
          "output_type": "display_data",
          "data": {
            "image/png": "[encoded data removed]",
            "text/plain": [
              "<Figure size 576x432 with 1 Axes>"
            ]
          },
          "metadata": {
            "needs_background": "light"
          }
        }
      ]
    },
    {
      "cell_type": "code",
      "metadata": {
        "colab": {
          "base_uri": "https://localhost:8080/",
          "height": 392
        },
        "id": "9hRAv5LVs84P",
        "outputId": "01122726-69df-4fdc-ee42-4526804e88bc"
      },
      "source": [
        "histDf[['mae', 'val_mae']].plot(figsize=(8, 6))"
      ],
      "execution_count": null,
      "outputs": [
        {
          "output_type": "execute_result",
          "data": {
            "text/plain": [
              "<matplotlib.axes._subplots.AxesSubplot at 0x7f7e647d1190>"
            ]
          },
          "metadata": {},
          "execution_count": 40
        },
        {
          "output_type": "display_data",
          "data": {
            "image/png": "[encoded data removed]",
            "text/plain": [
              "<Figure size 576x432 with 1 Axes>"
            ]
          },
          "metadata": {
            "needs_background": "light"
          }
        }
      ]
    },
    {
      "cell_type": "code",
      "metadata": {
        "colab": {
          "base_uri": "https://localhost:8080/"
        },
        "id": "TrA4gle9tJh3",
        "outputId": "72eeb5c9-4fa7-4230-c50d-beea4f459b3a"
      },
      "source": [
        "net.evaluate(X_test, y_test)"
      ],
      "execution_count": null,
      "outputs": [
        {
          "output_type": "stream",
          "name": "stdout",
          "text": [
            "4/4 [==============================] - 0s 4ms/step - loss: 10.4909 - mae: 2.4523\n"
          ]
        },
        {
          "output_type": "execute_result",
          "data": {
            "text/plain": [
              "[10.4909029006958, 2.452255964279175]"
            ]
          },
          "metadata": {},
          "execution_count": 41
        }
      ]
    },
    {
      "cell_type": "markdown",
      "metadata": {
        "id": "en9flXXHUOEs"
      },
      "source": [
        "#### 첫 신경망 Summary\n",
        "모델을 하나 생성하고, 학습하고 평가하는 전 과정을 짧게 보았습니다:\n",
        "1. 데이터 로딩\n",
        "2. 전처리\n",
        " - 데이터 X는 255로 나눴서 MinMaxScaling을 수행\n",
        " - 라벨 y는 OneHotEncoding을 수행\n",
        "3. net = model.Sequencial() 로 빈 모델을 생성\n",
        "4. 모델 구조 정의\n",
        " - net.add(layers.Dense())로 레이어를 추가\n",
        " - 첫 layer에서는 input_shape을 지정\n",
        " - 마지막 layer에서는 분류할 범주의 수 만큼의 출력을 지정\n",
        " - 마지막 layer에서는 분류 확률을 구하기 위해 활성화함수를 softmax로 지정\n",
        " - 회귀 모델인 경우 마지막 layer의 활성화함수를 지정하지 않는다.('linear')\n",
        "5. net.compile 함수로 모델을 컴파일\n",
        " - 학습 파라미터 w를 업데이트하는 방법으로 **optimizer**를 지정\n",
        " - w 업데이트 방향을 결정하는 **loss** 함수를 지정\n",
        "     - multi-class인 경우 categorical_crossentropy를 지정\n",
        "     - binary-class인 경우 binary-crossentropy를 지정\n",
        "     - 회귀모델인 경우, 'mse'를 지정\n",
        " - 모델의 성능을 평가할 metrics을 지정\n",
        "     - 분류 모델인 경우 보통 'acc' 지정\n",
        "     - 회귀 모델인 경우 보통 'mae' 지정\n",
        "6. net.fit(X_train, y_train)로 학습\n",
        " - batch_size, epochs를 지정\n",
        " - 추가로 val_size를 지정할 수 있다.\n",
        "7. net.evaluate(X_test, y_test)로 평가\n",
        " - sklearn에서 평가할 때는 net.score(X_test, y_test)\n",
        "8. net.predict(X_test)로 예측/ 추론\n",
        "\n",
        "|구분|sklearn|keras|\n",
        "|---|---|---|\n",
        "|학습|fit|fit|\n",
        "|평가|score|evaluate|\n",
        "|예측|predict|predict|"
      ]
    }
  ]
}