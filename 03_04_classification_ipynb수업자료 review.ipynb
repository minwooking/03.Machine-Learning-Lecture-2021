{
  "nbformat": 4,
  "nbformat_minor": 0,
  "metadata": {
    "kernelspec": {
      "display_name": "Python 3",
      "language": "python",
      "name": "python3"
    },
    "language_info": {
      "codemirror_mode": {
        "name": "ipython",
        "version": 3
      },
      "file_extension": ".py",
      "mimetype": "text/x-python",
      "name": "python",
      "nbconvert_exporter": "python",
      "pygments_lexer": "ipython3",
      "version": "3.7.6"
    },
    "toc": {
      "base_numbering": 1,
      "nav_menu": {},
      "number_sections": false,
      "sideBar": true,
      "skip_h1_title": false,
      "title_cell": "Table of Contents",
      "title_sidebar": "Contents",
      "toc_cell": false,
      "toc_position": {},
      "toc_section_display": true,
      "toc_window_display": false
    },
    "varInspector": {
      "cols": {
        "lenName": 16,
        "lenType": 16,
        "lenVar": 40
      },
      "kernels_config": {
        "python": {
          "delete_cmd_postfix": "",
          "delete_cmd_prefix": "del ",
          "library": "var_list.py",
          "varRefreshCmd": "print(var_dic_list())"
        },
        "r": {
          "delete_cmd_postfix": ") ",
          "delete_cmd_prefix": "rm(",
          "library": "var_list.r",
          "varRefreshCmd": "cat(var_dic_list()) "
        }
      },
      "types_to_exclude": [
        "module",
        "function",
        "builtin_function_or_method",
        "instance",
        "_Feature"
      ],
      "window_display": false
    },
    "colab": {
      "name": "03.04.classification.ipynb의 사본 실행되는것",
      "provenance": [],
      "collapsed_sections": [
        "FQOrqDEo2iBl",
        "NsRn_VKo2iB2",
        "1NvldogC2iB4",
        "fNSX1T272iB-",
        "mcJlztOd2iCG",
        "_m8KZ4a1krDR",
        "qWOv-pFy2iCH",
        "38So2dbH2iCV",
        "FY5abEMW2iCX",
        "MGbNxWhF2iCZ"
      ],
      "toc_visible": true,
      "include_colab_link": true
    }
  },
  "cells": [
    {
      "cell_type": "markdown",
      "metadata": {
        "id": "view-in-github",
        "colab_type": "text"
      },
      "source": [
        "<a href=\"https://colab.research.google.com/github/minwooking/03.Machine-Learning-Lecture-2021/blob/main/03_04_classification_ipynb%EC%88%98%EC%97%85%EC%9E%90%EB%A3%8C%20review.ipynb\" target=\"_parent\"><img src=\"https://colab.research.google.com/assets/colab-badge.svg\" alt=\"Open In Colab\"/></a>"
      ]
    },
    {
      "cell_type": "code",
      "metadata": {
        "id": "_5LrzFYbGPa4"
      },
      "source": [
        "# matplotlib에서 한글 사용을 위하 한글폰트 설치\n",
        "# !sudo apt-get install -y fonts-nanum\n",
        "# !sudo fc-cache -fv\n",
        "# !rm ~/.cache/matplotlib -rf\n",
        "# 설치후 런타임 재시작한 후, 이 코드는 실행하지 말것"
      ],
      "execution_count": null,
      "outputs": []
    },
    {
      "cell_type": "code",
      "metadata": {
        "id": "y7xRj8RdHSQu"
      },
      "source": [
        "import matplotlib.pyplot as plt\n",
        "plt.rc('font', family='NanumBarunGothic') "
      ],
      "execution_count": null,
      "outputs": []
    },
    {
      "cell_type": "markdown",
      "metadata": {
        "id": "FQOrqDEo2iBl"
      },
      "source": [
        "### 3.4 분류\n",
        "#### 3.4.1 kNN\n",
        "- 학습 파라미터가 없다. 게이른 학습기\n",
        "- k는 튜닝 파라미터\n",
        "\n",
        "\n",
        "y = {0, 1}\n",
        "![](https://www.kdnuggets.com/wp-content/uploads/popular-knn-metrics-0.png)\n",
        "\n",
        "책에 있는 notation:\n",
        "- x, y : 각각 하나의 점(데이터)\n",
        "- n: 데이터의 차원\n",
        "\n",
        "일반적인 notation:\n",
        "- X.shape = (n, p)\n",
        "- $X_i, X_j$ : 각각 하나의 점(데이터)\n",
        "- p: 데이터의 차원. 변수의 수가 p\n",
        "\n",
        "유클리디안 거리:\n",
        "$$\\begin{align}\n",
        "d_{euclid} &= \\sqrt{(x_{i1} - x_{j1})^2 + (x_{i2} - x_{j2})^2 + \\cdots + (x_{ip} - x_{jp})^2}\\\\\n",
        "&= \\sqrt{(X_i - X_j)^T \\cdot (X_i - X_j)}\\\\\n",
        "&= \\sqrt{\\sum_{k=1}^p {(x_{ik} - x_{jk})^2}}\n",
        "\\end{align}$$\n",
        "- $X_i = (x_{i1}, x_{i2}, \\cdots, x_{ip})$\n",
        "\n",
        "맨하튼 거리:\n",
        "$$d_{manhatton} = \\sum_{k=1}^p {|x_{ik} - x_{jk}|}$$\n",
        "\n",
        "민코프스키 거리:\n",
        "$$d_{M,d} = \\sqrt[d]{\\sum_{k=1}^p {(x_{ik} - x_{jk})^d}}$$\n",
        "- d=1: 맨하튼 거리\n",
        "- d=2: 유클리디안 거리\n",
        "\n",
        "마할라노비스 거리:\n",
        "$$d_{M} = \\sqrt{(X_i - X_j) \\Sigma^{-1} (X_i - X_j)^T}$$\n",
        "- $\\Sigma$ : $X_i$에 대한 공분산 행렬\n",
        "- 공분산 행렬이 단위행렬인 마할라노비스 거리는 유클리디안 거리와 동일\n",
        "\n",
        "공분산 행렬:\n",
        "- 변수 k 분산: $Var(X_{.k}) = \\sigma_k^2 = \\frac 1 n \\sum_{i=1}^n {(X_{ik} - \\bar X_{.k})^2}$\n",
        "- 2개 변수간의 흩어짐의 정도를 공분산: $Cov(X_{.k} - X_{.m})$\n",
        " - $Cov(X_{.k} - X_{.m}) = \\frac 1 n \\sum_{i=1}^n {(X_{ik} - \\bar X_{.k})(X_{im} - \\bar X_{.m})}$\n",
        " - $Cor(X_{.k} - X_{.m}) = \\frac 1 n \\cfrac {\\sum_{i=1}^n {(X_{ik} - \\bar X_{.k})(X_{im} - \\bar X_{.m})}}{\\sigma_k \\sigma_m}$\n",
        "- 공분산 행렬: $\\Sigma_{km} = Cov(X_{.k} - X_{.m})$"
      ]
    },
    {
      "cell_type": "code",
      "source": [
        "import numpy as np\n",
        "import pandas as pd\n",
        "\n",
        "arr = np.random.randn(100, 2)\n",
        "arr.shape"
      ],
      "metadata": {
        "colab": {
          "base_uri": "https://localhost:8080/"
        },
        "id": "6z_vVaQiLVI1",
        "outputId": "aa0ccec1-e616-4f86-dbc7-62227cd242d4"
      },
      "execution_count": null,
      "outputs": [
        {
          "output_type": "execute_result",
          "data": {
            "text/plain": [
              "(100, 2)"
            ]
          },
          "metadata": {},
          "execution_count": 171
        }
      ]
    },
    {
      "cell_type": "code",
      "source": [
        "np.cov(arr.T)"
      ],
      "metadata": {
        "colab": {
          "base_uri": "https://localhost:8080/"
        },
        "id": "96R_0j44LuqM",
        "outputId": "e88e930b-a2f1-43e8-9b58-4fb1ed5e38cb"
      },
      "execution_count": null,
      "outputs": [
        {
          "output_type": "execute_result",
          "data": {
            "text/plain": [
              "array([[ 0.86322006, -0.13264899],\n",
              "       [-0.13264899,  1.28960301]])"
            ]
          },
          "metadata": {},
          "execution_count": 172
        }
      ]
    },
    {
      "cell_type": "code",
      "metadata": {
        "id": "F4UzZnFB2iBq"
      },
      "source": [
        "from sklearn.datasets import load_iris\n",
        "import pandas as pd\n",
        "from sklearn.model_selection import train_test_split\n",
        "\n",
        "dataset = load_iris()\n",
        "# 탐색적 분석을 하기가 용이하다\n",
        "data = pd.DataFrame(dataset.data, columns = dataset.feature_names)\n",
        "\n",
        "X_train, X_test, y_train, y_test = train_test_split(data, dataset.target, random_state=42)"
      ],
      "execution_count": null,
      "outputs": []
    },
    {
      "cell_type": "code",
      "metadata": {
        "colab": {
          "base_uri": "https://localhost:8080/"
        },
        "id": "rx3gMYA42iBs",
        "outputId": "6af6e2a8-2034-415b-a16f-0059786d9163"
      },
      "source": [
        "import matplotlib.pyplot as plt\n",
        "%matplotlib inline\n",
        "\n",
        "X_train.plot(kind='box')\n",
        "plt.title(\"X_train\")\n",
        "plt.show\n",
        "X_test.plot(kind='box')\n",
        "plt.title(\"X_test\")\n",
        "plt.show"
      ],
      "execution_count": null,
      "outputs": [
        {
          "output_type": "execute_result",
          "data": {
            "text/plain": [
              "<function matplotlib.pyplot.show>"
            ]
          },
          "metadata": {},
          "execution_count": 174
        },
        {
          "output_type": "display_data",
          "data": {
            "image/png": "[encoded data removed]",
            "text/plain": [
              "<Figure size 432x288 with 1 Axes>"
            ]
          },
          "metadata": {
            "needs_background": "light"
          }
        },
        {
          "output_type": "display_data",
          "data": {
            "image/png": "[encoded data removed]",
            "text/plain": [
              "<Figure size 432x288 with 1 Axes>"
            ]
          },
          "metadata": {
            "needs_background": "light"
          }
        }
      ]
    },
    {
      "cell_type": "markdown",
      "metadata": {
        "id": "AlKGNvts2iBt"
      },
      "source": [
        "거리를 기반으로하는 알고리즘은 반듯이 scaling을 해줘야 한다. why?:\n",
        "- 측정 단위가 다르면 거리는 측정단위(g)가 작은 데이터에 의해 거리가 결정된다.\n",
        "\n",
        "scaling을 반듯이 해줘야 하는 알고리즘은 또 있다. 무엇일까?\n",
        "- 선형모델\n",
        " - 회귀: Ridge, Lasso. $\\alpha * |w|$에 대한 규제.\n",
        "     - 회귀식: $y = 3.6 + 1.3 x_1 - 0.2 x_2 + 0.077 x_3$\n",
        " - 분류: Logistc Regression, SVM는 w에 대한 규제.\n",
        "- 분산(밀도)을 이용하는 모델: <= 거리기반\n",
        " - PCA\n",
        " - DBSCAN\n",
        " - kernel estimation method"
      ]
    },
    {
      "cell_type": "code",
      "metadata": {
        "id": "eKeUOpQk2iBu"
      },
      "source": [
        "from sklearn.preprocessing import MinMaxScaler\n",
        "\n",
        "# fit: 학습한다라는 의미인데, 반듯이 학습데이터에만 fit을 해준다.\n",
        "# Scaler는 연속형 데이터의 단위를 변경하므로, 입력은 연속형이어야한다.\n",
        "mns = MinMaxScaler().fit(X_train)\n",
        "X_train_scaled = mns.transform(X_train)\n",
        "X_test_scaled = mns.transform(X_test)"
      ],
      "execution_count": null,
      "outputs": []
    },
    {
      "cell_type": "code",
      "metadata": {
        "id": "3bTNhibE2iBv"
      },
      "source": [
        "from sklearn.neighbors import KNeighborsClassifier\n",
        "\n",
        "model = KNeighborsClassifier(n_neighbors=5).fit(X_train_scaled, y_train)"
      ],
      "execution_count": null,
      "outputs": []
    },
    {
      "cell_type": "code",
      "metadata": {
        "colab": {
          "base_uri": "https://localhost:8080/"
        },
        "id": "HVJkOo9e2iBv",
        "outputId": "b79af159-e593-42d1-da08-824bf568a7ec"
      },
      "source": [
        "from sklearn.metrics import accuracy_score\n",
        "\n",
        "preds = model.predict(X_test_scaled)\n",
        "accuracy_score(y_test, preds)"
      ],
      "execution_count": null,
      "outputs": [
        {
          "output_type": "execute_result",
          "data": {
            "text/plain": [
              "1.0"
            ]
          },
          "metadata": {},
          "execution_count": 177
        }
      ]
    },
    {
      "cell_type": "code",
      "metadata": {
        "colab": {
          "base_uri": "https://localhost:8080/"
        },
        "id": "N3eMUz0g2iBw",
        "outputId": "25606320-5f23-4f7c-f088-edb2421d4847"
      },
      "source": [
        "model.score(X_test_scaled, y_test)"
      ],
      "execution_count": null,
      "outputs": [
        {
          "output_type": "execute_result",
          "data": {
            "text/plain": [
              "1.0"
            ]
          },
          "metadata": {},
          "execution_count": 178
        }
      ]
    },
    {
      "cell_type": "code",
      "metadata": {
        "colab": {
          "base_uri": "https://localhost:8080/"
        },
        "id": "V0c4Zq7b2iBx",
        "outputId": "3fe19ebf-044c-4af9-e693-e7b43fdf9b80"
      },
      "source": [
        "mns.data_max_"
      ],
      "execution_count": null,
      "outputs": [
        {
          "output_type": "execute_result",
          "data": {
            "text/plain": [
              "array([7.7, 4.2, 6.7, 2.5])"
            ]
          },
          "metadata": {},
          "execution_count": 179
        }
      ]
    },
    {
      "cell_type": "code",
      "metadata": {
        "colab": {
          "base_uri": "https://localhost:8080/"
        },
        "id": "PwNCjJ0q2iBy",
        "outputId": "30cb4901-085e-460d-e8fa-ad7d0e045713"
      },
      "source": [
        "Max = mns.data_max_\n",
        "Min = mns.data_min_\n",
        "pd.DataFrame({'max':Max, 'min':Min}, index=dataset.feature_names).T"
      ],
      "execution_count": null,
      "outputs": [
        {
          "output_type": "execute_result",
          "data": {
            "text/html": [
              "\n",
              "  <div id=\"df-0d6bab48-c362-4fb4-bcc6-4b20131efbaa\">\n",
              "    <div class=\"colab-df-container\">\n",
              "      <div>\n",
              "<style scoped>\n",
              "    .dataframe tbody tr th:only-of-type {\n",
              "        vertical-align: middle;\n",
              "    }\n",
              "\n",
              "    .dataframe tbody tr th {\n",
              "        vertical-align: top;\n",
              "    }\n",
              "\n",
              "    .dataframe thead th {\n",
              "        text-align: right;\n",
              "    }\n",
              "</style>\n",
              "<table border=\"1\" class=\"dataframe\">\n",
              "  <thead>\n",
              "    <tr style=\"text-align: right;\">\n",
              "      <th></th>\n",
              "      <th>sepal length (cm)</th>\n",
              "      <th>sepal width (cm)</th>\n",
              "      <th>petal length (cm)</th>\n",
              "      <th>petal width (cm)</th>\n",
              "    </tr>\n",
              "  </thead>\n",
              "  <tbody>\n",
              "    <tr>\n",
              "      <th>max</th>\n",
              "      <td>7.7</td>\n",
              "      <td>4.2</td>\n",
              "      <td>6.7</td>\n",
              "      <td>2.5</td>\n",
              "    </tr>\n",
              "    <tr>\n",
              "      <th>min</th>\n",
              "      <td>4.3</td>\n",
              "      <td>2.0</td>\n",
              "      <td>1.1</td>\n",
              "      <td>0.1</td>\n",
              "    </tr>\n",
              "  </tbody>\n",
              "</table>\n",
              "</div>\n",
              "      <button class=\"colab-df-convert\" onclick=\"convertToInteractive('df-0d6bab48-c362-4fb4-bcc6-4b20131efbaa')\"\n",
              "              title=\"Convert this dataframe to an interactive table.\"\n",
              "              style=\"display:none;\">\n",
              "        \n",
              "  <svg xmlns=\"http://www.w3.org/2000/svg\" height=\"24px\"viewBox=\"0 0 24 24\"\n",
              "       width=\"24px\">\n",
              "    <path d=\"M0 0h24v24H0V0z\" fill=\"none\"/>\n",
              "    <path d=\"M18.56 5.44l.94 2.06.94-2.06 2.06-.94-2.06-.94-.94-2.06-.94 2.06-2.06.94zm-11 1L8.5 8.5l.94-2.06 2.06-.94-2.06-.94L8.5 2.5l-.94 2.06-2.06.94zm10 10l.94 2.06.94-2.06 2.06-.94-2.06-.94-.94-2.06-.94 2.06-2.06.94z\"/><path d=\"M17.41 7.96l-1.37-1.37c-.4-.4-.92-.59-1.43-.59-.52 0-1.04.2-1.43.59L10.3 9.45l-7.72 7.72c-.78.78-.78 2.05 0 2.83L4 21.41c.39.39.9.59 1.41.59.51 0 1.02-.2 1.41-.59l7.78-7.78 2.81-2.81c.8-.78.8-2.07 0-2.86zM5.41 20L4 18.59l7.72-7.72 1.47 1.35L5.41 20z\"/>\n",
              "  </svg>\n",
              "      </button>\n",
              "      \n",
              "  <style>\n",
              "    .colab-df-container {\n",
              "      display:flex;\n",
              "      flex-wrap:wrap;\n",
              "      gap: 12px;\n",
              "    }\n",
              "\n",
              "    .colab-df-convert {\n",
              "      background-color: #E8F0FE;\n",
              "      border: none;\n",
              "      border-radius: 50%;\n",
              "      cursor: pointer;\n",
              "      display: none;\n",
              "      fill: #1967D2;\n",
              "      height: 32px;\n",
              "      padding: 0 0 0 0;\n",
              "      width: 32px;\n",
              "    }\n",
              "\n",
              "    .colab-df-convert:hover {\n",
              "      background-color: #E2EBFA;\n",
              "      box-shadow: 0px 1px 2px rgba(60, 64, 67, 0.3), 0px 1px 3px 1px rgba(60, 64, 67, 0.15);\n",
              "      fill: #174EA6;\n",
              "    }\n",
              "\n",
              "    [theme=dark] .colab-df-convert {\n",
              "      background-color: #3B4455;\n",
              "      fill: #D2E3FC;\n",
              "    }\n",
              "\n",
              "    [theme=dark] .colab-df-convert:hover {\n",
              "      background-color: #434B5C;\n",
              "      box-shadow: 0px 1px 3px 1px rgba(0, 0, 0, 0.15);\n",
              "      filter: drop-shadow(0px 1px 2px rgba(0, 0, 0, 0.3));\n",
              "      fill: #FFFFFF;\n",
              "    }\n",
              "  </style>\n",
              "\n",
              "      <script>\n",
              "        const buttonEl =\n",
              "          document.querySelector('#df-0d6bab48-c362-4fb4-bcc6-4b20131efbaa button.colab-df-convert');\n",
              "        buttonEl.style.display =\n",
              "          google.colab.kernel.accessAllowed ? 'block' : 'none';\n",
              "\n",
              "        async function convertToInteractive(key) {\n",
              "          const element = document.querySelector('#df-0d6bab48-c362-4fb4-bcc6-4b20131efbaa');\n",
              "          const dataTable =\n",
              "            await google.colab.kernel.invokeFunction('convertToInteractive',\n",
              "                                                     [key], {});\n",
              "          if (!dataTable) return;\n",
              "\n",
              "          const docLinkHtml = 'Like what you see? Visit the ' +\n",
              "            '<a target=\"_blank\" href=https://colab.research.google.com/notebooks/data_table.ipynb>data table notebook</a>'\n",
              "            + ' to learn more about interactive tables.';\n",
              "          element.innerHTML = '';\n",
              "          dataTable['output_type'] = 'display_data';\n",
              "          await google.colab.output.renderOutput(dataTable, element);\n",
              "          const docLink = document.createElement('div');\n",
              "          docLink.innerHTML = docLinkHtml;\n",
              "          element.appendChild(docLink);\n",
              "        }\n",
              "      </script>\n",
              "    </div>\n",
              "  </div>\n",
              "  "
            ],
            "text/plain": [
              "     sepal length (cm)  sepal width (cm)  petal length (cm)  petal width (cm)\n",
              "max                7.7               4.2                6.7               2.5\n",
              "min                4.3               2.0                1.1               0.1"
            ]
          },
          "metadata": {},
          "execution_count": 180
        }
      ]
    },
    {
      "cell_type": "code",
      "metadata": {
        "colab": {
          "base_uri": "https://localhost:8080/"
        },
        "id": "Hp4NoLVk2iBz",
        "outputId": "dd12992b-0f81-4ada-ee56-bc4721cf6af9"
      },
      "source": [
        "X_train[:3]"
      ],
      "execution_count": null,
      "outputs": [
        {
          "output_type": "execute_result",
          "data": {
            "text/html": [
              "\n",
              "  <div id=\"df-089cdf92-3793-41d1-9bbf-d3ed81895c73\">\n",
              "    <div class=\"colab-df-container\">\n",
              "      <div>\n",
              "<style scoped>\n",
              "    .dataframe tbody tr th:only-of-type {\n",
              "        vertical-align: middle;\n",
              "    }\n",
              "\n",
              "    .dataframe tbody tr th {\n",
              "        vertical-align: top;\n",
              "    }\n",
              "\n",
              "    .dataframe thead th {\n",
              "        text-align: right;\n",
              "    }\n",
              "</style>\n",
              "<table border=\"1\" class=\"dataframe\">\n",
              "  <thead>\n",
              "    <tr style=\"text-align: right;\">\n",
              "      <th></th>\n",
              "      <th>sepal length (cm)</th>\n",
              "      <th>sepal width (cm)</th>\n",
              "      <th>petal length (cm)</th>\n",
              "      <th>petal width (cm)</th>\n",
              "    </tr>\n",
              "  </thead>\n",
              "  <tbody>\n",
              "    <tr>\n",
              "      <th>4</th>\n",
              "      <td>5.0</td>\n",
              "      <td>3.6</td>\n",
              "      <td>1.4</td>\n",
              "      <td>0.2</td>\n",
              "    </tr>\n",
              "    <tr>\n",
              "      <th>32</th>\n",
              "      <td>5.2</td>\n",
              "      <td>4.1</td>\n",
              "      <td>1.5</td>\n",
              "      <td>0.1</td>\n",
              "    </tr>\n",
              "    <tr>\n",
              "      <th>142</th>\n",
              "      <td>5.8</td>\n",
              "      <td>2.7</td>\n",
              "      <td>5.1</td>\n",
              "      <td>1.9</td>\n",
              "    </tr>\n",
              "  </tbody>\n",
              "</table>\n",
              "</div>\n",
              "      <button class=\"colab-df-convert\" onclick=\"convertToInteractive('df-089cdf92-3793-41d1-9bbf-d3ed81895c73')\"\n",
              "              title=\"Convert this dataframe to an interactive table.\"\n",
              "              style=\"display:none;\">\n",
              "        \n",
              "  <svg xmlns=\"http://www.w3.org/2000/svg\" height=\"24px\"viewBox=\"0 0 24 24\"\n",
              "       width=\"24px\">\n",
              "    <path d=\"M0 0h24v24H0V0z\" fill=\"none\"/>\n",
              "    <path d=\"M18.56 5.44l.94 2.06.94-2.06 2.06-.94-2.06-.94-.94-2.06-.94 2.06-2.06.94zm-11 1L8.5 8.5l.94-2.06 2.06-.94-2.06-.94L8.5 2.5l-.94 2.06-2.06.94zm10 10l.94 2.06.94-2.06 2.06-.94-2.06-.94-.94-2.06-.94 2.06-2.06.94z\"/><path d=\"M17.41 7.96l-1.37-1.37c-.4-.4-.92-.59-1.43-.59-.52 0-1.04.2-1.43.59L10.3 9.45l-7.72 7.72c-.78.78-.78 2.05 0 2.83L4 21.41c.39.39.9.59 1.41.59.51 0 1.02-.2 1.41-.59l7.78-7.78 2.81-2.81c.8-.78.8-2.07 0-2.86zM5.41 20L4 18.59l7.72-7.72 1.47 1.35L5.41 20z\"/>\n",
              "  </svg>\n",
              "      </button>\n",
              "      \n",
              "  <style>\n",
              "    .colab-df-container {\n",
              "      display:flex;\n",
              "      flex-wrap:wrap;\n",
              "      gap: 12px;\n",
              "    }\n",
              "\n",
              "    .colab-df-convert {\n",
              "      background-color: #E8F0FE;\n",
              "      border: none;\n",
              "      border-radius: 50%;\n",
              "      cursor: pointer;\n",
              "      display: none;\n",
              "      fill: #1967D2;\n",
              "      height: 32px;\n",
              "      padding: 0 0 0 0;\n",
              "      width: 32px;\n",
              "    }\n",
              "\n",
              "    .colab-df-convert:hover {\n",
              "      background-color: #E2EBFA;\n",
              "      box-shadow: 0px 1px 2px rgba(60, 64, 67, 0.3), 0px 1px 3px 1px rgba(60, 64, 67, 0.15);\n",
              "      fill: #174EA6;\n",
              "    }\n",
              "\n",
              "    [theme=dark] .colab-df-convert {\n",
              "      background-color: #3B4455;\n",
              "      fill: #D2E3FC;\n",
              "    }\n",
              "\n",
              "    [theme=dark] .colab-df-convert:hover {\n",
              "      background-color: #434B5C;\n",
              "      box-shadow: 0px 1px 3px 1px rgba(0, 0, 0, 0.15);\n",
              "      filter: drop-shadow(0px 1px 2px rgba(0, 0, 0, 0.3));\n",
              "      fill: #FFFFFF;\n",
              "    }\n",
              "  </style>\n",
              "\n",
              "      <script>\n",
              "        const buttonEl =\n",
              "          document.querySelector('#df-089cdf92-3793-41d1-9bbf-d3ed81895c73 button.colab-df-convert');\n",
              "        buttonEl.style.display =\n",
              "          google.colab.kernel.accessAllowed ? 'block' : 'none';\n",
              "\n",
              "        async function convertToInteractive(key) {\n",
              "          const element = document.querySelector('#df-089cdf92-3793-41d1-9bbf-d3ed81895c73');\n",
              "          const dataTable =\n",
              "            await google.colab.kernel.invokeFunction('convertToInteractive',\n",
              "                                                     [key], {});\n",
              "          if (!dataTable) return;\n",
              "\n",
              "          const docLinkHtml = 'Like what you see? Visit the ' +\n",
              "            '<a target=\"_blank\" href=https://colab.research.google.com/notebooks/data_table.ipynb>data table notebook</a>'\n",
              "            + ' to learn more about interactive tables.';\n",
              "          element.innerHTML = '';\n",
              "          dataTable['output_type'] = 'display_data';\n",
              "          await google.colab.output.renderOutput(dataTable, element);\n",
              "          const docLink = document.createElement('div');\n",
              "          docLink.innerHTML = docLinkHtml;\n",
              "          element.appendChild(docLink);\n",
              "        }\n",
              "      </script>\n",
              "    </div>\n",
              "  </div>\n",
              "  "
            ],
            "text/plain": [
              "     sepal length (cm)  sepal width (cm)  petal length (cm)  petal width (cm)\n",
              "4                  5.0               3.6                1.4               0.2\n",
              "32                 5.2               4.1                1.5               0.1\n",
              "142                5.8               2.7                5.1               1.9"
            ]
          },
          "metadata": {},
          "execution_count": 181
        }
      ]
    },
    {
      "cell_type": "code",
      "metadata": {
        "colab": {
          "base_uri": "https://localhost:8080/"
        },
        "id": "FQQwIhFu2iBz",
        "outputId": "15951601-1831-468c-b52c-bcf776ab82b1"
      },
      "source": [
        "mns.inverse_transform(X_train_scaled[:3])"
      ],
      "execution_count": null,
      "outputs": [
        {
          "output_type": "execute_result",
          "data": {
            "text/plain": [
              "array([[5. , 3.6, 1.4, 0.2],\n",
              "       [5.2, 4.1, 1.5, 0.1],\n",
              "       [5.8, 2.7, 5.1, 1.9]])"
            ]
          },
          "metadata": {},
          "execution_count": 182
        }
      ]
    },
    {
      "cell_type": "markdown",
      "source": [
        "마할라노비스 거리를 적용하려면:\n",
        "$$d_{M} = \\sqrt{(X_i - X_j) \\Sigma^{-1} (X_i - X_j)^T}$$\n",
        "- $\\Sigma$ : $X_i$에 대한 공분산 행렬\n",
        "- 공분산 행렬이 단위행렬인 마할라노비스 거리는 유클리디안 거리와 동일"
      ],
      "metadata": {
        "id": "G_3o7GK6QXcw"
      }
    },
    {
      "cell_type": "code",
      "source": [
        "# from sklearn.neighbors import DistanceMetric\n",
        "# import scipy\n",
        "# V = np.cov(X_train_scaled)\n",
        "# # mahalanobis를 사용하려면 metric_params에 V(공분산)와 VI(공분산 역행렬)을 지정\n",
        "# nnMaha = KNeighborsClassifier(metric='mahalanobis', \n",
        "#                               metric_params={'V':V, 'VI':scipy.linalg.inv(V)})\n",
        "# nnMaha.fit(X_train_scaled, y_train)\n",
        "# nnMaha.score(X_test_scaled, y_test)"
      ],
      "metadata": {
        "id": "SSOPJX-zQWlM"
      },
      "execution_count": null,
      "outputs": []
    },
    {
      "cell_type": "markdown",
      "metadata": {
        "id": "477_qUnT2iB0"
      },
      "source": [
        "[Quiz] ks = [1, 3, 5, 7, 9, 11]로 두고 가장 정확도가 높은 k를 찾고, 그 때의 정확도를 출력하라."
      ]
    },
    {
      "cell_type": "code",
      "metadata": {
        "id": "v-4x5UhO2iB1"
      },
      "source": [
        "# from sklearn.preprocessing import MinMaxScaler\n",
        "from sklearn.preprocessing import StandardScaler\n",
        "\n",
        "# fit: 학습한다라는 의미인데, 반듯이 학습데이터에만 fit을 해준다.\n",
        "# Scaler는 연속형 데이터의 단위를 변경하므로, 입력은 연속형이어야한다.\n",
        "# mns = MinMaxScaler().fit(X_train)\n",
        "mns = StandardScaler().fit(X_train)\n",
        "X_train_scaled = mns.transform(X_train)\n",
        "X_test_scaled = mns.transform(X_test)"
      ],
      "execution_count": null,
      "outputs": []
    },
    {
      "cell_type": "code",
      "metadata": {
        "colab": {
          "base_uri": "https://localhost:8080/"
        },
        "id": "q1V8bdeO2iB1",
        "outputId": "34d3d070-1d50-4eb2-ec14-1072942fbf0a"
      },
      "source": [
        "from sklearn.neighbors import KNeighborsClassifier\n",
        "ks = [1, 3, 5, 7, 9, 11]\n",
        "\n",
        "def kNNtuner(ks, xtr, ytr, xts, yts):\n",
        "    best = {}\n",
        "    scores = {}\n",
        "    scores['k'] = []\n",
        "    scores['acc'] = []\n",
        "    bs = 0\n",
        "    for k in ks:\n",
        "        m = KNeighborsClassifier(k).fit(xtr, ytr)\n",
        "        acc = m.score(xts, yts)\n",
        "        scores['k'].append(k)\n",
        "        scores['acc'].append(acc)\n",
        "        if acc > bs:\n",
        "            bs = acc\n",
        "            best['k'] = k\n",
        "            best['acc'] = acc\n",
        "            best['m'] = m\n",
        "    \n",
        "    import pandas as pd\n",
        "    scores = pd.DataFrame(scores)\n",
        "    \n",
        "    return best, scores\n",
        "\n",
        "best, scores = kNNtuner(ks, X_train_scaled, y_train, X_test_scaled, y_test)\n",
        "\n",
        "print(best)\n",
        "scores"
      ],
      "execution_count": null,
      "outputs": [
        {
          "output_type": "stream",
          "name": "stdout",
          "text": [
            "{'k': 1, 'acc': 1.0, 'm': KNeighborsClassifier(n_neighbors=1)}\n"
          ]
        },
        {
          "output_type": "execute_result",
          "data": {
            "text/html": [
              "\n",
              "  <div id=\"df-8fe65365-e3ab-4b52-8d6e-945530683a4f\">\n",
              "    <div class=\"colab-df-container\">\n",
              "      <div>\n",
              "<style scoped>\n",
              "    .dataframe tbody tr th:only-of-type {\n",
              "        vertical-align: middle;\n",
              "    }\n",
              "\n",
              "    .dataframe tbody tr th {\n",
              "        vertical-align: top;\n",
              "    }\n",
              "\n",
              "    .dataframe thead th {\n",
              "        text-align: right;\n",
              "    }\n",
              "</style>\n",
              "<table border=\"1\" class=\"dataframe\">\n",
              "  <thead>\n",
              "    <tr style=\"text-align: right;\">\n",
              "      <th></th>\n",
              "      <th>k</th>\n",
              "      <th>acc</th>\n",
              "    </tr>\n",
              "  </thead>\n",
              "  <tbody>\n",
              "    <tr>\n",
              "      <th>0</th>\n",
              "      <td>1</td>\n",
              "      <td>1.0</td>\n",
              "    </tr>\n",
              "    <tr>\n",
              "      <th>1</th>\n",
              "      <td>3</td>\n",
              "      <td>1.0</td>\n",
              "    </tr>\n",
              "    <tr>\n",
              "      <th>2</th>\n",
              "      <td>5</td>\n",
              "      <td>1.0</td>\n",
              "    </tr>\n",
              "    <tr>\n",
              "      <th>3</th>\n",
              "      <td>7</td>\n",
              "      <td>1.0</td>\n",
              "    </tr>\n",
              "    <tr>\n",
              "      <th>4</th>\n",
              "      <td>9</td>\n",
              "      <td>1.0</td>\n",
              "    </tr>\n",
              "    <tr>\n",
              "      <th>5</th>\n",
              "      <td>11</td>\n",
              "      <td>1.0</td>\n",
              "    </tr>\n",
              "  </tbody>\n",
              "</table>\n",
              "</div>\n",
              "      <button class=\"colab-df-convert\" onclick=\"convertToInteractive('df-8fe65365-e3ab-4b52-8d6e-945530683a4f')\"\n",
              "              title=\"Convert this dataframe to an interactive table.\"\n",
              "              style=\"display:none;\">\n",
              "        \n",
              "  <svg xmlns=\"http://www.w3.org/2000/svg\" height=\"24px\"viewBox=\"0 0 24 24\"\n",
              "       width=\"24px\">\n",
              "    <path d=\"M0 0h24v24H0V0z\" fill=\"none\"/>\n",
              "    <path d=\"M18.56 5.44l.94 2.06.94-2.06 2.06-.94-2.06-.94-.94-2.06-.94 2.06-2.06.94zm-11 1L8.5 8.5l.94-2.06 2.06-.94-2.06-.94L8.5 2.5l-.94 2.06-2.06.94zm10 10l.94 2.06.94-2.06 2.06-.94-2.06-.94-.94-2.06-.94 2.06-2.06.94z\"/><path d=\"M17.41 7.96l-1.37-1.37c-.4-.4-.92-.59-1.43-.59-.52 0-1.04.2-1.43.59L10.3 9.45l-7.72 7.72c-.78.78-.78 2.05 0 2.83L4 21.41c.39.39.9.59 1.41.59.51 0 1.02-.2 1.41-.59l7.78-7.78 2.81-2.81c.8-.78.8-2.07 0-2.86zM5.41 20L4 18.59l7.72-7.72 1.47 1.35L5.41 20z\"/>\n",
              "  </svg>\n",
              "      </button>\n",
              "      \n",
              "  <style>\n",
              "    .colab-df-container {\n",
              "      display:flex;\n",
              "      flex-wrap:wrap;\n",
              "      gap: 12px;\n",
              "    }\n",
              "\n",
              "    .colab-df-convert {\n",
              "      background-color: #E8F0FE;\n",
              "      border: none;\n",
              "      border-radius: 50%;\n",
              "      cursor: pointer;\n",
              "      display: none;\n",
              "      fill: #1967D2;\n",
              "      height: 32px;\n",
              "      padding: 0 0 0 0;\n",
              "      width: 32px;\n",
              "    }\n",
              "\n",
              "    .colab-df-convert:hover {\n",
              "      background-color: #E2EBFA;\n",
              "      box-shadow: 0px 1px 2px rgba(60, 64, 67, 0.3), 0px 1px 3px 1px rgba(60, 64, 67, 0.15);\n",
              "      fill: #174EA6;\n",
              "    }\n",
              "\n",
              "    [theme=dark] .colab-df-convert {\n",
              "      background-color: #3B4455;\n",
              "      fill: #D2E3FC;\n",
              "    }\n",
              "\n",
              "    [theme=dark] .colab-df-convert:hover {\n",
              "      background-color: #434B5C;\n",
              "      box-shadow: 0px 1px 3px 1px rgba(0, 0, 0, 0.15);\n",
              "      filter: drop-shadow(0px 1px 2px rgba(0, 0, 0, 0.3));\n",
              "      fill: #FFFFFF;\n",
              "    }\n",
              "  </style>\n",
              "\n",
              "      <script>\n",
              "        const buttonEl =\n",
              "          document.querySelector('#df-8fe65365-e3ab-4b52-8d6e-945530683a4f button.colab-df-convert');\n",
              "        buttonEl.style.display =\n",
              "          google.colab.kernel.accessAllowed ? 'block' : 'none';\n",
              "\n",
              "        async function convertToInteractive(key) {\n",
              "          const element = document.querySelector('#df-8fe65365-e3ab-4b52-8d6e-945530683a4f');\n",
              "          const dataTable =\n",
              "            await google.colab.kernel.invokeFunction('convertToInteractive',\n",
              "                                                     [key], {});\n",
              "          if (!dataTable) return;\n",
              "\n",
              "          const docLinkHtml = 'Like what you see? Visit the ' +\n",
              "            '<a target=\"_blank\" href=https://colab.research.google.com/notebooks/data_table.ipynb>data table notebook</a>'\n",
              "            + ' to learn more about interactive tables.';\n",
              "          element.innerHTML = '';\n",
              "          dataTable['output_type'] = 'display_data';\n",
              "          await google.colab.output.renderOutput(dataTable, element);\n",
              "          const docLink = document.createElement('div');\n",
              "          docLink.innerHTML = docLinkHtml;\n",
              "          element.appendChild(docLink);\n",
              "        }\n",
              "      </script>\n",
              "    </div>\n",
              "  </div>\n",
              "  "
            ],
            "text/plain": [
              "    k  acc\n",
              "0   1  1.0\n",
              "1   3  1.0\n",
              "2   5  1.0\n",
              "3   7  1.0\n",
              "4   9  1.0\n",
              "5  11  1.0"
            ]
          },
          "metadata": {},
          "execution_count": 185
        }
      ]
    },
    {
      "cell_type": "code",
      "metadata": {
        "id": "GiQDiMtB2iB2",
        "colab": {
          "base_uri": "https://localhost:8080/"
        },
        "outputId": "baa670d4-1303-4f8e-977d-a7377af97097"
      },
      "source": [
        "scores.plot.scatter('k', 'acc')"
      ],
      "execution_count": null,
      "outputs": [
        {
          "output_type": "execute_result",
          "data": {
            "text/plain": [
              "<matplotlib.axes._subplots.AxesSubplot at 0x7fe3ff9fbc10>"
            ]
          },
          "metadata": {},
          "execution_count": 186
        },
        {
          "output_type": "display_data",
          "data": {
            "image/png": "[encoded data removed]",
            "text/plain": [
              "<Figure size 432x288 with 1 Axes>"
            ]
          },
          "metadata": {
            "needs_background": "light"
          }
        }
      ]
    },
    {
      "cell_type": "markdown",
      "metadata": {
        "id": "NsRn_VKo2iB2"
      },
      "source": [
        "### 2.4.2 Logistic Regression\n",
        "$\\hat y = P(y=1) = \\sigma (X \\cdot w + b)$"
      ]
    },
    {
      "cell_type": "code",
      "metadata": {
        "id": "EeC873922iB3"
      },
      "source": [
        "import numpy as np\n",
        "np.random.seed(42)"
      ],
      "execution_count": null,
      "outputs": []
    },
    {
      "cell_type": "code",
      "metadata": {
        "colab": {
          "base_uri": "https://localhost:8080/"
        },
        "id": "pNVWYOHD2iB3",
        "outputId": "6f34544d-a26e-4e72-95e0-58e74bd4afee"
      },
      "source": [
        "from sklearn.datasets import load_breast_cancer\n",
        "import pandas as pd\n",
        "\n",
        "dataset = load_breast_cancer()\n",
        "data = pd.DataFrame(dataset.data, columns=dataset.feature_names)\n",
        "data['cancer'] = dataset.target\n",
        "\n",
        "data.info()"
      ],
      "execution_count": null,
      "outputs": [
        {
          "output_type": "stream",
          "name": "stdout",
          "text": [
            "<class 'pandas.core.frame.DataFrame'>\n",
            "RangeIndex: 569 entries, 0 to 568\n",
            "Data columns (total 31 columns):\n",
            " #   Column                   Non-Null Count  Dtype  \n",
            "---  ------                   --------------  -----  \n",
            " 0   mean radius              569 non-null    float64\n",
            " 1   mean texture             569 non-null    float64\n",
            " 2   mean perimeter           569 non-null    float64\n",
            " 3   mean area                569 non-null    float64\n",
            " 4   mean smoothness          569 non-null    float64\n",
            " 5   mean compactness         569 non-null    float64\n",
            " 6   mean concavity           569 non-null    float64\n",
            " 7   mean concave points      569 non-null    float64\n",
            " 8   mean symmetry            569 non-null    float64\n",
            " 9   mean fractal dimension   569 non-null    float64\n",
            " 10  radius error             569 non-null    float64\n",
            " 11  texture error            569 non-null    float64\n",
            " 12  perimeter error          569 non-null    float64\n",
            " 13  area error               569 non-null    float64\n",
            " 14  smoothness error         569 non-null    float64\n",
            " 15  compactness error        569 non-null    float64\n",
            " 16  concavity error          569 non-null    float64\n",
            " 17  concave points error     569 non-null    float64\n",
            " 18  symmetry error           569 non-null    float64\n",
            " 19  fractal dimension error  569 non-null    float64\n",
            " 20  worst radius             569 non-null    float64\n",
            " 21  worst texture            569 non-null    float64\n",
            " 22  worst perimeter          569 non-null    float64\n",
            " 23  worst area               569 non-null    float64\n",
            " 24  worst smoothness         569 non-null    float64\n",
            " 25  worst compactness        569 non-null    float64\n",
            " 26  worst concavity          569 non-null    float64\n",
            " 27  worst concave points     569 non-null    float64\n",
            " 28  worst symmetry           569 non-null    float64\n",
            " 29  worst fractal dimension  569 non-null    float64\n",
            " 30  cancer                   569 non-null    int64  \n",
            "dtypes: float64(30), int64(1)\n",
            "memory usage: 137.9 KB\n"
          ]
        }
      ]
    },
    {
      "cell_type": "code",
      "metadata": {
        "colab": {
          "base_uri": "https://localhost:8080/"
        },
        "id": "iFjEU6wT2iB3",
        "outputId": "d198dd32-135e-4d12-82a4-43aaebc9e0a9"
      },
      "source": [
        "data.describe()"
      ],
      "execution_count": null,
      "outputs": [
        {
          "output_type": "execute_result",
          "data": {
            "text/html": [
              "\n",
              "  <div id=\"df-7fa174ae-855e-47e8-8be1-e4494356df85\">\n",
              "    <div class=\"colab-df-container\">\n",
              "      <div>\n",
              "<style scoped>\n",
              "    .dataframe tbody tr th:only-of-type {\n",
              "        vertical-align: middle;\n",
              "    }\n",
              "\n",
              "    .dataframe tbody tr th {\n",
              "        vertical-align: top;\n",
              "    }\n",
              "\n",
              "    .dataframe thead th {\n",
              "        text-align: right;\n",
              "    }\n",
              "</style>\n",
              "<table border=\"1\" class=\"dataframe\">\n",
              "  <thead>\n",
              "    <tr style=\"text-align: right;\">\n",
              "      <th></th>\n",
              "      <th>mean radius</th>\n",
              "      <th>mean texture</th>\n",
              "      <th>mean perimeter</th>\n",
              "      <th>mean area</th>\n",
              "      <th>mean smoothness</th>\n",
              "      <th>mean compactness</th>\n",
              "      <th>mean concavity</th>\n",
              "      <th>mean concave points</th>\n",
              "      <th>mean symmetry</th>\n",
              "      <th>mean fractal dimension</th>\n",
              "      <th>radius error</th>\n",
              "      <th>texture error</th>\n",
              "      <th>perimeter error</th>\n",
              "      <th>area error</th>\n",
              "      <th>smoothness error</th>\n",
              "      <th>compactness error</th>\n",
              "      <th>concavity error</th>\n",
              "      <th>concave points error</th>\n",
              "      <th>symmetry error</th>\n",
              "      <th>fractal dimension error</th>\n",
              "      <th>worst radius</th>\n",
              "      <th>worst texture</th>\n",
              "      <th>worst perimeter</th>\n",
              "      <th>worst area</th>\n",
              "      <th>worst smoothness</th>\n",
              "      <th>worst compactness</th>\n",
              "      <th>worst concavity</th>\n",
              "      <th>worst concave points</th>\n",
              "      <th>worst symmetry</th>\n",
              "      <th>worst fractal dimension</th>\n",
              "      <th>cancer</th>\n",
              "    </tr>\n",
              "  </thead>\n",
              "  <tbody>\n",
              "    <tr>\n",
              "      <th>count</th>\n",
              "      <td>569.000000</td>\n",
              "      <td>569.000000</td>\n",
              "      <td>569.000000</td>\n",
              "      <td>569.000000</td>\n",
              "      <td>569.000000</td>\n",
              "      <td>569.000000</td>\n",
              "      <td>569.000000</td>\n",
              "      <td>569.000000</td>\n",
              "      <td>569.000000</td>\n",
              "      <td>569.000000</td>\n",
              "      <td>569.000000</td>\n",
              "      <td>569.000000</td>\n",
              "      <td>569.000000</td>\n",
              "      <td>569.000000</td>\n",
              "      <td>569.000000</td>\n",
              "      <td>569.000000</td>\n",
              "      <td>569.000000</td>\n",
              "      <td>569.000000</td>\n",
              "      <td>569.000000</td>\n",
              "      <td>569.000000</td>\n",
              "      <td>569.000000</td>\n",
              "      <td>569.000000</td>\n",
              "      <td>569.000000</td>\n",
              "      <td>569.000000</td>\n",
              "      <td>569.000000</td>\n",
              "      <td>569.000000</td>\n",
              "      <td>569.000000</td>\n",
              "      <td>569.000000</td>\n",
              "      <td>569.000000</td>\n",
              "      <td>569.000000</td>\n",
              "      <td>569.000000</td>\n",
              "    </tr>\n",
              "    <tr>\n",
              "      <th>mean</th>\n",
              "      <td>14.127292</td>\n",
              "      <td>19.289649</td>\n",
              "      <td>91.969033</td>\n",
              "      <td>654.889104</td>\n",
              "      <td>0.096360</td>\n",
              "      <td>0.104341</td>\n",
              "      <td>0.088799</td>\n",
              "      <td>0.048919</td>\n",
              "      <td>0.181162</td>\n",
              "      <td>0.062798</td>\n",
              "      <td>0.405172</td>\n",
              "      <td>1.216853</td>\n",
              "      <td>2.866059</td>\n",
              "      <td>40.337079</td>\n",
              "      <td>0.007041</td>\n",
              "      <td>0.025478</td>\n",
              "      <td>0.031894</td>\n",
              "      <td>0.011796</td>\n",
              "      <td>0.020542</td>\n",
              "      <td>0.003795</td>\n",
              "      <td>16.269190</td>\n",
              "      <td>25.677223</td>\n",
              "      <td>107.261213</td>\n",
              "      <td>880.583128</td>\n",
              "      <td>0.132369</td>\n",
              "      <td>0.254265</td>\n",
              "      <td>0.272188</td>\n",
              "      <td>0.114606</td>\n",
              "      <td>0.290076</td>\n",
              "      <td>0.083946</td>\n",
              "      <td>0.627417</td>\n",
              "    </tr>\n",
              "    <tr>\n",
              "      <th>std</th>\n",
              "      <td>3.524049</td>\n",
              "      <td>4.301036</td>\n",
              "      <td>24.298981</td>\n",
              "      <td>351.914129</td>\n",
              "      <td>0.014064</td>\n",
              "      <td>0.052813</td>\n",
              "      <td>0.079720</td>\n",
              "      <td>0.038803</td>\n",
              "      <td>0.027414</td>\n",
              "      <td>0.007060</td>\n",
              "      <td>0.277313</td>\n",
              "      <td>0.551648</td>\n",
              "      <td>2.021855</td>\n",
              "      <td>45.491006</td>\n",
              "      <td>0.003003</td>\n",
              "      <td>0.017908</td>\n",
              "      <td>0.030186</td>\n",
              "      <td>0.006170</td>\n",
              "      <td>0.008266</td>\n",
              "      <td>0.002646</td>\n",
              "      <td>4.833242</td>\n",
              "      <td>6.146258</td>\n",
              "      <td>33.602542</td>\n",
              "      <td>569.356993</td>\n",
              "      <td>0.022832</td>\n",
              "      <td>0.157336</td>\n",
              "      <td>0.208624</td>\n",
              "      <td>0.065732</td>\n",
              "      <td>0.061867</td>\n",
              "      <td>0.018061</td>\n",
              "      <td>0.483918</td>\n",
              "    </tr>\n",
              "    <tr>\n",
              "      <th>min</th>\n",
              "      <td>6.981000</td>\n",
              "      <td>9.710000</td>\n",
              "      <td>43.790000</td>\n",
              "      <td>143.500000</td>\n",
              "      <td>0.052630</td>\n",
              "      <td>0.019380</td>\n",
              "      <td>0.000000</td>\n",
              "      <td>0.000000</td>\n",
              "      <td>0.106000</td>\n",
              "      <td>0.049960</td>\n",
              "      <td>0.111500</td>\n",
              "      <td>0.360200</td>\n",
              "      <td>0.757000</td>\n",
              "      <td>6.802000</td>\n",
              "      <td>0.001713</td>\n",
              "      <td>0.002252</td>\n",
              "      <td>0.000000</td>\n",
              "      <td>0.000000</td>\n",
              "      <td>0.007882</td>\n",
              "      <td>0.000895</td>\n",
              "      <td>7.930000</td>\n",
              "      <td>12.020000</td>\n",
              "      <td>50.410000</td>\n",
              "      <td>185.200000</td>\n",
              "      <td>0.071170</td>\n",
              "      <td>0.027290</td>\n",
              "      <td>0.000000</td>\n",
              "      <td>0.000000</td>\n",
              "      <td>0.156500</td>\n",
              "      <td>0.055040</td>\n",
              "      <td>0.000000</td>\n",
              "    </tr>\n",
              "    <tr>\n",
              "      <th>25%</th>\n",
              "      <td>11.700000</td>\n",
              "      <td>16.170000</td>\n",
              "      <td>75.170000</td>\n",
              "      <td>420.300000</td>\n",
              "      <td>0.086370</td>\n",
              "      <td>0.064920</td>\n",
              "      <td>0.029560</td>\n",
              "      <td>0.020310</td>\n",
              "      <td>0.161900</td>\n",
              "      <td>0.057700</td>\n",
              "      <td>0.232400</td>\n",
              "      <td>0.833900</td>\n",
              "      <td>1.606000</td>\n",
              "      <td>17.850000</td>\n",
              "      <td>0.005169</td>\n",
              "      <td>0.013080</td>\n",
              "      <td>0.015090</td>\n",
              "      <td>0.007638</td>\n",
              "      <td>0.015160</td>\n",
              "      <td>0.002248</td>\n",
              "      <td>13.010000</td>\n",
              "      <td>21.080000</td>\n",
              "      <td>84.110000</td>\n",
              "      <td>515.300000</td>\n",
              "      <td>0.116600</td>\n",
              "      <td>0.147200</td>\n",
              "      <td>0.114500</td>\n",
              "      <td>0.064930</td>\n",
              "      <td>0.250400</td>\n",
              "      <td>0.071460</td>\n",
              "      <td>0.000000</td>\n",
              "    </tr>\n",
              "    <tr>\n",
              "      <th>50%</th>\n",
              "      <td>13.370000</td>\n",
              "      <td>18.840000</td>\n",
              "      <td>86.240000</td>\n",
              "      <td>551.100000</td>\n",
              "      <td>0.095870</td>\n",
              "      <td>0.092630</td>\n",
              "      <td>0.061540</td>\n",
              "      <td>0.033500</td>\n",
              "      <td>0.179200</td>\n",
              "      <td>0.061540</td>\n",
              "      <td>0.324200</td>\n",
              "      <td>1.108000</td>\n",
              "      <td>2.287000</td>\n",
              "      <td>24.530000</td>\n",
              "      <td>0.006380</td>\n",
              "      <td>0.020450</td>\n",
              "      <td>0.025890</td>\n",
              "      <td>0.010930</td>\n",
              "      <td>0.018730</td>\n",
              "      <td>0.003187</td>\n",
              "      <td>14.970000</td>\n",
              "      <td>25.410000</td>\n",
              "      <td>97.660000</td>\n",
              "      <td>686.500000</td>\n",
              "      <td>0.131300</td>\n",
              "      <td>0.211900</td>\n",
              "      <td>0.226700</td>\n",
              "      <td>0.099930</td>\n",
              "      <td>0.282200</td>\n",
              "      <td>0.080040</td>\n",
              "      <td>1.000000</td>\n",
              "    </tr>\n",
              "    <tr>\n",
              "      <th>75%</th>\n",
              "      <td>15.780000</td>\n",
              "      <td>21.800000</td>\n",
              "      <td>104.100000</td>\n",
              "      <td>782.700000</td>\n",
              "      <td>0.105300</td>\n",
              "      <td>0.130400</td>\n",
              "      <td>0.130700</td>\n",
              "      <td>0.074000</td>\n",
              "      <td>0.195700</td>\n",
              "      <td>0.066120</td>\n",
              "      <td>0.478900</td>\n",
              "      <td>1.474000</td>\n",
              "      <td>3.357000</td>\n",
              "      <td>45.190000</td>\n",
              "      <td>0.008146</td>\n",
              "      <td>0.032450</td>\n",
              "      <td>0.042050</td>\n",
              "      <td>0.014710</td>\n",
              "      <td>0.023480</td>\n",
              "      <td>0.004558</td>\n",
              "      <td>18.790000</td>\n",
              "      <td>29.720000</td>\n",
              "      <td>125.400000</td>\n",
              "      <td>1084.000000</td>\n",
              "      <td>0.146000</td>\n",
              "      <td>0.339100</td>\n",
              "      <td>0.382900</td>\n",
              "      <td>0.161400</td>\n",
              "      <td>0.317900</td>\n",
              "      <td>0.092080</td>\n",
              "      <td>1.000000</td>\n",
              "    </tr>\n",
              "    <tr>\n",
              "      <th>max</th>\n",
              "      <td>28.110000</td>\n",
              "      <td>39.280000</td>\n",
              "      <td>188.500000</td>\n",
              "      <td>2501.000000</td>\n",
              "      <td>0.163400</td>\n",
              "      <td>0.345400</td>\n",
              "      <td>0.426800</td>\n",
              "      <td>0.201200</td>\n",
              "      <td>0.304000</td>\n",
              "      <td>0.097440</td>\n",
              "      <td>2.873000</td>\n",
              "      <td>4.885000</td>\n",
              "      <td>21.980000</td>\n",
              "      <td>542.200000</td>\n",
              "      <td>0.031130</td>\n",
              "      <td>0.135400</td>\n",
              "      <td>0.396000</td>\n",
              "      <td>0.052790</td>\n",
              "      <td>0.078950</td>\n",
              "      <td>0.029840</td>\n",
              "      <td>36.040000</td>\n",
              "      <td>49.540000</td>\n",
              "      <td>251.200000</td>\n",
              "      <td>4254.000000</td>\n",
              "      <td>0.222600</td>\n",
              "      <td>1.058000</td>\n",
              "      <td>1.252000</td>\n",
              "      <td>0.291000</td>\n",
              "      <td>0.663800</td>\n",
              "      <td>0.207500</td>\n",
              "      <td>1.000000</td>\n",
              "    </tr>\n",
              "  </tbody>\n",
              "</table>\n",
              "</div>\n",
              "      <button class=\"colab-df-convert\" onclick=\"convertToInteractive('df-7fa174ae-855e-47e8-8be1-e4494356df85')\"\n",
              "              title=\"Convert this dataframe to an interactive table.\"\n",
              "              style=\"display:none;\">\n",
              "        \n",
              "  <svg xmlns=\"http://www.w3.org/2000/svg\" height=\"24px\"viewBox=\"0 0 24 24\"\n",
              "       width=\"24px\">\n",
              "    <path d=\"M0 0h24v24H0V0z\" fill=\"none\"/>\n",
              "    <path d=\"M18.56 5.44l.94 2.06.94-2.06 2.06-.94-2.06-.94-.94-2.06-.94 2.06-2.06.94zm-11 1L8.5 8.5l.94-2.06 2.06-.94-2.06-.94L8.5 2.5l-.94 2.06-2.06.94zm10 10l.94 2.06.94-2.06 2.06-.94-2.06-.94-.94-2.06-.94 2.06-2.06.94z\"/><path d=\"M17.41 7.96l-1.37-1.37c-.4-.4-.92-.59-1.43-.59-.52 0-1.04.2-1.43.59L10.3 9.45l-7.72 7.72c-.78.78-.78 2.05 0 2.83L4 21.41c.39.39.9.59 1.41.59.51 0 1.02-.2 1.41-.59l7.78-7.78 2.81-2.81c.8-.78.8-2.07 0-2.86zM5.41 20L4 18.59l7.72-7.72 1.47 1.35L5.41 20z\"/>\n",
              "  </svg>\n",
              "      </button>\n",
              "      \n",
              "  <style>\n",
              "    .colab-df-container {\n",
              "      display:flex;\n",
              "      flex-wrap:wrap;\n",
              "      gap: 12px;\n",
              "    }\n",
              "\n",
              "    .colab-df-convert {\n",
              "      background-color: #E8F0FE;\n",
              "      border: none;\n",
              "      border-radius: 50%;\n",
              "      cursor: pointer;\n",
              "      display: none;\n",
              "      fill: #1967D2;\n",
              "      height: 32px;\n",
              "      padding: 0 0 0 0;\n",
              "      width: 32px;\n",
              "    }\n",
              "\n",
              "    .colab-df-convert:hover {\n",
              "      background-color: #E2EBFA;\n",
              "      box-shadow: 0px 1px 2px rgba(60, 64, 67, 0.3), 0px 1px 3px 1px rgba(60, 64, 67, 0.15);\n",
              "      fill: #174EA6;\n",
              "    }\n",
              "\n",
              "    [theme=dark] .colab-df-convert {\n",
              "      background-color: #3B4455;\n",
              "      fill: #D2E3FC;\n",
              "    }\n",
              "\n",
              "    [theme=dark] .colab-df-convert:hover {\n",
              "      background-color: #434B5C;\n",
              "      box-shadow: 0px 1px 3px 1px rgba(0, 0, 0, 0.15);\n",
              "      filter: drop-shadow(0px 1px 2px rgba(0, 0, 0, 0.3));\n",
              "      fill: #FFFFFF;\n",
              "    }\n",
              "  </style>\n",
              "\n",
              "      <script>\n",
              "        const buttonEl =\n",
              "          document.querySelector('#df-7fa174ae-855e-47e8-8be1-e4494356df85 button.colab-df-convert');\n",
              "        buttonEl.style.display =\n",
              "          google.colab.kernel.accessAllowed ? 'block' : 'none';\n",
              "\n",
              "        async function convertToInteractive(key) {\n",
              "          const element = document.querySelector('#df-7fa174ae-855e-47e8-8be1-e4494356df85');\n",
              "          const dataTable =\n",
              "            await google.colab.kernel.invokeFunction('convertToInteractive',\n",
              "                                                     [key], {});\n",
              "          if (!dataTable) return;\n",
              "\n",
              "          const docLinkHtml = 'Like what you see? Visit the ' +\n",
              "            '<a target=\"_blank\" href=https://colab.research.google.com/notebooks/data_table.ipynb>data table notebook</a>'\n",
              "            + ' to learn more about interactive tables.';\n",
              "          element.innerHTML = '';\n",
              "          dataTable['output_type'] = 'display_data';\n",
              "          await google.colab.output.renderOutput(dataTable, element);\n",
              "          const docLink = document.createElement('div');\n",
              "          docLink.innerHTML = docLinkHtml;\n",
              "          element.appendChild(docLink);\n",
              "        }\n",
              "      </script>\n",
              "    </div>\n",
              "  </div>\n",
              "  "
            ],
            "text/plain": [
              "       mean radius  mean texture  ...  worst fractal dimension      cancer\n",
              "count   569.000000    569.000000  ...               569.000000  569.000000\n",
              "mean     14.127292     19.289649  ...                 0.083946    0.627417\n",
              "std       3.524049      4.301036  ...                 0.018061    0.483918\n",
              "min       6.981000      9.710000  ...                 0.055040    0.000000\n",
              "25%      11.700000     16.170000  ...                 0.071460    0.000000\n",
              "50%      13.370000     18.840000  ...                 0.080040    1.000000\n",
              "75%      15.780000     21.800000  ...                 0.092080    1.000000\n",
              "max      28.110000     39.280000  ...                 0.207500    1.000000\n",
              "\n",
              "[8 rows x 31 columns]"
            ]
          },
          "metadata": {},
          "execution_count": 189
        }
      ]
    },
    {
      "cell_type": "markdown",
      "metadata": {
        "id": "1NvldogC2iB4"
      },
      "source": [
        "- 입력피처 X 의 shape은 (n, p)\n",
        "- 타겟 y의 shape은 (n, )\n",
        "\n",
        "### simple Logistic Regression\n",
        "1개의 입력변수만 사용하여 모델을 구성해봅니다."
      ]
    },
    {
      "cell_type": "code",
      "metadata": {
        "id": "Qfk2Aq3o2iB4"
      },
      "source": [
        "from sklearn.model_selection import train_test_split\n",
        "X_train, X_test, y_train, y_test = train_test_split(data[['mean radius']], data['cancer'], random_state=42)"
      ],
      "execution_count": null,
      "outputs": []
    },
    {
      "cell_type": "code",
      "metadata": {
        "colab": {
          "base_uri": "https://localhost:8080/"
        },
        "id": "lox4MG_M2iB5",
        "outputId": "fbd69d83-55e7-493f-dd08-0cdd92eb0959"
      },
      "source": [
        "X_train.shape"
      ],
      "execution_count": null,
      "outputs": [
        {
          "output_type": "execute_result",
          "data": {
            "text/plain": [
              "(426, 1)"
            ]
          },
          "metadata": {},
          "execution_count": 23
        }
      ]
    },
    {
      "cell_type": "code",
      "metadata": {
        "colab": {
          "base_uri": "https://localhost:8080/"
        },
        "id": "pJB3ANp8AggD",
        "outputId": "2645d223-67bb-4b6b-8090-ceae6ed365ad"
      },
      "source": [
        "data[['mean radius']].shape"
      ],
      "execution_count": null,
      "outputs": [
        {
          "output_type": "execute_result",
          "data": {
            "text/plain": [
              "(569, 1)"
            ]
          },
          "metadata": {},
          "execution_count": 24
        }
      ]
    },
    {
      "cell_type": "markdown",
      "metadata": {
        "id": "ZEeVb-UH2iB5"
      },
      "source": [
        "규제가 있는 분류모델:\n",
        "Loss = NLL(w) + $\\cfrac 1 C * ||w||^2$\n",
        "- C: 규제강도인 $\\alpha$의 역수에 해당\n",
        "- SVM에서 사용하는 C와 같은 개념으로 사용하기 위해 C로 명명."
      ]
    },
    {
      "cell_type": "code",
      "metadata": {
        "colab": {
          "base_uri": "https://localhost:8080/"
        },
        "id": "aJUx5_et2iB5",
        "outputId": "9d89a1f5-ec7c-4640-f5fb-bdca813375f2"
      },
      "source": [
        "from sklearn.linear_model import LogisticRegression\n",
        "\n",
        "# model = LogisticRegression(solver='liblinear').fit(X_train, y_train)\n",
        "model = LogisticRegression(solver='liblinear')\n",
        "model.fit(X_train, y_train)"
      ],
      "execution_count": null,
      "outputs": [
        {
          "output_type": "execute_result",
          "data": {
            "text/plain": [
              "LogisticRegression(solver='liblinear')"
            ]
          },
          "metadata": {},
          "execution_count": 25
        }
      ]
    },
    {
      "cell_type": "code",
      "metadata": {
        "colab": {
          "base_uri": "https://localhost:8080/"
        },
        "id": "fyWGUL322iB6",
        "outputId": "11c2f572-29b8-4900-c7e6-a3631c5b9d06"
      },
      "source": [
        "from sklearn.metrics import accuracy_score\n",
        "\n",
        "pred = model.predict(X_test)\n",
        "score = accuracy_score(y_test, pred)\n",
        "print(f\"mean radius 만으로 예측한 결과 : {score}\")"
      ],
      "execution_count": null,
      "outputs": [
        {
          "output_type": "stream",
          "name": "stdout",
          "text": [
            "mean radius 만으로 예측한 결과 : 0.916083916083916\n"
          ]
        }
      ]
    },
    {
      "cell_type": "code",
      "metadata": {
        "colab": {
          "base_uri": "https://localhost:8080/"
        },
        "id": "4mpHKv3s2iB6",
        "outputId": "f7384d63-cf22-4069-acc2-d0288e0b7f03"
      },
      "source": [
        "dataset.target_names"
      ],
      "execution_count": null,
      "outputs": [
        {
          "output_type": "execute_result",
          "data": {
            "text/plain": [
              "array(['malignant', 'benign'], dtype='<U9')"
            ]
          },
          "metadata": {},
          "execution_count": 27
        }
      ]
    },
    {
      "cell_type": "code",
      "metadata": {
        "colab": {
          "base_uri": "https://localhost:8080/"
        },
        "id": "oUuAGCnJ2iB6",
        "outputId": "1ff4399a-30f3-4f26-b13f-9c89f9d64ea1"
      },
      "source": [
        "from seaborn import lmplot\n",
        "import matplotlib.pyplot as plt\n",
        "%matplotlib inline\n",
        "\n",
        "lmplot(x='mean radius', y='cancer', data=data, logistic=True)\n",
        "plt.show()"
      ],
      "execution_count": null,
      "outputs": [
        {
          "output_type": "stream",
          "name": "stderr",
          "text": [
            "/usr/local/lib/python3.7/dist-packages/statsmodels/tools/_testing.py:19: FutureWarning: pandas.util.testing is deprecated. Use the functions in the public API at pandas.testing instead.\n",
            "  import pandas.util.testing as tm\n"
          ]
        },
        {
          "output_type": "display_data",
          "data": {
            "image/png": "[encoded data removed]",
            "text/plain": [
              "<Figure size 360x360 with 1 Axes>"
            ]
          },
          "metadata": {
            "needs_background": "light"
          }
        }
      ]
    },
    {
      "cell_type": "code",
      "metadata": {
        "colab": {
          "base_uri": "https://localhost:8080/"
        },
        "id": "fk573ur52iB7",
        "outputId": "08326bb9-5bf3-4140-fdb4-94f53954a258"
      },
      "source": [
        "X_train, X_test, y_train, y_test = train_test_split(data.iloc[:,:-1], \n",
        "                                                    data['cancer'], \n",
        "                                                    random_state=42)\n",
        "model.fit(X_train, y_train)\n",
        "score = model.score(X_test, y_test)\n",
        "\n",
        "print(f\"전체 학습 변수를 모두 이용하여 예측한 결과 : {score}\")"
      ],
      "execution_count": null,
      "outputs": [
        {
          "output_type": "stream",
          "name": "stdout",
          "text": [
            "전체 학습 변수를 모두 이용하여 예측한 결과 : 0.958041958041958\n"
          ]
        }
      ]
    },
    {
      "cell_type": "markdown",
      "metadata": {
        "id": "sDw6I5_X2iB7"
      },
      "source": [
        "[Quiz] C가 중요한 튜닝 파라미터이다.\n",
        "1. RobustScaler를 사용하여 Scaling한다.\n",
        "2. Scaled data를 이용하여 C에 대해 튜닝하고\n",
        "3. 가장 좋은 C와 이때의 acc 값을 출력하라."
      ]
    },
    {
      "cell_type": "code",
      "metadata": {
        "colab": {
          "base_uri": "https://localhost:8080/"
        },
        "id": "R5Dtckmn2iB7",
        "outputId": "b525c225-937e-46d5-c5ee-4a7c4678b40c"
      },
      "source": [
        "from sklearn.preprocessing import RobustScaler\n",
        "scaler = RobustScaler().fit(X_train)\n",
        "X_train_scaled = scaler.transform(X_train)\n",
        "X_test_scaled = scaler.transform(X_test)\n",
        "\n",
        "# Cs = [0.001, 0.01, 0.1, 1, 10, 100]\n",
        "# Cs = [0.2, 0.25, 0.3, 0.35, 0.4, 0.45]\n",
        "Cs = [0.05, 0.1, 0.5]\n",
        "\n",
        "def LRtuner(Cs, xtr, ytr, xts, yts):\n",
        "    best = {}\n",
        "    scores = {}\n",
        "    scores['C'] = []\n",
        "    scores['acc'] = []\n",
        "    bs = 0\n",
        "    for C in Cs:\n",
        "        m = LogisticRegression(C=C, max_iter=200).fit(xtr, ytr)\n",
        "        acc = m.score(xts, yts)\n",
        "        scores['C'].append(C)\n",
        "        scores['acc'].append(acc)\n",
        "        if acc > bs:\n",
        "            bs = acc\n",
        "            best['C'] = C\n",
        "            best['acc'] = acc\n",
        "            best['m'] = m\n",
        "    \n",
        "    import pandas as pd\n",
        "    scores = pd.DataFrame(scores)\n",
        "    \n",
        "    return best, scores\n",
        "\n",
        "best, scores = LRtuner(Cs, X_train_scaled, y_train, X_test_scaled, y_test)\n",
        "\n",
        "print(best)\n",
        "scores"
      ],
      "execution_count": null,
      "outputs": [
        {
          "output_type": "stream",
          "name": "stdout",
          "text": [
            "{'C': 0.05, 'acc': 0.986013986013986, 'm': LogisticRegression(C=0.05, max_iter=200)}\n"
          ]
        },
        {
          "output_type": "execute_result",
          "data": {
            "text/html": [
              "\n",
              "  <div id=\"df-ca2e6ec7-e07c-46a7-b417-da98ac6d2759\">\n",
              "    <div class=\"colab-df-container\">\n",
              "      <div>\n",
              "<style scoped>\n",
              "    .dataframe tbody tr th:only-of-type {\n",
              "        vertical-align: middle;\n",
              "    }\n",
              "\n",
              "    .dataframe tbody tr th {\n",
              "        vertical-align: top;\n",
              "    }\n",
              "\n",
              "    .dataframe thead th {\n",
              "        text-align: right;\n",
              "    }\n",
              "</style>\n",
              "<table border=\"1\" class=\"dataframe\">\n",
              "  <thead>\n",
              "    <tr style=\"text-align: right;\">\n",
              "      <th></th>\n",
              "      <th>C</th>\n",
              "      <th>acc</th>\n",
              "    </tr>\n",
              "  </thead>\n",
              "  <tbody>\n",
              "    <tr>\n",
              "      <th>0</th>\n",
              "      <td>0.05</td>\n",
              "      <td>0.986014</td>\n",
              "    </tr>\n",
              "    <tr>\n",
              "      <th>1</th>\n",
              "      <td>0.10</td>\n",
              "      <td>0.986014</td>\n",
              "    </tr>\n",
              "    <tr>\n",
              "      <th>2</th>\n",
              "      <td>0.50</td>\n",
              "      <td>0.986014</td>\n",
              "    </tr>\n",
              "  </tbody>\n",
              "</table>\n",
              "</div>\n",
              "      <button class=\"colab-df-convert\" onclick=\"convertToInteractive('df-ca2e6ec7-e07c-46a7-b417-da98ac6d2759')\"\n",
              "              title=\"Convert this dataframe to an interactive table.\"\n",
              "              style=\"display:none;\">\n",
              "        \n",
              "  <svg xmlns=\"http://www.w3.org/2000/svg\" height=\"24px\"viewBox=\"0 0 24 24\"\n",
              "       width=\"24px\">\n",
              "    <path d=\"M0 0h24v24H0V0z\" fill=\"none\"/>\n",
              "    <path d=\"M18.56 5.44l.94 2.06.94-2.06 2.06-.94-2.06-.94-.94-2.06-.94 2.06-2.06.94zm-11 1L8.5 8.5l.94-2.06 2.06-.94-2.06-.94L8.5 2.5l-.94 2.06-2.06.94zm10 10l.94 2.06.94-2.06 2.06-.94-2.06-.94-.94-2.06-.94 2.06-2.06.94z\"/><path d=\"M17.41 7.96l-1.37-1.37c-.4-.4-.92-.59-1.43-.59-.52 0-1.04.2-1.43.59L10.3 9.45l-7.72 7.72c-.78.78-.78 2.05 0 2.83L4 21.41c.39.39.9.59 1.41.59.51 0 1.02-.2 1.41-.59l7.78-7.78 2.81-2.81c.8-.78.8-2.07 0-2.86zM5.41 20L4 18.59l7.72-7.72 1.47 1.35L5.41 20z\"/>\n",
              "  </svg>\n",
              "      </button>\n",
              "      \n",
              "  <style>\n",
              "    .colab-df-container {\n",
              "      display:flex;\n",
              "      flex-wrap:wrap;\n",
              "      gap: 12px;\n",
              "    }\n",
              "\n",
              "    .colab-df-convert {\n",
              "      background-color: #E8F0FE;\n",
              "      border: none;\n",
              "      border-radius: 50%;\n",
              "      cursor: pointer;\n",
              "      display: none;\n",
              "      fill: #1967D2;\n",
              "      height: 32px;\n",
              "      padding: 0 0 0 0;\n",
              "      width: 32px;\n",
              "    }\n",
              "\n",
              "    .colab-df-convert:hover {\n",
              "      background-color: #E2EBFA;\n",
              "      box-shadow: 0px 1px 2px rgba(60, 64, 67, 0.3), 0px 1px 3px 1px rgba(60, 64, 67, 0.15);\n",
              "      fill: #174EA6;\n",
              "    }\n",
              "\n",
              "    [theme=dark] .colab-df-convert {\n",
              "      background-color: #3B4455;\n",
              "      fill: #D2E3FC;\n",
              "    }\n",
              "\n",
              "    [theme=dark] .colab-df-convert:hover {\n",
              "      background-color: #434B5C;\n",
              "      box-shadow: 0px 1px 3px 1px rgba(0, 0, 0, 0.15);\n",
              "      filter: drop-shadow(0px 1px 2px rgba(0, 0, 0, 0.3));\n",
              "      fill: #FFFFFF;\n",
              "    }\n",
              "  </style>\n",
              "\n",
              "      <script>\n",
              "        const buttonEl =\n",
              "          document.querySelector('#df-ca2e6ec7-e07c-46a7-b417-da98ac6d2759 button.colab-df-convert');\n",
              "        buttonEl.style.display =\n",
              "          google.colab.kernel.accessAllowed ? 'block' : 'none';\n",
              "\n",
              "        async function convertToInteractive(key) {\n",
              "          const element = document.querySelector('#df-ca2e6ec7-e07c-46a7-b417-da98ac6d2759');\n",
              "          const dataTable =\n",
              "            await google.colab.kernel.invokeFunction('convertToInteractive',\n",
              "                                                     [key], {});\n",
              "          if (!dataTable) return;\n",
              "\n",
              "          const docLinkHtml = 'Like what you see? Visit the ' +\n",
              "            '<a target=\"_blank\" href=https://colab.research.google.com/notebooks/data_table.ipynb>data table notebook</a>'\n",
              "            + ' to learn more about interactive tables.';\n",
              "          element.innerHTML = '';\n",
              "          dataTable['output_type'] = 'display_data';\n",
              "          await google.colab.output.renderOutput(dataTable, element);\n",
              "          const docLink = document.createElement('div');\n",
              "          docLink.innerHTML = docLinkHtml;\n",
              "          element.appendChild(docLink);\n",
              "        }\n",
              "      </script>\n",
              "    </div>\n",
              "  </div>\n",
              "  "
            ],
            "text/plain": [
              "      C       acc\n",
              "0  0.05  0.986014\n",
              "1  0.10  0.986014\n",
              "2  0.50  0.986014"
            ]
          },
          "metadata": {},
          "execution_count": 30
        }
      ]
    },
    {
      "cell_type": "markdown",
      "metadata": {
        "id": "C35irN4p2iB8"
      },
      "source": [
        "[Quiz] StratifiedFold와 GridSearchCV를 이용하여 위와 같이 튜닝하고 가장 좋은 모델에서의 accuracy를 구하라."
      ]
    },
    {
      "cell_type": "code",
      "metadata": {
        "id": "J3DB8wty2iB8",
        "colab": {
          "base_uri": "https://localhost:8080/"
        },
        "outputId": "fd6e7203-9885-4003-8181-533bd4727dde"
      },
      "source": [
        "from sklearn.model_selection import StratifiedKFold\n",
        "from sklearn.model_selection import GridSearchCV\n",
        "\n",
        "cv = StratifiedKFold(n_splits=5, shuffle=True, random_state=42)\n",
        "estimator = LogisticRegression(max_iter=200)\n",
        "params= {'penalty':['l1', 'l2'],\n",
        "        'C':[0.001, 0.01, 0.1, 1, 10, 100]}\n",
        "model = GridSearchCV(estimator, params, cv=cv, verbose=1,\n",
        "                    n_jobs=-1, refit=True)\n",
        "\n",
        "# refit=True인 경우라면 재학습은 불필요하다. \n",
        "model.fit(X_train_scaled, y_train)\n",
        "\n",
        "print(f\"Best Estimator: {model.best_estimator_}\\n\")\n",
        "print(f\"Best Params: {model.best_params_}\\n\")\n",
        "print(f\"Best Scorer: {model.best_score_}\\n\")"
      ],
      "execution_count": null,
      "outputs": [
        {
          "output_type": "stream",
          "name": "stdout",
          "text": [
            "Fitting 5 folds for each of 12 candidates, totalling 60 fits\n",
            "Best Estimator: LogisticRegression(C=1, max_iter=200)\n",
            "\n",
            "Best Params: {'C': 1, 'penalty': 'l2'}\n",
            "\n",
            "Best Scorer: 0.9836388508891929\n",
            "\n"
          ]
        },
        {
          "output_type": "stream",
          "name": "stderr",
          "text": [
            "/usr/local/lib/python3.7/dist-packages/sklearn/model_selection/_validation.py:372: FitFailedWarning: \n",
            "30 fits failed out of a total of 60.\n",
            "The score on these train-test partitions for these parameters will be set to nan.\n",
            "If these failures are not expected, you can try to debug them by setting error_score='raise'.\n",
            "\n",
            "Below are more details about the failures:\n",
            "--------------------------------------------------------------------------------\n",
            "30 fits failed with the following error:\n",
            "Traceback (most recent call last):\n",
            "  File \"/usr/local/lib/python3.7/dist-packages/sklearn/model_selection/_validation.py\", line 681, in _fit_and_score\n",
            "    estimator.fit(X_train, y_train, **fit_params)\n",
            "  File \"/usr/local/lib/python3.7/dist-packages/sklearn/linear_model/_logistic.py\", line 1461, in fit\n",
            "    solver = _check_solver(self.solver, self.penalty, self.dual)\n",
            "  File \"/usr/local/lib/python3.7/dist-packages/sklearn/linear_model/_logistic.py\", line 449, in _check_solver\n",
            "    % (solver, penalty)\n",
            "ValueError: Solver lbfgs supports only 'l2' or 'none' penalties, got l1 penalty.\n",
            "\n",
            "  warnings.warn(some_fits_failed_message, FitFailedWarning)\n",
            "/usr/local/lib/python3.7/dist-packages/sklearn/model_selection/_search.py:972: UserWarning: One or more of the test scores are non-finite: [       nan 0.84744186        nan 0.93666211        nan 0.9695212\n",
            "        nan 0.98363885        nan 0.97658003        nan 0.97187415]\n",
            "  category=UserWarning,\n"
          ]
        }
      ]
    },
    {
      "cell_type": "code",
      "metadata": {
        "id": "pUOiS3t92iB9",
        "colab": {
          "base_uri": "https://localhost:8080/"
        },
        "outputId": "71fd5414-0a2b-48f8-f737-aed9b8f8a4d6"
      },
      "source": [
        "model.best_estimator_.score(X_test_scaled, y_test)"
      ],
      "execution_count": null,
      "outputs": [
        {
          "output_type": "execute_result",
          "data": {
            "text/plain": [
              "0.986013986013986"
            ]
          },
          "metadata": {},
          "execution_count": 32
        }
      ]
    },
    {
      "cell_type": "markdown",
      "metadata": {
        "id": "VAHbqA0x2iB9"
      },
      "source": [
        "다시 튜닝하면:"
      ]
    },
    {
      "cell_type": "code",
      "metadata": {
        "id": "9WJ9zss_2iB9",
        "colab": {
          "base_uri": "https://localhost:8080/"
        },
        "outputId": "80e1a79f-3fd1-4523-9519-261f8d413861"
      },
      "source": [
        "from sklearn.model_selection import StratifiedKFold\n",
        "from sklearn.model_selection import GridSearchCV\n",
        "\n",
        "cv = StratifiedKFold(n_splits=5, shuffle=True, random_state=42)\n",
        "estimator = LogisticRegression(max_iter=200, penalty='l2')\n",
        "params= {'C':[0.2, 0.25, 0.3, 0.35, 0.4, 0.45]}\n",
        "model = GridSearchCV(estimator, params, cv=cv, verbose=1,\n",
        "                    n_jobs=-1, refit=True)\n",
        "\n",
        "# refit=True인 경우라면 재학습은 불필요하다. \n",
        "model.fit(X_train_scaled, y_train)\n",
        "\n",
        "print(f\"Best Estimator: {model.best_estimator_}\\n\")\n",
        "print(f\"Best Params: {model.best_params_}\\n\")\n",
        "print(f\"Best Scorer: {model.best_score_}\\n\")"
      ],
      "execution_count": null,
      "outputs": [
        {
          "output_type": "stream",
          "name": "stdout",
          "text": [
            "Fitting 5 folds for each of 6 candidates, totalling 30 fits\n",
            "Best Estimator: LogisticRegression(C=0.3, max_iter=200)\n",
            "\n",
            "Best Params: {'C': 0.3}\n",
            "\n",
            "Best Scorer: 0.9812859097127223\n",
            "\n"
          ]
        }
      ]
    },
    {
      "cell_type": "code",
      "metadata": {
        "id": "2Mj7-BSj2iB-",
        "colab": {
          "base_uri": "https://localhost:8080/"
        },
        "outputId": "b81392fe-6711-460e-e840-70ed31a49d17"
      },
      "source": [
        "model.best_estimator_.score(X_test_scaled, y_test)"
      ],
      "execution_count": null,
      "outputs": [
        {
          "output_type": "execute_result",
          "data": {
            "text/plain": [
              "0.993006993006993"
            ]
          },
          "metadata": {},
          "execution_count": 34
        }
      ]
    },
    {
      "cell_type": "markdown",
      "metadata": {
        "id": "fNSX1T272iB-"
      },
      "source": [
        "### 2.4.3 Decision Tree\n",
        "규칙기반으로 학습데이터를 나누는 알고리즘으로 규칙은 전체 데이터로 이뤄진 전체 엔트로피(또는 지니계수)를 낮추는 방향으로 결정된다.\n",
        "\n",
        "아래 그림과 같이 규칙에 대해 True인 경우는 왼쪽으로 False로 나누는 것은 업계의 관례이다.\n",
        "![](tree2.png)\n",
        "\n",
        "위 그림에서 root부터 leaf에 도달까지의 split depth는 5로 제한하여 완벽히 나눠지지 않도록 overfit을 방지하였다. Decision Tree(이하 DT)는 overfit될 위험이 높익 때문에 일반적으로 다음과 같은 규제를 가한다.\n",
        "1. max depth의 제한: 보통 8이하로 설정\n",
        "2. min split samples: 나누기 위해 필요한 branch의 샘플 수(또는 비율)\n",
        "3. min leaf samples: leaf가 되기 위해 필요한 샘플 수(또는 비율)\n",
        "4. max leaf nodes: leaf의 수를 제한"
      ]
    },
    {
      "cell_type": "code",
      "metadata": {
        "id": "pg94uc-T2iB-",
        "colab": {
          "base_uri": "https://localhost:8080/"
        },
        "outputId": "d93099ea-eb34-421a-a1be-6905c8ca9d14"
      },
      "source": [
        "coinProb = np.array([.5, .5])\n",
        "coinProb"
      ],
      "execution_count": null,
      "outputs": [
        {
          "output_type": "execute_result",
          "data": {
            "text/plain": [
              "array([0.5, 0.5])"
            ]
          },
          "metadata": {},
          "execution_count": 35
        }
      ]
    },
    {
      "cell_type": "markdown",
      "metadata": {
        "id": "ndwgibhk2iB_"
      },
      "source": [
        "앞뒷면이 나올확률이 동등한 동전에서 entropy를 계산하면:\n",
        "- 동전의 앞면이 나올확률 : coinProb[0]\n",
        "- 동전의 뒷면이 나올확률 : coinProb[1]\n",
        "\n",
        "$$Entropy(p) = - \\sum_i^C p_i \\log p_i$$\n",
        "- C는 가능한 class의 수"
      ]
    },
    {
      "cell_type": "code",
      "metadata": {
        "id": "r949XMx72iB_",
        "colab": {
          "base_uri": "https://localhost:8080/"
        },
        "outputId": "afd09fde-3a66-4cea-b99e-46c1f6bed549"
      },
      "source": [
        "Ecoin = - np.sum(coinProb * np.log2(coinProb))\n",
        "Ecoin"
      ],
      "execution_count": null,
      "outputs": [
        {
          "output_type": "execute_result",
          "data": {
            "text/plain": [
              "1.0"
            ]
          },
          "metadata": {},
          "execution_count": 36
        }
      ]
    },
    {
      "cell_type": "code",
      "metadata": {
        "id": "I9d4desf2iB_",
        "colab": {
          "base_uri": "https://localhost:8080/"
        },
        "outputId": "68f05d64-f230-4c3f-e5d2-5206275bec54"
      },
      "source": [
        "coinProb = np.array([.9, .1])\n",
        "Ecoin = - np.sum(coinProb * np.log2(coinProb))\n",
        "Ecoin"
      ],
      "execution_count": null,
      "outputs": [
        {
          "output_type": "execute_result",
          "data": {
            "text/plain": [
              "0.4689955935892812"
            ]
          },
          "metadata": {},
          "execution_count": 37
        }
      ]
    },
    {
      "cell_type": "markdown",
      "metadata": {
        "id": "6fVENrQy2iCA"
      },
      "source": [
        "[Quiz] 동전의 앞면이 나올확률이 0.01 ~ 0.99 변동할 때 이때의 entropy를 계산하고 그래프로 그려보자."
      ]
    },
    {
      "cell_type": "code",
      "metadata": {
        "id": "m0Rh2nxo2iCA",
        "colab": {
          "base_uri": "https://localhost:8080/"
        },
        "outputId": "cc7733c4-6822-492b-c731-88c555335fa9"
      },
      "source": [
        "proby1 = np.arange(0.01, 1, 0.01)\n",
        "proby1.shape"
      ],
      "execution_count": null,
      "outputs": [
        {
          "output_type": "execute_result",
          "data": {
            "text/plain": [
              "(99,)"
            ]
          },
          "metadata": {},
          "execution_count": 38
        }
      ]
    },
    {
      "cell_type": "code",
      "metadata": {
        "id": "64Q9aKQF2iCA"
      },
      "source": [
        "def binaryEntropy(pArr):\n",
        "    sum = 0\n",
        "    sum -= pArr*np.log2(pArr)\n",
        "    sum -= (1-pArr)*np.log2(1-pArr)\n",
        "    return sum"
      ],
      "execution_count": null,
      "outputs": []
    },
    {
      "cell_type": "code",
      "metadata": {
        "id": "99bvScTg2iCA"
      },
      "source": [
        "entropy = binaryEntropy(proby1)"
      ],
      "execution_count": null,
      "outputs": []
    },
    {
      "cell_type": "code",
      "metadata": {
        "id": "W12KW-_n2iCA",
        "colab": {
          "base_uri": "https://localhost:8080/"
        },
        "outputId": "fcf34c2e-40c7-4df5-fafe-97909887fefb"
      },
      "source": [
        "import matplotlib.pyplot as plt\n",
        "plt.plot(proby1, entropy)"
      ],
      "execution_count": null,
      "outputs": [
        {
          "output_type": "execute_result",
          "data": {
            "text/plain": [
              "[<matplotlib.lines.Line2D at 0x7fe407e69090>]"
            ]
          },
          "metadata": {},
          "execution_count": 41
        },
        {
          "output_type": "display_data",
          "data": {
            "image/png": "[encoded data removed]",
            "text/plain": [
              "<Figure size 432x288 with 1 Axes>"
            ]
          },
          "metadata": {
            "needs_background": "light"
          }
        }
      ]
    },
    {
      "cell_type": "markdown",
      "metadata": {
        "id": "vBKVdisK2iCB"
      },
      "source": [
        "gini 계수를 계산하면:\n",
        "$$Gini(p) = \\sum_i^C {p_i(1-p_i)} = 1 - \\sum_i^C p_i^2$$"
      ]
    },
    {
      "cell_type": "code",
      "metadata": {
        "id": "tA_UQL8W2iCB"
      },
      "source": [
        "def gini(p):\n",
        "    sum = 1\n",
        "    sum -= p**2\n",
        "    sum -= (1-p)**2\n",
        "    return sum"
      ],
      "execution_count": null,
      "outputs": []
    },
    {
      "cell_type": "code",
      "metadata": {
        "id": "JWMM6iBC2iCB"
      },
      "source": [
        "sp = pd.Series(proby1)"
      ],
      "execution_count": null,
      "outputs": []
    },
    {
      "cell_type": "code",
      "metadata": {
        "id": "fZrjsKpm2iCB",
        "colab": {
          "base_uri": "https://localhost:8080/"
        },
        "outputId": "a17ff79b-ccee-4fed-c5d7-7046f5f35572"
      },
      "source": [
        "Gcoin = sp.map(gini)\n",
        "Gcoin.index = proby1\n",
        "Gcoin.plot()"
      ],
      "execution_count": null,
      "outputs": [
        {
          "output_type": "execute_result",
          "data": {
            "text/plain": [
              "<matplotlib.axes._subplots.AxesSubplot at 0x7fe407600650>"
            ]
          },
          "metadata": {},
          "execution_count": 44
        },
        {
          "output_type": "display_data",
          "data": {
            "image/png": "[encoded data removed]",
            "text/plain": [
              "<Figure size 432x288 with 1 Axes>"
            ]
          },
          "metadata": {
            "needs_background": "light"
          }
        }
      ]
    },
    {
      "cell_type": "markdown",
      "metadata": {
        "id": "gsoZZVXW2iCB"
      },
      "source": [
        "3가지 색의 구슬이 들어있는 전체집단 S에서의 엔트로피를 계산해보자."
      ]
    },
    {
      "cell_type": "code",
      "metadata": {
        "id": "rmLCkunH2iCC",
        "colab": {
          "base_uri": "https://localhost:8080/"
        },
        "outputId": "42e95559-ee22-45e0-c17f-d9af534162ba"
      },
      "source": [
        "gooseuls = [0]*8 + [1]*7 + [2]*5\n",
        "gooseuls"
      ],
      "execution_count": null,
      "outputs": [
        {
          "output_type": "execute_result",
          "data": {
            "text/plain": [
              "[0, 0, 0, 0, 0, 0, 0, 0, 1, 1, 1, 1, 1, 1, 1, 2, 2, 2, 2, 2]"
            ]
          },
          "metadata": {},
          "execution_count": 45
        }
      ]
    },
    {
      "cell_type": "code",
      "metadata": {
        "id": "9zmtsU1P2iCC",
        "colab": {
          "base_uri": "https://localhost:8080/"
        },
        "outputId": "6d715077-9bb7-4bf7-f99e-a56443a2f8d1"
      },
      "source": [
        "S = pd.Series(gooseuls)\n",
        "S.value_counts()"
      ],
      "execution_count": null,
      "outputs": [
        {
          "output_type": "execute_result",
          "data": {
            "text/plain": [
              "0    8\n",
              "1    7\n",
              "2    5\n",
              "dtype: int64"
            ]
          },
          "metadata": {},
          "execution_count": 46
        }
      ]
    },
    {
      "cell_type": "code",
      "metadata": {
        "id": "rBgIHSrc2iCC",
        "colab": {
          "base_uri": "https://localhost:8080/"
        },
        "outputId": "ad38bb8b-9590-434e-be8e-fb4aaaee145c"
      },
      "source": [
        "nS = len(S)\n",
        "nS"
      ],
      "execution_count": null,
      "outputs": [
        {
          "output_type": "execute_result",
          "data": {
            "text/plain": [
              "20"
            ]
          },
          "metadata": {},
          "execution_count": 47
        }
      ]
    },
    {
      "cell_type": "code",
      "metadata": {
        "id": "o7NL3wfN2iCC",
        "colab": {
          "base_uri": "https://localhost:8080/"
        },
        "outputId": "b45e655e-1d65-49bc-cf5e-70a83ffed5a8"
      },
      "source": [
        "S.value_counts() / nS"
      ],
      "execution_count": null,
      "outputs": [
        {
          "output_type": "execute_result",
          "data": {
            "text/plain": [
              "0    0.40\n",
              "1    0.35\n",
              "2    0.25\n",
              "dtype: float64"
            ]
          },
          "metadata": {},
          "execution_count": 48
        }
      ]
    },
    {
      "cell_type": "code",
      "metadata": {
        "id": "p8D1ziBb2iCC",
        "colab": {
          "base_uri": "https://localhost:8080/"
        },
        "outputId": "21677116-8c27-420b-9675-14c7ea3d60e2"
      },
      "source": [
        "probS = S.value_counts(normalize=True)\n",
        "probS"
      ],
      "execution_count": null,
      "outputs": [
        {
          "output_type": "execute_result",
          "data": {
            "text/plain": [
              "0    0.40\n",
              "1    0.35\n",
              "2    0.25\n",
              "dtype: float64"
            ]
          },
          "metadata": {},
          "execution_count": 49
        }
      ]
    },
    {
      "cell_type": "markdown",
      "metadata": {
        "id": "pUiLX9D22iCD"
      },
      "source": [
        "[Quiz] probS를 이용하여 Entropy를 계산해보자."
      ]
    },
    {
      "cell_type": "code",
      "metadata": {
        "id": "SiuiRyGz2iCD"
      },
      "source": [
        "def Entropy(probs):\n",
        "    return - np.sum(probs*np.log2(probs))"
      ],
      "execution_count": null,
      "outputs": []
    },
    {
      "cell_type": "code",
      "metadata": {
        "id": "YwvX1Aol2iCD",
        "colab": {
          "base_uri": "https://localhost:8080/"
        },
        "outputId": "b9f61f72-3e1d-4d20-c6a9-241924ae373b"
      },
      "source": [
        "SEntropy = Entropy(probS)\n",
        "SEntropy"
      ],
      "execution_count": null,
      "outputs": [
        {
          "output_type": "execute_result",
          "data": {
            "text/plain": [
              "1.5588718484453603"
            ]
          },
          "metadata": {},
          "execution_count": 51
        }
      ]
    },
    {
      "cell_type": "markdown",
      "metadata": {
        "id": "K-q57BMo2iCD"
      },
      "source": [
        "turns로 나뉜 집단에 대한 E(S')을 계산하고, 이에 따른 정보이득 Gain(S)를 도출하자.\n",
        "$$ \\begin{align}\n",
        "E(S') &= \\sum_g {\\cfrac {n(S_g)}{n(S)}E(S_g)} \\\\\n",
        "&= \\cfrac{n(S_{left})}{n(S)}E(S_{left}) + \\cfrac{n(S_{right})}{n(S)}E(S_{right})\n",
        "\\end{align}$$\n",
        "\n",
        "이때 정보이득은 아래와 같이 계산된다.\n",
        "$$I_G(S) = E(S) - E(S')$$\n",
        "\n",
        "내가 2개의 집단으로 나눴는데:\n",
        "- left: [0,0,0,0,0,1,1,2,2,2]\n",
        "- right: [0,0,0,1,1,1,1,1,2,2]\n",
        "\n",
        "이때 정보이득을 계산하라"
      ]
    },
    {
      "cell_type": "code",
      "metadata": {
        "id": "untMUM1x2iCD",
        "colab": {
          "base_uri": "https://localhost:8080/"
        },
        "outputId": "26f83b90-030b-47b2-dd53-5f2f9c272353"
      },
      "source": [
        "turns = ['left']*5 + ['right']*3 + ['left']*2 + ['right']*5 + ['left']*3 + ['right']*2\n",
        "turns = pd.Series(turns)\n",
        "turns.tail()"
      ],
      "execution_count": null,
      "outputs": [
        {
          "output_type": "execute_result",
          "data": {
            "text/plain": [
              "15     left\n",
              "16     left\n",
              "17     left\n",
              "18    right\n",
              "19    right\n",
              "dtype: object"
            ]
          },
          "metadata": {},
          "execution_count": 52
        }
      ]
    },
    {
      "cell_type": "code",
      "metadata": {
        "id": "V-IuIhRa2iCE",
        "colab": {
          "base_uri": "https://localhost:8080/"
        },
        "outputId": "1d26c397-69a9-4dd0-831f-c2466eecc93f"
      },
      "source": [
        "turns.shape"
      ],
      "execution_count": null,
      "outputs": [
        {
          "output_type": "execute_result",
          "data": {
            "text/plain": [
              "(20,)"
            ]
          },
          "metadata": {},
          "execution_count": 53
        }
      ]
    },
    {
      "cell_type": "code",
      "metadata": {
        "id": "I4xdC3yY2iCE"
      },
      "source": [
        "N = len(S)\n",
        "groups = S.groupby(turns)"
      ],
      "execution_count": null,
      "outputs": []
    },
    {
      "cell_type": "code",
      "metadata": {
        "id": "CF6-4LQc2iCE",
        "colab": {
          "base_uri": "https://localhost:8080/"
        },
        "outputId": "a3597d04-7aa6-4433-985d-0112213ee2cf"
      },
      "source": [
        "for key, g in groups:\n",
        "    print(key)\n",
        "    print(g)\n",
        "    print(\"=============\")"
      ],
      "execution_count": null,
      "outputs": [
        {
          "output_type": "stream",
          "name": "stdout",
          "text": [
            "left\n",
            "0     0\n",
            "1     0\n",
            "2     0\n",
            "3     0\n",
            "4     0\n",
            "8     1\n",
            "9     1\n",
            "15    2\n",
            "16    2\n",
            "17    2\n",
            "dtype: int64\n",
            "=============\n",
            "right\n",
            "5     0\n",
            "6     0\n",
            "7     0\n",
            "10    1\n",
            "11    1\n",
            "12    1\n",
            "13    1\n",
            "14    1\n",
            "18    2\n",
            "19    2\n",
            "dtype: int64\n",
            "=============\n"
          ]
        }
      ]
    },
    {
      "cell_type": "code",
      "metadata": {
        "id": "n92UCsBS2iCE",
        "colab": {
          "base_uri": "https://localhost:8080/"
        },
        "outputId": "60887426-f270-42bb-ee60-2676b232f30f"
      },
      "source": [
        "SprimeEntropy = 0\n",
        "for _, g in groups:\n",
        "    gprobs = g.value_counts(normalize=True)\n",
        "    splitN = len(g)\n",
        "    SprimeEntropy += splitN / N * Entropy(gprobs)\n",
        "    print(SprimeEntropy)\n",
        "\n",
        "SEntropy - SprimeEntropy"
      ],
      "execution_count": null,
      "outputs": [
        {
          "output_type": "stream",
          "name": "stdout",
          "text": [
            "0.7427376486136672\n",
            "1.4854752972273344\n"
          ]
        },
        {
          "output_type": "execute_result",
          "data": {
            "text/plain": [
              "0.07339655121802591"
            ]
          },
          "metadata": {},
          "execution_count": 56
        }
      ]
    },
    {
      "cell_type": "markdown",
      "metadata": {
        "id": "i0Hrmjs82iCE"
      },
      "source": [
        "[Quiz] 다음과 같은 변수 sex가 있을 때, sex로 나누는 경우에 대한 entropy와 gain을 구하라."
      ]
    },
    {
      "cell_type": "code",
      "metadata": {
        "id": "GSZwHZof2iCF",
        "colab": {
          "base_uri": "https://localhost:8080/"
        },
        "outputId": "d2a0c051-8106-4210-f3d3-1d27ba7a8327"
      },
      "source": [
        "gooseuls"
      ],
      "execution_count": null,
      "outputs": [
        {
          "output_type": "execute_result",
          "data": {
            "text/plain": [
              "[0, 0, 0, 0, 0, 0, 0, 0, 1, 1, 1, 1, 1, 1, 1, 2, 2, 2, 2, 2]"
            ]
          },
          "metadata": {},
          "execution_count": 57
        }
      ]
    },
    {
      "cell_type": "code",
      "metadata": {
        "id": "_Q6x53h12iCF"
      },
      "source": [
        "sex = ['F']*9 + ['M']*10 + ['F']"
      ],
      "execution_count": null,
      "outputs": []
    },
    {
      "cell_type": "code",
      "metadata": {
        "id": "FQeS8EGe2iCF",
        "colab": {
          "base_uri": "https://localhost:8080/"
        },
        "outputId": "af203ffe-fddb-4e99-9edc-9527d17253b4"
      },
      "source": [
        "newS = S.copy()\n",
        "newS.index = sex\n",
        "newS"
      ],
      "execution_count": null,
      "outputs": [
        {
          "output_type": "execute_result",
          "data": {
            "text/plain": [
              "F    0\n",
              "F    0\n",
              "F    0\n",
              "F    0\n",
              "F    0\n",
              "F    0\n",
              "F    0\n",
              "F    0\n",
              "F    1\n",
              "M    1\n",
              "M    1\n",
              "M    1\n",
              "M    1\n",
              "M    1\n",
              "M    1\n",
              "M    2\n",
              "M    2\n",
              "M    2\n",
              "M    2\n",
              "F    2\n",
              "dtype: int64"
            ]
          },
          "metadata": {},
          "execution_count": 59
        }
      ]
    },
    {
      "cell_type": "code",
      "metadata": {
        "scrolled": true,
        "id": "hgUKsdjO2iCF",
        "colab": {
          "base_uri": "https://localhost:8080/"
        },
        "outputId": "fae461cc-c14c-48f4-9755-cd47b891dac1"
      },
      "source": [
        "sex = pd.Series(sex)\n",
        "groups = S.groupby(sex)\n",
        "\n",
        "SprimeEntropy = 0\n",
        "for _, g in groups:\n",
        "    gprobs = g.value_counts(normalize=True)\n",
        "    splitN = len(g)\n",
        "    SprimeEntropy += splitN / N * Entropy(gprobs)\n",
        "    print(SprimeEntropy)\n",
        "\n",
        "SEntropy - SprimeEntropy"
      ],
      "execution_count": null,
      "outputs": [
        {
          "output_type": "stream",
          "name": "stdout",
          "text": [
            "0.46096404744368114\n",
            "0.9464393446710154\n"
          ]
        },
        {
          "output_type": "execute_result",
          "data": {
            "text/plain": [
              "0.6124325037743449"
            ]
          },
          "metadata": {},
          "execution_count": 60
        }
      ]
    },
    {
      "cell_type": "code",
      "metadata": {
        "id": "y7zBFJ9w2iCF",
        "colab": {
          "base_uri": "https://localhost:8080/"
        },
        "outputId": "e41c6a04-74fb-4947-e77e-fe2583921e74"
      },
      "source": [
        "for key, g in groups:\n",
        "    print(key)\n",
        "    print(g)\n",
        "    print(\"=============\")"
      ],
      "execution_count": null,
      "outputs": [
        {
          "output_type": "stream",
          "name": "stdout",
          "text": [
            "F\n",
            "0     0\n",
            "1     0\n",
            "2     0\n",
            "3     0\n",
            "4     0\n",
            "5     0\n",
            "6     0\n",
            "7     0\n",
            "8     1\n",
            "19    2\n",
            "dtype: int64\n",
            "=============\n",
            "M\n",
            "9     1\n",
            "10    1\n",
            "11    1\n",
            "12    1\n",
            "13    1\n",
            "14    1\n",
            "15    2\n",
            "16    2\n",
            "17    2\n",
            "18    2\n",
            "dtype: int64\n",
            "=============\n"
          ]
        }
      ]
    },
    {
      "cell_type": "code",
      "metadata": {
        "id": "a3ReZC5f2iCG",
        "colab": {
          "base_uri": "https://localhost:8080/"
        },
        "outputId": "d4b58a30-d330-4856-ac3f-73051af97115"
      },
      "source": [
        "pd.concat([S, turns, sex], axis=1)"
      ],
      "execution_count": null,
      "outputs": [
        {
          "output_type": "execute_result",
          "data": {
            "text/html": [
              "\n",
              "  <div id=\"df-18780bc3-e051-46a8-9273-6d9e308b3c1f\">\n",
              "    <div class=\"colab-df-container\">\n",
              "      <div>\n",
              "<style scoped>\n",
              "    .dataframe tbody tr th:only-of-type {\n",
              "        vertical-align: middle;\n",
              "    }\n",
              "\n",
              "    .dataframe tbody tr th {\n",
              "        vertical-align: top;\n",
              "    }\n",
              "\n",
              "    .dataframe thead th {\n",
              "        text-align: right;\n",
              "    }\n",
              "</style>\n",
              "<table border=\"1\" class=\"dataframe\">\n",
              "  <thead>\n",
              "    <tr style=\"text-align: right;\">\n",
              "      <th></th>\n",
              "      <th>0</th>\n",
              "      <th>1</th>\n",
              "      <th>2</th>\n",
              "    </tr>\n",
              "  </thead>\n",
              "  <tbody>\n",
              "    <tr>\n",
              "      <th>0</th>\n",
              "      <td>0</td>\n",
              "      <td>left</td>\n",
              "      <td>F</td>\n",
              "    </tr>\n",
              "    <tr>\n",
              "      <th>1</th>\n",
              "      <td>0</td>\n",
              "      <td>left</td>\n",
              "      <td>F</td>\n",
              "    </tr>\n",
              "    <tr>\n",
              "      <th>2</th>\n",
              "      <td>0</td>\n",
              "      <td>left</td>\n",
              "      <td>F</td>\n",
              "    </tr>\n",
              "    <tr>\n",
              "      <th>3</th>\n",
              "      <td>0</td>\n",
              "      <td>left</td>\n",
              "      <td>F</td>\n",
              "    </tr>\n",
              "    <tr>\n",
              "      <th>4</th>\n",
              "      <td>0</td>\n",
              "      <td>left</td>\n",
              "      <td>F</td>\n",
              "    </tr>\n",
              "    <tr>\n",
              "      <th>5</th>\n",
              "      <td>0</td>\n",
              "      <td>right</td>\n",
              "      <td>F</td>\n",
              "    </tr>\n",
              "    <tr>\n",
              "      <th>6</th>\n",
              "      <td>0</td>\n",
              "      <td>right</td>\n",
              "      <td>F</td>\n",
              "    </tr>\n",
              "    <tr>\n",
              "      <th>7</th>\n",
              "      <td>0</td>\n",
              "      <td>right</td>\n",
              "      <td>F</td>\n",
              "    </tr>\n",
              "    <tr>\n",
              "      <th>8</th>\n",
              "      <td>1</td>\n",
              "      <td>left</td>\n",
              "      <td>F</td>\n",
              "    </tr>\n",
              "    <tr>\n",
              "      <th>9</th>\n",
              "      <td>1</td>\n",
              "      <td>left</td>\n",
              "      <td>M</td>\n",
              "    </tr>\n",
              "    <tr>\n",
              "      <th>10</th>\n",
              "      <td>1</td>\n",
              "      <td>right</td>\n",
              "      <td>M</td>\n",
              "    </tr>\n",
              "    <tr>\n",
              "      <th>11</th>\n",
              "      <td>1</td>\n",
              "      <td>right</td>\n",
              "      <td>M</td>\n",
              "    </tr>\n",
              "    <tr>\n",
              "      <th>12</th>\n",
              "      <td>1</td>\n",
              "      <td>right</td>\n",
              "      <td>M</td>\n",
              "    </tr>\n",
              "    <tr>\n",
              "      <th>13</th>\n",
              "      <td>1</td>\n",
              "      <td>right</td>\n",
              "      <td>M</td>\n",
              "    </tr>\n",
              "    <tr>\n",
              "      <th>14</th>\n",
              "      <td>1</td>\n",
              "      <td>right</td>\n",
              "      <td>M</td>\n",
              "    </tr>\n",
              "    <tr>\n",
              "      <th>15</th>\n",
              "      <td>2</td>\n",
              "      <td>left</td>\n",
              "      <td>M</td>\n",
              "    </tr>\n",
              "    <tr>\n",
              "      <th>16</th>\n",
              "      <td>2</td>\n",
              "      <td>left</td>\n",
              "      <td>M</td>\n",
              "    </tr>\n",
              "    <tr>\n",
              "      <th>17</th>\n",
              "      <td>2</td>\n",
              "      <td>left</td>\n",
              "      <td>M</td>\n",
              "    </tr>\n",
              "    <tr>\n",
              "      <th>18</th>\n",
              "      <td>2</td>\n",
              "      <td>right</td>\n",
              "      <td>M</td>\n",
              "    </tr>\n",
              "    <tr>\n",
              "      <th>19</th>\n",
              "      <td>2</td>\n",
              "      <td>right</td>\n",
              "      <td>F</td>\n",
              "    </tr>\n",
              "  </tbody>\n",
              "</table>\n",
              "</div>\n",
              "      <button class=\"colab-df-convert\" onclick=\"convertToInteractive('df-18780bc3-e051-46a8-9273-6d9e308b3c1f')\"\n",
              "              title=\"Convert this dataframe to an interactive table.\"\n",
              "              style=\"display:none;\">\n",
              "        \n",
              "  <svg xmlns=\"http://www.w3.org/2000/svg\" height=\"24px\"viewBox=\"0 0 24 24\"\n",
              "       width=\"24px\">\n",
              "    <path d=\"M0 0h24v24H0V0z\" fill=\"none\"/>\n",
              "    <path d=\"M18.56 5.44l.94 2.06.94-2.06 2.06-.94-2.06-.94-.94-2.06-.94 2.06-2.06.94zm-11 1L8.5 8.5l.94-2.06 2.06-.94-2.06-.94L8.5 2.5l-.94 2.06-2.06.94zm10 10l.94 2.06.94-2.06 2.06-.94-2.06-.94-.94-2.06-.94 2.06-2.06.94z\"/><path d=\"M17.41 7.96l-1.37-1.37c-.4-.4-.92-.59-1.43-.59-.52 0-1.04.2-1.43.59L10.3 9.45l-7.72 7.72c-.78.78-.78 2.05 0 2.83L4 21.41c.39.39.9.59 1.41.59.51 0 1.02-.2 1.41-.59l7.78-7.78 2.81-2.81c.8-.78.8-2.07 0-2.86zM5.41 20L4 18.59l7.72-7.72 1.47 1.35L5.41 20z\"/>\n",
              "  </svg>\n",
              "      </button>\n",
              "      \n",
              "  <style>\n",
              "    .colab-df-container {\n",
              "      display:flex;\n",
              "      flex-wrap:wrap;\n",
              "      gap: 12px;\n",
              "    }\n",
              "\n",
              "    .colab-df-convert {\n",
              "      background-color: #E8F0FE;\n",
              "      border: none;\n",
              "      border-radius: 50%;\n",
              "      cursor: pointer;\n",
              "      display: none;\n",
              "      fill: #1967D2;\n",
              "      height: 32px;\n",
              "      padding: 0 0 0 0;\n",
              "      width: 32px;\n",
              "    }\n",
              "\n",
              "    .colab-df-convert:hover {\n",
              "      background-color: #E2EBFA;\n",
              "      box-shadow: 0px 1px 2px rgba(60, 64, 67, 0.3), 0px 1px 3px 1px rgba(60, 64, 67, 0.15);\n",
              "      fill: #174EA6;\n",
              "    }\n",
              "\n",
              "    [theme=dark] .colab-df-convert {\n",
              "      background-color: #3B4455;\n",
              "      fill: #D2E3FC;\n",
              "    }\n",
              "\n",
              "    [theme=dark] .colab-df-convert:hover {\n",
              "      background-color: #434B5C;\n",
              "      box-shadow: 0px 1px 3px 1px rgba(0, 0, 0, 0.15);\n",
              "      filter: drop-shadow(0px 1px 2px rgba(0, 0, 0, 0.3));\n",
              "      fill: #FFFFFF;\n",
              "    }\n",
              "  </style>\n",
              "\n",
              "      <script>\n",
              "        const buttonEl =\n",
              "          document.querySelector('#df-18780bc3-e051-46a8-9273-6d9e308b3c1f button.colab-df-convert');\n",
              "        buttonEl.style.display =\n",
              "          google.colab.kernel.accessAllowed ? 'block' : 'none';\n",
              "\n",
              "        async function convertToInteractive(key) {\n",
              "          const element = document.querySelector('#df-18780bc3-e051-46a8-9273-6d9e308b3c1f');\n",
              "          const dataTable =\n",
              "            await google.colab.kernel.invokeFunction('convertToInteractive',\n",
              "                                                     [key], {});\n",
              "          if (!dataTable) return;\n",
              "\n",
              "          const docLinkHtml = 'Like what you see? Visit the ' +\n",
              "            '<a target=\"_blank\" href=https://colab.research.google.com/notebooks/data_table.ipynb>data table notebook</a>'\n",
              "            + ' to learn more about interactive tables.';\n",
              "          element.innerHTML = '';\n",
              "          dataTable['output_type'] = 'display_data';\n",
              "          await google.colab.output.renderOutput(dataTable, element);\n",
              "          const docLink = document.createElement('div');\n",
              "          docLink.innerHTML = docLinkHtml;\n",
              "          element.appendChild(docLink);\n",
              "        }\n",
              "      </script>\n",
              "    </div>\n",
              "  </div>\n",
              "  "
            ],
            "text/plain": [
              "    0      1  2\n",
              "0   0   left  F\n",
              "1   0   left  F\n",
              "2   0   left  F\n",
              "3   0   left  F\n",
              "4   0   left  F\n",
              "5   0  right  F\n",
              "6   0  right  F\n",
              "7   0  right  F\n",
              "8   1   left  F\n",
              "9   1   left  M\n",
              "10  1  right  M\n",
              "11  1  right  M\n",
              "12  1  right  M\n",
              "13  1  right  M\n",
              "14  1  right  M\n",
              "15  2   left  M\n",
              "16  2   left  M\n",
              "17  2   left  M\n",
              "18  2  right  M\n",
              "19  2  right  F"
            ]
          },
          "metadata": {},
          "execution_count": 62
        }
      ]
    },
    {
      "cell_type": "markdown",
      "metadata": {
        "id": "mcJlztOd2iCG"
      },
      "source": [
        "#### sklearn 실습"
      ]
    },
    {
      "cell_type": "code",
      "metadata": {
        "id": "VbtU5wj42iCG",
        "colab": {
          "base_uri": "https://localhost:8080/"
        },
        "outputId": "086695a8-556f-4269-8982-06919922aee9"
      },
      "source": [
        "import seaborn as sns\n",
        "\n",
        "data = sns.load_dataset('titanic')\n",
        "data.head()"
      ],
      "execution_count": null,
      "outputs": [
        {
          "output_type": "execute_result",
          "data": {
            "text/html": [
              "\n",
              "  <div id=\"df-63ccc650-aca3-408c-8892-5cd6a41d108e\">\n",
              "    <div class=\"colab-df-container\">\n",
              "      <div>\n",
              "<style scoped>\n",
              "    .dataframe tbody tr th:only-of-type {\n",
              "        vertical-align: middle;\n",
              "    }\n",
              "\n",
              "    .dataframe tbody tr th {\n",
              "        vertical-align: top;\n",
              "    }\n",
              "\n",
              "    .dataframe thead th {\n",
              "        text-align: right;\n",
              "    }\n",
              "</style>\n",
              "<table border=\"1\" class=\"dataframe\">\n",
              "  <thead>\n",
              "    <tr style=\"text-align: right;\">\n",
              "      <th></th>\n",
              "      <th>survived</th>\n",
              "      <th>pclass</th>\n",
              "      <th>sex</th>\n",
              "      <th>age</th>\n",
              "      <th>sibsp</th>\n",
              "      <th>parch</th>\n",
              "      <th>fare</th>\n",
              "      <th>embarked</th>\n",
              "      <th>class</th>\n",
              "      <th>who</th>\n",
              "      <th>adult_male</th>\n",
              "      <th>deck</th>\n",
              "      <th>embark_town</th>\n",
              "      <th>alive</th>\n",
              "      <th>alone</th>\n",
              "    </tr>\n",
              "  </thead>\n",
              "  <tbody>\n",
              "    <tr>\n",
              "      <th>0</th>\n",
              "      <td>0</td>\n",
              "      <td>3</td>\n",
              "      <td>male</td>\n",
              "      <td>22.0</td>\n",
              "      <td>1</td>\n",
              "      <td>0</td>\n",
              "      <td>7.2500</td>\n",
              "      <td>S</td>\n",
              "      <td>Third</td>\n",
              "      <td>man</td>\n",
              "      <td>True</td>\n",
              "      <td>NaN</td>\n",
              "      <td>Southampton</td>\n",
              "      <td>no</td>\n",
              "      <td>False</td>\n",
              "    </tr>\n",
              "    <tr>\n",
              "      <th>1</th>\n",
              "      <td>1</td>\n",
              "      <td>1</td>\n",
              "      <td>female</td>\n",
              "      <td>38.0</td>\n",
              "      <td>1</td>\n",
              "      <td>0</td>\n",
              "      <td>71.2833</td>\n",
              "      <td>C</td>\n",
              "      <td>First</td>\n",
              "      <td>woman</td>\n",
              "      <td>False</td>\n",
              "      <td>C</td>\n",
              "      <td>Cherbourg</td>\n",
              "      <td>yes</td>\n",
              "      <td>False</td>\n",
              "    </tr>\n",
              "    <tr>\n",
              "      <th>2</th>\n",
              "      <td>1</td>\n",
              "      <td>3</td>\n",
              "      <td>female</td>\n",
              "      <td>26.0</td>\n",
              "      <td>0</td>\n",
              "      <td>0</td>\n",
              "      <td>7.9250</td>\n",
              "      <td>S</td>\n",
              "      <td>Third</td>\n",
              "      <td>woman</td>\n",
              "      <td>False</td>\n",
              "      <td>NaN</td>\n",
              "      <td>Southampton</td>\n",
              "      <td>yes</td>\n",
              "      <td>True</td>\n",
              "    </tr>\n",
              "    <tr>\n",
              "      <th>3</th>\n",
              "      <td>1</td>\n",
              "      <td>1</td>\n",
              "      <td>female</td>\n",
              "      <td>35.0</td>\n",
              "      <td>1</td>\n",
              "      <td>0</td>\n",
              "      <td>53.1000</td>\n",
              "      <td>S</td>\n",
              "      <td>First</td>\n",
              "      <td>woman</td>\n",
              "      <td>False</td>\n",
              "      <td>C</td>\n",
              "      <td>Southampton</td>\n",
              "      <td>yes</td>\n",
              "      <td>False</td>\n",
              "    </tr>\n",
              "    <tr>\n",
              "      <th>4</th>\n",
              "      <td>0</td>\n",
              "      <td>3</td>\n",
              "      <td>male</td>\n",
              "      <td>35.0</td>\n",
              "      <td>0</td>\n",
              "      <td>0</td>\n",
              "      <td>8.0500</td>\n",
              "      <td>S</td>\n",
              "      <td>Third</td>\n",
              "      <td>man</td>\n",
              "      <td>True</td>\n",
              "      <td>NaN</td>\n",
              "      <td>Southampton</td>\n",
              "      <td>no</td>\n",
              "      <td>True</td>\n",
              "    </tr>\n",
              "  </tbody>\n",
              "</table>\n",
              "</div>\n",
              "      <button class=\"colab-df-convert\" onclick=\"convertToInteractive('df-63ccc650-aca3-408c-8892-5cd6a41d108e')\"\n",
              "              title=\"Convert this dataframe to an interactive table.\"\n",
              "              style=\"display:none;\">\n",
              "        \n",
              "  <svg xmlns=\"http://www.w3.org/2000/svg\" height=\"24px\"viewBox=\"0 0 24 24\"\n",
              "       width=\"24px\">\n",
              "    <path d=\"M0 0h24v24H0V0z\" fill=\"none\"/>\n",
              "    <path d=\"M18.56 5.44l.94 2.06.94-2.06 2.06-.94-2.06-.94-.94-2.06-.94 2.06-2.06.94zm-11 1L8.5 8.5l.94-2.06 2.06-.94-2.06-.94L8.5 2.5l-.94 2.06-2.06.94zm10 10l.94 2.06.94-2.06 2.06-.94-2.06-.94-.94-2.06-.94 2.06-2.06.94z\"/><path d=\"M17.41 7.96l-1.37-1.37c-.4-.4-.92-.59-1.43-.59-.52 0-1.04.2-1.43.59L10.3 9.45l-7.72 7.72c-.78.78-.78 2.05 0 2.83L4 21.41c.39.39.9.59 1.41.59.51 0 1.02-.2 1.41-.59l7.78-7.78 2.81-2.81c.8-.78.8-2.07 0-2.86zM5.41 20L4 18.59l7.72-7.72 1.47 1.35L5.41 20z\"/>\n",
              "  </svg>\n",
              "      </button>\n",
              "      \n",
              "  <style>\n",
              "    .colab-df-container {\n",
              "      display:flex;\n",
              "      flex-wrap:wrap;\n",
              "      gap: 12px;\n",
              "    }\n",
              "\n",
              "    .colab-df-convert {\n",
              "      background-color: #E8F0FE;\n",
              "      border: none;\n",
              "      border-radius: 50%;\n",
              "      cursor: pointer;\n",
              "      display: none;\n",
              "      fill: #1967D2;\n",
              "      height: 32px;\n",
              "      padding: 0 0 0 0;\n",
              "      width: 32px;\n",
              "    }\n",
              "\n",
              "    .colab-df-convert:hover {\n",
              "      background-color: #E2EBFA;\n",
              "      box-shadow: 0px 1px 2px rgba(60, 64, 67, 0.3), 0px 1px 3px 1px rgba(60, 64, 67, 0.15);\n",
              "      fill: #174EA6;\n",
              "    }\n",
              "\n",
              "    [theme=dark] .colab-df-convert {\n",
              "      background-color: #3B4455;\n",
              "      fill: #D2E3FC;\n",
              "    }\n",
              "\n",
              "    [theme=dark] .colab-df-convert:hover {\n",
              "      background-color: #434B5C;\n",
              "      box-shadow: 0px 1px 3px 1px rgba(0, 0, 0, 0.15);\n",
              "      filter: drop-shadow(0px 1px 2px rgba(0, 0, 0, 0.3));\n",
              "      fill: #FFFFFF;\n",
              "    }\n",
              "  </style>\n",
              "\n",
              "      <script>\n",
              "        const buttonEl =\n",
              "          document.querySelector('#df-63ccc650-aca3-408c-8892-5cd6a41d108e button.colab-df-convert');\n",
              "        buttonEl.style.display =\n",
              "          google.colab.kernel.accessAllowed ? 'block' : 'none';\n",
              "\n",
              "        async function convertToInteractive(key) {\n",
              "          const element = document.querySelector('#df-63ccc650-aca3-408c-8892-5cd6a41d108e');\n",
              "          const dataTable =\n",
              "            await google.colab.kernel.invokeFunction('convertToInteractive',\n",
              "                                                     [key], {});\n",
              "          if (!dataTable) return;\n",
              "\n",
              "          const docLinkHtml = 'Like what you see? Visit the ' +\n",
              "            '<a target=\"_blank\" href=https://colab.research.google.com/notebooks/data_table.ipynb>data table notebook</a>'\n",
              "            + ' to learn more about interactive tables.';\n",
              "          element.innerHTML = '';\n",
              "          dataTable['output_type'] = 'display_data';\n",
              "          await google.colab.output.renderOutput(dataTable, element);\n",
              "          const docLink = document.createElement('div');\n",
              "          docLink.innerHTML = docLinkHtml;\n",
              "          element.appendChild(docLink);\n",
              "        }\n",
              "      </script>\n",
              "    </div>\n",
              "  </div>\n",
              "  "
            ],
            "text/plain": [
              "   survived  pclass     sex   age  ...  deck  embark_town  alive  alone\n",
              "0         0       3    male  22.0  ...   NaN  Southampton     no  False\n",
              "1         1       1  female  38.0  ...     C    Cherbourg    yes  False\n",
              "2         1       3  female  26.0  ...   NaN  Southampton    yes   True\n",
              "3         1       1  female  35.0  ...     C  Southampton    yes  False\n",
              "4         0       3    male  35.0  ...   NaN  Southampton     no   True\n",
              "\n",
              "[5 rows x 15 columns]"
            ]
          },
          "metadata": {},
          "execution_count": 63
        }
      ]
    },
    {
      "cell_type": "code",
      "source": [
        "data.dtypes"
      ],
      "metadata": {
        "colab": {
          "base_uri": "https://localhost:8080/"
        },
        "id": "TdFVxjMzdvkM",
        "outputId": "9796925f-2836-425f-fc2e-f716c998b666"
      },
      "execution_count": null,
      "outputs": [
        {
          "output_type": "execute_result",
          "data": {
            "text/plain": [
              "survived          int64\n",
              "pclass            int64\n",
              "sex              object\n",
              "age             float64\n",
              "sibsp             int64\n",
              "parch             int64\n",
              "fare            float64\n",
              "embarked         object\n",
              "class          category\n",
              "who              object\n",
              "adult_male         bool\n",
              "deck           category\n",
              "embark_town      object\n",
              "alive            object\n",
              "alone              bool\n",
              "dtype: object"
            ]
          },
          "metadata": {},
          "execution_count": 64
        }
      ]
    },
    {
      "cell_type": "markdown",
      "source": [
        "아래와 같이 alone은 버려도된다."
      ],
      "metadata": {
        "id": "xZK_1dy0eHSf"
      }
    },
    {
      "cell_type": "code",
      "source": [
        "np.all((data.sibsp + data.parch == 0) == data.alone)"
      ],
      "metadata": {
        "colab": {
          "base_uri": "https://localhost:8080/"
        },
        "id": "xCFXBGdgdleb",
        "outputId": "b60e4279-22d8-43da-b5e1-52af2e058277"
      },
      "execution_count": null,
      "outputs": [
        {
          "output_type": "execute_result",
          "data": {
            "text/plain": [
              "True"
            ]
          },
          "metadata": {},
          "execution_count": 65
        }
      ]
    },
    {
      "cell_type": "markdown",
      "metadata": {
        "id": "5Li0gqIKVsx1"
      },
      "source": [
        "아래 정보에서 보듯이 age, embarked, deck에 결측치가 있는 것을 알 수 있다. 나중에 보간이 필요하다."
      ]
    },
    {
      "cell_type": "code",
      "metadata": {
        "id": "ettOSxhp2iCG",
        "colab": {
          "base_uri": "https://localhost:8080/"
        },
        "outputId": "7bd8da00-8453-4ea9-c715-2db8bb81ce0e"
      },
      "source": [
        "data.info()"
      ],
      "execution_count": null,
      "outputs": [
        {
          "output_type": "stream",
          "name": "stdout",
          "text": [
            "<class 'pandas.core.frame.DataFrame'>\n",
            "RangeIndex: 891 entries, 0 to 890\n",
            "Data columns (total 15 columns):\n",
            " #   Column       Non-Null Count  Dtype   \n",
            "---  ------       --------------  -----   \n",
            " 0   survived     891 non-null    int64   \n",
            " 1   pclass       891 non-null    int64   \n",
            " 2   sex          891 non-null    object  \n",
            " 3   age          714 non-null    float64 \n",
            " 4   sibsp        891 non-null    int64   \n",
            " 5   parch        891 non-null    int64   \n",
            " 6   fare         891 non-null    float64 \n",
            " 7   embarked     889 non-null    object  \n",
            " 8   class        891 non-null    category\n",
            " 9   who          891 non-null    object  \n",
            " 10  adult_male   891 non-null    bool    \n",
            " 11  deck         203 non-null    category\n",
            " 12  embark_town  889 non-null    object  \n",
            " 13  alive        891 non-null    object  \n",
            " 14  alone        891 non-null    bool    \n",
            "dtypes: bool(2), category(2), float64(2), int64(4), object(5)\n",
            "memory usage: 80.6+ KB\n"
          ]
        }
      ]
    },
    {
      "cell_type": "markdown",
      "metadata": {
        "id": "2XDDiwncVa_U"
      },
      "source": [
        "deck를 먼저 제거하고 작업하고, 나중에는 포함하여 작업해보자."
      ]
    },
    {
      "cell_type": "code",
      "source": [
        "data.deck.value_counts()"
      ],
      "metadata": {
        "colab": {
          "base_uri": "https://localhost:8080/"
        },
        "id": "K5qLrihIeTnT",
        "outputId": "6329bb06-7a79-436d-bbfe-380f40887a10"
      },
      "execution_count": null,
      "outputs": [
        {
          "output_type": "execute_result",
          "data": {
            "text/plain": [
              "C    59\n",
              "B    47\n",
              "D    33\n",
              "E    32\n",
              "A    15\n",
              "F    13\n",
              "G     4\n",
              "Name: deck, dtype: int64"
            ]
          },
          "metadata": {},
          "execution_count": 67
        }
      ]
    },
    {
      "cell_type": "code",
      "source": [
        "data[data.deck.isna()][data[data.deck.isna()].fare > data.fare.mean()]"
      ],
      "metadata": {
        "colab": {
          "base_uri": "https://localhost:8080/"
        },
        "id": "cQfvEi6WenVQ",
        "outputId": "dc825878-77a8-425a-d801-bb43de95963e"
      },
      "execution_count": null,
      "outputs": [
        {
          "output_type": "execute_result",
          "data": {
            "text/html": [
              "\n",
              "  <div id=\"df-5cebd9b0-13c7-4c9d-8cca-099eff59b237\">\n",
              "    <div class=\"colab-df-container\">\n",
              "      <div>\n",
              "<style scoped>\n",
              "    .dataframe tbody tr th:only-of-type {\n",
              "        vertical-align: middle;\n",
              "    }\n",
              "\n",
              "    .dataframe tbody tr th {\n",
              "        vertical-align: top;\n",
              "    }\n",
              "\n",
              "    .dataframe thead th {\n",
              "        text-align: right;\n",
              "    }\n",
              "</style>\n",
              "<table border=\"1\" class=\"dataframe\">\n",
              "  <thead>\n",
              "    <tr style=\"text-align: right;\">\n",
              "      <th></th>\n",
              "      <th>survived</th>\n",
              "      <th>pclass</th>\n",
              "      <th>sex</th>\n",
              "      <th>age</th>\n",
              "      <th>sibsp</th>\n",
              "      <th>parch</th>\n",
              "      <th>fare</th>\n",
              "      <th>embarked</th>\n",
              "      <th>class</th>\n",
              "      <th>who</th>\n",
              "      <th>adult_male</th>\n",
              "      <th>deck</th>\n",
              "      <th>embark_town</th>\n",
              "      <th>alive</th>\n",
              "      <th>alone</th>\n",
              "    </tr>\n",
              "  </thead>\n",
              "  <tbody>\n",
              "    <tr>\n",
              "      <th>34</th>\n",
              "      <td>0</td>\n",
              "      <td>1</td>\n",
              "      <td>male</td>\n",
              "      <td>28.0</td>\n",
              "      <td>1</td>\n",
              "      <td>0</td>\n",
              "      <td>82.1708</td>\n",
              "      <td>C</td>\n",
              "      <td>First</td>\n",
              "      <td>man</td>\n",
              "      <td>True</td>\n",
              "      <td>NaN</td>\n",
              "      <td>Cherbourg</td>\n",
              "      <td>no</td>\n",
              "      <td>False</td>\n",
              "    </tr>\n",
              "    <tr>\n",
              "      <th>35</th>\n",
              "      <td>0</td>\n",
              "      <td>1</td>\n",
              "      <td>male</td>\n",
              "      <td>42.0</td>\n",
              "      <td>1</td>\n",
              "      <td>0</td>\n",
              "      <td>52.0000</td>\n",
              "      <td>S</td>\n",
              "      <td>First</td>\n",
              "      <td>man</td>\n",
              "      <td>True</td>\n",
              "      <td>NaN</td>\n",
              "      <td>Southampton</td>\n",
              "      <td>no</td>\n",
              "      <td>False</td>\n",
              "    </tr>\n",
              "    <tr>\n",
              "      <th>43</th>\n",
              "      <td>1</td>\n",
              "      <td>2</td>\n",
              "      <td>female</td>\n",
              "      <td>3.0</td>\n",
              "      <td>1</td>\n",
              "      <td>2</td>\n",
              "      <td>41.5792</td>\n",
              "      <td>C</td>\n",
              "      <td>Second</td>\n",
              "      <td>child</td>\n",
              "      <td>False</td>\n",
              "      <td>NaN</td>\n",
              "      <td>Cherbourg</td>\n",
              "      <td>yes</td>\n",
              "      <td>False</td>\n",
              "    </tr>\n",
              "    <tr>\n",
              "      <th>50</th>\n",
              "      <td>0</td>\n",
              "      <td>3</td>\n",
              "      <td>male</td>\n",
              "      <td>7.0</td>\n",
              "      <td>4</td>\n",
              "      <td>1</td>\n",
              "      <td>39.6875</td>\n",
              "      <td>S</td>\n",
              "      <td>Third</td>\n",
              "      <td>child</td>\n",
              "      <td>False</td>\n",
              "      <td>NaN</td>\n",
              "      <td>Southampton</td>\n",
              "      <td>no</td>\n",
              "      <td>False</td>\n",
              "    </tr>\n",
              "    <tr>\n",
              "      <th>59</th>\n",
              "      <td>0</td>\n",
              "      <td>3</td>\n",
              "      <td>male</td>\n",
              "      <td>11.0</td>\n",
              "      <td>5</td>\n",
              "      <td>2</td>\n",
              "      <td>46.9000</td>\n",
              "      <td>S</td>\n",
              "      <td>Third</td>\n",
              "      <td>child</td>\n",
              "      <td>False</td>\n",
              "      <td>NaN</td>\n",
              "      <td>Southampton</td>\n",
              "      <td>no</td>\n",
              "      <td>False</td>\n",
              "    </tr>\n",
              "    <tr>\n",
              "      <th>...</th>\n",
              "      <td>...</td>\n",
              "      <td>...</td>\n",
              "      <td>...</td>\n",
              "      <td>...</td>\n",
              "      <td>...</td>\n",
              "      <td>...</td>\n",
              "      <td>...</td>\n",
              "      <td>...</td>\n",
              "      <td>...</td>\n",
              "      <td>...</td>\n",
              "      <td>...</td>\n",
              "      <td>...</td>\n",
              "      <td>...</td>\n",
              "      <td>...</td>\n",
              "      <td>...</td>\n",
              "    </tr>\n",
              "    <tr>\n",
              "      <th>838</th>\n",
              "      <td>1</td>\n",
              "      <td>3</td>\n",
              "      <td>male</td>\n",
              "      <td>32.0</td>\n",
              "      <td>0</td>\n",
              "      <td>0</td>\n",
              "      <td>56.4958</td>\n",
              "      <td>S</td>\n",
              "      <td>Third</td>\n",
              "      <td>man</td>\n",
              "      <td>True</td>\n",
              "      <td>NaN</td>\n",
              "      <td>Southampton</td>\n",
              "      <td>yes</td>\n",
              "      <td>True</td>\n",
              "    </tr>\n",
              "    <tr>\n",
              "      <th>846</th>\n",
              "      <td>0</td>\n",
              "      <td>3</td>\n",
              "      <td>male</td>\n",
              "      <td>NaN</td>\n",
              "      <td>8</td>\n",
              "      <td>2</td>\n",
              "      <td>69.5500</td>\n",
              "      <td>S</td>\n",
              "      <td>Third</td>\n",
              "      <td>man</td>\n",
              "      <td>True</td>\n",
              "      <td>NaN</td>\n",
              "      <td>Southampton</td>\n",
              "      <td>no</td>\n",
              "      <td>False</td>\n",
              "    </tr>\n",
              "    <tr>\n",
              "      <th>848</th>\n",
              "      <td>0</td>\n",
              "      <td>2</td>\n",
              "      <td>male</td>\n",
              "      <td>28.0</td>\n",
              "      <td>0</td>\n",
              "      <td>1</td>\n",
              "      <td>33.0000</td>\n",
              "      <td>S</td>\n",
              "      <td>Second</td>\n",
              "      <td>man</td>\n",
              "      <td>True</td>\n",
              "      <td>NaN</td>\n",
              "      <td>Southampton</td>\n",
              "      <td>no</td>\n",
              "      <td>False</td>\n",
              "    </tr>\n",
              "    <tr>\n",
              "      <th>856</th>\n",
              "      <td>1</td>\n",
              "      <td>1</td>\n",
              "      <td>female</td>\n",
              "      <td>45.0</td>\n",
              "      <td>1</td>\n",
              "      <td>1</td>\n",
              "      <td>164.8667</td>\n",
              "      <td>S</td>\n",
              "      <td>First</td>\n",
              "      <td>woman</td>\n",
              "      <td>False</td>\n",
              "      <td>NaN</td>\n",
              "      <td>Southampton</td>\n",
              "      <td>yes</td>\n",
              "      <td>False</td>\n",
              "    </tr>\n",
              "    <tr>\n",
              "      <th>863</th>\n",
              "      <td>0</td>\n",
              "      <td>3</td>\n",
              "      <td>female</td>\n",
              "      <td>NaN</td>\n",
              "      <td>8</td>\n",
              "      <td>2</td>\n",
              "      <td>69.5500</td>\n",
              "      <td>S</td>\n",
              "      <td>Third</td>\n",
              "      <td>woman</td>\n",
              "      <td>False</td>\n",
              "      <td>NaN</td>\n",
              "      <td>Southampton</td>\n",
              "      <td>no</td>\n",
              "      <td>False</td>\n",
              "    </tr>\n",
              "  </tbody>\n",
              "</table>\n",
              "<p>73 rows × 15 columns</p>\n",
              "</div>\n",
              "      <button class=\"colab-df-convert\" onclick=\"convertToInteractive('df-5cebd9b0-13c7-4c9d-8cca-099eff59b237')\"\n",
              "              title=\"Convert this dataframe to an interactive table.\"\n",
              "              style=\"display:none;\">\n",
              "        \n",
              "  <svg xmlns=\"http://www.w3.org/2000/svg\" height=\"24px\"viewBox=\"0 0 24 24\"\n",
              "       width=\"24px\">\n",
              "    <path d=\"M0 0h24v24H0V0z\" fill=\"none\"/>\n",
              "    <path d=\"M18.56 5.44l.94 2.06.94-2.06 2.06-.94-2.06-.94-.94-2.06-.94 2.06-2.06.94zm-11 1L8.5 8.5l.94-2.06 2.06-.94-2.06-.94L8.5 2.5l-.94 2.06-2.06.94zm10 10l.94 2.06.94-2.06 2.06-.94-2.06-.94-.94-2.06-.94 2.06-2.06.94z\"/><path d=\"M17.41 7.96l-1.37-1.37c-.4-.4-.92-.59-1.43-.59-.52 0-1.04.2-1.43.59L10.3 9.45l-7.72 7.72c-.78.78-.78 2.05 0 2.83L4 21.41c.39.39.9.59 1.41.59.51 0 1.02-.2 1.41-.59l7.78-7.78 2.81-2.81c.8-.78.8-2.07 0-2.86zM5.41 20L4 18.59l7.72-7.72 1.47 1.35L5.41 20z\"/>\n",
              "  </svg>\n",
              "      </button>\n",
              "      \n",
              "  <style>\n",
              "    .colab-df-container {\n",
              "      display:flex;\n",
              "      flex-wrap:wrap;\n",
              "      gap: 12px;\n",
              "    }\n",
              "\n",
              "    .colab-df-convert {\n",
              "      background-color: #E8F0FE;\n",
              "      border: none;\n",
              "      border-radius: 50%;\n",
              "      cursor: pointer;\n",
              "      display: none;\n",
              "      fill: #1967D2;\n",
              "      height: 32px;\n",
              "      padding: 0 0 0 0;\n",
              "      width: 32px;\n",
              "    }\n",
              "\n",
              "    .colab-df-convert:hover {\n",
              "      background-color: #E2EBFA;\n",
              "      box-shadow: 0px 1px 2px rgba(60, 64, 67, 0.3), 0px 1px 3px 1px rgba(60, 64, 67, 0.15);\n",
              "      fill: #174EA6;\n",
              "    }\n",
              "\n",
              "    [theme=dark] .colab-df-convert {\n",
              "      background-color: #3B4455;\n",
              "      fill: #D2E3FC;\n",
              "    }\n",
              "\n",
              "    [theme=dark] .colab-df-convert:hover {\n",
              "      background-color: #434B5C;\n",
              "      box-shadow: 0px 1px 3px 1px rgba(0, 0, 0, 0.15);\n",
              "      filter: drop-shadow(0px 1px 2px rgba(0, 0, 0, 0.3));\n",
              "      fill: #FFFFFF;\n",
              "    }\n",
              "  </style>\n",
              "\n",
              "      <script>\n",
              "        const buttonEl =\n",
              "          document.querySelector('#df-5cebd9b0-13c7-4c9d-8cca-099eff59b237 button.colab-df-convert');\n",
              "        buttonEl.style.display =\n",
              "          google.colab.kernel.accessAllowed ? 'block' : 'none';\n",
              "\n",
              "        async function convertToInteractive(key) {\n",
              "          const element = document.querySelector('#df-5cebd9b0-13c7-4c9d-8cca-099eff59b237');\n",
              "          const dataTable =\n",
              "            await google.colab.kernel.invokeFunction('convertToInteractive',\n",
              "                                                     [key], {});\n",
              "          if (!dataTable) return;\n",
              "\n",
              "          const docLinkHtml = 'Like what you see? Visit the ' +\n",
              "            '<a target=\"_blank\" href=https://colab.research.google.com/notebooks/data_table.ipynb>data table notebook</a>'\n",
              "            + ' to learn more about interactive tables.';\n",
              "          element.innerHTML = '';\n",
              "          dataTable['output_type'] = 'display_data';\n",
              "          await google.colab.output.renderOutput(dataTable, element);\n",
              "          const docLink = document.createElement('div');\n",
              "          docLink.innerHTML = docLinkHtml;\n",
              "          element.appendChild(docLink);\n",
              "        }\n",
              "      </script>\n",
              "    </div>\n",
              "  </div>\n",
              "  "
            ],
            "text/plain": [
              "     survived  pclass     sex   age  ...  deck  embark_town  alive  alone\n",
              "34          0       1    male  28.0  ...   NaN    Cherbourg     no  False\n",
              "35          0       1    male  42.0  ...   NaN  Southampton     no  False\n",
              "43          1       2  female   3.0  ...   NaN    Cherbourg    yes  False\n",
              "50          0       3    male   7.0  ...   NaN  Southampton     no  False\n",
              "59          0       3    male  11.0  ...   NaN  Southampton     no  False\n",
              "..        ...     ...     ...   ...  ...   ...          ...    ...    ...\n",
              "838         1       3    male  32.0  ...   NaN  Southampton    yes   True\n",
              "846         0       3    male   NaN  ...   NaN  Southampton     no  False\n",
              "848         0       2    male  28.0  ...   NaN  Southampton     no  False\n",
              "856         1       1  female  45.0  ...   NaN  Southampton    yes  False\n",
              "863         0       3  female   NaN  ...   NaN  Southampton     no  False\n",
              "\n",
              "[73 rows x 15 columns]"
            ]
          },
          "metadata": {},
          "execution_count": 68
        }
      ]
    },
    {
      "cell_type": "code",
      "source": [
        "data.fare.mean()"
      ],
      "metadata": {
        "colab": {
          "base_uri": "https://localhost:8080/"
        },
        "id": "MObMOPrzewwQ",
        "outputId": "185b963e-4092-4855-8575-e7915f426b83"
      },
      "execution_count": null,
      "outputs": [
        {
          "output_type": "execute_result",
          "data": {
            "text/plain": [
              "32.2042079685746"
            ]
          },
          "metadata": {},
          "execution_count": 69
        }
      ]
    },
    {
      "cell_type": "markdown",
      "source": [
        "who 도 검증을 해보자."
      ],
      "metadata": {
        "id": "DqL3zhe8gVLM"
      }
    },
    {
      "cell_type": "code",
      "source": [
        "data.who.value_counts()"
      ],
      "metadata": {
        "colab": {
          "base_uri": "https://localhost:8080/"
        },
        "id": "pa05ls96gUom",
        "outputId": "7e0d1bb6-9fc4-4482-8dbf-67cbb83827fb"
      },
      "execution_count": null,
      "outputs": [
        {
          "output_type": "execute_result",
          "data": {
            "text/plain": [
              "man      537\n",
              "woman    271\n",
              "child     83\n",
              "Name: who, dtype: int64"
            ]
          },
          "metadata": {},
          "execution_count": 70
        }
      ]
    },
    {
      "cell_type": "code",
      "source": [
        "data[data.who == \"child\"].age.max()"
      ],
      "metadata": {
        "colab": {
          "base_uri": "https://localhost:8080/"
        },
        "id": "MPJ7rVC7gct2",
        "outputId": "a236b319-5be8-4236-d0f7-43c1bf455067"
      },
      "execution_count": null,
      "outputs": [
        {
          "output_type": "execute_result",
          "data": {
            "text/plain": [
              "15.0"
            ]
          },
          "metadata": {},
          "execution_count": 71
        }
      ]
    },
    {
      "cell_type": "code",
      "metadata": {
        "id": "ct7QvCm_2iCG",
        "colab": {
          "base_uri": "https://localhost:8080/"
        },
        "outputId": "02c96fc5-6815-4185-f61d-b39ae42537ba"
      },
      "source": [
        "prep_data_with_deck = data.drop(columns=['alive', 'who', 'adult_male', 'class', 'embark_town', 'alone'])\n",
        "prep_data = prep_data_with_deck.drop(\"deck\", axis=1)\n",
        "\n",
        "prep_data.head()"
      ],
      "execution_count": null,
      "outputs": [
        {
          "output_type": "execute_result",
          "data": {
            "text/html": [
              "\n",
              "  <div id=\"df-513db42e-c42a-4283-9c93-fd8016cfdc8d\">\n",
              "    <div class=\"colab-df-container\">\n",
              "      <div>\n",
              "<style scoped>\n",
              "    .dataframe tbody tr th:only-of-type {\n",
              "        vertical-align: middle;\n",
              "    }\n",
              "\n",
              "    .dataframe tbody tr th {\n",
              "        vertical-align: top;\n",
              "    }\n",
              "\n",
              "    .dataframe thead th {\n",
              "        text-align: right;\n",
              "    }\n",
              "</style>\n",
              "<table border=\"1\" class=\"dataframe\">\n",
              "  <thead>\n",
              "    <tr style=\"text-align: right;\">\n",
              "      <th></th>\n",
              "      <th>survived</th>\n",
              "      <th>pclass</th>\n",
              "      <th>sex</th>\n",
              "      <th>age</th>\n",
              "      <th>sibsp</th>\n",
              "      <th>parch</th>\n",
              "      <th>fare</th>\n",
              "      <th>embarked</th>\n",
              "    </tr>\n",
              "  </thead>\n",
              "  <tbody>\n",
              "    <tr>\n",
              "      <th>0</th>\n",
              "      <td>0</td>\n",
              "      <td>3</td>\n",
              "      <td>male</td>\n",
              "      <td>22.0</td>\n",
              "      <td>1</td>\n",
              "      <td>0</td>\n",
              "      <td>7.2500</td>\n",
              "      <td>S</td>\n",
              "    </tr>\n",
              "    <tr>\n",
              "      <th>1</th>\n",
              "      <td>1</td>\n",
              "      <td>1</td>\n",
              "      <td>female</td>\n",
              "      <td>38.0</td>\n",
              "      <td>1</td>\n",
              "      <td>0</td>\n",
              "      <td>71.2833</td>\n",
              "      <td>C</td>\n",
              "    </tr>\n",
              "    <tr>\n",
              "      <th>2</th>\n",
              "      <td>1</td>\n",
              "      <td>3</td>\n",
              "      <td>female</td>\n",
              "      <td>26.0</td>\n",
              "      <td>0</td>\n",
              "      <td>0</td>\n",
              "      <td>7.9250</td>\n",
              "      <td>S</td>\n",
              "    </tr>\n",
              "    <tr>\n",
              "      <th>3</th>\n",
              "      <td>1</td>\n",
              "      <td>1</td>\n",
              "      <td>female</td>\n",
              "      <td>35.0</td>\n",
              "      <td>1</td>\n",
              "      <td>0</td>\n",
              "      <td>53.1000</td>\n",
              "      <td>S</td>\n",
              "    </tr>\n",
              "    <tr>\n",
              "      <th>4</th>\n",
              "      <td>0</td>\n",
              "      <td>3</td>\n",
              "      <td>male</td>\n",
              "      <td>35.0</td>\n",
              "      <td>0</td>\n",
              "      <td>0</td>\n",
              "      <td>8.0500</td>\n",
              "      <td>S</td>\n",
              "    </tr>\n",
              "  </tbody>\n",
              "</table>\n",
              "</div>\n",
              "      <button class=\"colab-df-convert\" onclick=\"convertToInteractive('df-513db42e-c42a-4283-9c93-fd8016cfdc8d')\"\n",
              "              title=\"Convert this dataframe to an interactive table.\"\n",
              "              style=\"display:none;\">\n",
              "        \n",
              "  <svg xmlns=\"http://www.w3.org/2000/svg\" height=\"24px\"viewBox=\"0 0 24 24\"\n",
              "       width=\"24px\">\n",
              "    <path d=\"M0 0h24v24H0V0z\" fill=\"none\"/>\n",
              "    <path d=\"M18.56 5.44l.94 2.06.94-2.06 2.06-.94-2.06-.94-.94-2.06-.94 2.06-2.06.94zm-11 1L8.5 8.5l.94-2.06 2.06-.94-2.06-.94L8.5 2.5l-.94 2.06-2.06.94zm10 10l.94 2.06.94-2.06 2.06-.94-2.06-.94-.94-2.06-.94 2.06-2.06.94z\"/><path d=\"M17.41 7.96l-1.37-1.37c-.4-.4-.92-.59-1.43-.59-.52 0-1.04.2-1.43.59L10.3 9.45l-7.72 7.72c-.78.78-.78 2.05 0 2.83L4 21.41c.39.39.9.59 1.41.59.51 0 1.02-.2 1.41-.59l7.78-7.78 2.81-2.81c.8-.78.8-2.07 0-2.86zM5.41 20L4 18.59l7.72-7.72 1.47 1.35L5.41 20z\"/>\n",
              "  </svg>\n",
              "      </button>\n",
              "      \n",
              "  <style>\n",
              "    .colab-df-container {\n",
              "      display:flex;\n",
              "      flex-wrap:wrap;\n",
              "      gap: 12px;\n",
              "    }\n",
              "\n",
              "    .colab-df-convert {\n",
              "      background-color: #E8F0FE;\n",
              "      border: none;\n",
              "      border-radius: 50%;\n",
              "      cursor: pointer;\n",
              "      display: none;\n",
              "      fill: #1967D2;\n",
              "      height: 32px;\n",
              "      padding: 0 0 0 0;\n",
              "      width: 32px;\n",
              "    }\n",
              "\n",
              "    .colab-df-convert:hover {\n",
              "      background-color: #E2EBFA;\n",
              "      box-shadow: 0px 1px 2px rgba(60, 64, 67, 0.3), 0px 1px 3px 1px rgba(60, 64, 67, 0.15);\n",
              "      fill: #174EA6;\n",
              "    }\n",
              "\n",
              "    [theme=dark] .colab-df-convert {\n",
              "      background-color: #3B4455;\n",
              "      fill: #D2E3FC;\n",
              "    }\n",
              "\n",
              "    [theme=dark] .colab-df-convert:hover {\n",
              "      background-color: #434B5C;\n",
              "      box-shadow: 0px 1px 3px 1px rgba(0, 0, 0, 0.15);\n",
              "      filter: drop-shadow(0px 1px 2px rgba(0, 0, 0, 0.3));\n",
              "      fill: #FFFFFF;\n",
              "    }\n",
              "  </style>\n",
              "\n",
              "      <script>\n",
              "        const buttonEl =\n",
              "          document.querySelector('#df-513db42e-c42a-4283-9c93-fd8016cfdc8d button.colab-df-convert');\n",
              "        buttonEl.style.display =\n",
              "          google.colab.kernel.accessAllowed ? 'block' : 'none';\n",
              "\n",
              "        async function convertToInteractive(key) {\n",
              "          const element = document.querySelector('#df-513db42e-c42a-4283-9c93-fd8016cfdc8d');\n",
              "          const dataTable =\n",
              "            await google.colab.kernel.invokeFunction('convertToInteractive',\n",
              "                                                     [key], {});\n",
              "          if (!dataTable) return;\n",
              "\n",
              "          const docLinkHtml = 'Like what you see? Visit the ' +\n",
              "            '<a target=\"_blank\" href=https://colab.research.google.com/notebooks/data_table.ipynb>data table notebook</a>'\n",
              "            + ' to learn more about interactive tables.';\n",
              "          element.innerHTML = '';\n",
              "          dataTable['output_type'] = 'display_data';\n",
              "          await google.colab.output.renderOutput(dataTable, element);\n",
              "          const docLink = document.createElement('div');\n",
              "          docLink.innerHTML = docLinkHtml;\n",
              "          element.appendChild(docLink);\n",
              "        }\n",
              "      </script>\n",
              "    </div>\n",
              "  </div>\n",
              "  "
            ],
            "text/plain": [
              "   survived  pclass     sex   age  sibsp  parch     fare embarked\n",
              "0         0       3    male  22.0      1      0   7.2500        S\n",
              "1         1       1  female  38.0      1      0  71.2833        C\n",
              "2         1       3  female  26.0      0      0   7.9250        S\n",
              "3         1       1  female  35.0      1      0  53.1000        S\n",
              "4         0       3    male  35.0      0      0   8.0500        S"
            ]
          },
          "metadata": {},
          "execution_count": 72
        }
      ]
    },
    {
      "cell_type": "markdown",
      "metadata": {
        "id": "wFHcONRfWyfH"
      },
      "source": [
        "결측치를 제거할 때 사용하는 일반적인 과정\n",
        "- dropna: 결측치가 있는 row를 제거하고,\n",
        "- reset_index(drop=True): 기존 이빨빠진 index를 제거하고, 새로 순서에 따른 index를 부여하다.\n",
        "\n",
        "> 결측치를 제거하는 것이 좋은 지, 대체하는 것이 좋은 지는 분석가가 결정해야 한다. 일반적으로 제거하는 것은 좋은 방법이 아니다."
      ]
    },
    {
      "cell_type": "code",
      "metadata": {
        "id": "K7XC3TtD2iCH",
        "colab": {
          "base_uri": "https://localhost:8080/"
        },
        "outputId": "12c38176-1a3f-47ce-f928-6a3461e99a72"
      },
      "source": [
        "# prep_data = prep_data.dropna()\n",
        "# prep_data = prep_data.reset_index(drop=True)\n",
        "prep_data = prep_data.dropna().reset_index(drop=True)\n",
        "prep_data.info()"
      ],
      "execution_count": null,
      "outputs": [
        {
          "output_type": "stream",
          "name": "stdout",
          "text": [
            "<class 'pandas.core.frame.DataFrame'>\n",
            "RangeIndex: 712 entries, 0 to 711\n",
            "Data columns (total 8 columns):\n",
            " #   Column    Non-Null Count  Dtype  \n",
            "---  ------    --------------  -----  \n",
            " 0   survived  712 non-null    int64  \n",
            " 1   pclass    712 non-null    int64  \n",
            " 2   sex       712 non-null    object \n",
            " 3   age       712 non-null    float64\n",
            " 4   sibsp     712 non-null    int64  \n",
            " 5   parch     712 non-null    int64  \n",
            " 6   fare      712 non-null    float64\n",
            " 7   embarked  712 non-null    object \n",
            "dtypes: float64(2), int64(4), object(2)\n",
            "memory usage: 44.6+ KB\n"
          ]
        }
      ]
    },
    {
      "cell_type": "markdown",
      "metadata": {
        "id": "sYKZJYJYbEKM"
      },
      "source": [
        "모든 문자열 데이터를 수치형으로 변환"
      ]
    },
    {
      "cell_type": "code",
      "metadata": {
        "id": "fGZHQ7KuaXLc"
      },
      "source": [
        "prep_data.sex = prep_data.sex.map(lambda x: 1 if x == 'male' else 0)"
      ],
      "execution_count": null,
      "outputs": []
    },
    {
      "cell_type": "code",
      "metadata": {
        "id": "L5yXmd9SbDZn"
      },
      "source": [
        "import pandas as pd\n",
        "prep_data = pd.get_dummies(prep_data)"
      ],
      "execution_count": null,
      "outputs": []
    },
    {
      "cell_type": "code",
      "metadata": {
        "colab": {
          "base_uri": "https://localhost:8080/"
        },
        "id": "hEV5sCLLcAFX",
        "outputId": "d5d012dd-642c-4d1d-cd16-98cf858e56d2"
      },
      "source": [
        "prep_data.info()"
      ],
      "execution_count": null,
      "outputs": [
        {
          "output_type": "stream",
          "name": "stdout",
          "text": [
            "<class 'pandas.core.frame.DataFrame'>\n",
            "RangeIndex: 712 entries, 0 to 711\n",
            "Data columns (total 10 columns):\n",
            " #   Column      Non-Null Count  Dtype  \n",
            "---  ------      --------------  -----  \n",
            " 0   survived    712 non-null    int64  \n",
            " 1   pclass      712 non-null    int64  \n",
            " 2   sex         712 non-null    int64  \n",
            " 3   age         712 non-null    float64\n",
            " 4   sibsp       712 non-null    int64  \n",
            " 5   parch       712 non-null    int64  \n",
            " 6   fare        712 non-null    float64\n",
            " 7   embarked_C  712 non-null    uint8  \n",
            " 8   embarked_Q  712 non-null    uint8  \n",
            " 9   embarked_S  712 non-null    uint8  \n",
            "dtypes: float64(2), int64(5), uint8(3)\n",
            "memory usage: 41.1 KB\n"
          ]
        }
      ]
    },
    {
      "cell_type": "code",
      "metadata": {
        "colab": {
          "base_uri": "https://localhost:8080/"
        },
        "id": "_pk1aZeWc8b1",
        "outputId": "9c35917f-3ad4-4340-c4da-6aa33ba2af1d"
      },
      "source": [
        "prep_data.head()"
      ],
      "execution_count": null,
      "outputs": [
        {
          "output_type": "execute_result",
          "data": {
            "text/html": [
              "\n",
              "  <div id=\"df-a8690380-1d10-47cf-b9e5-c6d00c862128\">\n",
              "    <div class=\"colab-df-container\">\n",
              "      <div>\n",
              "<style scoped>\n",
              "    .dataframe tbody tr th:only-of-type {\n",
              "        vertical-align: middle;\n",
              "    }\n",
              "\n",
              "    .dataframe tbody tr th {\n",
              "        vertical-align: top;\n",
              "    }\n",
              "\n",
              "    .dataframe thead th {\n",
              "        text-align: right;\n",
              "    }\n",
              "</style>\n",
              "<table border=\"1\" class=\"dataframe\">\n",
              "  <thead>\n",
              "    <tr style=\"text-align: right;\">\n",
              "      <th></th>\n",
              "      <th>survived</th>\n",
              "      <th>pclass</th>\n",
              "      <th>sex</th>\n",
              "      <th>age</th>\n",
              "      <th>sibsp</th>\n",
              "      <th>parch</th>\n",
              "      <th>fare</th>\n",
              "      <th>embarked_C</th>\n",
              "      <th>embarked_Q</th>\n",
              "      <th>embarked_S</th>\n",
              "    </tr>\n",
              "  </thead>\n",
              "  <tbody>\n",
              "    <tr>\n",
              "      <th>0</th>\n",
              "      <td>0</td>\n",
              "      <td>3</td>\n",
              "      <td>1</td>\n",
              "      <td>22.0</td>\n",
              "      <td>1</td>\n",
              "      <td>0</td>\n",
              "      <td>7.2500</td>\n",
              "      <td>0</td>\n",
              "      <td>0</td>\n",
              "      <td>1</td>\n",
              "    </tr>\n",
              "    <tr>\n",
              "      <th>1</th>\n",
              "      <td>1</td>\n",
              "      <td>1</td>\n",
              "      <td>0</td>\n",
              "      <td>38.0</td>\n",
              "      <td>1</td>\n",
              "      <td>0</td>\n",
              "      <td>71.2833</td>\n",
              "      <td>1</td>\n",
              "      <td>0</td>\n",
              "      <td>0</td>\n",
              "    </tr>\n",
              "    <tr>\n",
              "      <th>2</th>\n",
              "      <td>1</td>\n",
              "      <td>3</td>\n",
              "      <td>0</td>\n",
              "      <td>26.0</td>\n",
              "      <td>0</td>\n",
              "      <td>0</td>\n",
              "      <td>7.9250</td>\n",
              "      <td>0</td>\n",
              "      <td>0</td>\n",
              "      <td>1</td>\n",
              "    </tr>\n",
              "    <tr>\n",
              "      <th>3</th>\n",
              "      <td>1</td>\n",
              "      <td>1</td>\n",
              "      <td>0</td>\n",
              "      <td>35.0</td>\n",
              "      <td>1</td>\n",
              "      <td>0</td>\n",
              "      <td>53.1000</td>\n",
              "      <td>0</td>\n",
              "      <td>0</td>\n",
              "      <td>1</td>\n",
              "    </tr>\n",
              "    <tr>\n",
              "      <th>4</th>\n",
              "      <td>0</td>\n",
              "      <td>3</td>\n",
              "      <td>1</td>\n",
              "      <td>35.0</td>\n",
              "      <td>0</td>\n",
              "      <td>0</td>\n",
              "      <td>8.0500</td>\n",
              "      <td>0</td>\n",
              "      <td>0</td>\n",
              "      <td>1</td>\n",
              "    </tr>\n",
              "  </tbody>\n",
              "</table>\n",
              "</div>\n",
              "      <button class=\"colab-df-convert\" onclick=\"convertToInteractive('df-a8690380-1d10-47cf-b9e5-c6d00c862128')\"\n",
              "              title=\"Convert this dataframe to an interactive table.\"\n",
              "              style=\"display:none;\">\n",
              "        \n",
              "  <svg xmlns=\"http://www.w3.org/2000/svg\" height=\"24px\"viewBox=\"0 0 24 24\"\n",
              "       width=\"24px\">\n",
              "    <path d=\"M0 0h24v24H0V0z\" fill=\"none\"/>\n",
              "    <path d=\"M18.56 5.44l.94 2.06.94-2.06 2.06-.94-2.06-.94-.94-2.06-.94 2.06-2.06.94zm-11 1L8.5 8.5l.94-2.06 2.06-.94-2.06-.94L8.5 2.5l-.94 2.06-2.06.94zm10 10l.94 2.06.94-2.06 2.06-.94-2.06-.94-.94-2.06-.94 2.06-2.06.94z\"/><path d=\"M17.41 7.96l-1.37-1.37c-.4-.4-.92-.59-1.43-.59-.52 0-1.04.2-1.43.59L10.3 9.45l-7.72 7.72c-.78.78-.78 2.05 0 2.83L4 21.41c.39.39.9.59 1.41.59.51 0 1.02-.2 1.41-.59l7.78-7.78 2.81-2.81c.8-.78.8-2.07 0-2.86zM5.41 20L4 18.59l7.72-7.72 1.47 1.35L5.41 20z\"/>\n",
              "  </svg>\n",
              "      </button>\n",
              "      \n",
              "  <style>\n",
              "    .colab-df-container {\n",
              "      display:flex;\n",
              "      flex-wrap:wrap;\n",
              "      gap: 12px;\n",
              "    }\n",
              "\n",
              "    .colab-df-convert {\n",
              "      background-color: #E8F0FE;\n",
              "      border: none;\n",
              "      border-radius: 50%;\n",
              "      cursor: pointer;\n",
              "      display: none;\n",
              "      fill: #1967D2;\n",
              "      height: 32px;\n",
              "      padding: 0 0 0 0;\n",
              "      width: 32px;\n",
              "    }\n",
              "\n",
              "    .colab-df-convert:hover {\n",
              "      background-color: #E2EBFA;\n",
              "      box-shadow: 0px 1px 2px rgba(60, 64, 67, 0.3), 0px 1px 3px 1px rgba(60, 64, 67, 0.15);\n",
              "      fill: #174EA6;\n",
              "    }\n",
              "\n",
              "    [theme=dark] .colab-df-convert {\n",
              "      background-color: #3B4455;\n",
              "      fill: #D2E3FC;\n",
              "    }\n",
              "\n",
              "    [theme=dark] .colab-df-convert:hover {\n",
              "      background-color: #434B5C;\n",
              "      box-shadow: 0px 1px 3px 1px rgba(0, 0, 0, 0.15);\n",
              "      filter: drop-shadow(0px 1px 2px rgba(0, 0, 0, 0.3));\n",
              "      fill: #FFFFFF;\n",
              "    }\n",
              "  </style>\n",
              "\n",
              "      <script>\n",
              "        const buttonEl =\n",
              "          document.querySelector('#df-a8690380-1d10-47cf-b9e5-c6d00c862128 button.colab-df-convert');\n",
              "        buttonEl.style.display =\n",
              "          google.colab.kernel.accessAllowed ? 'block' : 'none';\n",
              "\n",
              "        async function convertToInteractive(key) {\n",
              "          const element = document.querySelector('#df-a8690380-1d10-47cf-b9e5-c6d00c862128');\n",
              "          const dataTable =\n",
              "            await google.colab.kernel.invokeFunction('convertToInteractive',\n",
              "                                                     [key], {});\n",
              "          if (!dataTable) return;\n",
              "\n",
              "          const docLinkHtml = 'Like what you see? Visit the ' +\n",
              "            '<a target=\"_blank\" href=https://colab.research.google.com/notebooks/data_table.ipynb>data table notebook</a>'\n",
              "            + ' to learn more about interactive tables.';\n",
              "          element.innerHTML = '';\n",
              "          dataTable['output_type'] = 'display_data';\n",
              "          await google.colab.output.renderOutput(dataTable, element);\n",
              "          const docLink = document.createElement('div');\n",
              "          docLink.innerHTML = docLinkHtml;\n",
              "          element.appendChild(docLink);\n",
              "        }\n",
              "      </script>\n",
              "    </div>\n",
              "  </div>\n",
              "  "
            ],
            "text/plain": [
              "   survived  pclass  sex   age  ...     fare  embarked_C  embarked_Q  embarked_S\n",
              "0         0       3    1  22.0  ...   7.2500           0           0           1\n",
              "1         1       1    0  38.0  ...  71.2833           1           0           0\n",
              "2         1       3    0  26.0  ...   7.9250           0           0           1\n",
              "3         1       1    0  35.0  ...  53.1000           0           0           1\n",
              "4         0       3    1  35.0  ...   8.0500           0           0           1\n",
              "\n",
              "[5 rows x 10 columns]"
            ]
          },
          "metadata": {},
          "execution_count": 77
        }
      ]
    },
    {
      "cell_type": "code",
      "metadata": {
        "colab": {
          "base_uri": "https://localhost:8080/"
        },
        "id": "9C3H289echfh",
        "outputId": "acd5d9e7-0fd1-426c-ff6b-be131c59d96c"
      },
      "source": [
        "prep_data.iloc[:, 1:]"
      ],
      "execution_count": null,
      "outputs": [
        {
          "output_type": "execute_result",
          "data": {
            "text/html": [
              "\n",
              "  <div id=\"df-891dd122-8bcd-4df8-b8b8-5e88c20ca1ce\">\n",
              "    <div class=\"colab-df-container\">\n",
              "      <div>\n",
              "<style scoped>\n",
              "    .dataframe tbody tr th:only-of-type {\n",
              "        vertical-align: middle;\n",
              "    }\n",
              "\n",
              "    .dataframe tbody tr th {\n",
              "        vertical-align: top;\n",
              "    }\n",
              "\n",
              "    .dataframe thead th {\n",
              "        text-align: right;\n",
              "    }\n",
              "</style>\n",
              "<table border=\"1\" class=\"dataframe\">\n",
              "  <thead>\n",
              "    <tr style=\"text-align: right;\">\n",
              "      <th></th>\n",
              "      <th>pclass</th>\n",
              "      <th>sex</th>\n",
              "      <th>age</th>\n",
              "      <th>sibsp</th>\n",
              "      <th>parch</th>\n",
              "      <th>fare</th>\n",
              "      <th>embarked_C</th>\n",
              "      <th>embarked_Q</th>\n",
              "      <th>embarked_S</th>\n",
              "    </tr>\n",
              "  </thead>\n",
              "  <tbody>\n",
              "    <tr>\n",
              "      <th>0</th>\n",
              "      <td>3</td>\n",
              "      <td>1</td>\n",
              "      <td>22.0</td>\n",
              "      <td>1</td>\n",
              "      <td>0</td>\n",
              "      <td>7.2500</td>\n",
              "      <td>0</td>\n",
              "      <td>0</td>\n",
              "      <td>1</td>\n",
              "    </tr>\n",
              "    <tr>\n",
              "      <th>1</th>\n",
              "      <td>1</td>\n",
              "      <td>0</td>\n",
              "      <td>38.0</td>\n",
              "      <td>1</td>\n",
              "      <td>0</td>\n",
              "      <td>71.2833</td>\n",
              "      <td>1</td>\n",
              "      <td>0</td>\n",
              "      <td>0</td>\n",
              "    </tr>\n",
              "    <tr>\n",
              "      <th>2</th>\n",
              "      <td>3</td>\n",
              "      <td>0</td>\n",
              "      <td>26.0</td>\n",
              "      <td>0</td>\n",
              "      <td>0</td>\n",
              "      <td>7.9250</td>\n",
              "      <td>0</td>\n",
              "      <td>0</td>\n",
              "      <td>1</td>\n",
              "    </tr>\n",
              "    <tr>\n",
              "      <th>3</th>\n",
              "      <td>1</td>\n",
              "      <td>0</td>\n",
              "      <td>35.0</td>\n",
              "      <td>1</td>\n",
              "      <td>0</td>\n",
              "      <td>53.1000</td>\n",
              "      <td>0</td>\n",
              "      <td>0</td>\n",
              "      <td>1</td>\n",
              "    </tr>\n",
              "    <tr>\n",
              "      <th>4</th>\n",
              "      <td>3</td>\n",
              "      <td>1</td>\n",
              "      <td>35.0</td>\n",
              "      <td>0</td>\n",
              "      <td>0</td>\n",
              "      <td>8.0500</td>\n",
              "      <td>0</td>\n",
              "      <td>0</td>\n",
              "      <td>1</td>\n",
              "    </tr>\n",
              "    <tr>\n",
              "      <th>...</th>\n",
              "      <td>...</td>\n",
              "      <td>...</td>\n",
              "      <td>...</td>\n",
              "      <td>...</td>\n",
              "      <td>...</td>\n",
              "      <td>...</td>\n",
              "      <td>...</td>\n",
              "      <td>...</td>\n",
              "      <td>...</td>\n",
              "    </tr>\n",
              "    <tr>\n",
              "      <th>707</th>\n",
              "      <td>3</td>\n",
              "      <td>0</td>\n",
              "      <td>39.0</td>\n",
              "      <td>0</td>\n",
              "      <td>5</td>\n",
              "      <td>29.1250</td>\n",
              "      <td>0</td>\n",
              "      <td>1</td>\n",
              "      <td>0</td>\n",
              "    </tr>\n",
              "    <tr>\n",
              "      <th>708</th>\n",
              "      <td>2</td>\n",
              "      <td>1</td>\n",
              "      <td>27.0</td>\n",
              "      <td>0</td>\n",
              "      <td>0</td>\n",
              "      <td>13.0000</td>\n",
              "      <td>0</td>\n",
              "      <td>0</td>\n",
              "      <td>1</td>\n",
              "    </tr>\n",
              "    <tr>\n",
              "      <th>709</th>\n",
              "      <td>1</td>\n",
              "      <td>0</td>\n",
              "      <td>19.0</td>\n",
              "      <td>0</td>\n",
              "      <td>0</td>\n",
              "      <td>30.0000</td>\n",
              "      <td>0</td>\n",
              "      <td>0</td>\n",
              "      <td>1</td>\n",
              "    </tr>\n",
              "    <tr>\n",
              "      <th>710</th>\n",
              "      <td>1</td>\n",
              "      <td>1</td>\n",
              "      <td>26.0</td>\n",
              "      <td>0</td>\n",
              "      <td>0</td>\n",
              "      <td>30.0000</td>\n",
              "      <td>1</td>\n",
              "      <td>0</td>\n",
              "      <td>0</td>\n",
              "    </tr>\n",
              "    <tr>\n",
              "      <th>711</th>\n",
              "      <td>3</td>\n",
              "      <td>1</td>\n",
              "      <td>32.0</td>\n",
              "      <td>0</td>\n",
              "      <td>0</td>\n",
              "      <td>7.7500</td>\n",
              "      <td>0</td>\n",
              "      <td>1</td>\n",
              "      <td>0</td>\n",
              "    </tr>\n",
              "  </tbody>\n",
              "</table>\n",
              "<p>712 rows × 9 columns</p>\n",
              "</div>\n",
              "      <button class=\"colab-df-convert\" onclick=\"convertToInteractive('df-891dd122-8bcd-4df8-b8b8-5e88c20ca1ce')\"\n",
              "              title=\"Convert this dataframe to an interactive table.\"\n",
              "              style=\"display:none;\">\n",
              "        \n",
              "  <svg xmlns=\"http://www.w3.org/2000/svg\" height=\"24px\"viewBox=\"0 0 24 24\"\n",
              "       width=\"24px\">\n",
              "    <path d=\"M0 0h24v24H0V0z\" fill=\"none\"/>\n",
              "    <path d=\"M18.56 5.44l.94 2.06.94-2.06 2.06-.94-2.06-.94-.94-2.06-.94 2.06-2.06.94zm-11 1L8.5 8.5l.94-2.06 2.06-.94-2.06-.94L8.5 2.5l-.94 2.06-2.06.94zm10 10l.94 2.06.94-2.06 2.06-.94-2.06-.94-.94-2.06-.94 2.06-2.06.94z\"/><path d=\"M17.41 7.96l-1.37-1.37c-.4-.4-.92-.59-1.43-.59-.52 0-1.04.2-1.43.59L10.3 9.45l-7.72 7.72c-.78.78-.78 2.05 0 2.83L4 21.41c.39.39.9.59 1.41.59.51 0 1.02-.2 1.41-.59l7.78-7.78 2.81-2.81c.8-.78.8-2.07 0-2.86zM5.41 20L4 18.59l7.72-7.72 1.47 1.35L5.41 20z\"/>\n",
              "  </svg>\n",
              "      </button>\n",
              "      \n",
              "  <style>\n",
              "    .colab-df-container {\n",
              "      display:flex;\n",
              "      flex-wrap:wrap;\n",
              "      gap: 12px;\n",
              "    }\n",
              "\n",
              "    .colab-df-convert {\n",
              "      background-color: #E8F0FE;\n",
              "      border: none;\n",
              "      border-radius: 50%;\n",
              "      cursor: pointer;\n",
              "      display: none;\n",
              "      fill: #1967D2;\n",
              "      height: 32px;\n",
              "      padding: 0 0 0 0;\n",
              "      width: 32px;\n",
              "    }\n",
              "\n",
              "    .colab-df-convert:hover {\n",
              "      background-color: #E2EBFA;\n",
              "      box-shadow: 0px 1px 2px rgba(60, 64, 67, 0.3), 0px 1px 3px 1px rgba(60, 64, 67, 0.15);\n",
              "      fill: #174EA6;\n",
              "    }\n",
              "\n",
              "    [theme=dark] .colab-df-convert {\n",
              "      background-color: #3B4455;\n",
              "      fill: #D2E3FC;\n",
              "    }\n",
              "\n",
              "    [theme=dark] .colab-df-convert:hover {\n",
              "      background-color: #434B5C;\n",
              "      box-shadow: 0px 1px 3px 1px rgba(0, 0, 0, 0.15);\n",
              "      filter: drop-shadow(0px 1px 2px rgba(0, 0, 0, 0.3));\n",
              "      fill: #FFFFFF;\n",
              "    }\n",
              "  </style>\n",
              "\n",
              "      <script>\n",
              "        const buttonEl =\n",
              "          document.querySelector('#df-891dd122-8bcd-4df8-b8b8-5e88c20ca1ce button.colab-df-convert');\n",
              "        buttonEl.style.display =\n",
              "          google.colab.kernel.accessAllowed ? 'block' : 'none';\n",
              "\n",
              "        async function convertToInteractive(key) {\n",
              "          const element = document.querySelector('#df-891dd122-8bcd-4df8-b8b8-5e88c20ca1ce');\n",
              "          const dataTable =\n",
              "            await google.colab.kernel.invokeFunction('convertToInteractive',\n",
              "                                                     [key], {});\n",
              "          if (!dataTable) return;\n",
              "\n",
              "          const docLinkHtml = 'Like what you see? Visit the ' +\n",
              "            '<a target=\"_blank\" href=https://colab.research.google.com/notebooks/data_table.ipynb>data table notebook</a>'\n",
              "            + ' to learn more about interactive tables.';\n",
              "          element.innerHTML = '';\n",
              "          dataTable['output_type'] = 'display_data';\n",
              "          await google.colab.output.renderOutput(dataTable, element);\n",
              "          const docLink = document.createElement('div');\n",
              "          docLink.innerHTML = docLinkHtml;\n",
              "          element.appendChild(docLink);\n",
              "        }\n",
              "      </script>\n",
              "    </div>\n",
              "  </div>\n",
              "  "
            ],
            "text/plain": [
              "     pclass  sex   age  sibsp  ...     fare  embarked_C  embarked_Q  embarked_S\n",
              "0         3    1  22.0      1  ...   7.2500           0           0           1\n",
              "1         1    0  38.0      1  ...  71.2833           1           0           0\n",
              "2         3    0  26.0      0  ...   7.9250           0           0           1\n",
              "3         1    0  35.0      1  ...  53.1000           0           0           1\n",
              "4         3    1  35.0      0  ...   8.0500           0           0           1\n",
              "..      ...  ...   ...    ...  ...      ...         ...         ...         ...\n",
              "707       3    0  39.0      0  ...  29.1250           0           1           0\n",
              "708       2    1  27.0      0  ...  13.0000           0           0           1\n",
              "709       1    0  19.0      0  ...  30.0000           0           0           1\n",
              "710       1    1  26.0      0  ...  30.0000           1           0           0\n",
              "711       3    1  32.0      0  ...   7.7500           0           1           0\n",
              "\n",
              "[712 rows x 9 columns]"
            ]
          },
          "metadata": {},
          "execution_count": 78
        }
      ]
    },
    {
      "cell_type": "markdown",
      "metadata": {
        "id": "Se179JCqbVnG"
      },
      "source": [
        "모두 수치형으로 변환되었으므로, 모델을 작성해보자."
      ]
    },
    {
      "cell_type": "code",
      "metadata": {
        "id": "fkSLurVb2iCI"
      },
      "source": [
        "from sklearn.model_selection import train_test_split\n",
        "X_train, X_test, y_train, y_test = train_test_split(prep_data.iloc[:, 1:], \n",
        "                                                   prep_data.iloc[:, 0],\n",
        "                                                   random_state=42)"
      ],
      "execution_count": null,
      "outputs": []
    },
    {
      "cell_type": "code",
      "metadata": {
        "id": "smz6fjRa2iCI"
      },
      "source": [
        "from sklearn.tree import DecisionTreeClassifier\n",
        "\n",
        "model = DecisionTreeClassifier(max_depth=2).fit(X_train, y_train)"
      ],
      "execution_count": null,
      "outputs": []
    },
    {
      "cell_type": "code",
      "metadata": {
        "id": "Z6NMWJBg2iCJ"
      },
      "source": [
        "fnames = list(prep_data.columns[1:])"
      ],
      "execution_count": null,
      "outputs": []
    },
    {
      "cell_type": "code",
      "metadata": {
        "id": "CGmuQpGi2iCJ",
        "colab": {
          "base_uri": "https://localhost:8080/"
        },
        "outputId": "4d2fe8b9-4a8d-4d8f-9b85-499373740f24"
      },
      "source": [
        "from sklearn.tree import export_text\n",
        "print(export_text(model, feature_names=fnames))"
      ],
      "execution_count": null,
      "outputs": [
        {
          "output_type": "stream",
          "name": "stdout",
          "text": [
            "|--- sex <= 0.50\n",
            "|   |--- pclass <= 2.50\n",
            "|   |   |--- class: 1\n",
            "|   |--- pclass >  2.50\n",
            "|   |   |--- class: 0\n",
            "|--- sex >  0.50\n",
            "|   |--- pclass <= 1.50\n",
            "|   |   |--- class: 0\n",
            "|   |--- pclass >  1.50\n",
            "|   |   |--- class: 0\n",
            "\n"
          ]
        }
      ]
    },
    {
      "cell_type": "code",
      "metadata": {
        "id": "nWSUyqgc2iCJ",
        "colab": {
          "base_uri": "https://localhost:8080/"
        },
        "outputId": "eacc9771-de44-42a4-d304-6842ab42add8"
      },
      "source": [
        "score = model.score(X_test, y_test)\n",
        "score"
      ],
      "execution_count": null,
      "outputs": [
        {
          "output_type": "execute_result",
          "data": {
            "text/plain": [
              "0.7584269662921348"
            ]
          },
          "metadata": {},
          "execution_count": 83
        }
      ]
    },
    {
      "cell_type": "code",
      "metadata": {
        "id": "P3LIxQp12iCJ"
      },
      "source": [
        "from matplotlib import font_manager\n",
        "# font_name = font_manager.FontProperties(fname=\"c:/Windows/Fonts/malgun.ttf\").get_name()\n",
        "# font_name = font_manager.FontProperties(fname=r\"C:\\Users\\Administrator\\Downloads\\malgun.ttf\").get_name()\n",
        "# plt.rcParams[\"font.family\"] = font_name\n",
        "plt.rcParams['axes.unicode_minus'] = False\n",
        "plt.rc('font', family='NanumBarunGothic')"
      ],
      "execution_count": null,
      "outputs": []
    },
    {
      "cell_type": "code",
      "metadata": {
        "id": "JQbHa22r2iCJ",
        "colab": {
          "base_uri": "https://localhost:8080/"
        },
        "outputId": "8cc5e5c1-b3f6-467a-fdc9-388c0b6c6da6"
      },
      "source": [
        "import numpy as np\n",
        "import matplotlib.pyplot as plt\n",
        "\n",
        "print(f\"피처 중요도:\\n{model.feature_importances_}\")\n",
        "\n",
        "n_features = X_train.shape[1]\n",
        "plt.barh(np.arange(n_features),\n",
        "        model.feature_importances_,\n",
        "        align='center')\n",
        "plt.yticks(np.arange(n_features), X_train.columns)\n",
        "plt.xlabel(\"피처 중요도\")\n",
        "plt.ylabel('피처')\n",
        "plt.ylim(-1, n_features)"
      ],
      "execution_count": null,
      "outputs": [
        {
          "output_type": "stream",
          "name": "stdout",
          "text": [
            "피처 중요도:\n",
            "[0.29899614 0.70100386 0.         0.         0.         0.\n",
            " 0.         0.         0.        ]\n"
          ]
        },
        {
          "output_type": "execute_result",
          "data": {
            "text/plain": [
              "(-1.0, 9.0)"
            ]
          },
          "metadata": {},
          "execution_count": 85
        },
        {
          "output_type": "stream",
          "name": "stderr",
          "text": [
            "/usr/local/lib/python3.7/dist-packages/matplotlib/backends/backend_agg.py:214: RuntimeWarning: Glyph 54588 missing from current font.\n",
            "  font.set_text(s, 0.0, flags=flags)\n",
            "/usr/local/lib/python3.7/dist-packages/matplotlib/backends/backend_agg.py:214: RuntimeWarning: Glyph 52376 missing from current font.\n",
            "  font.set_text(s, 0.0, flags=flags)\n",
            "/usr/local/lib/python3.7/dist-packages/matplotlib/backends/backend_agg.py:214: RuntimeWarning: Glyph 51473 missing from current font.\n",
            "  font.set_text(s, 0.0, flags=flags)\n",
            "/usr/local/lib/python3.7/dist-packages/matplotlib/backends/backend_agg.py:214: RuntimeWarning: Glyph 50836 missing from current font.\n",
            "  font.set_text(s, 0.0, flags=flags)\n",
            "/usr/local/lib/python3.7/dist-packages/matplotlib/backends/backend_agg.py:214: RuntimeWarning: Glyph 46020 missing from current font.\n",
            "  font.set_text(s, 0.0, flags=flags)\n",
            "/usr/local/lib/python3.7/dist-packages/matplotlib/backends/backend_agg.py:183: RuntimeWarning: Glyph 54588 missing from current font.\n",
            "  font.set_text(s, 0, flags=flags)\n",
            "/usr/local/lib/python3.7/dist-packages/matplotlib/backends/backend_agg.py:183: RuntimeWarning: Glyph 52376 missing from current font.\n",
            "  font.set_text(s, 0, flags=flags)\n",
            "/usr/local/lib/python3.7/dist-packages/matplotlib/backends/backend_agg.py:183: RuntimeWarning: Glyph 51473 missing from current font.\n",
            "  font.set_text(s, 0, flags=flags)\n",
            "/usr/local/lib/python3.7/dist-packages/matplotlib/backends/backend_agg.py:183: RuntimeWarning: Glyph 50836 missing from current font.\n",
            "  font.set_text(s, 0, flags=flags)\n",
            "/usr/local/lib/python3.7/dist-packages/matplotlib/backends/backend_agg.py:183: RuntimeWarning: Glyph 46020 missing from current font.\n",
            "  font.set_text(s, 0, flags=flags)\n"
          ]
        },
        {
          "output_type": "display_data",
          "data": {
            "image/png": "[encoded data removed]",
            "text/plain": [
              "<Figure size 432x288 with 1 Axes>"
            ]
          },
          "metadata": {
            "needs_background": "light"
          }
        }
      ]
    },
    {
      "cell_type": "code",
      "metadata": {
        "id": "A6qczPkF2iCJ",
        "colab": {
          "base_uri": "https://localhost:8080/"
        },
        "outputId": "6ace565b-c2b9-4d8e-ad01-1a8cffb90e33"
      },
      "source": [
        "ft_import = pd.Series(model.feature_importances_, index=X_train.columns)\n",
        "# ft_import.plot.barh()\n",
        "ft_import.plot(kind='barh')"
      ],
      "execution_count": null,
      "outputs": [
        {
          "output_type": "execute_result",
          "data": {
            "text/plain": [
              "<matplotlib.axes._subplots.AxesSubplot at 0x7fe407315ed0>"
            ]
          },
          "metadata": {},
          "execution_count": 86
        },
        {
          "output_type": "display_data",
          "data": {
            "image/png": "[encoded data removed]",
            "text/plain": [
              "<Figure size 432x288 with 1 Axes>"
            ]
          },
          "metadata": {
            "needs_background": "light"
          }
        }
      ]
    },
    {
      "cell_type": "code",
      "metadata": {
        "id": "t2bbIKZF2iCK"
      },
      "source": [
        "from sklearn import tree"
      ],
      "execution_count": null,
      "outputs": []
    },
    {
      "cell_type": "code",
      "metadata": {
        "id": "Vgu2foRj2iCK",
        "colab": {
          "base_uri": "https://localhost:8080/"
        },
        "outputId": "4fe59d4c-acd3-4d13-b4ff-835ee676dc76"
      },
      "source": [
        "plt.figure(figsize=(8,6))\n",
        "tree.plot_tree(model, feature_names=prep_data.columns[1:])\n",
        "plt.show"
      ],
      "execution_count": null,
      "outputs": [
        {
          "output_type": "execute_result",
          "data": {
            "text/plain": [
              "<function matplotlib.pyplot.show>"
            ]
          },
          "metadata": {},
          "execution_count": 88
        },
        {
          "output_type": "stream",
          "name": "stderr",
          "text": [
            "findfont: Font family ['NanumBarunGothic'] not found. Falling back to DejaVu Sans.\n"
          ]
        },
        {
          "output_type": "display_data",
          "data": {
            "image/png": "[encoded data removed]",
            "text/plain": [
              "<Figure size 576x432 with 1 Axes>"
            ]
          },
          "metadata": {
            "needs_background": "light"
          }
        }
      ]
    },
    {
      "cell_type": "code",
      "metadata": {
        "id": "gk6JP3Qf2iCK",
        "colab": {
          "base_uri": "https://localhost:8080/"
        },
        "outputId": "1e0893db-9404-4acd-de1d-bfb18b0cfa16"
      },
      "source": [
        "X_train.shape"
      ],
      "execution_count": null,
      "outputs": [
        {
          "output_type": "execute_result",
          "data": {
            "text/plain": [
              "(534, 9)"
            ]
          },
          "metadata": {},
          "execution_count": 89
        }
      ]
    },
    {
      "cell_type": "markdown",
      "metadata": {
        "id": "lYhIMzaS2iCK"
      },
      "source": [
        "생존자의 비율이 40%이고, 사망자의 비율이 60%인거죠.\n",
        "- root에서의 majority는 사망"
      ]
    },
    {
      "cell_type": "code",
      "metadata": {
        "id": "V0RlMz392iCK",
        "colab": {
          "base_uri": "https://localhost:8080/"
        },
        "outputId": "4eb7bc3d-a561-4ebc-e416-51e0c3805ba9"
      },
      "source": [
        "y_train.mean()"
      ],
      "execution_count": null,
      "outputs": [
        {
          "output_type": "execute_result",
          "data": {
            "text/plain": [
              "0.3913857677902622"
            ]
          },
          "metadata": {},
          "execution_count": 90
        }
      ]
    },
    {
      "cell_type": "code",
      "metadata": {
        "id": "k9tvs_la2iCL",
        "colab": {
          "base_uri": "https://localhost:8080/"
        },
        "outputId": "51f42f5f-e8e4-4f14-8fa5-604540bdc5d4"
      },
      "source": [
        "X_train.sex.value_counts() / X_train.sex.size"
      ],
      "execution_count": null,
      "outputs": [
        {
          "output_type": "execute_result",
          "data": {
            "text/plain": [
              "1    0.642322\n",
              "0    0.357678\n",
              "Name: sex, dtype: float64"
            ]
          },
          "metadata": {},
          "execution_count": 91
        }
      ]
    },
    {
      "cell_type": "code",
      "metadata": {
        "id": "p02XXa3r2iCL",
        "colab": {
          "base_uri": "https://localhost:8080/"
        },
        "outputId": "956aba44-14a9-4b79-c0f4-a0800443e6e2"
      },
      "source": [
        "import graphviz\n",
        "from sklearn.tree import export_graphviz\n",
        "\n",
        "dot_data = export_graphviz(model, out_file=None,\n",
        "                feature_names=X_train.columns,  \n",
        "                class_names=['사망', '생존'],  \n",
        "                filled=True, rounded=True,  \n",
        "                special_characters=True)\n",
        "\n",
        "graph = graphviz.Source(dot_data)\n",
        "graph"
      ],
      "execution_count": null,
      "outputs": [
        {
          "output_type": "execute_result",
          "data": {
            "text/plain": [
              "<graphviz.files.Source at 0x7fe410964350>"
            ],
            "image/svg+xml": "<?xml version=\"1.0\" encoding=\"UTF-8\" standalone=\"no\"?>\n<!DOCTYPE svg PUBLIC \"-//W3C//DTD SVG 1.1//EN\"\n \"http://www.w3.org/Graphics/SVG/1.1/DTD/svg11.dtd\">\n<!-- Generated by graphviz version 2.40.1 (20161225.0304)\n -->\n<!-- Title: Tree Pages: 1 -->\n<svg width=\"538pt\" height=\"314pt\"\n viewBox=\"0.00 0.00 538.00 314.00\" xmlns=\"http://www.w3.org/2000/svg\" xmlns:xlink=\"http://www.w3.org/1999/xlink\">\n<g id=\"graph0\" class=\"graph\" transform=\"scale(1 1) rotate(0) translate(4 310)\">\n<title>Tree</title>\n<polygon fill=\"#ffffff\" stroke=\"transparent\" points=\"-4,4 -4,-310 534,-310 534,4 -4,4\"/>\n<!-- 0 -->\n<g id=\"node1\" class=\"node\">\n<title>0</title>\n<path fill=\"#f6d2b8\" stroke=\"#000000\" d=\"M315,-306C315,-306 207,-306 207,-306 201,-306 195,-300 195,-294 195,-294 195,-235 195,-235 195,-229 201,-223 207,-223 207,-223 315,-223 315,-223 321,-223 327,-229 327,-235 327,-235 327,-294 327,-294 327,-300 321,-306 315,-306\"/>\n<text text-anchor=\"start\" x=\"231.5\" y=\"-290.8\" font-family=\"Helvetica,sans-Serif\" font-size=\"14.00\" fill=\"#000000\">sex ≤ 0.5</text>\n<text text-anchor=\"start\" x=\"223\" y=\"-275.8\" font-family=\"Helvetica,sans-Serif\" font-size=\"14.00\" fill=\"#000000\">gini = 0.476</text>\n<text text-anchor=\"start\" x=\"213\" y=\"-260.8\" font-family=\"Helvetica,sans-Serif\" font-size=\"14.00\" fill=\"#000000\">samples = 534</text>\n<text text-anchor=\"start\" x=\"203\" y=\"-245.8\" font-family=\"Helvetica,sans-Serif\" font-size=\"14.00\" fill=\"#000000\">value = [325, 209]</text>\n<text text-anchor=\"start\" x=\"221.5\" y=\"-230.8\" font-family=\"Helvetica,sans-Serif\" font-size=\"14.00\" fill=\"#000000\">class = 사망</text>\n</g>\n<!-- 1 -->\n<g id=\"node2\" class=\"node\">\n<title>1</title>\n<path fill=\"#7abded\" stroke=\"#000000\" d=\"M240,-187C240,-187 140,-187 140,-187 134,-187 128,-181 128,-175 128,-175 128,-116 128,-116 128,-110 134,-104 140,-104 140,-104 240,-104 240,-104 246,-104 252,-110 252,-116 252,-116 252,-175 252,-175 252,-181 246,-187 240,-187\"/>\n<text text-anchor=\"start\" x=\"151\" y=\"-171.8\" font-family=\"Helvetica,sans-Serif\" font-size=\"14.00\" fill=\"#000000\">pclass ≤ 2.5</text>\n<text text-anchor=\"start\" x=\"152\" y=\"-156.8\" font-family=\"Helvetica,sans-Serif\" font-size=\"14.00\" fill=\"#000000\">gini = 0.371</text>\n<text text-anchor=\"start\" x=\"142\" y=\"-141.8\" font-family=\"Helvetica,sans-Serif\" font-size=\"14.00\" fill=\"#000000\">samples = 191</text>\n<text text-anchor=\"start\" x=\"136\" y=\"-126.8\" font-family=\"Helvetica,sans-Serif\" font-size=\"14.00\" fill=\"#000000\">value = [47, 144]</text>\n<text text-anchor=\"start\" x=\"150.5\" y=\"-111.8\" font-family=\"Helvetica,sans-Serif\" font-size=\"14.00\" fill=\"#000000\">class = 생존</text>\n</g>\n<!-- 0&#45;&gt;1 -->\n<g id=\"edge1\" class=\"edge\">\n<title>0&#45;&gt;1</title>\n<path fill=\"none\" stroke=\"#000000\" d=\"M236.1676,-222.8796C231.0091,-214.2335 225.5192,-205.0322 220.1924,-196.1042\"/>\n<polygon fill=\"#000000\" stroke=\"#000000\" points=\"223.0678,-194.0924 214.9383,-187.2981 217.0564,-197.679 223.0678,-194.0924\"/>\n<text text-anchor=\"middle\" x=\"208.8149\" y=\"-207.8366\" font-family=\"Helvetica,sans-Serif\" font-size=\"14.00\" fill=\"#000000\">True</text>\n</g>\n<!-- 4 -->\n<g id=\"node5\" class=\"node\">\n<title>4</title>\n<path fill=\"#eb9e67\" stroke=\"#000000\" d=\"M382,-187C382,-187 282,-187 282,-187 276,-187 270,-181 270,-175 270,-175 270,-116 270,-116 270,-110 276,-104 282,-104 282,-104 382,-104 382,-104 388,-104 394,-110 394,-116 394,-116 394,-175 394,-175 394,-181 388,-187 382,-187\"/>\n<text text-anchor=\"start\" x=\"293\" y=\"-171.8\" font-family=\"Helvetica,sans-Serif\" font-size=\"14.00\" fill=\"#000000\">pclass ≤ 1.5</text>\n<text text-anchor=\"start\" x=\"294\" y=\"-156.8\" font-family=\"Helvetica,sans-Serif\" font-size=\"14.00\" fill=\"#000000\">gini = 0.307</text>\n<text text-anchor=\"start\" x=\"284\" y=\"-141.8\" font-family=\"Helvetica,sans-Serif\" font-size=\"14.00\" fill=\"#000000\">samples = 343</text>\n<text text-anchor=\"start\" x=\"278\" y=\"-126.8\" font-family=\"Helvetica,sans-Serif\" font-size=\"14.00\" fill=\"#000000\">value = [278, 65]</text>\n<text text-anchor=\"start\" x=\"292.5\" y=\"-111.8\" font-family=\"Helvetica,sans-Serif\" font-size=\"14.00\" fill=\"#000000\">class = 사망</text>\n</g>\n<!-- 0&#45;&gt;4 -->\n<g id=\"edge4\" class=\"edge\">\n<title>0&#45;&gt;4</title>\n<path fill=\"none\" stroke=\"#000000\" d=\"M285.8324,-222.8796C290.9909,-214.2335 296.4808,-205.0322 301.8076,-196.1042\"/>\n<polygon fill=\"#000000\" stroke=\"#000000\" points=\"304.9436,-197.679 307.0617,-187.2981 298.9322,-194.0924 304.9436,-197.679\"/>\n<text text-anchor=\"middle\" x=\"313.1851\" y=\"-207.8366\" font-family=\"Helvetica,sans-Serif\" font-size=\"14.00\" fill=\"#000000\">False</text>\n</g>\n<!-- 2 -->\n<g id=\"node3\" class=\"node\">\n<title>2</title>\n<path fill=\"#42a2e6\" stroke=\"#000000\" d=\"M104,-68C104,-68 12,-68 12,-68 6,-68 0,-62 0,-56 0,-56 0,-12 0,-12 0,-6 6,0 12,0 12,0 104,0 104,0 110,0 116,-6 116,-12 116,-12 116,-56 116,-56 116,-62 110,-68 104,-68\"/>\n<text text-anchor=\"start\" x=\"20\" y=\"-52.8\" font-family=\"Helvetica,sans-Serif\" font-size=\"14.00\" fill=\"#000000\">gini = 0.085</text>\n<text text-anchor=\"start\" x=\"10\" y=\"-37.8\" font-family=\"Helvetica,sans-Serif\" font-size=\"14.00\" fill=\"#000000\">samples = 113</text>\n<text text-anchor=\"start\" x=\"8\" y=\"-22.8\" font-family=\"Helvetica,sans-Serif\" font-size=\"14.00\" fill=\"#000000\">value = [5, 108]</text>\n<text text-anchor=\"start\" x=\"18.5\" y=\"-7.8\" font-family=\"Helvetica,sans-Serif\" font-size=\"14.00\" fill=\"#000000\">class = 생존</text>\n</g>\n<!-- 1&#45;&gt;2 -->\n<g id=\"edge2\" class=\"edge\">\n<title>1&#45;&gt;2</title>\n<path fill=\"none\" stroke=\"#000000\" d=\"M140.8481,-103.9815C129.5324,-94.4232 117.5087,-84.2668 106.2325,-74.7419\"/>\n<polygon fill=\"#000000\" stroke=\"#000000\" points=\"108.4612,-72.0429 98.5633,-68.2637 103.9441,-77.3904 108.4612,-72.0429\"/>\n</g>\n<!-- 3 -->\n<g id=\"node4\" class=\"node\">\n<title>3</title>\n<path fill=\"#fbede3\" stroke=\"#000000\" d=\"M238,-68C238,-68 146,-68 146,-68 140,-68 134,-62 134,-56 134,-56 134,-12 134,-12 134,-6 140,0 146,0 146,0 238,0 238,0 244,0 250,-6 250,-12 250,-12 250,-56 250,-56 250,-62 244,-68 238,-68\"/>\n<text text-anchor=\"start\" x=\"154\" y=\"-52.8\" font-family=\"Helvetica,sans-Serif\" font-size=\"14.00\" fill=\"#000000\">gini = 0.497</text>\n<text text-anchor=\"start\" x=\"148\" y=\"-37.8\" font-family=\"Helvetica,sans-Serif\" font-size=\"14.00\" fill=\"#000000\">samples = 78</text>\n<text text-anchor=\"start\" x=\"142\" y=\"-22.8\" font-family=\"Helvetica,sans-Serif\" font-size=\"14.00\" fill=\"#000000\">value = [42, 36]</text>\n<text text-anchor=\"start\" x=\"152.5\" y=\"-7.8\" font-family=\"Helvetica,sans-Serif\" font-size=\"14.00\" fill=\"#000000\">class = 사망</text>\n</g>\n<!-- 1&#45;&gt;3 -->\n<g id=\"edge3\" class=\"edge\">\n<title>1&#45;&gt;3</title>\n<path fill=\"none\" stroke=\"#000000\" d=\"M190.7447,-103.9815C190.8947,-95.618 191.053,-86.7965 191.2046,-78.3409\"/>\n<polygon fill=\"#000000\" stroke=\"#000000\" points=\"194.7054,-78.3249 191.3854,-68.2637 187.7065,-78.1993 194.7054,-78.3249\"/>\n</g>\n<!-- 5 -->\n<g id=\"node6\" class=\"node\">\n<title>5</title>\n<path fill=\"#f8dfcc\" stroke=\"#000000\" d=\"M376,-68C376,-68 284,-68 284,-68 278,-68 272,-62 272,-56 272,-56 272,-12 272,-12 272,-6 278,0 284,0 284,0 376,0 376,0 382,0 388,-6 388,-12 388,-12 388,-56 388,-56 388,-62 382,-68 376,-68\"/>\n<text text-anchor=\"start\" x=\"292\" y=\"-52.8\" font-family=\"Helvetica,sans-Serif\" font-size=\"14.00\" fill=\"#000000\">gini = 0.489</text>\n<text text-anchor=\"start\" x=\"286\" y=\"-37.8\" font-family=\"Helvetica,sans-Serif\" font-size=\"14.00\" fill=\"#000000\">samples = 75</text>\n<text text-anchor=\"start\" x=\"280\" y=\"-22.8\" font-family=\"Helvetica,sans-Serif\" font-size=\"14.00\" fill=\"#000000\">value = [43, 32]</text>\n<text text-anchor=\"start\" x=\"290.5\" y=\"-7.8\" font-family=\"Helvetica,sans-Serif\" font-size=\"14.00\" fill=\"#000000\">class = 사망</text>\n</g>\n<!-- 4&#45;&gt;5 -->\n<g id=\"edge5\" class=\"edge\">\n<title>4&#45;&gt;5</title>\n<path fill=\"none\" stroke=\"#000000\" d=\"M331.2553,-103.9815C331.1053,-95.618 330.947,-86.7965 330.7954,-78.3409\"/>\n<polygon fill=\"#000000\" stroke=\"#000000\" points=\"334.2935,-78.1993 330.6146,-68.2637 327.2946,-78.3249 334.2935,-78.1993\"/>\n</g>\n<!-- 6 -->\n<g id=\"node7\" class=\"node\">\n<title>6</title>\n<path fill=\"#e99355\" stroke=\"#000000\" d=\"M518,-68C518,-68 418,-68 418,-68 412,-68 406,-62 406,-56 406,-56 406,-12 406,-12 406,-6 412,0 418,0 418,0 518,0 518,0 524,0 530,-6 530,-12 530,-12 530,-56 530,-56 530,-62 524,-68 518,-68\"/>\n<text text-anchor=\"start\" x=\"430\" y=\"-52.8\" font-family=\"Helvetica,sans-Serif\" font-size=\"14.00\" fill=\"#000000\">gini = 0.216</text>\n<text text-anchor=\"start\" x=\"420\" y=\"-37.8\" font-family=\"Helvetica,sans-Serif\" font-size=\"14.00\" fill=\"#000000\">samples = 268</text>\n<text text-anchor=\"start\" x=\"414\" y=\"-22.8\" font-family=\"Helvetica,sans-Serif\" font-size=\"14.00\" fill=\"#000000\">value = [235, 33]</text>\n<text text-anchor=\"start\" x=\"428.5\" y=\"-7.8\" font-family=\"Helvetica,sans-Serif\" font-size=\"14.00\" fill=\"#000000\">class = 사망</text>\n</g>\n<!-- 4&#45;&gt;6 -->\n<g id=\"edge6\" class=\"edge\">\n<title>4&#45;&gt;6</title>\n<path fill=\"none\" stroke=\"#000000\" d=\"M382.6414,-103.9815C394.2999,-94.4232 406.688,-84.2668 418.3059,-74.7419\"/>\n<polygon fill=\"#000000\" stroke=\"#000000\" points=\"420.6933,-77.3105 426.2075,-68.2637 416.2552,-71.8972 420.6933,-77.3105\"/>\n</g>\n</g>\n</svg>\n"
          },
          "metadata": {},
          "execution_count": 92
        }
      ]
    },
    {
      "cell_type": "markdown",
      "metadata": {
        "id": "ZFKRDZ-M2iCL"
      },
      "source": [
        "[Quiz] Decision Tree를 튜닝하여 예측정확도를 개선하자."
      ]
    },
    {
      "cell_type": "code",
      "metadata": {
        "id": "pU3sqvgC2iCL"
      },
      "source": [
        "def retAllparams(d):\n",
        "    ret = []\n",
        "    for i, (k, vs) in enumerate(d.items()):\n",
        "        if i == 0:\n",
        "            for v in vs:\n",
        "                init = {}\n",
        "                init[k] = v\n",
        "                ret.append(init)\n",
        "        else:\n",
        "            subAll = []\n",
        "            for v in vs:\n",
        "                sub = []\n",
        "                for dct in ret:\n",
        "                    dt = dct.copy()\n",
        "                    dt[k] = v\n",
        "                    sub.append(dt)\n",
        "                subAll = subAll + sub\n",
        "            ret = subAll\n",
        "    return ret"
      ],
      "execution_count": null,
      "outputs": []
    },
    {
      "cell_type": "code",
      "metadata": {
        "id": "Ke8CYvpc2iCL"
      },
      "source": [
        "paramgrids = {'max_depth': [2, 3, 4, 5, 6],\n",
        "              'max_leaf_nodes': [5, 7, 9, 11,13],\n",
        "              'min_samples_leaf': [1, 3, 5],\n",
        "              'min_samples_split': [2, 4, 8]}"
      ],
      "execution_count": null,
      "outputs": []
    },
    {
      "cell_type": "code",
      "metadata": {
        "id": "jhYnIyP32iCM",
        "colab": {
          "base_uri": "https://localhost:8080/"
        },
        "outputId": "3d2e0c36-ba41-42cd-fffc-00b850dbce58"
      },
      "source": [
        "retAllparams(paramgrids)"
      ],
      "execution_count": null,
      "outputs": [
        {
          "output_type": "execute_result",
          "data": {
            "text/plain": [
              "[{'max_depth': 2,\n",
              "  'max_leaf_nodes': 5,\n",
              "  'min_samples_leaf': 1,\n",
              "  'min_samples_split': 2},\n",
              " {'max_depth': 3,\n",
              "  'max_leaf_nodes': 5,\n",
              "  'min_samples_leaf': 1,\n",
              "  'min_samples_split': 2},\n",
              " {'max_depth': 4,\n",
              "  'max_leaf_nodes': 5,\n",
              "  'min_samples_leaf': 1,\n",
              "  'min_samples_split': 2},\n",
              " {'max_depth': 5,\n",
              "  'max_leaf_nodes': 5,\n",
              "  'min_samples_leaf': 1,\n",
              "  'min_samples_split': 2},\n",
              " {'max_depth': 6,\n",
              "  'max_leaf_nodes': 5,\n",
              "  'min_samples_leaf': 1,\n",
              "  'min_samples_split': 2},\n",
              " {'max_depth': 2,\n",
              "  'max_leaf_nodes': 7,\n",
              "  'min_samples_leaf': 1,\n",
              "  'min_samples_split': 2},\n",
              " {'max_depth': 3,\n",
              "  'max_leaf_nodes': 7,\n",
              "  'min_samples_leaf': 1,\n",
              "  'min_samples_split': 2},\n",
              " {'max_depth': 4,\n",
              "  'max_leaf_nodes': 7,\n",
              "  'min_samples_leaf': 1,\n",
              "  'min_samples_split': 2},\n",
              " {'max_depth': 5,\n",
              "  'max_leaf_nodes': 7,\n",
              "  'min_samples_leaf': 1,\n",
              "  'min_samples_split': 2},\n",
              " {'max_depth': 6,\n",
              "  'max_leaf_nodes': 7,\n",
              "  'min_samples_leaf': 1,\n",
              "  'min_samples_split': 2},\n",
              " {'max_depth': 2,\n",
              "  'max_leaf_nodes': 9,\n",
              "  'min_samples_leaf': 1,\n",
              "  'min_samples_split': 2},\n",
              " {'max_depth': 3,\n",
              "  'max_leaf_nodes': 9,\n",
              "  'min_samples_leaf': 1,\n",
              "  'min_samples_split': 2},\n",
              " {'max_depth': 4,\n",
              "  'max_leaf_nodes': 9,\n",
              "  'min_samples_leaf': 1,\n",
              "  'min_samples_split': 2},\n",
              " {'max_depth': 5,\n",
              "  'max_leaf_nodes': 9,\n",
              "  'min_samples_leaf': 1,\n",
              "  'min_samples_split': 2},\n",
              " {'max_depth': 6,\n",
              "  'max_leaf_nodes': 9,\n",
              "  'min_samples_leaf': 1,\n",
              "  'min_samples_split': 2},\n",
              " {'max_depth': 2,\n",
              "  'max_leaf_nodes': 11,\n",
              "  'min_samples_leaf': 1,\n",
              "  'min_samples_split': 2},\n",
              " {'max_depth': 3,\n",
              "  'max_leaf_nodes': 11,\n",
              "  'min_samples_leaf': 1,\n",
              "  'min_samples_split': 2},\n",
              " {'max_depth': 4,\n",
              "  'max_leaf_nodes': 11,\n",
              "  'min_samples_leaf': 1,\n",
              "  'min_samples_split': 2},\n",
              " {'max_depth': 5,\n",
              "  'max_leaf_nodes': 11,\n",
              "  'min_samples_leaf': 1,\n",
              "  'min_samples_split': 2},\n",
              " {'max_depth': 6,\n",
              "  'max_leaf_nodes': 11,\n",
              "  'min_samples_leaf': 1,\n",
              "  'min_samples_split': 2},\n",
              " {'max_depth': 2,\n",
              "  'max_leaf_nodes': 13,\n",
              "  'min_samples_leaf': 1,\n",
              "  'min_samples_split': 2},\n",
              " {'max_depth': 3,\n",
              "  'max_leaf_nodes': 13,\n",
              "  'min_samples_leaf': 1,\n",
              "  'min_samples_split': 2},\n",
              " {'max_depth': 4,\n",
              "  'max_leaf_nodes': 13,\n",
              "  'min_samples_leaf': 1,\n",
              "  'min_samples_split': 2},\n",
              " {'max_depth': 5,\n",
              "  'max_leaf_nodes': 13,\n",
              "  'min_samples_leaf': 1,\n",
              "  'min_samples_split': 2},\n",
              " {'max_depth': 6,\n",
              "  'max_leaf_nodes': 13,\n",
              "  'min_samples_leaf': 1,\n",
              "  'min_samples_split': 2},\n",
              " {'max_depth': 2,\n",
              "  'max_leaf_nodes': 5,\n",
              "  'min_samples_leaf': 3,\n",
              "  'min_samples_split': 2},\n",
              " {'max_depth': 3,\n",
              "  'max_leaf_nodes': 5,\n",
              "  'min_samples_leaf': 3,\n",
              "  'min_samples_split': 2},\n",
              " {'max_depth': 4,\n",
              "  'max_leaf_nodes': 5,\n",
              "  'min_samples_leaf': 3,\n",
              "  'min_samples_split': 2},\n",
              " {'max_depth': 5,\n",
              "  'max_leaf_nodes': 5,\n",
              "  'min_samples_leaf': 3,\n",
              "  'min_samples_split': 2},\n",
              " {'max_depth': 6,\n",
              "  'max_leaf_nodes': 5,\n",
              "  'min_samples_leaf': 3,\n",
              "  'min_samples_split': 2},\n",
              " {'max_depth': 2,\n",
              "  'max_leaf_nodes': 7,\n",
              "  'min_samples_leaf': 3,\n",
              "  'min_samples_split': 2},\n",
              " {'max_depth': 3,\n",
              "  'max_leaf_nodes': 7,\n",
              "  'min_samples_leaf': 3,\n",
              "  'min_samples_split': 2},\n",
              " {'max_depth': 4,\n",
              "  'max_leaf_nodes': 7,\n",
              "  'min_samples_leaf': 3,\n",
              "  'min_samples_split': 2},\n",
              " {'max_depth': 5,\n",
              "  'max_leaf_nodes': 7,\n",
              "  'min_samples_leaf': 3,\n",
              "  'min_samples_split': 2},\n",
              " {'max_depth': 6,\n",
              "  'max_leaf_nodes': 7,\n",
              "  'min_samples_leaf': 3,\n",
              "  'min_samples_split': 2},\n",
              " {'max_depth': 2,\n",
              "  'max_leaf_nodes': 9,\n",
              "  'min_samples_leaf': 3,\n",
              "  'min_samples_split': 2},\n",
              " {'max_depth': 3,\n",
              "  'max_leaf_nodes': 9,\n",
              "  'min_samples_leaf': 3,\n",
              "  'min_samples_split': 2},\n",
              " {'max_depth': 4,\n",
              "  'max_leaf_nodes': 9,\n",
              "  'min_samples_leaf': 3,\n",
              "  'min_samples_split': 2},\n",
              " {'max_depth': 5,\n",
              "  'max_leaf_nodes': 9,\n",
              "  'min_samples_leaf': 3,\n",
              "  'min_samples_split': 2},\n",
              " {'max_depth': 6,\n",
              "  'max_leaf_nodes': 9,\n",
              "  'min_samples_leaf': 3,\n",
              "  'min_samples_split': 2},\n",
              " {'max_depth': 2,\n",
              "  'max_leaf_nodes': 11,\n",
              "  'min_samples_leaf': 3,\n",
              "  'min_samples_split': 2},\n",
              " {'max_depth': 3,\n",
              "  'max_leaf_nodes': 11,\n",
              "  'min_samples_leaf': 3,\n",
              "  'min_samples_split': 2},\n",
              " {'max_depth': 4,\n",
              "  'max_leaf_nodes': 11,\n",
              "  'min_samples_leaf': 3,\n",
              "  'min_samples_split': 2},\n",
              " {'max_depth': 5,\n",
              "  'max_leaf_nodes': 11,\n",
              "  'min_samples_leaf': 3,\n",
              "  'min_samples_split': 2},\n",
              " {'max_depth': 6,\n",
              "  'max_leaf_nodes': 11,\n",
              "  'min_samples_leaf': 3,\n",
              "  'min_samples_split': 2},\n",
              " {'max_depth': 2,\n",
              "  'max_leaf_nodes': 13,\n",
              "  'min_samples_leaf': 3,\n",
              "  'min_samples_split': 2},\n",
              " {'max_depth': 3,\n",
              "  'max_leaf_nodes': 13,\n",
              "  'min_samples_leaf': 3,\n",
              "  'min_samples_split': 2},\n",
              " {'max_depth': 4,\n",
              "  'max_leaf_nodes': 13,\n",
              "  'min_samples_leaf': 3,\n",
              "  'min_samples_split': 2},\n",
              " {'max_depth': 5,\n",
              "  'max_leaf_nodes': 13,\n",
              "  'min_samples_leaf': 3,\n",
              "  'min_samples_split': 2},\n",
              " {'max_depth': 6,\n",
              "  'max_leaf_nodes': 13,\n",
              "  'min_samples_leaf': 3,\n",
              "  'min_samples_split': 2},\n",
              " {'max_depth': 2,\n",
              "  'max_leaf_nodes': 5,\n",
              "  'min_samples_leaf': 5,\n",
              "  'min_samples_split': 2},\n",
              " {'max_depth': 3,\n",
              "  'max_leaf_nodes': 5,\n",
              "  'min_samples_leaf': 5,\n",
              "  'min_samples_split': 2},\n",
              " {'max_depth': 4,\n",
              "  'max_leaf_nodes': 5,\n",
              "  'min_samples_leaf': 5,\n",
              "  'min_samples_split': 2},\n",
              " {'max_depth': 5,\n",
              "  'max_leaf_nodes': 5,\n",
              "  'min_samples_leaf': 5,\n",
              "  'min_samples_split': 2},\n",
              " {'max_depth': 6,\n",
              "  'max_leaf_nodes': 5,\n",
              "  'min_samples_leaf': 5,\n",
              "  'min_samples_split': 2},\n",
              " {'max_depth': 2,\n",
              "  'max_leaf_nodes': 7,\n",
              "  'min_samples_leaf': 5,\n",
              "  'min_samples_split': 2},\n",
              " {'max_depth': 3,\n",
              "  'max_leaf_nodes': 7,\n",
              "  'min_samples_leaf': 5,\n",
              "  'min_samples_split': 2},\n",
              " {'max_depth': 4,\n",
              "  'max_leaf_nodes': 7,\n",
              "  'min_samples_leaf': 5,\n",
              "  'min_samples_split': 2},\n",
              " {'max_depth': 5,\n",
              "  'max_leaf_nodes': 7,\n",
              "  'min_samples_leaf': 5,\n",
              "  'min_samples_split': 2},\n",
              " {'max_depth': 6,\n",
              "  'max_leaf_nodes': 7,\n",
              "  'min_samples_leaf': 5,\n",
              "  'min_samples_split': 2},\n",
              " {'max_depth': 2,\n",
              "  'max_leaf_nodes': 9,\n",
              "  'min_samples_leaf': 5,\n",
              "  'min_samples_split': 2},\n",
              " {'max_depth': 3,\n",
              "  'max_leaf_nodes': 9,\n",
              "  'min_samples_leaf': 5,\n",
              "  'min_samples_split': 2},\n",
              " {'max_depth': 4,\n",
              "  'max_leaf_nodes': 9,\n",
              "  'min_samples_leaf': 5,\n",
              "  'min_samples_split': 2},\n",
              " {'max_depth': 5,\n",
              "  'max_leaf_nodes': 9,\n",
              "  'min_samples_leaf': 5,\n",
              "  'min_samples_split': 2},\n",
              " {'max_depth': 6,\n",
              "  'max_leaf_nodes': 9,\n",
              "  'min_samples_leaf': 5,\n",
              "  'min_samples_split': 2},\n",
              " {'max_depth': 2,\n",
              "  'max_leaf_nodes': 11,\n",
              "  'min_samples_leaf': 5,\n",
              "  'min_samples_split': 2},\n",
              " {'max_depth': 3,\n",
              "  'max_leaf_nodes': 11,\n",
              "  'min_samples_leaf': 5,\n",
              "  'min_samples_split': 2},\n",
              " {'max_depth': 4,\n",
              "  'max_leaf_nodes': 11,\n",
              "  'min_samples_leaf': 5,\n",
              "  'min_samples_split': 2},\n",
              " {'max_depth': 5,\n",
              "  'max_leaf_nodes': 11,\n",
              "  'min_samples_leaf': 5,\n",
              "  'min_samples_split': 2},\n",
              " {'max_depth': 6,\n",
              "  'max_leaf_nodes': 11,\n",
              "  'min_samples_leaf': 5,\n",
              "  'min_samples_split': 2},\n",
              " {'max_depth': 2,\n",
              "  'max_leaf_nodes': 13,\n",
              "  'min_samples_leaf': 5,\n",
              "  'min_samples_split': 2},\n",
              " {'max_depth': 3,\n",
              "  'max_leaf_nodes': 13,\n",
              "  'min_samples_leaf': 5,\n",
              "  'min_samples_split': 2},\n",
              " {'max_depth': 4,\n",
              "  'max_leaf_nodes': 13,\n",
              "  'min_samples_leaf': 5,\n",
              "  'min_samples_split': 2},\n",
              " {'max_depth': 5,\n",
              "  'max_leaf_nodes': 13,\n",
              "  'min_samples_leaf': 5,\n",
              "  'min_samples_split': 2},\n",
              " {'max_depth': 6,\n",
              "  'max_leaf_nodes': 13,\n",
              "  'min_samples_leaf': 5,\n",
              "  'min_samples_split': 2},\n",
              " {'max_depth': 2,\n",
              "  'max_leaf_nodes': 5,\n",
              "  'min_samples_leaf': 1,\n",
              "  'min_samples_split': 4},\n",
              " {'max_depth': 3,\n",
              "  'max_leaf_nodes': 5,\n",
              "  'min_samples_leaf': 1,\n",
              "  'min_samples_split': 4},\n",
              " {'max_depth': 4,\n",
              "  'max_leaf_nodes': 5,\n",
              "  'min_samples_leaf': 1,\n",
              "  'min_samples_split': 4},\n",
              " {'max_depth': 5,\n",
              "  'max_leaf_nodes': 5,\n",
              "  'min_samples_leaf': 1,\n",
              "  'min_samples_split': 4},\n",
              " {'max_depth': 6,\n",
              "  'max_leaf_nodes': 5,\n",
              "  'min_samples_leaf': 1,\n",
              "  'min_samples_split': 4},\n",
              " {'max_depth': 2,\n",
              "  'max_leaf_nodes': 7,\n",
              "  'min_samples_leaf': 1,\n",
              "  'min_samples_split': 4},\n",
              " {'max_depth': 3,\n",
              "  'max_leaf_nodes': 7,\n",
              "  'min_samples_leaf': 1,\n",
              "  'min_samples_split': 4},\n",
              " {'max_depth': 4,\n",
              "  'max_leaf_nodes': 7,\n",
              "  'min_samples_leaf': 1,\n",
              "  'min_samples_split': 4},\n",
              " {'max_depth': 5,\n",
              "  'max_leaf_nodes': 7,\n",
              "  'min_samples_leaf': 1,\n",
              "  'min_samples_split': 4},\n",
              " {'max_depth': 6,\n",
              "  'max_leaf_nodes': 7,\n",
              "  'min_samples_leaf': 1,\n",
              "  'min_samples_split': 4},\n",
              " {'max_depth': 2,\n",
              "  'max_leaf_nodes': 9,\n",
              "  'min_samples_leaf': 1,\n",
              "  'min_samples_split': 4},\n",
              " {'max_depth': 3,\n",
              "  'max_leaf_nodes': 9,\n",
              "  'min_samples_leaf': 1,\n",
              "  'min_samples_split': 4},\n",
              " {'max_depth': 4,\n",
              "  'max_leaf_nodes': 9,\n",
              "  'min_samples_leaf': 1,\n",
              "  'min_samples_split': 4},\n",
              " {'max_depth': 5,\n",
              "  'max_leaf_nodes': 9,\n",
              "  'min_samples_leaf': 1,\n",
              "  'min_samples_split': 4},\n",
              " {'max_depth': 6,\n",
              "  'max_leaf_nodes': 9,\n",
              "  'min_samples_leaf': 1,\n",
              "  'min_samples_split': 4},\n",
              " {'max_depth': 2,\n",
              "  'max_leaf_nodes': 11,\n",
              "  'min_samples_leaf': 1,\n",
              "  'min_samples_split': 4},\n",
              " {'max_depth': 3,\n",
              "  'max_leaf_nodes': 11,\n",
              "  'min_samples_leaf': 1,\n",
              "  'min_samples_split': 4},\n",
              " {'max_depth': 4,\n",
              "  'max_leaf_nodes': 11,\n",
              "  'min_samples_leaf': 1,\n",
              "  'min_samples_split': 4},\n",
              " {'max_depth': 5,\n",
              "  'max_leaf_nodes': 11,\n",
              "  'min_samples_leaf': 1,\n",
              "  'min_samples_split': 4},\n",
              " {'max_depth': 6,\n",
              "  'max_leaf_nodes': 11,\n",
              "  'min_samples_leaf': 1,\n",
              "  'min_samples_split': 4},\n",
              " {'max_depth': 2,\n",
              "  'max_leaf_nodes': 13,\n",
              "  'min_samples_leaf': 1,\n",
              "  'min_samples_split': 4},\n",
              " {'max_depth': 3,\n",
              "  'max_leaf_nodes': 13,\n",
              "  'min_samples_leaf': 1,\n",
              "  'min_samples_split': 4},\n",
              " {'max_depth': 4,\n",
              "  'max_leaf_nodes': 13,\n",
              "  'min_samples_leaf': 1,\n",
              "  'min_samples_split': 4},\n",
              " {'max_depth': 5,\n",
              "  'max_leaf_nodes': 13,\n",
              "  'min_samples_leaf': 1,\n",
              "  'min_samples_split': 4},\n",
              " {'max_depth': 6,\n",
              "  'max_leaf_nodes': 13,\n",
              "  'min_samples_leaf': 1,\n",
              "  'min_samples_split': 4},\n",
              " {'max_depth': 2,\n",
              "  'max_leaf_nodes': 5,\n",
              "  'min_samples_leaf': 3,\n",
              "  'min_samples_split': 4},\n",
              " {'max_depth': 3,\n",
              "  'max_leaf_nodes': 5,\n",
              "  'min_samples_leaf': 3,\n",
              "  'min_samples_split': 4},\n",
              " {'max_depth': 4,\n",
              "  'max_leaf_nodes': 5,\n",
              "  'min_samples_leaf': 3,\n",
              "  'min_samples_split': 4},\n",
              " {'max_depth': 5,\n",
              "  'max_leaf_nodes': 5,\n",
              "  'min_samples_leaf': 3,\n",
              "  'min_samples_split': 4},\n",
              " {'max_depth': 6,\n",
              "  'max_leaf_nodes': 5,\n",
              "  'min_samples_leaf': 3,\n",
              "  'min_samples_split': 4},\n",
              " {'max_depth': 2,\n",
              "  'max_leaf_nodes': 7,\n",
              "  'min_samples_leaf': 3,\n",
              "  'min_samples_split': 4},\n",
              " {'max_depth': 3,\n",
              "  'max_leaf_nodes': 7,\n",
              "  'min_samples_leaf': 3,\n",
              "  'min_samples_split': 4},\n",
              " {'max_depth': 4,\n",
              "  'max_leaf_nodes': 7,\n",
              "  'min_samples_leaf': 3,\n",
              "  'min_samples_split': 4},\n",
              " {'max_depth': 5,\n",
              "  'max_leaf_nodes': 7,\n",
              "  'min_samples_leaf': 3,\n",
              "  'min_samples_split': 4},\n",
              " {'max_depth': 6,\n",
              "  'max_leaf_nodes': 7,\n",
              "  'min_samples_leaf': 3,\n",
              "  'min_samples_split': 4},\n",
              " {'max_depth': 2,\n",
              "  'max_leaf_nodes': 9,\n",
              "  'min_samples_leaf': 3,\n",
              "  'min_samples_split': 4},\n",
              " {'max_depth': 3,\n",
              "  'max_leaf_nodes': 9,\n",
              "  'min_samples_leaf': 3,\n",
              "  'min_samples_split': 4},\n",
              " {'max_depth': 4,\n",
              "  'max_leaf_nodes': 9,\n",
              "  'min_samples_leaf': 3,\n",
              "  'min_samples_split': 4},\n",
              " {'max_depth': 5,\n",
              "  'max_leaf_nodes': 9,\n",
              "  'min_samples_leaf': 3,\n",
              "  'min_samples_split': 4},\n",
              " {'max_depth': 6,\n",
              "  'max_leaf_nodes': 9,\n",
              "  'min_samples_leaf': 3,\n",
              "  'min_samples_split': 4},\n",
              " {'max_depth': 2,\n",
              "  'max_leaf_nodes': 11,\n",
              "  'min_samples_leaf': 3,\n",
              "  'min_samples_split': 4},\n",
              " {'max_depth': 3,\n",
              "  'max_leaf_nodes': 11,\n",
              "  'min_samples_leaf': 3,\n",
              "  'min_samples_split': 4},\n",
              " {'max_depth': 4,\n",
              "  'max_leaf_nodes': 11,\n",
              "  'min_samples_leaf': 3,\n",
              "  'min_samples_split': 4},\n",
              " {'max_depth': 5,\n",
              "  'max_leaf_nodes': 11,\n",
              "  'min_samples_leaf': 3,\n",
              "  'min_samples_split': 4},\n",
              " {'max_depth': 6,\n",
              "  'max_leaf_nodes': 11,\n",
              "  'min_samples_leaf': 3,\n",
              "  'min_samples_split': 4},\n",
              " {'max_depth': 2,\n",
              "  'max_leaf_nodes': 13,\n",
              "  'min_samples_leaf': 3,\n",
              "  'min_samples_split': 4},\n",
              " {'max_depth': 3,\n",
              "  'max_leaf_nodes': 13,\n",
              "  'min_samples_leaf': 3,\n",
              "  'min_samples_split': 4},\n",
              " {'max_depth': 4,\n",
              "  'max_leaf_nodes': 13,\n",
              "  'min_samples_leaf': 3,\n",
              "  'min_samples_split': 4},\n",
              " {'max_depth': 5,\n",
              "  'max_leaf_nodes': 13,\n",
              "  'min_samples_leaf': 3,\n",
              "  'min_samples_split': 4},\n",
              " {'max_depth': 6,\n",
              "  'max_leaf_nodes': 13,\n",
              "  'min_samples_leaf': 3,\n",
              "  'min_samples_split': 4},\n",
              " {'max_depth': 2,\n",
              "  'max_leaf_nodes': 5,\n",
              "  'min_samples_leaf': 5,\n",
              "  'min_samples_split': 4},\n",
              " {'max_depth': 3,\n",
              "  'max_leaf_nodes': 5,\n",
              "  'min_samples_leaf': 5,\n",
              "  'min_samples_split': 4},\n",
              " {'max_depth': 4,\n",
              "  'max_leaf_nodes': 5,\n",
              "  'min_samples_leaf': 5,\n",
              "  'min_samples_split': 4},\n",
              " {'max_depth': 5,\n",
              "  'max_leaf_nodes': 5,\n",
              "  'min_samples_leaf': 5,\n",
              "  'min_samples_split': 4},\n",
              " {'max_depth': 6,\n",
              "  'max_leaf_nodes': 5,\n",
              "  'min_samples_leaf': 5,\n",
              "  'min_samples_split': 4},\n",
              " {'max_depth': 2,\n",
              "  'max_leaf_nodes': 7,\n",
              "  'min_samples_leaf': 5,\n",
              "  'min_samples_split': 4},\n",
              " {'max_depth': 3,\n",
              "  'max_leaf_nodes': 7,\n",
              "  'min_samples_leaf': 5,\n",
              "  'min_samples_split': 4},\n",
              " {'max_depth': 4,\n",
              "  'max_leaf_nodes': 7,\n",
              "  'min_samples_leaf': 5,\n",
              "  'min_samples_split': 4},\n",
              " {'max_depth': 5,\n",
              "  'max_leaf_nodes': 7,\n",
              "  'min_samples_leaf': 5,\n",
              "  'min_samples_split': 4},\n",
              " {'max_depth': 6,\n",
              "  'max_leaf_nodes': 7,\n",
              "  'min_samples_leaf': 5,\n",
              "  'min_samples_split': 4},\n",
              " {'max_depth': 2,\n",
              "  'max_leaf_nodes': 9,\n",
              "  'min_samples_leaf': 5,\n",
              "  'min_samples_split': 4},\n",
              " {'max_depth': 3,\n",
              "  'max_leaf_nodes': 9,\n",
              "  'min_samples_leaf': 5,\n",
              "  'min_samples_split': 4},\n",
              " {'max_depth': 4,\n",
              "  'max_leaf_nodes': 9,\n",
              "  'min_samples_leaf': 5,\n",
              "  'min_samples_split': 4},\n",
              " {'max_depth': 5,\n",
              "  'max_leaf_nodes': 9,\n",
              "  'min_samples_leaf': 5,\n",
              "  'min_samples_split': 4},\n",
              " {'max_depth': 6,\n",
              "  'max_leaf_nodes': 9,\n",
              "  'min_samples_leaf': 5,\n",
              "  'min_samples_split': 4},\n",
              " {'max_depth': 2,\n",
              "  'max_leaf_nodes': 11,\n",
              "  'min_samples_leaf': 5,\n",
              "  'min_samples_split': 4},\n",
              " {'max_depth': 3,\n",
              "  'max_leaf_nodes': 11,\n",
              "  'min_samples_leaf': 5,\n",
              "  'min_samples_split': 4},\n",
              " {'max_depth': 4,\n",
              "  'max_leaf_nodes': 11,\n",
              "  'min_samples_leaf': 5,\n",
              "  'min_samples_split': 4},\n",
              " {'max_depth': 5,\n",
              "  'max_leaf_nodes': 11,\n",
              "  'min_samples_leaf': 5,\n",
              "  'min_samples_split': 4},\n",
              " {'max_depth': 6,\n",
              "  'max_leaf_nodes': 11,\n",
              "  'min_samples_leaf': 5,\n",
              "  'min_samples_split': 4},\n",
              " {'max_depth': 2,\n",
              "  'max_leaf_nodes': 13,\n",
              "  'min_samples_leaf': 5,\n",
              "  'min_samples_split': 4},\n",
              " {'max_depth': 3,\n",
              "  'max_leaf_nodes': 13,\n",
              "  'min_samples_leaf': 5,\n",
              "  'min_samples_split': 4},\n",
              " {'max_depth': 4,\n",
              "  'max_leaf_nodes': 13,\n",
              "  'min_samples_leaf': 5,\n",
              "  'min_samples_split': 4},\n",
              " {'max_depth': 5,\n",
              "  'max_leaf_nodes': 13,\n",
              "  'min_samples_leaf': 5,\n",
              "  'min_samples_split': 4},\n",
              " {'max_depth': 6,\n",
              "  'max_leaf_nodes': 13,\n",
              "  'min_samples_leaf': 5,\n",
              "  'min_samples_split': 4},\n",
              " {'max_depth': 2,\n",
              "  'max_leaf_nodes': 5,\n",
              "  'min_samples_leaf': 1,\n",
              "  'min_samples_split': 8},\n",
              " {'max_depth': 3,\n",
              "  'max_leaf_nodes': 5,\n",
              "  'min_samples_leaf': 1,\n",
              "  'min_samples_split': 8},\n",
              " {'max_depth': 4,\n",
              "  'max_leaf_nodes': 5,\n",
              "  'min_samples_leaf': 1,\n",
              "  'min_samples_split': 8},\n",
              " {'max_depth': 5,\n",
              "  'max_leaf_nodes': 5,\n",
              "  'min_samples_leaf': 1,\n",
              "  'min_samples_split': 8},\n",
              " {'max_depth': 6,\n",
              "  'max_leaf_nodes': 5,\n",
              "  'min_samples_leaf': 1,\n",
              "  'min_samples_split': 8},\n",
              " {'max_depth': 2,\n",
              "  'max_leaf_nodes': 7,\n",
              "  'min_samples_leaf': 1,\n",
              "  'min_samples_split': 8},\n",
              " {'max_depth': 3,\n",
              "  'max_leaf_nodes': 7,\n",
              "  'min_samples_leaf': 1,\n",
              "  'min_samples_split': 8},\n",
              " {'max_depth': 4,\n",
              "  'max_leaf_nodes': 7,\n",
              "  'min_samples_leaf': 1,\n",
              "  'min_samples_split': 8},\n",
              " {'max_depth': 5,\n",
              "  'max_leaf_nodes': 7,\n",
              "  'min_samples_leaf': 1,\n",
              "  'min_samples_split': 8},\n",
              " {'max_depth': 6,\n",
              "  'max_leaf_nodes': 7,\n",
              "  'min_samples_leaf': 1,\n",
              "  'min_samples_split': 8},\n",
              " {'max_depth': 2,\n",
              "  'max_leaf_nodes': 9,\n",
              "  'min_samples_leaf': 1,\n",
              "  'min_samples_split': 8},\n",
              " {'max_depth': 3,\n",
              "  'max_leaf_nodes': 9,\n",
              "  'min_samples_leaf': 1,\n",
              "  'min_samples_split': 8},\n",
              " {'max_depth': 4,\n",
              "  'max_leaf_nodes': 9,\n",
              "  'min_samples_leaf': 1,\n",
              "  'min_samples_split': 8},\n",
              " {'max_depth': 5,\n",
              "  'max_leaf_nodes': 9,\n",
              "  'min_samples_leaf': 1,\n",
              "  'min_samples_split': 8},\n",
              " {'max_depth': 6,\n",
              "  'max_leaf_nodes': 9,\n",
              "  'min_samples_leaf': 1,\n",
              "  'min_samples_split': 8},\n",
              " {'max_depth': 2,\n",
              "  'max_leaf_nodes': 11,\n",
              "  'min_samples_leaf': 1,\n",
              "  'min_samples_split': 8},\n",
              " {'max_depth': 3,\n",
              "  'max_leaf_nodes': 11,\n",
              "  'min_samples_leaf': 1,\n",
              "  'min_samples_split': 8},\n",
              " {'max_depth': 4,\n",
              "  'max_leaf_nodes': 11,\n",
              "  'min_samples_leaf': 1,\n",
              "  'min_samples_split': 8},\n",
              " {'max_depth': 5,\n",
              "  'max_leaf_nodes': 11,\n",
              "  'min_samples_leaf': 1,\n",
              "  'min_samples_split': 8},\n",
              " {'max_depth': 6,\n",
              "  'max_leaf_nodes': 11,\n",
              "  'min_samples_leaf': 1,\n",
              "  'min_samples_split': 8},\n",
              " {'max_depth': 2,\n",
              "  'max_leaf_nodes': 13,\n",
              "  'min_samples_leaf': 1,\n",
              "  'min_samples_split': 8},\n",
              " {'max_depth': 3,\n",
              "  'max_leaf_nodes': 13,\n",
              "  'min_samples_leaf': 1,\n",
              "  'min_samples_split': 8},\n",
              " {'max_depth': 4,\n",
              "  'max_leaf_nodes': 13,\n",
              "  'min_samples_leaf': 1,\n",
              "  'min_samples_split': 8},\n",
              " {'max_depth': 5,\n",
              "  'max_leaf_nodes': 13,\n",
              "  'min_samples_leaf': 1,\n",
              "  'min_samples_split': 8},\n",
              " {'max_depth': 6,\n",
              "  'max_leaf_nodes': 13,\n",
              "  'min_samples_leaf': 1,\n",
              "  'min_samples_split': 8},\n",
              " {'max_depth': 2,\n",
              "  'max_leaf_nodes': 5,\n",
              "  'min_samples_leaf': 3,\n",
              "  'min_samples_split': 8},\n",
              " {'max_depth': 3,\n",
              "  'max_leaf_nodes': 5,\n",
              "  'min_samples_leaf': 3,\n",
              "  'min_samples_split': 8},\n",
              " {'max_depth': 4,\n",
              "  'max_leaf_nodes': 5,\n",
              "  'min_samples_leaf': 3,\n",
              "  'min_samples_split': 8},\n",
              " {'max_depth': 5,\n",
              "  'max_leaf_nodes': 5,\n",
              "  'min_samples_leaf': 3,\n",
              "  'min_samples_split': 8},\n",
              " {'max_depth': 6,\n",
              "  'max_leaf_nodes': 5,\n",
              "  'min_samples_leaf': 3,\n",
              "  'min_samples_split': 8},\n",
              " {'max_depth': 2,\n",
              "  'max_leaf_nodes': 7,\n",
              "  'min_samples_leaf': 3,\n",
              "  'min_samples_split': 8},\n",
              " {'max_depth': 3,\n",
              "  'max_leaf_nodes': 7,\n",
              "  'min_samples_leaf': 3,\n",
              "  'min_samples_split': 8},\n",
              " {'max_depth': 4,\n",
              "  'max_leaf_nodes': 7,\n",
              "  'min_samples_leaf': 3,\n",
              "  'min_samples_split': 8},\n",
              " {'max_depth': 5,\n",
              "  'max_leaf_nodes': 7,\n",
              "  'min_samples_leaf': 3,\n",
              "  'min_samples_split': 8},\n",
              " {'max_depth': 6,\n",
              "  'max_leaf_nodes': 7,\n",
              "  'min_samples_leaf': 3,\n",
              "  'min_samples_split': 8},\n",
              " {'max_depth': 2,\n",
              "  'max_leaf_nodes': 9,\n",
              "  'min_samples_leaf': 3,\n",
              "  'min_samples_split': 8},\n",
              " {'max_depth': 3,\n",
              "  'max_leaf_nodes': 9,\n",
              "  'min_samples_leaf': 3,\n",
              "  'min_samples_split': 8},\n",
              " {'max_depth': 4,\n",
              "  'max_leaf_nodes': 9,\n",
              "  'min_samples_leaf': 3,\n",
              "  'min_samples_split': 8},\n",
              " {'max_depth': 5,\n",
              "  'max_leaf_nodes': 9,\n",
              "  'min_samples_leaf': 3,\n",
              "  'min_samples_split': 8},\n",
              " {'max_depth': 6,\n",
              "  'max_leaf_nodes': 9,\n",
              "  'min_samples_leaf': 3,\n",
              "  'min_samples_split': 8},\n",
              " {'max_depth': 2,\n",
              "  'max_leaf_nodes': 11,\n",
              "  'min_samples_leaf': 3,\n",
              "  'min_samples_split': 8},\n",
              " {'max_depth': 3,\n",
              "  'max_leaf_nodes': 11,\n",
              "  'min_samples_leaf': 3,\n",
              "  'min_samples_split': 8},\n",
              " {'max_depth': 4,\n",
              "  'max_leaf_nodes': 11,\n",
              "  'min_samples_leaf': 3,\n",
              "  'min_samples_split': 8},\n",
              " {'max_depth': 5,\n",
              "  'max_leaf_nodes': 11,\n",
              "  'min_samples_leaf': 3,\n",
              "  'min_samples_split': 8},\n",
              " {'max_depth': 6,\n",
              "  'max_leaf_nodes': 11,\n",
              "  'min_samples_leaf': 3,\n",
              "  'min_samples_split': 8},\n",
              " {'max_depth': 2,\n",
              "  'max_leaf_nodes': 13,\n",
              "  'min_samples_leaf': 3,\n",
              "  'min_samples_split': 8},\n",
              " {'max_depth': 3,\n",
              "  'max_leaf_nodes': 13,\n",
              "  'min_samples_leaf': 3,\n",
              "  'min_samples_split': 8},\n",
              " {'max_depth': 4,\n",
              "  'max_leaf_nodes': 13,\n",
              "  'min_samples_leaf': 3,\n",
              "  'min_samples_split': 8},\n",
              " {'max_depth': 5,\n",
              "  'max_leaf_nodes': 13,\n",
              "  'min_samples_leaf': 3,\n",
              "  'min_samples_split': 8},\n",
              " {'max_depth': 6,\n",
              "  'max_leaf_nodes': 13,\n",
              "  'min_samples_leaf': 3,\n",
              "  'min_samples_split': 8},\n",
              " {'max_depth': 2,\n",
              "  'max_leaf_nodes': 5,\n",
              "  'min_samples_leaf': 5,\n",
              "  'min_samples_split': 8},\n",
              " {'max_depth': 3,\n",
              "  'max_leaf_nodes': 5,\n",
              "  'min_samples_leaf': 5,\n",
              "  'min_samples_split': 8},\n",
              " {'max_depth': 4,\n",
              "  'max_leaf_nodes': 5,\n",
              "  'min_samples_leaf': 5,\n",
              "  'min_samples_split': 8},\n",
              " {'max_depth': 5,\n",
              "  'max_leaf_nodes': 5,\n",
              "  'min_samples_leaf': 5,\n",
              "  'min_samples_split': 8},\n",
              " {'max_depth': 6,\n",
              "  'max_leaf_nodes': 5,\n",
              "  'min_samples_leaf': 5,\n",
              "  'min_samples_split': 8},\n",
              " {'max_depth': 2,\n",
              "  'max_leaf_nodes': 7,\n",
              "  'min_samples_leaf': 5,\n",
              "  'min_samples_split': 8},\n",
              " {'max_depth': 3,\n",
              "  'max_leaf_nodes': 7,\n",
              "  'min_samples_leaf': 5,\n",
              "  'min_samples_split': 8},\n",
              " {'max_depth': 4,\n",
              "  'max_leaf_nodes': 7,\n",
              "  'min_samples_leaf': 5,\n",
              "  'min_samples_split': 8},\n",
              " {'max_depth': 5,\n",
              "  'max_leaf_nodes': 7,\n",
              "  'min_samples_leaf': 5,\n",
              "  'min_samples_split': 8},\n",
              " {'max_depth': 6,\n",
              "  'max_leaf_nodes': 7,\n",
              "  'min_samples_leaf': 5,\n",
              "  'min_samples_split': 8},\n",
              " {'max_depth': 2,\n",
              "  'max_leaf_nodes': 9,\n",
              "  'min_samples_leaf': 5,\n",
              "  'min_samples_split': 8},\n",
              " {'max_depth': 3,\n",
              "  'max_leaf_nodes': 9,\n",
              "  'min_samples_leaf': 5,\n",
              "  'min_samples_split': 8},\n",
              " {'max_depth': 4,\n",
              "  'max_leaf_nodes': 9,\n",
              "  'min_samples_leaf': 5,\n",
              "  'min_samples_split': 8},\n",
              " {'max_depth': 5,\n",
              "  'max_leaf_nodes': 9,\n",
              "  'min_samples_leaf': 5,\n",
              "  'min_samples_split': 8},\n",
              " {'max_depth': 6,\n",
              "  'max_leaf_nodes': 9,\n",
              "  'min_samples_leaf': 5,\n",
              "  'min_samples_split': 8},\n",
              " {'max_depth': 2,\n",
              "  'max_leaf_nodes': 11,\n",
              "  'min_samples_leaf': 5,\n",
              "  'min_samples_split': 8},\n",
              " {'max_depth': 3,\n",
              "  'max_leaf_nodes': 11,\n",
              "  'min_samples_leaf': 5,\n",
              "  'min_samples_split': 8},\n",
              " {'max_depth': 4,\n",
              "  'max_leaf_nodes': 11,\n",
              "  'min_samples_leaf': 5,\n",
              "  'min_samples_split': 8},\n",
              " {'max_depth': 5,\n",
              "  'max_leaf_nodes': 11,\n",
              "  'min_samples_leaf': 5,\n",
              "  'min_samples_split': 8},\n",
              " {'max_depth': 6,\n",
              "  'max_leaf_nodes': 11,\n",
              "  'min_samples_leaf': 5,\n",
              "  'min_samples_split': 8},\n",
              " {'max_depth': 2,\n",
              "  'max_leaf_nodes': 13,\n",
              "  'min_samples_leaf': 5,\n",
              "  'min_samples_split': 8},\n",
              " {'max_depth': 3,\n",
              "  'max_leaf_nodes': 13,\n",
              "  'min_samples_leaf': 5,\n",
              "  'min_samples_split': 8},\n",
              " {'max_depth': 4,\n",
              "  'max_leaf_nodes': 13,\n",
              "  'min_samples_leaf': 5,\n",
              "  'min_samples_split': 8},\n",
              " {'max_depth': 5,\n",
              "  'max_leaf_nodes': 13,\n",
              "  'min_samples_leaf': 5,\n",
              "  'min_samples_split': 8},\n",
              " {'max_depth': 6,\n",
              "  'max_leaf_nodes': 13,\n",
              "  'min_samples_leaf': 5,\n",
              "  'min_samples_split': 8}]"
            ]
          },
          "metadata": {},
          "execution_count": 95
        }
      ]
    },
    {
      "cell_type": "code",
      "metadata": {
        "id": "9Ogi1A5t2iCM",
        "colab": {
          "base_uri": "https://localhost:8080/"
        },
        "outputId": "abfd9d54-4b43-48bd-fbf5-da26a134245f"
      },
      "source": [
        "def DTtuner(paramgrids, xtr, ytr, xts, yts):\n",
        "    best = {}\n",
        "    scores = []\n",
        "    bs = 0\n",
        "    for params in retAllparams(paramgrids):\n",
        "        print(\"now trying params is\", params)\n",
        "        m = DecisionTreeClassifier(**params)\n",
        "        m.fit(xtr, ytr)\n",
        "        acc = m.score(xts, yts)\n",
        "        scores.append(params)\n",
        "        scores[-1]['acc'] = acc\n",
        "        if acc > bs:\n",
        "            bs = acc\n",
        "            best['params'] = params\n",
        "            best['acc'] = acc\n",
        "            best['m'] = m\n",
        "    \n",
        "    import pandas as pd\n",
        "    scores = pd.DataFrame(scores)\n",
        "    \n",
        "    return best, scores\n",
        "\n",
        "best, scores = DTtuner(paramgrids, X_train, y_train, X_test, y_test)\n",
        "\n",
        "print(best)\n",
        "scores"
      ],
      "execution_count": null,
      "outputs": [
        {
          "output_type": "stream",
          "name": "stdout",
          "text": [
            "now trying params is {'max_depth': 2, 'max_leaf_nodes': 5, 'min_samples_leaf': 1, 'min_samples_split': 2}\n",
            "now trying params is {'max_depth': 3, 'max_leaf_nodes': 5, 'min_samples_leaf': 1, 'min_samples_split': 2}\n",
            "now trying params is {'max_depth': 4, 'max_leaf_nodes': 5, 'min_samples_leaf': 1, 'min_samples_split': 2}\n",
            "now trying params is {'max_depth': 5, 'max_leaf_nodes': 5, 'min_samples_leaf': 1, 'min_samples_split': 2}\n",
            "now trying params is {'max_depth': 6, 'max_leaf_nodes': 5, 'min_samples_leaf': 1, 'min_samples_split': 2}\n",
            "now trying params is {'max_depth': 2, 'max_leaf_nodes': 7, 'min_samples_leaf': 1, 'min_samples_split': 2}\n",
            "now trying params is {'max_depth': 3, 'max_leaf_nodes': 7, 'min_samples_leaf': 1, 'min_samples_split': 2}\n",
            "now trying params is {'max_depth': 4, 'max_leaf_nodes': 7, 'min_samples_leaf': 1, 'min_samples_split': 2}\n",
            "now trying params is {'max_depth': 5, 'max_leaf_nodes': 7, 'min_samples_leaf': 1, 'min_samples_split': 2}\n",
            "now trying params is {'max_depth': 6, 'max_leaf_nodes': 7, 'min_samples_leaf': 1, 'min_samples_split': 2}\n",
            "now trying params is {'max_depth': 2, 'max_leaf_nodes': 9, 'min_samples_leaf': 1, 'min_samples_split': 2}\n",
            "now trying params is {'max_depth': 3, 'max_leaf_nodes': 9, 'min_samples_leaf': 1, 'min_samples_split': 2}\n",
            "now trying params is {'max_depth': 4, 'max_leaf_nodes': 9, 'min_samples_leaf': 1, 'min_samples_split': 2}\n",
            "now trying params is {'max_depth': 5, 'max_leaf_nodes': 9, 'min_samples_leaf': 1, 'min_samples_split': 2}\n",
            "now trying params is {'max_depth': 6, 'max_leaf_nodes': 9, 'min_samples_leaf': 1, 'min_samples_split': 2}\n",
            "now trying params is {'max_depth': 2, 'max_leaf_nodes': 11, 'min_samples_leaf': 1, 'min_samples_split': 2}\n",
            "now trying params is {'max_depth': 3, 'max_leaf_nodes': 11, 'min_samples_leaf': 1, 'min_samples_split': 2}\n",
            "now trying params is {'max_depth': 4, 'max_leaf_nodes': 11, 'min_samples_leaf': 1, 'min_samples_split': 2}\n",
            "now trying params is {'max_depth': 5, 'max_leaf_nodes': 11, 'min_samples_leaf': 1, 'min_samples_split': 2}\n",
            "now trying params is {'max_depth': 6, 'max_leaf_nodes': 11, 'min_samples_leaf': 1, 'min_samples_split': 2}\n",
            "now trying params is {'max_depth': 2, 'max_leaf_nodes': 13, 'min_samples_leaf': 1, 'min_samples_split': 2}\n",
            "now trying params is {'max_depth': 3, 'max_leaf_nodes': 13, 'min_samples_leaf': 1, 'min_samples_split': 2}\n",
            "now trying params is {'max_depth': 4, 'max_leaf_nodes': 13, 'min_samples_leaf': 1, 'min_samples_split': 2}\n",
            "now trying params is {'max_depth': 5, 'max_leaf_nodes': 13, 'min_samples_leaf': 1, 'min_samples_split': 2}\n",
            "now trying params is {'max_depth': 6, 'max_leaf_nodes': 13, 'min_samples_leaf': 1, 'min_samples_split': 2}\n",
            "now trying params is {'max_depth': 2, 'max_leaf_nodes': 5, 'min_samples_leaf': 3, 'min_samples_split': 2}\n",
            "now trying params is {'max_depth': 3, 'max_leaf_nodes': 5, 'min_samples_leaf': 3, 'min_samples_split': 2}\n",
            "now trying params is {'max_depth': 4, 'max_leaf_nodes': 5, 'min_samples_leaf': 3, 'min_samples_split': 2}\n",
            "now trying params is {'max_depth': 5, 'max_leaf_nodes': 5, 'min_samples_leaf': 3, 'min_samples_split': 2}\n",
            "now trying params is {'max_depth': 6, 'max_leaf_nodes': 5, 'min_samples_leaf': 3, 'min_samples_split': 2}\n",
            "now trying params is {'max_depth': 2, 'max_leaf_nodes': 7, 'min_samples_leaf': 3, 'min_samples_split': 2}\n",
            "now trying params is {'max_depth': 3, 'max_leaf_nodes': 7, 'min_samples_leaf': 3, 'min_samples_split': 2}\n",
            "now trying params is {'max_depth': 4, 'max_leaf_nodes': 7, 'min_samples_leaf': 3, 'min_samples_split': 2}\n",
            "now trying params is {'max_depth': 5, 'max_leaf_nodes': 7, 'min_samples_leaf': 3, 'min_samples_split': 2}\n",
            "now trying params is {'max_depth': 6, 'max_leaf_nodes': 7, 'min_samples_leaf': 3, 'min_samples_split': 2}\n",
            "now trying params is {'max_depth': 2, 'max_leaf_nodes': 9, 'min_samples_leaf': 3, 'min_samples_split': 2}\n",
            "now trying params is {'max_depth': 3, 'max_leaf_nodes': 9, 'min_samples_leaf': 3, 'min_samples_split': 2}\n",
            "now trying params is {'max_depth': 4, 'max_leaf_nodes': 9, 'min_samples_leaf': 3, 'min_samples_split': 2}\n",
            "now trying params is {'max_depth': 5, 'max_leaf_nodes': 9, 'min_samples_leaf': 3, 'min_samples_split': 2}\n",
            "now trying params is {'max_depth': 6, 'max_leaf_nodes': 9, 'min_samples_leaf': 3, 'min_samples_split': 2}\n",
            "now trying params is {'max_depth': 2, 'max_leaf_nodes': 11, 'min_samples_leaf': 3, 'min_samples_split': 2}\n",
            "now trying params is {'max_depth': 3, 'max_leaf_nodes': 11, 'min_samples_leaf': 3, 'min_samples_split': 2}\n",
            "now trying params is {'max_depth': 4, 'max_leaf_nodes': 11, 'min_samples_leaf': 3, 'min_samples_split': 2}\n",
            "now trying params is {'max_depth': 5, 'max_leaf_nodes': 11, 'min_samples_leaf': 3, 'min_samples_split': 2}\n",
            "now trying params is {'max_depth': 6, 'max_leaf_nodes': 11, 'min_samples_leaf': 3, 'min_samples_split': 2}\n",
            "now trying params is {'max_depth': 2, 'max_leaf_nodes': 13, 'min_samples_leaf': 3, 'min_samples_split': 2}\n",
            "now trying params is {'max_depth': 3, 'max_leaf_nodes': 13, 'min_samples_leaf': 3, 'min_samples_split': 2}\n",
            "now trying params is {'max_depth': 4, 'max_leaf_nodes': 13, 'min_samples_leaf': 3, 'min_samples_split': 2}\n",
            "now trying params is {'max_depth': 5, 'max_leaf_nodes': 13, 'min_samples_leaf': 3, 'min_samples_split': 2}\n",
            "now trying params is {'max_depth': 6, 'max_leaf_nodes': 13, 'min_samples_leaf': 3, 'min_samples_split': 2}\n",
            "now trying params is {'max_depth': 2, 'max_leaf_nodes': 5, 'min_samples_leaf': 5, 'min_samples_split': 2}\n",
            "now trying params is {'max_depth': 3, 'max_leaf_nodes': 5, 'min_samples_leaf': 5, 'min_samples_split': 2}\n",
            "now trying params is {'max_depth': 4, 'max_leaf_nodes': 5, 'min_samples_leaf': 5, 'min_samples_split': 2}\n",
            "now trying params is {'max_depth': 5, 'max_leaf_nodes': 5, 'min_samples_leaf': 5, 'min_samples_split': 2}\n",
            "now trying params is {'max_depth': 6, 'max_leaf_nodes': 5, 'min_samples_leaf': 5, 'min_samples_split': 2}\n",
            "now trying params is {'max_depth': 2, 'max_leaf_nodes': 7, 'min_samples_leaf': 5, 'min_samples_split': 2}\n",
            "now trying params is {'max_depth': 3, 'max_leaf_nodes': 7, 'min_samples_leaf': 5, 'min_samples_split': 2}\n",
            "now trying params is {'max_depth': 4, 'max_leaf_nodes': 7, 'min_samples_leaf': 5, 'min_samples_split': 2}\n",
            "now trying params is {'max_depth': 5, 'max_leaf_nodes': 7, 'min_samples_leaf': 5, 'min_samples_split': 2}\n",
            "now trying params is {'max_depth': 6, 'max_leaf_nodes': 7, 'min_samples_leaf': 5, 'min_samples_split': 2}\n",
            "now trying params is {'max_depth': 2, 'max_leaf_nodes': 9, 'min_samples_leaf': 5, 'min_samples_split': 2}\n",
            "now trying params is {'max_depth': 3, 'max_leaf_nodes': 9, 'min_samples_leaf': 5, 'min_samples_split': 2}\n",
            "now trying params is {'max_depth': 4, 'max_leaf_nodes': 9, 'min_samples_leaf': 5, 'min_samples_split': 2}\n",
            "now trying params is {'max_depth': 5, 'max_leaf_nodes': 9, 'min_samples_leaf': 5, 'min_samples_split': 2}\n",
            "now trying params is {'max_depth': 6, 'max_leaf_nodes': 9, 'min_samples_leaf': 5, 'min_samples_split': 2}\n",
            "now trying params is {'max_depth': 2, 'max_leaf_nodes': 11, 'min_samples_leaf': 5, 'min_samples_split': 2}\n",
            "now trying params is {'max_depth': 3, 'max_leaf_nodes': 11, 'min_samples_leaf': 5, 'min_samples_split': 2}\n",
            "now trying params is {'max_depth': 4, 'max_leaf_nodes': 11, 'min_samples_leaf': 5, 'min_samples_split': 2}\n",
            "now trying params is {'max_depth': 5, 'max_leaf_nodes': 11, 'min_samples_leaf': 5, 'min_samples_split': 2}\n",
            "now trying params is {'max_depth': 6, 'max_leaf_nodes': 11, 'min_samples_leaf': 5, 'min_samples_split': 2}\n",
            "now trying params is {'max_depth': 2, 'max_leaf_nodes': 13, 'min_samples_leaf': 5, 'min_samples_split': 2}\n",
            "now trying params is {'max_depth': 3, 'max_leaf_nodes': 13, 'min_samples_leaf': 5, 'min_samples_split': 2}\n",
            "now trying params is {'max_depth': 4, 'max_leaf_nodes': 13, 'min_samples_leaf': 5, 'min_samples_split': 2}\n",
            "now trying params is {'max_depth': 5, 'max_leaf_nodes': 13, 'min_samples_leaf': 5, 'min_samples_split': 2}\n",
            "now trying params is {'max_depth': 6, 'max_leaf_nodes': 13, 'min_samples_leaf': 5, 'min_samples_split': 2}\n",
            "now trying params is {'max_depth': 2, 'max_leaf_nodes': 5, 'min_samples_leaf': 1, 'min_samples_split': 4}\n",
            "now trying params is {'max_depth': 3, 'max_leaf_nodes': 5, 'min_samples_leaf': 1, 'min_samples_split': 4}\n",
            "now trying params is {'max_depth': 4, 'max_leaf_nodes': 5, 'min_samples_leaf': 1, 'min_samples_split': 4}\n",
            "now trying params is {'max_depth': 5, 'max_leaf_nodes': 5, 'min_samples_leaf': 1, 'min_samples_split': 4}\n",
            "now trying params is {'max_depth': 6, 'max_leaf_nodes': 5, 'min_samples_leaf': 1, 'min_samples_split': 4}\n",
            "now trying params is {'max_depth': 2, 'max_leaf_nodes': 7, 'min_samples_leaf': 1, 'min_samples_split': 4}\n",
            "now trying params is {'max_depth': 3, 'max_leaf_nodes': 7, 'min_samples_leaf': 1, 'min_samples_split': 4}\n",
            "now trying params is {'max_depth': 4, 'max_leaf_nodes': 7, 'min_samples_leaf': 1, 'min_samples_split': 4}\n",
            "now trying params is {'max_depth': 5, 'max_leaf_nodes': 7, 'min_samples_leaf': 1, 'min_samples_split': 4}\n",
            "now trying params is {'max_depth': 6, 'max_leaf_nodes': 7, 'min_samples_leaf': 1, 'min_samples_split': 4}\n",
            "now trying params is {'max_depth': 2, 'max_leaf_nodes': 9, 'min_samples_leaf': 1, 'min_samples_split': 4}\n",
            "now trying params is {'max_depth': 3, 'max_leaf_nodes': 9, 'min_samples_leaf': 1, 'min_samples_split': 4}\n",
            "now trying params is {'max_depth': 4, 'max_leaf_nodes': 9, 'min_samples_leaf': 1, 'min_samples_split': 4}\n",
            "now trying params is {'max_depth': 5, 'max_leaf_nodes': 9, 'min_samples_leaf': 1, 'min_samples_split': 4}\n",
            "now trying params is {'max_depth': 6, 'max_leaf_nodes': 9, 'min_samples_leaf': 1, 'min_samples_split': 4}\n",
            "now trying params is {'max_depth': 2, 'max_leaf_nodes': 11, 'min_samples_leaf': 1, 'min_samples_split': 4}\n",
            "now trying params is {'max_depth': 3, 'max_leaf_nodes': 11, 'min_samples_leaf': 1, 'min_samples_split': 4}\n",
            "now trying params is {'max_depth': 4, 'max_leaf_nodes': 11, 'min_samples_leaf': 1, 'min_samples_split': 4}\n",
            "now trying params is {'max_depth': 5, 'max_leaf_nodes': 11, 'min_samples_leaf': 1, 'min_samples_split': 4}\n",
            "now trying params is {'max_depth': 6, 'max_leaf_nodes': 11, 'min_samples_leaf': 1, 'min_samples_split': 4}\n",
            "now trying params is {'max_depth': 2, 'max_leaf_nodes': 13, 'min_samples_leaf': 1, 'min_samples_split': 4}\n",
            "now trying params is {'max_depth': 3, 'max_leaf_nodes': 13, 'min_samples_leaf': 1, 'min_samples_split': 4}\n",
            "now trying params is {'max_depth': 4, 'max_leaf_nodes': 13, 'min_samples_leaf': 1, 'min_samples_split': 4}\n",
            "now trying params is {'max_depth': 5, 'max_leaf_nodes': 13, 'min_samples_leaf': 1, 'min_samples_split': 4}\n",
            "now trying params is {'max_depth': 6, 'max_leaf_nodes': 13, 'min_samples_leaf': 1, 'min_samples_split': 4}\n",
            "now trying params is {'max_depth': 2, 'max_leaf_nodes': 5, 'min_samples_leaf': 3, 'min_samples_split': 4}\n",
            "now trying params is {'max_depth': 3, 'max_leaf_nodes': 5, 'min_samples_leaf': 3, 'min_samples_split': 4}\n",
            "now trying params is {'max_depth': 4, 'max_leaf_nodes': 5, 'min_samples_leaf': 3, 'min_samples_split': 4}\n",
            "now trying params is {'max_depth': 5, 'max_leaf_nodes': 5, 'min_samples_leaf': 3, 'min_samples_split': 4}\n",
            "now trying params is {'max_depth': 6, 'max_leaf_nodes': 5, 'min_samples_leaf': 3, 'min_samples_split': 4}\n",
            "now trying params is {'max_depth': 2, 'max_leaf_nodes': 7, 'min_samples_leaf': 3, 'min_samples_split': 4}\n",
            "now trying params is {'max_depth': 3, 'max_leaf_nodes': 7, 'min_samples_leaf': 3, 'min_samples_split': 4}\n",
            "now trying params is {'max_depth': 4, 'max_leaf_nodes': 7, 'min_samples_leaf': 3, 'min_samples_split': 4}\n",
            "now trying params is {'max_depth': 5, 'max_leaf_nodes': 7, 'min_samples_leaf': 3, 'min_samples_split': 4}\n",
            "now trying params is {'max_depth': 6, 'max_leaf_nodes': 7, 'min_samples_leaf': 3, 'min_samples_split': 4}\n",
            "now trying params is {'max_depth': 2, 'max_leaf_nodes': 9, 'min_samples_leaf': 3, 'min_samples_split': 4}\n",
            "now trying params is {'max_depth': 3, 'max_leaf_nodes': 9, 'min_samples_leaf': 3, 'min_samples_split': 4}\n",
            "now trying params is {'max_depth': 4, 'max_leaf_nodes': 9, 'min_samples_leaf': 3, 'min_samples_split': 4}\n",
            "now trying params is {'max_depth': 5, 'max_leaf_nodes': 9, 'min_samples_leaf': 3, 'min_samples_split': 4}\n",
            "now trying params is {'max_depth': 6, 'max_leaf_nodes': 9, 'min_samples_leaf': 3, 'min_samples_split': 4}\n",
            "now trying params is {'max_depth': 2, 'max_leaf_nodes': 11, 'min_samples_leaf': 3, 'min_samples_split': 4}\n",
            "now trying params is {'max_depth': 3, 'max_leaf_nodes': 11, 'min_samples_leaf': 3, 'min_samples_split': 4}\n",
            "now trying params is {'max_depth': 4, 'max_leaf_nodes': 11, 'min_samples_leaf': 3, 'min_samples_split': 4}\n",
            "now trying params is {'max_depth': 5, 'max_leaf_nodes': 11, 'min_samples_leaf': 3, 'min_samples_split': 4}\n",
            "now trying params is {'max_depth': 6, 'max_leaf_nodes': 11, 'min_samples_leaf': 3, 'min_samples_split': 4}\n",
            "now trying params is {'max_depth': 2, 'max_leaf_nodes': 13, 'min_samples_leaf': 3, 'min_samples_split': 4}\n",
            "now trying params is {'max_depth': 3, 'max_leaf_nodes': 13, 'min_samples_leaf': 3, 'min_samples_split': 4}\n",
            "now trying params is {'max_depth': 4, 'max_leaf_nodes': 13, 'min_samples_leaf': 3, 'min_samples_split': 4}\n",
            "now trying params is {'max_depth': 5, 'max_leaf_nodes': 13, 'min_samples_leaf': 3, 'min_samples_split': 4}\n",
            "now trying params is {'max_depth': 6, 'max_leaf_nodes': 13, 'min_samples_leaf': 3, 'min_samples_split': 4}\n",
            "now trying params is {'max_depth': 2, 'max_leaf_nodes': 5, 'min_samples_leaf': 5, 'min_samples_split': 4}\n",
            "now trying params is {'max_depth': 3, 'max_leaf_nodes': 5, 'min_samples_leaf': 5, 'min_samples_split': 4}\n",
            "now trying params is {'max_depth': 4, 'max_leaf_nodes': 5, 'min_samples_leaf': 5, 'min_samples_split': 4}\n",
            "now trying params is {'max_depth': 5, 'max_leaf_nodes': 5, 'min_samples_leaf': 5, 'min_samples_split': 4}\n",
            "now trying params is {'max_depth': 6, 'max_leaf_nodes': 5, 'min_samples_leaf': 5, 'min_samples_split': 4}\n",
            "now trying params is {'max_depth': 2, 'max_leaf_nodes': 7, 'min_samples_leaf': 5, 'min_samples_split': 4}\n",
            "now trying params is {'max_depth': 3, 'max_leaf_nodes': 7, 'min_samples_leaf': 5, 'min_samples_split': 4}\n",
            "now trying params is {'max_depth': 4, 'max_leaf_nodes': 7, 'min_samples_leaf': 5, 'min_samples_split': 4}\n",
            "now trying params is {'max_depth': 5, 'max_leaf_nodes': 7, 'min_samples_leaf': 5, 'min_samples_split': 4}\n",
            "now trying params is {'max_depth': 6, 'max_leaf_nodes': 7, 'min_samples_leaf': 5, 'min_samples_split': 4}\n",
            "now trying params is {'max_depth': 2, 'max_leaf_nodes': 9, 'min_samples_leaf': 5, 'min_samples_split': 4}\n",
            "now trying params is {'max_depth': 3, 'max_leaf_nodes': 9, 'min_samples_leaf': 5, 'min_samples_split': 4}\n",
            "now trying params is {'max_depth': 4, 'max_leaf_nodes': 9, 'min_samples_leaf': 5, 'min_samples_split': 4}\n",
            "now trying params is {'max_depth': 5, 'max_leaf_nodes': 9, 'min_samples_leaf': 5, 'min_samples_split': 4}\n",
            "now trying params is {'max_depth': 6, 'max_leaf_nodes': 9, 'min_samples_leaf': 5, 'min_samples_split': 4}\n",
            "now trying params is {'max_depth': 2, 'max_leaf_nodes': 11, 'min_samples_leaf': 5, 'min_samples_split': 4}\n",
            "now trying params is {'max_depth': 3, 'max_leaf_nodes': 11, 'min_samples_leaf': 5, 'min_samples_split': 4}\n",
            "now trying params is {'max_depth': 4, 'max_leaf_nodes': 11, 'min_samples_leaf': 5, 'min_samples_split': 4}\n",
            "now trying params is {'max_depth': 5, 'max_leaf_nodes': 11, 'min_samples_leaf': 5, 'min_samples_split': 4}\n",
            "now trying params is {'max_depth': 6, 'max_leaf_nodes': 11, 'min_samples_leaf': 5, 'min_samples_split': 4}\n",
            "now trying params is {'max_depth': 2, 'max_leaf_nodes': 13, 'min_samples_leaf': 5, 'min_samples_split': 4}\n",
            "now trying params is {'max_depth': 3, 'max_leaf_nodes': 13, 'min_samples_leaf': 5, 'min_samples_split': 4}\n",
            "now trying params is {'max_depth': 4, 'max_leaf_nodes': 13, 'min_samples_leaf': 5, 'min_samples_split': 4}\n",
            "now trying params is {'max_depth': 5, 'max_leaf_nodes': 13, 'min_samples_leaf': 5, 'min_samples_split': 4}\n",
            "now trying params is {'max_depth': 6, 'max_leaf_nodes': 13, 'min_samples_leaf': 5, 'min_samples_split': 4}\n",
            "now trying params is {'max_depth': 2, 'max_leaf_nodes': 5, 'min_samples_leaf': 1, 'min_samples_split': 8}\n",
            "now trying params is {'max_depth': 3, 'max_leaf_nodes': 5, 'min_samples_leaf': 1, 'min_samples_split': 8}\n",
            "now trying params is {'max_depth': 4, 'max_leaf_nodes': 5, 'min_samples_leaf': 1, 'min_samples_split': 8}\n",
            "now trying params is {'max_depth': 5, 'max_leaf_nodes': 5, 'min_samples_leaf': 1, 'min_samples_split': 8}\n",
            "now trying params is {'max_depth': 6, 'max_leaf_nodes': 5, 'min_samples_leaf': 1, 'min_samples_split': 8}\n",
            "now trying params is {'max_depth': 2, 'max_leaf_nodes': 7, 'min_samples_leaf': 1, 'min_samples_split': 8}\n",
            "now trying params is {'max_depth': 3, 'max_leaf_nodes': 7, 'min_samples_leaf': 1, 'min_samples_split': 8}\n",
            "now trying params is {'max_depth': 4, 'max_leaf_nodes': 7, 'min_samples_leaf': 1, 'min_samples_split': 8}\n",
            "now trying params is {'max_depth': 5, 'max_leaf_nodes': 7, 'min_samples_leaf': 1, 'min_samples_split': 8}\n",
            "now trying params is {'max_depth': 6, 'max_leaf_nodes': 7, 'min_samples_leaf': 1, 'min_samples_split': 8}\n",
            "now trying params is {'max_depth': 2, 'max_leaf_nodes': 9, 'min_samples_leaf': 1, 'min_samples_split': 8}\n",
            "now trying params is {'max_depth': 3, 'max_leaf_nodes': 9, 'min_samples_leaf': 1, 'min_samples_split': 8}\n",
            "now trying params is {'max_depth': 4, 'max_leaf_nodes': 9, 'min_samples_leaf': 1, 'min_samples_split': 8}\n",
            "now trying params is {'max_depth': 5, 'max_leaf_nodes': 9, 'min_samples_leaf': 1, 'min_samples_split': 8}\n",
            "now trying params is {'max_depth': 6, 'max_leaf_nodes': 9, 'min_samples_leaf': 1, 'min_samples_split': 8}\n",
            "now trying params is {'max_depth': 2, 'max_leaf_nodes': 11, 'min_samples_leaf': 1, 'min_samples_split': 8}\n",
            "now trying params is {'max_depth': 3, 'max_leaf_nodes': 11, 'min_samples_leaf': 1, 'min_samples_split': 8}\n",
            "now trying params is {'max_depth': 4, 'max_leaf_nodes': 11, 'min_samples_leaf': 1, 'min_samples_split': 8}\n",
            "now trying params is {'max_depth': 5, 'max_leaf_nodes': 11, 'min_samples_leaf': 1, 'min_samples_split': 8}\n",
            "now trying params is {'max_depth': 6, 'max_leaf_nodes': 11, 'min_samples_leaf': 1, 'min_samples_split': 8}\n",
            "now trying params is {'max_depth': 2, 'max_leaf_nodes': 13, 'min_samples_leaf': 1, 'min_samples_split': 8}\n",
            "now trying params is {'max_depth': 3, 'max_leaf_nodes': 13, 'min_samples_leaf': 1, 'min_samples_split': 8}\n",
            "now trying params is {'max_depth': 4, 'max_leaf_nodes': 13, 'min_samples_leaf': 1, 'min_samples_split': 8}\n",
            "now trying params is {'max_depth': 5, 'max_leaf_nodes': 13, 'min_samples_leaf': 1, 'min_samples_split': 8}\n",
            "now trying params is {'max_depth': 6, 'max_leaf_nodes': 13, 'min_samples_leaf': 1, 'min_samples_split': 8}\n",
            "now trying params is {'max_depth': 2, 'max_leaf_nodes': 5, 'min_samples_leaf': 3, 'min_samples_split': 8}\n",
            "now trying params is {'max_depth': 3, 'max_leaf_nodes': 5, 'min_samples_leaf': 3, 'min_samples_split': 8}\n",
            "now trying params is {'max_depth': 4, 'max_leaf_nodes': 5, 'min_samples_leaf': 3, 'min_samples_split': 8}\n",
            "now trying params is {'max_depth': 5, 'max_leaf_nodes': 5, 'min_samples_leaf': 3, 'min_samples_split': 8}\n",
            "now trying params is {'max_depth': 6, 'max_leaf_nodes': 5, 'min_samples_leaf': 3, 'min_samples_split': 8}\n",
            "now trying params is {'max_depth': 2, 'max_leaf_nodes': 7, 'min_samples_leaf': 3, 'min_samples_split': 8}\n",
            "now trying params is {'max_depth': 3, 'max_leaf_nodes': 7, 'min_samples_leaf': 3, 'min_samples_split': 8}\n",
            "now trying params is {'max_depth': 4, 'max_leaf_nodes': 7, 'min_samples_leaf': 3, 'min_samples_split': 8}\n",
            "now trying params is {'max_depth': 5, 'max_leaf_nodes': 7, 'min_samples_leaf': 3, 'min_samples_split': 8}\n",
            "now trying params is {'max_depth': 6, 'max_leaf_nodes': 7, 'min_samples_leaf': 3, 'min_samples_split': 8}\n",
            "now trying params is {'max_depth': 2, 'max_leaf_nodes': 9, 'min_samples_leaf': 3, 'min_samples_split': 8}\n",
            "now trying params is {'max_depth': 3, 'max_leaf_nodes': 9, 'min_samples_leaf': 3, 'min_samples_split': 8}\n",
            "now trying params is {'max_depth': 4, 'max_leaf_nodes': 9, 'min_samples_leaf': 3, 'min_samples_split': 8}\n",
            "now trying params is {'max_depth': 5, 'max_leaf_nodes': 9, 'min_samples_leaf': 3, 'min_samples_split': 8}\n",
            "now trying params is {'max_depth': 6, 'max_leaf_nodes': 9, 'min_samples_leaf': 3, 'min_samples_split': 8}\n",
            "now trying params is {'max_depth': 2, 'max_leaf_nodes': 11, 'min_samples_leaf': 3, 'min_samples_split': 8}\n",
            "now trying params is {'max_depth': 3, 'max_leaf_nodes': 11, 'min_samples_leaf': 3, 'min_samples_split': 8}\n",
            "now trying params is {'max_depth': 4, 'max_leaf_nodes': 11, 'min_samples_leaf': 3, 'min_samples_split': 8}\n",
            "now trying params is {'max_depth': 5, 'max_leaf_nodes': 11, 'min_samples_leaf': 3, 'min_samples_split': 8}\n",
            "now trying params is {'max_depth': 6, 'max_leaf_nodes': 11, 'min_samples_leaf': 3, 'min_samples_split': 8}\n",
            "now trying params is {'max_depth': 2, 'max_leaf_nodes': 13, 'min_samples_leaf': 3, 'min_samples_split': 8}\n",
            "now trying params is {'max_depth': 3, 'max_leaf_nodes': 13, 'min_samples_leaf': 3, 'min_samples_split': 8}\n",
            "now trying params is {'max_depth': 4, 'max_leaf_nodes': 13, 'min_samples_leaf': 3, 'min_samples_split': 8}\n",
            "now trying params is {'max_depth': 5, 'max_leaf_nodes': 13, 'min_samples_leaf': 3, 'min_samples_split': 8}\n",
            "now trying params is {'max_depth': 6, 'max_leaf_nodes': 13, 'min_samples_leaf': 3, 'min_samples_split': 8}\n",
            "now trying params is {'max_depth': 2, 'max_leaf_nodes': 5, 'min_samples_leaf': 5, 'min_samples_split': 8}\n",
            "now trying params is {'max_depth': 3, 'max_leaf_nodes': 5, 'min_samples_leaf': 5, 'min_samples_split': 8}\n",
            "now trying params is {'max_depth': 4, 'max_leaf_nodes': 5, 'min_samples_leaf': 5, 'min_samples_split': 8}\n",
            "now trying params is {'max_depth': 5, 'max_leaf_nodes': 5, 'min_samples_leaf': 5, 'min_samples_split': 8}\n",
            "now trying params is {'max_depth': 6, 'max_leaf_nodes': 5, 'min_samples_leaf': 5, 'min_samples_split': 8}\n",
            "now trying params is {'max_depth': 2, 'max_leaf_nodes': 7, 'min_samples_leaf': 5, 'min_samples_split': 8}\n",
            "now trying params is {'max_depth': 3, 'max_leaf_nodes': 7, 'min_samples_leaf': 5, 'min_samples_split': 8}\n",
            "now trying params is {'max_depth': 4, 'max_leaf_nodes': 7, 'min_samples_leaf': 5, 'min_samples_split': 8}\n",
            "now trying params is {'max_depth': 5, 'max_leaf_nodes': 7, 'min_samples_leaf': 5, 'min_samples_split': 8}\n",
            "now trying params is {'max_depth': 6, 'max_leaf_nodes': 7, 'min_samples_leaf': 5, 'min_samples_split': 8}\n",
            "now trying params is {'max_depth': 2, 'max_leaf_nodes': 9, 'min_samples_leaf': 5, 'min_samples_split': 8}\n",
            "now trying params is {'max_depth': 3, 'max_leaf_nodes': 9, 'min_samples_leaf': 5, 'min_samples_split': 8}\n",
            "now trying params is {'max_depth': 4, 'max_leaf_nodes': 9, 'min_samples_leaf': 5, 'min_samples_split': 8}\n",
            "now trying params is {'max_depth': 5, 'max_leaf_nodes': 9, 'min_samples_leaf': 5, 'min_samples_split': 8}\n",
            "now trying params is {'max_depth': 6, 'max_leaf_nodes': 9, 'min_samples_leaf': 5, 'min_samples_split': 8}\n",
            "now trying params is {'max_depth': 2, 'max_leaf_nodes': 11, 'min_samples_leaf': 5, 'min_samples_split': 8}\n",
            "now trying params is {'max_depth': 3, 'max_leaf_nodes': 11, 'min_samples_leaf': 5, 'min_samples_split': 8}\n",
            "now trying params is {'max_depth': 4, 'max_leaf_nodes': 11, 'min_samples_leaf': 5, 'min_samples_split': 8}\n",
            "now trying params is {'max_depth': 5, 'max_leaf_nodes': 11, 'min_samples_leaf': 5, 'min_samples_split': 8}\n",
            "now trying params is {'max_depth': 6, 'max_leaf_nodes': 11, 'min_samples_leaf': 5, 'min_samples_split': 8}\n",
            "now trying params is {'max_depth': 2, 'max_leaf_nodes': 13, 'min_samples_leaf': 5, 'min_samples_split': 8}\n",
            "now trying params is {'max_depth': 3, 'max_leaf_nodes': 13, 'min_samples_leaf': 5, 'min_samples_split': 8}\n",
            "now trying params is {'max_depth': 4, 'max_leaf_nodes': 13, 'min_samples_leaf': 5, 'min_samples_split': 8}\n",
            "now trying params is {'max_depth': 5, 'max_leaf_nodes': 13, 'min_samples_leaf': 5, 'min_samples_split': 8}\n",
            "now trying params is {'max_depth': 6, 'max_leaf_nodes': 13, 'min_samples_leaf': 5, 'min_samples_split': 8}\n",
            "{'params': {'max_depth': 6, 'max_leaf_nodes': 7, 'min_samples_leaf': 1, 'min_samples_split': 2, 'acc': 0.7921348314606742}, 'acc': 0.7921348314606742, 'm': DecisionTreeClassifier(max_depth=6, max_leaf_nodes=7)}\n"
          ]
        },
        {
          "output_type": "execute_result",
          "data": {
            "text/html": [
              "\n",
              "  <div id=\"df-507a335e-b4b5-43f4-98b6-1f41b19d122a\">\n",
              "    <div class=\"colab-df-container\">\n",
              "      <div>\n",
              "<style scoped>\n",
              "    .dataframe tbody tr th:only-of-type {\n",
              "        vertical-align: middle;\n",
              "    }\n",
              "\n",
              "    .dataframe tbody tr th {\n",
              "        vertical-align: top;\n",
              "    }\n",
              "\n",
              "    .dataframe thead th {\n",
              "        text-align: right;\n",
              "    }\n",
              "</style>\n",
              "<table border=\"1\" class=\"dataframe\">\n",
              "  <thead>\n",
              "    <tr style=\"text-align: right;\">\n",
              "      <th></th>\n",
              "      <th>max_depth</th>\n",
              "      <th>max_leaf_nodes</th>\n",
              "      <th>min_samples_leaf</th>\n",
              "      <th>min_samples_split</th>\n",
              "      <th>acc</th>\n",
              "    </tr>\n",
              "  </thead>\n",
              "  <tbody>\n",
              "    <tr>\n",
              "      <th>0</th>\n",
              "      <td>2</td>\n",
              "      <td>5</td>\n",
              "      <td>1</td>\n",
              "      <td>2</td>\n",
              "      <td>0.758427</td>\n",
              "    </tr>\n",
              "    <tr>\n",
              "      <th>1</th>\n",
              "      <td>3</td>\n",
              "      <td>5</td>\n",
              "      <td>1</td>\n",
              "      <td>2</td>\n",
              "      <td>0.769663</td>\n",
              "    </tr>\n",
              "    <tr>\n",
              "      <th>2</th>\n",
              "      <td>4</td>\n",
              "      <td>5</td>\n",
              "      <td>1</td>\n",
              "      <td>2</td>\n",
              "      <td>0.769663</td>\n",
              "    </tr>\n",
              "    <tr>\n",
              "      <th>3</th>\n",
              "      <td>5</td>\n",
              "      <td>5</td>\n",
              "      <td>1</td>\n",
              "      <td>2</td>\n",
              "      <td>0.769663</td>\n",
              "    </tr>\n",
              "    <tr>\n",
              "      <th>4</th>\n",
              "      <td>6</td>\n",
              "      <td>5</td>\n",
              "      <td>1</td>\n",
              "      <td>2</td>\n",
              "      <td>0.769663</td>\n",
              "    </tr>\n",
              "    <tr>\n",
              "      <th>...</th>\n",
              "      <td>...</td>\n",
              "      <td>...</td>\n",
              "      <td>...</td>\n",
              "      <td>...</td>\n",
              "      <td>...</td>\n",
              "    </tr>\n",
              "    <tr>\n",
              "      <th>220</th>\n",
              "      <td>2</td>\n",
              "      <td>13</td>\n",
              "      <td>5</td>\n",
              "      <td>8</td>\n",
              "      <td>0.758427</td>\n",
              "    </tr>\n",
              "    <tr>\n",
              "      <th>221</th>\n",
              "      <td>3</td>\n",
              "      <td>13</td>\n",
              "      <td>5</td>\n",
              "      <td>8</td>\n",
              "      <td>0.747191</td>\n",
              "    </tr>\n",
              "    <tr>\n",
              "      <th>222</th>\n",
              "      <td>4</td>\n",
              "      <td>13</td>\n",
              "      <td>5</td>\n",
              "      <td>8</td>\n",
              "      <td>0.730337</td>\n",
              "    </tr>\n",
              "    <tr>\n",
              "      <th>223</th>\n",
              "      <td>5</td>\n",
              "      <td>13</td>\n",
              "      <td>5</td>\n",
              "      <td>8</td>\n",
              "      <td>0.741573</td>\n",
              "    </tr>\n",
              "    <tr>\n",
              "      <th>224</th>\n",
              "      <td>6</td>\n",
              "      <td>13</td>\n",
              "      <td>5</td>\n",
              "      <td>8</td>\n",
              "      <td>0.769663</td>\n",
              "    </tr>\n",
              "  </tbody>\n",
              "</table>\n",
              "<p>225 rows × 5 columns</p>\n",
              "</div>\n",
              "      <button class=\"colab-df-convert\" onclick=\"convertToInteractive('df-507a335e-b4b5-43f4-98b6-1f41b19d122a')\"\n",
              "              title=\"Convert this dataframe to an interactive table.\"\n",
              "              style=\"display:none;\">\n",
              "        \n",
              "  <svg xmlns=\"http://www.w3.org/2000/svg\" height=\"24px\"viewBox=\"0 0 24 24\"\n",
              "       width=\"24px\">\n",
              "    <path d=\"M0 0h24v24H0V0z\" fill=\"none\"/>\n",
              "    <path d=\"M18.56 5.44l.94 2.06.94-2.06 2.06-.94-2.06-.94-.94-2.06-.94 2.06-2.06.94zm-11 1L8.5 8.5l.94-2.06 2.06-.94-2.06-.94L8.5 2.5l-.94 2.06-2.06.94zm10 10l.94 2.06.94-2.06 2.06-.94-2.06-.94-.94-2.06-.94 2.06-2.06.94z\"/><path d=\"M17.41 7.96l-1.37-1.37c-.4-.4-.92-.59-1.43-.59-.52 0-1.04.2-1.43.59L10.3 9.45l-7.72 7.72c-.78.78-.78 2.05 0 2.83L4 21.41c.39.39.9.59 1.41.59.51 0 1.02-.2 1.41-.59l7.78-7.78 2.81-2.81c.8-.78.8-2.07 0-2.86zM5.41 20L4 18.59l7.72-7.72 1.47 1.35L5.41 20z\"/>\n",
              "  </svg>\n",
              "      </button>\n",
              "      \n",
              "  <style>\n",
              "    .colab-df-container {\n",
              "      display:flex;\n",
              "      flex-wrap:wrap;\n",
              "      gap: 12px;\n",
              "    }\n",
              "\n",
              "    .colab-df-convert {\n",
              "      background-color: #E8F0FE;\n",
              "      border: none;\n",
              "      border-radius: 50%;\n",
              "      cursor: pointer;\n",
              "      display: none;\n",
              "      fill: #1967D2;\n",
              "      height: 32px;\n",
              "      padding: 0 0 0 0;\n",
              "      width: 32px;\n",
              "    }\n",
              "\n",
              "    .colab-df-convert:hover {\n",
              "      background-color: #E2EBFA;\n",
              "      box-shadow: 0px 1px 2px rgba(60, 64, 67, 0.3), 0px 1px 3px 1px rgba(60, 64, 67, 0.15);\n",
              "      fill: #174EA6;\n",
              "    }\n",
              "\n",
              "    [theme=dark] .colab-df-convert {\n",
              "      background-color: #3B4455;\n",
              "      fill: #D2E3FC;\n",
              "    }\n",
              "\n",
              "    [theme=dark] .colab-df-convert:hover {\n",
              "      background-color: #434B5C;\n",
              "      box-shadow: 0px 1px 3px 1px rgba(0, 0, 0, 0.15);\n",
              "      filter: drop-shadow(0px 1px 2px rgba(0, 0, 0, 0.3));\n",
              "      fill: #FFFFFF;\n",
              "    }\n",
              "  </style>\n",
              "\n",
              "      <script>\n",
              "        const buttonEl =\n",
              "          document.querySelector('#df-507a335e-b4b5-43f4-98b6-1f41b19d122a button.colab-df-convert');\n",
              "        buttonEl.style.display =\n",
              "          google.colab.kernel.accessAllowed ? 'block' : 'none';\n",
              "\n",
              "        async function convertToInteractive(key) {\n",
              "          const element = document.querySelector('#df-507a335e-b4b5-43f4-98b6-1f41b19d122a');\n",
              "          const dataTable =\n",
              "            await google.colab.kernel.invokeFunction('convertToInteractive',\n",
              "                                                     [key], {});\n",
              "          if (!dataTable) return;\n",
              "\n",
              "          const docLinkHtml = 'Like what you see? Visit the ' +\n",
              "            '<a target=\"_blank\" href=https://colab.research.google.com/notebooks/data_table.ipynb>data table notebook</a>'\n",
              "            + ' to learn more about interactive tables.';\n",
              "          element.innerHTML = '';\n",
              "          dataTable['output_type'] = 'display_data';\n",
              "          await google.colab.output.renderOutput(dataTable, element);\n",
              "          const docLink = document.createElement('div');\n",
              "          docLink.innerHTML = docLinkHtml;\n",
              "          element.appendChild(docLink);\n",
              "        }\n",
              "      </script>\n",
              "    </div>\n",
              "  </div>\n",
              "  "
            ],
            "text/plain": [
              "     max_depth  max_leaf_nodes  min_samples_leaf  min_samples_split       acc\n",
              "0            2               5                 1                  2  0.758427\n",
              "1            3               5                 1                  2  0.769663\n",
              "2            4               5                 1                  2  0.769663\n",
              "3            5               5                 1                  2  0.769663\n",
              "4            6               5                 1                  2  0.769663\n",
              "..         ...             ...               ...                ...       ...\n",
              "220          2              13                 5                  8  0.758427\n",
              "221          3              13                 5                  8  0.747191\n",
              "222          4              13                 5                  8  0.730337\n",
              "223          5              13                 5                  8  0.741573\n",
              "224          6              13                 5                  8  0.769663\n",
              "\n",
              "[225 rows x 5 columns]"
            ]
          },
          "metadata": {},
          "execution_count": 96
        }
      ]
    },
    {
      "cell_type": "code",
      "metadata": {
        "id": "0WPreJa62iCM",
        "colab": {
          "base_uri": "https://localhost:8080/"
        },
        "outputId": "6bdf47d0-9914-49c4-dba4-7262cc8c34d9"
      },
      "source": [
        "scores.loc[scores.max_depth == 6]"
      ],
      "execution_count": null,
      "outputs": [
        {
          "output_type": "execute_result",
          "data": {
            "text/html": [
              "\n",
              "  <div id=\"df-b1340d64-61a3-4dcf-a9f1-79e68ab2bb4f\">\n",
              "    <div class=\"colab-df-container\">\n",
              "      <div>\n",
              "<style scoped>\n",
              "    .dataframe tbody tr th:only-of-type {\n",
              "        vertical-align: middle;\n",
              "    }\n",
              "\n",
              "    .dataframe tbody tr th {\n",
              "        vertical-align: top;\n",
              "    }\n",
              "\n",
              "    .dataframe thead th {\n",
              "        text-align: right;\n",
              "    }\n",
              "</style>\n",
              "<table border=\"1\" class=\"dataframe\">\n",
              "  <thead>\n",
              "    <tr style=\"text-align: right;\">\n",
              "      <th></th>\n",
              "      <th>max_depth</th>\n",
              "      <th>max_leaf_nodes</th>\n",
              "      <th>min_samples_leaf</th>\n",
              "      <th>min_samples_split</th>\n",
              "      <th>acc</th>\n",
              "    </tr>\n",
              "  </thead>\n",
              "  <tbody>\n",
              "    <tr>\n",
              "      <th>4</th>\n",
              "      <td>6</td>\n",
              "      <td>5</td>\n",
              "      <td>1</td>\n",
              "      <td>2</td>\n",
              "      <td>0.769663</td>\n",
              "    </tr>\n",
              "    <tr>\n",
              "      <th>9</th>\n",
              "      <td>6</td>\n",
              "      <td>7</td>\n",
              "      <td>1</td>\n",
              "      <td>2</td>\n",
              "      <td>0.792135</td>\n",
              "    </tr>\n",
              "    <tr>\n",
              "      <th>14</th>\n",
              "      <td>6</td>\n",
              "      <td>9</td>\n",
              "      <td>1</td>\n",
              "      <td>2</td>\n",
              "      <td>0.713483</td>\n",
              "    </tr>\n",
              "    <tr>\n",
              "      <th>19</th>\n",
              "      <td>6</td>\n",
              "      <td>11</td>\n",
              "      <td>1</td>\n",
              "      <td>2</td>\n",
              "      <td>0.741573</td>\n",
              "    </tr>\n",
              "    <tr>\n",
              "      <th>24</th>\n",
              "      <td>6</td>\n",
              "      <td>13</td>\n",
              "      <td>1</td>\n",
              "      <td>2</td>\n",
              "      <td>0.730337</td>\n",
              "    </tr>\n",
              "    <tr>\n",
              "      <th>29</th>\n",
              "      <td>6</td>\n",
              "      <td>5</td>\n",
              "      <td>3</td>\n",
              "      <td>2</td>\n",
              "      <td>0.769663</td>\n",
              "    </tr>\n",
              "    <tr>\n",
              "      <th>34</th>\n",
              "      <td>6</td>\n",
              "      <td>7</td>\n",
              "      <td>3</td>\n",
              "      <td>2</td>\n",
              "      <td>0.775281</td>\n",
              "    </tr>\n",
              "    <tr>\n",
              "      <th>39</th>\n",
              "      <td>6</td>\n",
              "      <td>9</td>\n",
              "      <td>3</td>\n",
              "      <td>2</td>\n",
              "      <td>0.730337</td>\n",
              "    </tr>\n",
              "    <tr>\n",
              "      <th>44</th>\n",
              "      <td>6</td>\n",
              "      <td>11</td>\n",
              "      <td>3</td>\n",
              "      <td>2</td>\n",
              "      <td>0.735955</td>\n",
              "    </tr>\n",
              "    <tr>\n",
              "      <th>49</th>\n",
              "      <td>6</td>\n",
              "      <td>13</td>\n",
              "      <td>3</td>\n",
              "      <td>2</td>\n",
              "      <td>0.747191</td>\n",
              "    </tr>\n",
              "    <tr>\n",
              "      <th>54</th>\n",
              "      <td>6</td>\n",
              "      <td>5</td>\n",
              "      <td>5</td>\n",
              "      <td>2</td>\n",
              "      <td>0.769663</td>\n",
              "    </tr>\n",
              "    <tr>\n",
              "      <th>59</th>\n",
              "      <td>6</td>\n",
              "      <td>7</td>\n",
              "      <td>5</td>\n",
              "      <td>2</td>\n",
              "      <td>0.747191</td>\n",
              "    </tr>\n",
              "    <tr>\n",
              "      <th>64</th>\n",
              "      <td>6</td>\n",
              "      <td>9</td>\n",
              "      <td>5</td>\n",
              "      <td>2</td>\n",
              "      <td>0.730337</td>\n",
              "    </tr>\n",
              "    <tr>\n",
              "      <th>69</th>\n",
              "      <td>6</td>\n",
              "      <td>11</td>\n",
              "      <td>5</td>\n",
              "      <td>2</td>\n",
              "      <td>0.747191</td>\n",
              "    </tr>\n",
              "    <tr>\n",
              "      <th>74</th>\n",
              "      <td>6</td>\n",
              "      <td>13</td>\n",
              "      <td>5</td>\n",
              "      <td>2</td>\n",
              "      <td>0.769663</td>\n",
              "    </tr>\n",
              "    <tr>\n",
              "      <th>79</th>\n",
              "      <td>6</td>\n",
              "      <td>5</td>\n",
              "      <td>1</td>\n",
              "      <td>4</td>\n",
              "      <td>0.769663</td>\n",
              "    </tr>\n",
              "    <tr>\n",
              "      <th>84</th>\n",
              "      <td>6</td>\n",
              "      <td>7</td>\n",
              "      <td>1</td>\n",
              "      <td>4</td>\n",
              "      <td>0.775281</td>\n",
              "    </tr>\n",
              "    <tr>\n",
              "      <th>89</th>\n",
              "      <td>6</td>\n",
              "      <td>9</td>\n",
              "      <td>1</td>\n",
              "      <td>4</td>\n",
              "      <td>0.730337</td>\n",
              "    </tr>\n",
              "    <tr>\n",
              "      <th>94</th>\n",
              "      <td>6</td>\n",
              "      <td>11</td>\n",
              "      <td>1</td>\n",
              "      <td>4</td>\n",
              "      <td>0.741573</td>\n",
              "    </tr>\n",
              "    <tr>\n",
              "      <th>99</th>\n",
              "      <td>6</td>\n",
              "      <td>13</td>\n",
              "      <td>1</td>\n",
              "      <td>4</td>\n",
              "      <td>0.719101</td>\n",
              "    </tr>\n",
              "    <tr>\n",
              "      <th>104</th>\n",
              "      <td>6</td>\n",
              "      <td>5</td>\n",
              "      <td>3</td>\n",
              "      <td>4</td>\n",
              "      <td>0.769663</td>\n",
              "    </tr>\n",
              "    <tr>\n",
              "      <th>109</th>\n",
              "      <td>6</td>\n",
              "      <td>7</td>\n",
              "      <td>3</td>\n",
              "      <td>4</td>\n",
              "      <td>0.775281</td>\n",
              "    </tr>\n",
              "    <tr>\n",
              "      <th>114</th>\n",
              "      <td>6</td>\n",
              "      <td>9</td>\n",
              "      <td>3</td>\n",
              "      <td>4</td>\n",
              "      <td>0.730337</td>\n",
              "    </tr>\n",
              "    <tr>\n",
              "      <th>119</th>\n",
              "      <td>6</td>\n",
              "      <td>11</td>\n",
              "      <td>3</td>\n",
              "      <td>4</td>\n",
              "      <td>0.752809</td>\n",
              "    </tr>\n",
              "    <tr>\n",
              "      <th>124</th>\n",
              "      <td>6</td>\n",
              "      <td>13</td>\n",
              "      <td>3</td>\n",
              "      <td>4</td>\n",
              "      <td>0.730337</td>\n",
              "    </tr>\n",
              "    <tr>\n",
              "      <th>129</th>\n",
              "      <td>6</td>\n",
              "      <td>5</td>\n",
              "      <td>5</td>\n",
              "      <td>4</td>\n",
              "      <td>0.769663</td>\n",
              "    </tr>\n",
              "    <tr>\n",
              "      <th>134</th>\n",
              "      <td>6</td>\n",
              "      <td>7</td>\n",
              "      <td>5</td>\n",
              "      <td>4</td>\n",
              "      <td>0.747191</td>\n",
              "    </tr>\n",
              "    <tr>\n",
              "      <th>139</th>\n",
              "      <td>6</td>\n",
              "      <td>9</td>\n",
              "      <td>5</td>\n",
              "      <td>4</td>\n",
              "      <td>0.730337</td>\n",
              "    </tr>\n",
              "    <tr>\n",
              "      <th>144</th>\n",
              "      <td>6</td>\n",
              "      <td>11</td>\n",
              "      <td>5</td>\n",
              "      <td>4</td>\n",
              "      <td>0.747191</td>\n",
              "    </tr>\n",
              "    <tr>\n",
              "      <th>149</th>\n",
              "      <td>6</td>\n",
              "      <td>13</td>\n",
              "      <td>5</td>\n",
              "      <td>4</td>\n",
              "      <td>0.769663</td>\n",
              "    </tr>\n",
              "    <tr>\n",
              "      <th>154</th>\n",
              "      <td>6</td>\n",
              "      <td>5</td>\n",
              "      <td>1</td>\n",
              "      <td>8</td>\n",
              "      <td>0.769663</td>\n",
              "    </tr>\n",
              "    <tr>\n",
              "      <th>159</th>\n",
              "      <td>6</td>\n",
              "      <td>7</td>\n",
              "      <td>1</td>\n",
              "      <td>8</td>\n",
              "      <td>0.775281</td>\n",
              "    </tr>\n",
              "    <tr>\n",
              "      <th>164</th>\n",
              "      <td>6</td>\n",
              "      <td>9</td>\n",
              "      <td>1</td>\n",
              "      <td>8</td>\n",
              "      <td>0.713483</td>\n",
              "    </tr>\n",
              "    <tr>\n",
              "      <th>169</th>\n",
              "      <td>6</td>\n",
              "      <td>11</td>\n",
              "      <td>1</td>\n",
              "      <td>8</td>\n",
              "      <td>0.741573</td>\n",
              "    </tr>\n",
              "    <tr>\n",
              "      <th>174</th>\n",
              "      <td>6</td>\n",
              "      <td>13</td>\n",
              "      <td>1</td>\n",
              "      <td>8</td>\n",
              "      <td>0.719101</td>\n",
              "    </tr>\n",
              "    <tr>\n",
              "      <th>179</th>\n",
              "      <td>6</td>\n",
              "      <td>5</td>\n",
              "      <td>3</td>\n",
              "      <td>8</td>\n",
              "      <td>0.769663</td>\n",
              "    </tr>\n",
              "    <tr>\n",
              "      <th>184</th>\n",
              "      <td>6</td>\n",
              "      <td>7</td>\n",
              "      <td>3</td>\n",
              "      <td>8</td>\n",
              "      <td>0.792135</td>\n",
              "    </tr>\n",
              "    <tr>\n",
              "      <th>189</th>\n",
              "      <td>6</td>\n",
              "      <td>9</td>\n",
              "      <td>3</td>\n",
              "      <td>8</td>\n",
              "      <td>0.713483</td>\n",
              "    </tr>\n",
              "    <tr>\n",
              "      <th>194</th>\n",
              "      <td>6</td>\n",
              "      <td>11</td>\n",
              "      <td>3</td>\n",
              "      <td>8</td>\n",
              "      <td>0.741573</td>\n",
              "    </tr>\n",
              "    <tr>\n",
              "      <th>199</th>\n",
              "      <td>6</td>\n",
              "      <td>13</td>\n",
              "      <td>3</td>\n",
              "      <td>8</td>\n",
              "      <td>0.747191</td>\n",
              "    </tr>\n",
              "    <tr>\n",
              "      <th>204</th>\n",
              "      <td>6</td>\n",
              "      <td>5</td>\n",
              "      <td>5</td>\n",
              "      <td>8</td>\n",
              "      <td>0.769663</td>\n",
              "    </tr>\n",
              "    <tr>\n",
              "      <th>209</th>\n",
              "      <td>6</td>\n",
              "      <td>7</td>\n",
              "      <td>5</td>\n",
              "      <td>8</td>\n",
              "      <td>0.747191</td>\n",
              "    </tr>\n",
              "    <tr>\n",
              "      <th>214</th>\n",
              "      <td>6</td>\n",
              "      <td>9</td>\n",
              "      <td>5</td>\n",
              "      <td>8</td>\n",
              "      <td>0.730337</td>\n",
              "    </tr>\n",
              "    <tr>\n",
              "      <th>219</th>\n",
              "      <td>6</td>\n",
              "      <td>11</td>\n",
              "      <td>5</td>\n",
              "      <td>8</td>\n",
              "      <td>0.747191</td>\n",
              "    </tr>\n",
              "    <tr>\n",
              "      <th>224</th>\n",
              "      <td>6</td>\n",
              "      <td>13</td>\n",
              "      <td>5</td>\n",
              "      <td>8</td>\n",
              "      <td>0.769663</td>\n",
              "    </tr>\n",
              "  </tbody>\n",
              "</table>\n",
              "</div>\n",
              "      <button class=\"colab-df-convert\" onclick=\"convertToInteractive('df-b1340d64-61a3-4dcf-a9f1-79e68ab2bb4f')\"\n",
              "              title=\"Convert this dataframe to an interactive table.\"\n",
              "              style=\"display:none;\">\n",
              "        \n",
              "  <svg xmlns=\"http://www.w3.org/2000/svg\" height=\"24px\"viewBox=\"0 0 24 24\"\n",
              "       width=\"24px\">\n",
              "    <path d=\"M0 0h24v24H0V0z\" fill=\"none\"/>\n",
              "    <path d=\"M18.56 5.44l.94 2.06.94-2.06 2.06-.94-2.06-.94-.94-2.06-.94 2.06-2.06.94zm-11 1L8.5 8.5l.94-2.06 2.06-.94-2.06-.94L8.5 2.5l-.94 2.06-2.06.94zm10 10l.94 2.06.94-2.06 2.06-.94-2.06-.94-.94-2.06-.94 2.06-2.06.94z\"/><path d=\"M17.41 7.96l-1.37-1.37c-.4-.4-.92-.59-1.43-.59-.52 0-1.04.2-1.43.59L10.3 9.45l-7.72 7.72c-.78.78-.78 2.05 0 2.83L4 21.41c.39.39.9.59 1.41.59.51 0 1.02-.2 1.41-.59l7.78-7.78 2.81-2.81c.8-.78.8-2.07 0-2.86zM5.41 20L4 18.59l7.72-7.72 1.47 1.35L5.41 20z\"/>\n",
              "  </svg>\n",
              "      </button>\n",
              "      \n",
              "  <style>\n",
              "    .colab-df-container {\n",
              "      display:flex;\n",
              "      flex-wrap:wrap;\n",
              "      gap: 12px;\n",
              "    }\n",
              "\n",
              "    .colab-df-convert {\n",
              "      background-color: #E8F0FE;\n",
              "      border: none;\n",
              "      border-radius: 50%;\n",
              "      cursor: pointer;\n",
              "      display: none;\n",
              "      fill: #1967D2;\n",
              "      height: 32px;\n",
              "      padding: 0 0 0 0;\n",
              "      width: 32px;\n",
              "    }\n",
              "\n",
              "    .colab-df-convert:hover {\n",
              "      background-color: #E2EBFA;\n",
              "      box-shadow: 0px 1px 2px rgba(60, 64, 67, 0.3), 0px 1px 3px 1px rgba(60, 64, 67, 0.15);\n",
              "      fill: #174EA6;\n",
              "    }\n",
              "\n",
              "    [theme=dark] .colab-df-convert {\n",
              "      background-color: #3B4455;\n",
              "      fill: #D2E3FC;\n",
              "    }\n",
              "\n",
              "    [theme=dark] .colab-df-convert:hover {\n",
              "      background-color: #434B5C;\n",
              "      box-shadow: 0px 1px 3px 1px rgba(0, 0, 0, 0.15);\n",
              "      filter: drop-shadow(0px 1px 2px rgba(0, 0, 0, 0.3));\n",
              "      fill: #FFFFFF;\n",
              "    }\n",
              "  </style>\n",
              "\n",
              "      <script>\n",
              "        const buttonEl =\n",
              "          document.querySelector('#df-b1340d64-61a3-4dcf-a9f1-79e68ab2bb4f button.colab-df-convert');\n",
              "        buttonEl.style.display =\n",
              "          google.colab.kernel.accessAllowed ? 'block' : 'none';\n",
              "\n",
              "        async function convertToInteractive(key) {\n",
              "          const element = document.querySelector('#df-b1340d64-61a3-4dcf-a9f1-79e68ab2bb4f');\n",
              "          const dataTable =\n",
              "            await google.colab.kernel.invokeFunction('convertToInteractive',\n",
              "                                                     [key], {});\n",
              "          if (!dataTable) return;\n",
              "\n",
              "          const docLinkHtml = 'Like what you see? Visit the ' +\n",
              "            '<a target=\"_blank\" href=https://colab.research.google.com/notebooks/data_table.ipynb>data table notebook</a>'\n",
              "            + ' to learn more about interactive tables.';\n",
              "          element.innerHTML = '';\n",
              "          dataTable['output_type'] = 'display_data';\n",
              "          await google.colab.output.renderOutput(dataTable, element);\n",
              "          const docLink = document.createElement('div');\n",
              "          docLink.innerHTML = docLinkHtml;\n",
              "          element.appendChild(docLink);\n",
              "        }\n",
              "      </script>\n",
              "    </div>\n",
              "  </div>\n",
              "  "
            ],
            "text/plain": [
              "     max_depth  max_leaf_nodes  min_samples_leaf  min_samples_split       acc\n",
              "4            6               5                 1                  2  0.769663\n",
              "9            6               7                 1                  2  0.792135\n",
              "14           6               9                 1                  2  0.713483\n",
              "19           6              11                 1                  2  0.741573\n",
              "24           6              13                 1                  2  0.730337\n",
              "29           6               5                 3                  2  0.769663\n",
              "34           6               7                 3                  2  0.775281\n",
              "39           6               9                 3                  2  0.730337\n",
              "44           6              11                 3                  2  0.735955\n",
              "49           6              13                 3                  2  0.747191\n",
              "54           6               5                 5                  2  0.769663\n",
              "59           6               7                 5                  2  0.747191\n",
              "64           6               9                 5                  2  0.730337\n",
              "69           6              11                 5                  2  0.747191\n",
              "74           6              13                 5                  2  0.769663\n",
              "79           6               5                 1                  4  0.769663\n",
              "84           6               7                 1                  4  0.775281\n",
              "89           6               9                 1                  4  0.730337\n",
              "94           6              11                 1                  4  0.741573\n",
              "99           6              13                 1                  4  0.719101\n",
              "104          6               5                 3                  4  0.769663\n",
              "109          6               7                 3                  4  0.775281\n",
              "114          6               9                 3                  4  0.730337\n",
              "119          6              11                 3                  4  0.752809\n",
              "124          6              13                 3                  4  0.730337\n",
              "129          6               5                 5                  4  0.769663\n",
              "134          6               7                 5                  4  0.747191\n",
              "139          6               9                 5                  4  0.730337\n",
              "144          6              11                 5                  4  0.747191\n",
              "149          6              13                 5                  4  0.769663\n",
              "154          6               5                 1                  8  0.769663\n",
              "159          6               7                 1                  8  0.775281\n",
              "164          6               9                 1                  8  0.713483\n",
              "169          6              11                 1                  8  0.741573\n",
              "174          6              13                 1                  8  0.719101\n",
              "179          6               5                 3                  8  0.769663\n",
              "184          6               7                 3                  8  0.792135\n",
              "189          6               9                 3                  8  0.713483\n",
              "194          6              11                 3                  8  0.741573\n",
              "199          6              13                 3                  8  0.747191\n",
              "204          6               5                 5                  8  0.769663\n",
              "209          6               7                 5                  8  0.747191\n",
              "214          6               9                 5                  8  0.730337\n",
              "219          6              11                 5                  8  0.747191\n",
              "224          6              13                 5                  8  0.769663"
            ]
          },
          "metadata": {},
          "execution_count": 97
        }
      ]
    },
    {
      "cell_type": "markdown",
      "metadata": {
        "id": "p6JYibVF2iCM"
      },
      "source": [
        "[Quiz] paramgrids를 이용하여 gridsearchcv를 이용한 튜닝을 수행해보자."
      ]
    },
    {
      "cell_type": "code",
      "metadata": {
        "id": "rtBwBUNj2iCM",
        "colab": {
          "base_uri": "https://localhost:8080/"
        },
        "outputId": "2406737e-d256-46ea-8db6-058338f4aed7"
      },
      "source": [
        "from sklearn.model_selection import GridSearchCV, KFold\n",
        "cv=KFold(5, shuffle=True, random_state=123)\n",
        "m = DecisionTreeClassifier()\n",
        "estimator = GridSearchCV(m, paramgrids, n_jobs=-1, cv=cv)\n",
        "estimator.fit(X_train, y_train)\n",
        "estimator.score(X_test, y_test)"
      ],
      "execution_count": null,
      "outputs": [
        {
          "output_type": "execute_result",
          "data": {
            "text/plain": [
              "0.7696629213483146"
            ]
          },
          "metadata": {},
          "execution_count": 98
        }
      ]
    },
    {
      "cell_type": "code",
      "metadata": {
        "scrolled": true,
        "id": "x7C0fbxE2iCN",
        "colab": {
          "base_uri": "https://localhost:8080/"
        },
        "outputId": "a49056ed-787f-4fda-c7b3-ac6778cacb4c"
      },
      "source": [
        "print(estimator.best_params_)\n",
        "print(estimator.best_score_)"
      ],
      "execution_count": null,
      "outputs": [
        {
          "output_type": "stream",
          "name": "stdout",
          "text": [
            "{'max_depth': 6, 'max_leaf_nodes': 13, 'min_samples_leaf': 5, 'min_samples_split': 2}\n",
            "0.8351260800564274\n"
          ]
        }
      ]
    },
    {
      "cell_type": "markdown",
      "metadata": {
        "id": "5z2m1huJisNz"
      },
      "source": [
        "이전에는:\n",
        "- 중복데이터 제거하고,\n",
        "- 결측치도 제거해버렸는데, \n",
        "\n",
        "이번에는 중복데이터를 제거하고, 결측데이터를 보간하여 결과를 보도록 하자."
      ]
    },
    {
      "cell_type": "code",
      "metadata": {
        "colab": {
          "base_uri": "https://localhost:8080/"
        },
        "id": "ghApYT_EjECX",
        "outputId": "1e50643d-d7e4-465a-dba8-9a4b801b5199"
      },
      "source": [
        "prep_data = data.drop(columns=['alive', 'who', 'adult_male', 'class', 'embark_town'])\n",
        "prep_data.info()"
      ],
      "execution_count": null,
      "outputs": [
        {
          "output_type": "stream",
          "name": "stdout",
          "text": [
            "<class 'pandas.core.frame.DataFrame'>\n",
            "RangeIndex: 891 entries, 0 to 890\n",
            "Data columns (total 10 columns):\n",
            " #   Column    Non-Null Count  Dtype   \n",
            "---  ------    --------------  -----   \n",
            " 0   survived  891 non-null    int64   \n",
            " 1   pclass    891 non-null    int64   \n",
            " 2   sex       891 non-null    object  \n",
            " 3   age       714 non-null    float64 \n",
            " 4   sibsp     891 non-null    int64   \n",
            " 5   parch     891 non-null    int64   \n",
            " 6   fare      891 non-null    float64 \n",
            " 7   embarked  889 non-null    object  \n",
            " 8   deck      203 non-null    category\n",
            " 9   alone     891 non-null    bool    \n",
            "dtypes: bool(1), category(1), float64(2), int64(4), object(2)\n",
            "memory usage: 57.9+ KB\n"
          ]
        }
      ]
    },
    {
      "cell_type": "markdown",
      "metadata": {
        "id": "cbLOWAXI2iCH"
      },
      "source": [
        "LabelEncoder는 문자열에 대해 올림차순으로 0부터 정수값을 부여한다."
      ]
    },
    {
      "cell_type": "code",
      "metadata": {
        "id": "SGt5o_yD2iCH",
        "colab": {
          "base_uri": "https://localhost:8080/"
        },
        "outputId": "faffc81b-04ec-4ae9-cb17-d45e47dc2b2b"
      },
      "source": [
        "from sklearn.preprocessing import LabelEncoder\n",
        "\n",
        "le = LabelEncoder()\n",
        "# 알파벳 순서가 빠른 female = 0, male = 1\n",
        "prep_data['sex'] = le.fit_transform(prep_data['sex'])\n",
        "prep_data.info()"
      ],
      "execution_count": null,
      "outputs": [
        {
          "output_type": "stream",
          "name": "stdout",
          "text": [
            "<class 'pandas.core.frame.DataFrame'>\n",
            "RangeIndex: 891 entries, 0 to 890\n",
            "Data columns (total 10 columns):\n",
            " #   Column    Non-Null Count  Dtype   \n",
            "---  ------    --------------  -----   \n",
            " 0   survived  891 non-null    int64   \n",
            " 1   pclass    891 non-null    int64   \n",
            " 2   sex       891 non-null    int64   \n",
            " 3   age       714 non-null    float64 \n",
            " 4   sibsp     891 non-null    int64   \n",
            " 5   parch     891 non-null    int64   \n",
            " 6   fare      891 non-null    float64 \n",
            " 7   embarked  889 non-null    object  \n",
            " 8   deck      203 non-null    category\n",
            " 9   alone     891 non-null    bool    \n",
            "dtypes: bool(1), category(1), float64(2), int64(5), object(1)\n",
            "memory usage: 57.9+ KB\n"
          ]
        }
      ]
    },
    {
      "cell_type": "code",
      "metadata": {
        "colab": {
          "base_uri": "https://localhost:8080/"
        },
        "id": "U0FnZ_0Hj3Se",
        "outputId": "b6c12b88-ccb5-43f9-c930-878bf5455b09"
      },
      "source": [
        "data.deck.value_counts(dropna=False)"
      ],
      "execution_count": null,
      "outputs": [
        {
          "output_type": "execute_result",
          "data": {
            "text/plain": [
              "NaN    688\n",
              "C       59\n",
              "B       47\n",
              "D       33\n",
              "E       32\n",
              "A       15\n",
              "F       13\n",
              "G        4\n",
              "Name: deck, dtype: int64"
            ]
          },
          "metadata": {},
          "execution_count": 102
        }
      ]
    },
    {
      "cell_type": "markdown",
      "metadata": {
        "id": "_m8KZ4a1krDR"
      },
      "source": [
        "#### 결측치 대체\n",
        "1) age의 결측치를 pclass와 sex의 평균값으로 대체"
      ]
    },
    {
      "cell_type": "code",
      "metadata": {
        "colab": {
          "base_uri": "https://localhost:8080/"
        },
        "id": "k9ld3hRSk836",
        "outputId": "bcda14be-82fa-4485-ae55-d218d4b1c4c4"
      },
      "source": [
        "prep_data[prep_data.age.isna()]"
      ],
      "execution_count": null,
      "outputs": [
        {
          "output_type": "execute_result",
          "data": {
            "text/html": [
              "\n",
              "  <div id=\"df-eff126f6-f8e6-4798-abe7-99cf29a50ef9\">\n",
              "    <div class=\"colab-df-container\">\n",
              "      <div>\n",
              "<style scoped>\n",
              "    .dataframe tbody tr th:only-of-type {\n",
              "        vertical-align: middle;\n",
              "    }\n",
              "\n",
              "    .dataframe tbody tr th {\n",
              "        vertical-align: top;\n",
              "    }\n",
              "\n",
              "    .dataframe thead th {\n",
              "        text-align: right;\n",
              "    }\n",
              "</style>\n",
              "<table border=\"1\" class=\"dataframe\">\n",
              "  <thead>\n",
              "    <tr style=\"text-align: right;\">\n",
              "      <th></th>\n",
              "      <th>survived</th>\n",
              "      <th>pclass</th>\n",
              "      <th>sex</th>\n",
              "      <th>age</th>\n",
              "      <th>sibsp</th>\n",
              "      <th>parch</th>\n",
              "      <th>fare</th>\n",
              "      <th>embarked</th>\n",
              "      <th>deck</th>\n",
              "      <th>alone</th>\n",
              "    </tr>\n",
              "  </thead>\n",
              "  <tbody>\n",
              "    <tr>\n",
              "      <th>5</th>\n",
              "      <td>0</td>\n",
              "      <td>3</td>\n",
              "      <td>1</td>\n",
              "      <td>NaN</td>\n",
              "      <td>0</td>\n",
              "      <td>0</td>\n",
              "      <td>8.4583</td>\n",
              "      <td>Q</td>\n",
              "      <td>NaN</td>\n",
              "      <td>True</td>\n",
              "    </tr>\n",
              "    <tr>\n",
              "      <th>17</th>\n",
              "      <td>1</td>\n",
              "      <td>2</td>\n",
              "      <td>1</td>\n",
              "      <td>NaN</td>\n",
              "      <td>0</td>\n",
              "      <td>0</td>\n",
              "      <td>13.0000</td>\n",
              "      <td>S</td>\n",
              "      <td>NaN</td>\n",
              "      <td>True</td>\n",
              "    </tr>\n",
              "    <tr>\n",
              "      <th>19</th>\n",
              "      <td>1</td>\n",
              "      <td>3</td>\n",
              "      <td>0</td>\n",
              "      <td>NaN</td>\n",
              "      <td>0</td>\n",
              "      <td>0</td>\n",
              "      <td>7.2250</td>\n",
              "      <td>C</td>\n",
              "      <td>NaN</td>\n",
              "      <td>True</td>\n",
              "    </tr>\n",
              "    <tr>\n",
              "      <th>26</th>\n",
              "      <td>0</td>\n",
              "      <td>3</td>\n",
              "      <td>1</td>\n",
              "      <td>NaN</td>\n",
              "      <td>0</td>\n",
              "      <td>0</td>\n",
              "      <td>7.2250</td>\n",
              "      <td>C</td>\n",
              "      <td>NaN</td>\n",
              "      <td>True</td>\n",
              "    </tr>\n",
              "    <tr>\n",
              "      <th>28</th>\n",
              "      <td>1</td>\n",
              "      <td>3</td>\n",
              "      <td>0</td>\n",
              "      <td>NaN</td>\n",
              "      <td>0</td>\n",
              "      <td>0</td>\n",
              "      <td>7.8792</td>\n",
              "      <td>Q</td>\n",
              "      <td>NaN</td>\n",
              "      <td>True</td>\n",
              "    </tr>\n",
              "    <tr>\n",
              "      <th>...</th>\n",
              "      <td>...</td>\n",
              "      <td>...</td>\n",
              "      <td>...</td>\n",
              "      <td>...</td>\n",
              "      <td>...</td>\n",
              "      <td>...</td>\n",
              "      <td>...</td>\n",
              "      <td>...</td>\n",
              "      <td>...</td>\n",
              "      <td>...</td>\n",
              "    </tr>\n",
              "    <tr>\n",
              "      <th>859</th>\n",
              "      <td>0</td>\n",
              "      <td>3</td>\n",
              "      <td>1</td>\n",
              "      <td>NaN</td>\n",
              "      <td>0</td>\n",
              "      <td>0</td>\n",
              "      <td>7.2292</td>\n",
              "      <td>C</td>\n",
              "      <td>NaN</td>\n",
              "      <td>True</td>\n",
              "    </tr>\n",
              "    <tr>\n",
              "      <th>863</th>\n",
              "      <td>0</td>\n",
              "      <td>3</td>\n",
              "      <td>0</td>\n",
              "      <td>NaN</td>\n",
              "      <td>8</td>\n",
              "      <td>2</td>\n",
              "      <td>69.5500</td>\n",
              "      <td>S</td>\n",
              "      <td>NaN</td>\n",
              "      <td>False</td>\n",
              "    </tr>\n",
              "    <tr>\n",
              "      <th>868</th>\n",
              "      <td>0</td>\n",
              "      <td>3</td>\n",
              "      <td>1</td>\n",
              "      <td>NaN</td>\n",
              "      <td>0</td>\n",
              "      <td>0</td>\n",
              "      <td>9.5000</td>\n",
              "      <td>S</td>\n",
              "      <td>NaN</td>\n",
              "      <td>True</td>\n",
              "    </tr>\n",
              "    <tr>\n",
              "      <th>878</th>\n",
              "      <td>0</td>\n",
              "      <td>3</td>\n",
              "      <td>1</td>\n",
              "      <td>NaN</td>\n",
              "      <td>0</td>\n",
              "      <td>0</td>\n",
              "      <td>7.8958</td>\n",
              "      <td>S</td>\n",
              "      <td>NaN</td>\n",
              "      <td>True</td>\n",
              "    </tr>\n",
              "    <tr>\n",
              "      <th>888</th>\n",
              "      <td>0</td>\n",
              "      <td>3</td>\n",
              "      <td>0</td>\n",
              "      <td>NaN</td>\n",
              "      <td>1</td>\n",
              "      <td>2</td>\n",
              "      <td>23.4500</td>\n",
              "      <td>S</td>\n",
              "      <td>NaN</td>\n",
              "      <td>False</td>\n",
              "    </tr>\n",
              "  </tbody>\n",
              "</table>\n",
              "<p>177 rows × 10 columns</p>\n",
              "</div>\n",
              "      <button class=\"colab-df-convert\" onclick=\"convertToInteractive('df-eff126f6-f8e6-4798-abe7-99cf29a50ef9')\"\n",
              "              title=\"Convert this dataframe to an interactive table.\"\n",
              "              style=\"display:none;\">\n",
              "        \n",
              "  <svg xmlns=\"http://www.w3.org/2000/svg\" height=\"24px\"viewBox=\"0 0 24 24\"\n",
              "       width=\"24px\">\n",
              "    <path d=\"M0 0h24v24H0V0z\" fill=\"none\"/>\n",
              "    <path d=\"M18.56 5.44l.94 2.06.94-2.06 2.06-.94-2.06-.94-.94-2.06-.94 2.06-2.06.94zm-11 1L8.5 8.5l.94-2.06 2.06-.94-2.06-.94L8.5 2.5l-.94 2.06-2.06.94zm10 10l.94 2.06.94-2.06 2.06-.94-2.06-.94-.94-2.06-.94 2.06-2.06.94z\"/><path d=\"M17.41 7.96l-1.37-1.37c-.4-.4-.92-.59-1.43-.59-.52 0-1.04.2-1.43.59L10.3 9.45l-7.72 7.72c-.78.78-.78 2.05 0 2.83L4 21.41c.39.39.9.59 1.41.59.51 0 1.02-.2 1.41-.59l7.78-7.78 2.81-2.81c.8-.78.8-2.07 0-2.86zM5.41 20L4 18.59l7.72-7.72 1.47 1.35L5.41 20z\"/>\n",
              "  </svg>\n",
              "      </button>\n",
              "      \n",
              "  <style>\n",
              "    .colab-df-container {\n",
              "      display:flex;\n",
              "      flex-wrap:wrap;\n",
              "      gap: 12px;\n",
              "    }\n",
              "\n",
              "    .colab-df-convert {\n",
              "      background-color: #E8F0FE;\n",
              "      border: none;\n",
              "      border-radius: 50%;\n",
              "      cursor: pointer;\n",
              "      display: none;\n",
              "      fill: #1967D2;\n",
              "      height: 32px;\n",
              "      padding: 0 0 0 0;\n",
              "      width: 32px;\n",
              "    }\n",
              "\n",
              "    .colab-df-convert:hover {\n",
              "      background-color: #E2EBFA;\n",
              "      box-shadow: 0px 1px 2px rgba(60, 64, 67, 0.3), 0px 1px 3px 1px rgba(60, 64, 67, 0.15);\n",
              "      fill: #174EA6;\n",
              "    }\n",
              "\n",
              "    [theme=dark] .colab-df-convert {\n",
              "      background-color: #3B4455;\n",
              "      fill: #D2E3FC;\n",
              "    }\n",
              "\n",
              "    [theme=dark] .colab-df-convert:hover {\n",
              "      background-color: #434B5C;\n",
              "      box-shadow: 0px 1px 3px 1px rgba(0, 0, 0, 0.15);\n",
              "      filter: drop-shadow(0px 1px 2px rgba(0, 0, 0, 0.3));\n",
              "      fill: #FFFFFF;\n",
              "    }\n",
              "  </style>\n",
              "\n",
              "      <script>\n",
              "        const buttonEl =\n",
              "          document.querySelector('#df-eff126f6-f8e6-4798-abe7-99cf29a50ef9 button.colab-df-convert');\n",
              "        buttonEl.style.display =\n",
              "          google.colab.kernel.accessAllowed ? 'block' : 'none';\n",
              "\n",
              "        async function convertToInteractive(key) {\n",
              "          const element = document.querySelector('#df-eff126f6-f8e6-4798-abe7-99cf29a50ef9');\n",
              "          const dataTable =\n",
              "            await google.colab.kernel.invokeFunction('convertToInteractive',\n",
              "                                                     [key], {});\n",
              "          if (!dataTable) return;\n",
              "\n",
              "          const docLinkHtml = 'Like what you see? Visit the ' +\n",
              "            '<a target=\"_blank\" href=https://colab.research.google.com/notebooks/data_table.ipynb>data table notebook</a>'\n",
              "            + ' to learn more about interactive tables.';\n",
              "          element.innerHTML = '';\n",
              "          dataTable['output_type'] = 'display_data';\n",
              "          await google.colab.output.renderOutput(dataTable, element);\n",
              "          const docLink = document.createElement('div');\n",
              "          docLink.innerHTML = docLinkHtml;\n",
              "          element.appendChild(docLink);\n",
              "        }\n",
              "      </script>\n",
              "    </div>\n",
              "  </div>\n",
              "  "
            ],
            "text/plain": [
              "     survived  pclass  sex  age  sibsp  parch     fare embarked deck  alone\n",
              "5           0       3    1  NaN      0      0   8.4583        Q  NaN   True\n",
              "17          1       2    1  NaN      0      0  13.0000        S  NaN   True\n",
              "19          1       3    0  NaN      0      0   7.2250        C  NaN   True\n",
              "26          0       3    1  NaN      0      0   7.2250        C  NaN   True\n",
              "28          1       3    0  NaN      0      0   7.8792        Q  NaN   True\n",
              "..        ...     ...  ...  ...    ...    ...      ...      ...  ...    ...\n",
              "859         0       3    1  NaN      0      0   7.2292        C  NaN   True\n",
              "863         0       3    0  NaN      8      2  69.5500        S  NaN  False\n",
              "868         0       3    1  NaN      0      0   9.5000        S  NaN   True\n",
              "878         0       3    1  NaN      0      0   7.8958        S  NaN   True\n",
              "888         0       3    0  NaN      1      2  23.4500        S  NaN  False\n",
              "\n",
              "[177 rows x 10 columns]"
            ]
          },
          "metadata": {},
          "execution_count": 103
        }
      ]
    },
    {
      "cell_type": "code",
      "metadata": {
        "colab": {
          "base_uri": "https://localhost:8080/"
        },
        "id": "e88IiRuGmQaW",
        "outputId": "4bbc51be-2655-4540-ffaf-df9169725e10"
      },
      "source": [
        "ageGoupMean = prep_data.groupby(['pclass', 'sex']).age.mean().reset_index()\n",
        "ageGoupMean"
      ],
      "execution_count": null,
      "outputs": [
        {
          "output_type": "execute_result",
          "data": {
            "text/html": [
              "\n",
              "  <div id=\"df-e28885f3-e45f-4c70-af76-6d79904440b0\">\n",
              "    <div class=\"colab-df-container\">\n",
              "      <div>\n",
              "<style scoped>\n",
              "    .dataframe tbody tr th:only-of-type {\n",
              "        vertical-align: middle;\n",
              "    }\n",
              "\n",
              "    .dataframe tbody tr th {\n",
              "        vertical-align: top;\n",
              "    }\n",
              "\n",
              "    .dataframe thead th {\n",
              "        text-align: right;\n",
              "    }\n",
              "</style>\n",
              "<table border=\"1\" class=\"dataframe\">\n",
              "  <thead>\n",
              "    <tr style=\"text-align: right;\">\n",
              "      <th></th>\n",
              "      <th>pclass</th>\n",
              "      <th>sex</th>\n",
              "      <th>age</th>\n",
              "    </tr>\n",
              "  </thead>\n",
              "  <tbody>\n",
              "    <tr>\n",
              "      <th>0</th>\n",
              "      <td>1</td>\n",
              "      <td>0</td>\n",
              "      <td>34.611765</td>\n",
              "    </tr>\n",
              "    <tr>\n",
              "      <th>1</th>\n",
              "      <td>1</td>\n",
              "      <td>1</td>\n",
              "      <td>41.281386</td>\n",
              "    </tr>\n",
              "    <tr>\n",
              "      <th>2</th>\n",
              "      <td>2</td>\n",
              "      <td>0</td>\n",
              "      <td>28.722973</td>\n",
              "    </tr>\n",
              "    <tr>\n",
              "      <th>3</th>\n",
              "      <td>2</td>\n",
              "      <td>1</td>\n",
              "      <td>30.740707</td>\n",
              "    </tr>\n",
              "    <tr>\n",
              "      <th>4</th>\n",
              "      <td>3</td>\n",
              "      <td>0</td>\n",
              "      <td>21.750000</td>\n",
              "    </tr>\n",
              "    <tr>\n",
              "      <th>5</th>\n",
              "      <td>3</td>\n",
              "      <td>1</td>\n",
              "      <td>26.507589</td>\n",
              "    </tr>\n",
              "  </tbody>\n",
              "</table>\n",
              "</div>\n",
              "      <button class=\"colab-df-convert\" onclick=\"convertToInteractive('df-e28885f3-e45f-4c70-af76-6d79904440b0')\"\n",
              "              title=\"Convert this dataframe to an interactive table.\"\n",
              "              style=\"display:none;\">\n",
              "        \n",
              "  <svg xmlns=\"http://www.w3.org/2000/svg\" height=\"24px\"viewBox=\"0 0 24 24\"\n",
              "       width=\"24px\">\n",
              "    <path d=\"M0 0h24v24H0V0z\" fill=\"none\"/>\n",
              "    <path d=\"M18.56 5.44l.94 2.06.94-2.06 2.06-.94-2.06-.94-.94-2.06-.94 2.06-2.06.94zm-11 1L8.5 8.5l.94-2.06 2.06-.94-2.06-.94L8.5 2.5l-.94 2.06-2.06.94zm10 10l.94 2.06.94-2.06 2.06-.94-2.06-.94-.94-2.06-.94 2.06-2.06.94z\"/><path d=\"M17.41 7.96l-1.37-1.37c-.4-.4-.92-.59-1.43-.59-.52 0-1.04.2-1.43.59L10.3 9.45l-7.72 7.72c-.78.78-.78 2.05 0 2.83L4 21.41c.39.39.9.59 1.41.59.51 0 1.02-.2 1.41-.59l7.78-7.78 2.81-2.81c.8-.78.8-2.07 0-2.86zM5.41 20L4 18.59l7.72-7.72 1.47 1.35L5.41 20z\"/>\n",
              "  </svg>\n",
              "      </button>\n",
              "      \n",
              "  <style>\n",
              "    .colab-df-container {\n",
              "      display:flex;\n",
              "      flex-wrap:wrap;\n",
              "      gap: 12px;\n",
              "    }\n",
              "\n",
              "    .colab-df-convert {\n",
              "      background-color: #E8F0FE;\n",
              "      border: none;\n",
              "      border-radius: 50%;\n",
              "      cursor: pointer;\n",
              "      display: none;\n",
              "      fill: #1967D2;\n",
              "      height: 32px;\n",
              "      padding: 0 0 0 0;\n",
              "      width: 32px;\n",
              "    }\n",
              "\n",
              "    .colab-df-convert:hover {\n",
              "      background-color: #E2EBFA;\n",
              "      box-shadow: 0px 1px 2px rgba(60, 64, 67, 0.3), 0px 1px 3px 1px rgba(60, 64, 67, 0.15);\n",
              "      fill: #174EA6;\n",
              "    }\n",
              "\n",
              "    [theme=dark] .colab-df-convert {\n",
              "      background-color: #3B4455;\n",
              "      fill: #D2E3FC;\n",
              "    }\n",
              "\n",
              "    [theme=dark] .colab-df-convert:hover {\n",
              "      background-color: #434B5C;\n",
              "      box-shadow: 0px 1px 3px 1px rgba(0, 0, 0, 0.15);\n",
              "      filter: drop-shadow(0px 1px 2px rgba(0, 0, 0, 0.3));\n",
              "      fill: #FFFFFF;\n",
              "    }\n",
              "  </style>\n",
              "\n",
              "      <script>\n",
              "        const buttonEl =\n",
              "          document.querySelector('#df-e28885f3-e45f-4c70-af76-6d79904440b0 button.colab-df-convert');\n",
              "        buttonEl.style.display =\n",
              "          google.colab.kernel.accessAllowed ? 'block' : 'none';\n",
              "\n",
              "        async function convertToInteractive(key) {\n",
              "          const element = document.querySelector('#df-e28885f3-e45f-4c70-af76-6d79904440b0');\n",
              "          const dataTable =\n",
              "            await google.colab.kernel.invokeFunction('convertToInteractive',\n",
              "                                                     [key], {});\n",
              "          if (!dataTable) return;\n",
              "\n",
              "          const docLinkHtml = 'Like what you see? Visit the ' +\n",
              "            '<a target=\"_blank\" href=https://colab.research.google.com/notebooks/data_table.ipynb>data table notebook</a>'\n",
              "            + ' to learn more about interactive tables.';\n",
              "          element.innerHTML = '';\n",
              "          dataTable['output_type'] = 'display_data';\n",
              "          await google.colab.output.renderOutput(dataTable, element);\n",
              "          const docLink = document.createElement('div');\n",
              "          docLink.innerHTML = docLinkHtml;\n",
              "          element.appendChild(docLink);\n",
              "        }\n",
              "      </script>\n",
              "    </div>\n",
              "  </div>\n",
              "  "
            ],
            "text/plain": [
              "   pclass  sex        age\n",
              "0       1    0  34.611765\n",
              "1       1    1  41.281386\n",
              "2       2    0  28.722973\n",
              "3       2    1  30.740707\n",
              "4       3    0  21.750000\n",
              "5       3    1  26.507589"
            ]
          },
          "metadata": {},
          "execution_count": 104
        }
      ]
    },
    {
      "cell_type": "code",
      "metadata": {
        "colab": {
          "base_uri": "https://localhost:8080/"
        },
        "id": "ReUACMJ_moPl",
        "outputId": "23b6e821-fdbf-4337-f5d4-be0a2295edb6"
      },
      "source": [
        "prep_data = pd.merge(prep_data, ageGoupMean, on=['pclass', 'sex'])\n",
        "prep_data.head()"
      ],
      "execution_count": null,
      "outputs": [
        {
          "output_type": "execute_result",
          "data": {
            "text/html": [
              "\n",
              "  <div id=\"df-9de82b72-3a68-4121-9076-56fd2d346540\">\n",
              "    <div class=\"colab-df-container\">\n",
              "      <div>\n",
              "<style scoped>\n",
              "    .dataframe tbody tr th:only-of-type {\n",
              "        vertical-align: middle;\n",
              "    }\n",
              "\n",
              "    .dataframe tbody tr th {\n",
              "        vertical-align: top;\n",
              "    }\n",
              "\n",
              "    .dataframe thead th {\n",
              "        text-align: right;\n",
              "    }\n",
              "</style>\n",
              "<table border=\"1\" class=\"dataframe\">\n",
              "  <thead>\n",
              "    <tr style=\"text-align: right;\">\n",
              "      <th></th>\n",
              "      <th>survived</th>\n",
              "      <th>pclass</th>\n",
              "      <th>sex</th>\n",
              "      <th>age_x</th>\n",
              "      <th>sibsp</th>\n",
              "      <th>parch</th>\n",
              "      <th>fare</th>\n",
              "      <th>embarked</th>\n",
              "      <th>deck</th>\n",
              "      <th>alone</th>\n",
              "      <th>age_y</th>\n",
              "    </tr>\n",
              "  </thead>\n",
              "  <tbody>\n",
              "    <tr>\n",
              "      <th>0</th>\n",
              "      <td>0</td>\n",
              "      <td>3</td>\n",
              "      <td>1</td>\n",
              "      <td>22.0</td>\n",
              "      <td>1</td>\n",
              "      <td>0</td>\n",
              "      <td>7.2500</td>\n",
              "      <td>S</td>\n",
              "      <td>NaN</td>\n",
              "      <td>False</td>\n",
              "      <td>26.507589</td>\n",
              "    </tr>\n",
              "    <tr>\n",
              "      <th>1</th>\n",
              "      <td>0</td>\n",
              "      <td>3</td>\n",
              "      <td>1</td>\n",
              "      <td>35.0</td>\n",
              "      <td>0</td>\n",
              "      <td>0</td>\n",
              "      <td>8.0500</td>\n",
              "      <td>S</td>\n",
              "      <td>NaN</td>\n",
              "      <td>True</td>\n",
              "      <td>26.507589</td>\n",
              "    </tr>\n",
              "    <tr>\n",
              "      <th>2</th>\n",
              "      <td>0</td>\n",
              "      <td>3</td>\n",
              "      <td>1</td>\n",
              "      <td>NaN</td>\n",
              "      <td>0</td>\n",
              "      <td>0</td>\n",
              "      <td>8.4583</td>\n",
              "      <td>Q</td>\n",
              "      <td>NaN</td>\n",
              "      <td>True</td>\n",
              "      <td>26.507589</td>\n",
              "    </tr>\n",
              "    <tr>\n",
              "      <th>3</th>\n",
              "      <td>0</td>\n",
              "      <td>3</td>\n",
              "      <td>1</td>\n",
              "      <td>2.0</td>\n",
              "      <td>3</td>\n",
              "      <td>1</td>\n",
              "      <td>21.0750</td>\n",
              "      <td>S</td>\n",
              "      <td>NaN</td>\n",
              "      <td>False</td>\n",
              "      <td>26.507589</td>\n",
              "    </tr>\n",
              "    <tr>\n",
              "      <th>4</th>\n",
              "      <td>0</td>\n",
              "      <td>3</td>\n",
              "      <td>1</td>\n",
              "      <td>20.0</td>\n",
              "      <td>0</td>\n",
              "      <td>0</td>\n",
              "      <td>8.0500</td>\n",
              "      <td>S</td>\n",
              "      <td>NaN</td>\n",
              "      <td>True</td>\n",
              "      <td>26.507589</td>\n",
              "    </tr>\n",
              "  </tbody>\n",
              "</table>\n",
              "</div>\n",
              "      <button class=\"colab-df-convert\" onclick=\"convertToInteractive('df-9de82b72-3a68-4121-9076-56fd2d346540')\"\n",
              "              title=\"Convert this dataframe to an interactive table.\"\n",
              "              style=\"display:none;\">\n",
              "        \n",
              "  <svg xmlns=\"http://www.w3.org/2000/svg\" height=\"24px\"viewBox=\"0 0 24 24\"\n",
              "       width=\"24px\">\n",
              "    <path d=\"M0 0h24v24H0V0z\" fill=\"none\"/>\n",
              "    <path d=\"M18.56 5.44l.94 2.06.94-2.06 2.06-.94-2.06-.94-.94-2.06-.94 2.06-2.06.94zm-11 1L8.5 8.5l.94-2.06 2.06-.94-2.06-.94L8.5 2.5l-.94 2.06-2.06.94zm10 10l.94 2.06.94-2.06 2.06-.94-2.06-.94-.94-2.06-.94 2.06-2.06.94z\"/><path d=\"M17.41 7.96l-1.37-1.37c-.4-.4-.92-.59-1.43-.59-.52 0-1.04.2-1.43.59L10.3 9.45l-7.72 7.72c-.78.78-.78 2.05 0 2.83L4 21.41c.39.39.9.59 1.41.59.51 0 1.02-.2 1.41-.59l7.78-7.78 2.81-2.81c.8-.78.8-2.07 0-2.86zM5.41 20L4 18.59l7.72-7.72 1.47 1.35L5.41 20z\"/>\n",
              "  </svg>\n",
              "      </button>\n",
              "      \n",
              "  <style>\n",
              "    .colab-df-container {\n",
              "      display:flex;\n",
              "      flex-wrap:wrap;\n",
              "      gap: 12px;\n",
              "    }\n",
              "\n",
              "    .colab-df-convert {\n",
              "      background-color: #E8F0FE;\n",
              "      border: none;\n",
              "      border-radius: 50%;\n",
              "      cursor: pointer;\n",
              "      display: none;\n",
              "      fill: #1967D2;\n",
              "      height: 32px;\n",
              "      padding: 0 0 0 0;\n",
              "      width: 32px;\n",
              "    }\n",
              "\n",
              "    .colab-df-convert:hover {\n",
              "      background-color: #E2EBFA;\n",
              "      box-shadow: 0px 1px 2px rgba(60, 64, 67, 0.3), 0px 1px 3px 1px rgba(60, 64, 67, 0.15);\n",
              "      fill: #174EA6;\n",
              "    }\n",
              "\n",
              "    [theme=dark] .colab-df-convert {\n",
              "      background-color: #3B4455;\n",
              "      fill: #D2E3FC;\n",
              "    }\n",
              "\n",
              "    [theme=dark] .colab-df-convert:hover {\n",
              "      background-color: #434B5C;\n",
              "      box-shadow: 0px 1px 3px 1px rgba(0, 0, 0, 0.15);\n",
              "      filter: drop-shadow(0px 1px 2px rgba(0, 0, 0, 0.3));\n",
              "      fill: #FFFFFF;\n",
              "    }\n",
              "  </style>\n",
              "\n",
              "      <script>\n",
              "        const buttonEl =\n",
              "          document.querySelector('#df-9de82b72-3a68-4121-9076-56fd2d346540 button.colab-df-convert');\n",
              "        buttonEl.style.display =\n",
              "          google.colab.kernel.accessAllowed ? 'block' : 'none';\n",
              "\n",
              "        async function convertToInteractive(key) {\n",
              "          const element = document.querySelector('#df-9de82b72-3a68-4121-9076-56fd2d346540');\n",
              "          const dataTable =\n",
              "            await google.colab.kernel.invokeFunction('convertToInteractive',\n",
              "                                                     [key], {});\n",
              "          if (!dataTable) return;\n",
              "\n",
              "          const docLinkHtml = 'Like what you see? Visit the ' +\n",
              "            '<a target=\"_blank\" href=https://colab.research.google.com/notebooks/data_table.ipynb>data table notebook</a>'\n",
              "            + ' to learn more about interactive tables.';\n",
              "          element.innerHTML = '';\n",
              "          dataTable['output_type'] = 'display_data';\n",
              "          await google.colab.output.renderOutput(dataTable, element);\n",
              "          const docLink = document.createElement('div');\n",
              "          docLink.innerHTML = docLinkHtml;\n",
              "          element.appendChild(docLink);\n",
              "        }\n",
              "      </script>\n",
              "    </div>\n",
              "  </div>\n",
              "  "
            ],
            "text/plain": [
              "   survived  pclass  sex  age_x  sibsp  ...     fare  embarked deck  alone      age_y\n",
              "0         0       3    1   22.0      1  ...   7.2500         S  NaN  False  26.507589\n",
              "1         0       3    1   35.0      0  ...   8.0500         S  NaN   True  26.507589\n",
              "2         0       3    1    NaN      0  ...   8.4583         Q  NaN   True  26.507589\n",
              "3         0       3    1    2.0      3  ...  21.0750         S  NaN  False  26.507589\n",
              "4         0       3    1   20.0      0  ...   8.0500         S  NaN   True  26.507589\n",
              "\n",
              "[5 rows x 11 columns]"
            ]
          },
          "metadata": {},
          "execution_count": 105
        }
      ]
    },
    {
      "cell_type": "code",
      "source": [
        "prep_data.tail()"
      ],
      "metadata": {
        "colab": {
          "base_uri": "https://localhost:8080/"
        },
        "id": "n5iD1TGRlIaT",
        "outputId": "2b4ee74c-3fd4-49a1-f03c-f112a4f8c806"
      },
      "execution_count": null,
      "outputs": [
        {
          "output_type": "execute_result",
          "data": {
            "text/html": [
              "\n",
              "  <div id=\"df-ff8d97c0-67e4-49c1-a67f-9d7ffaf42b64\">\n",
              "    <div class=\"colab-df-container\">\n",
              "      <div>\n",
              "<style scoped>\n",
              "    .dataframe tbody tr th:only-of-type {\n",
              "        vertical-align: middle;\n",
              "    }\n",
              "\n",
              "    .dataframe tbody tr th {\n",
              "        vertical-align: top;\n",
              "    }\n",
              "\n",
              "    .dataframe thead th {\n",
              "        text-align: right;\n",
              "    }\n",
              "</style>\n",
              "<table border=\"1\" class=\"dataframe\">\n",
              "  <thead>\n",
              "    <tr style=\"text-align: right;\">\n",
              "      <th></th>\n",
              "      <th>survived</th>\n",
              "      <th>pclass</th>\n",
              "      <th>sex</th>\n",
              "      <th>age_x</th>\n",
              "      <th>sibsp</th>\n",
              "      <th>parch</th>\n",
              "      <th>fare</th>\n",
              "      <th>embarked</th>\n",
              "      <th>deck</th>\n",
              "      <th>alone</th>\n",
              "      <th>age_y</th>\n",
              "    </tr>\n",
              "  </thead>\n",
              "  <tbody>\n",
              "    <tr>\n",
              "      <th>886</th>\n",
              "      <td>0</td>\n",
              "      <td>2</td>\n",
              "      <td>1</td>\n",
              "      <td>28.0</td>\n",
              "      <td>0</td>\n",
              "      <td>1</td>\n",
              "      <td>33.0</td>\n",
              "      <td>S</td>\n",
              "      <td>NaN</td>\n",
              "      <td>False</td>\n",
              "      <td>30.740707</td>\n",
              "    </tr>\n",
              "    <tr>\n",
              "      <th>887</th>\n",
              "      <td>0</td>\n",
              "      <td>2</td>\n",
              "      <td>1</td>\n",
              "      <td>21.0</td>\n",
              "      <td>1</td>\n",
              "      <td>0</td>\n",
              "      <td>11.5</td>\n",
              "      <td>S</td>\n",
              "      <td>NaN</td>\n",
              "      <td>False</td>\n",
              "      <td>30.740707</td>\n",
              "    </tr>\n",
              "    <tr>\n",
              "      <th>888</th>\n",
              "      <td>0</td>\n",
              "      <td>2</td>\n",
              "      <td>1</td>\n",
              "      <td>24.0</td>\n",
              "      <td>0</td>\n",
              "      <td>0</td>\n",
              "      <td>13.0</td>\n",
              "      <td>S</td>\n",
              "      <td>NaN</td>\n",
              "      <td>True</td>\n",
              "      <td>30.740707</td>\n",
              "    </tr>\n",
              "    <tr>\n",
              "      <th>889</th>\n",
              "      <td>0</td>\n",
              "      <td>2</td>\n",
              "      <td>1</td>\n",
              "      <td>28.0</td>\n",
              "      <td>0</td>\n",
              "      <td>0</td>\n",
              "      <td>10.5</td>\n",
              "      <td>S</td>\n",
              "      <td>NaN</td>\n",
              "      <td>True</td>\n",
              "      <td>30.740707</td>\n",
              "    </tr>\n",
              "    <tr>\n",
              "      <th>890</th>\n",
              "      <td>0</td>\n",
              "      <td>2</td>\n",
              "      <td>1</td>\n",
              "      <td>27.0</td>\n",
              "      <td>0</td>\n",
              "      <td>0</td>\n",
              "      <td>13.0</td>\n",
              "      <td>S</td>\n",
              "      <td>NaN</td>\n",
              "      <td>True</td>\n",
              "      <td>30.740707</td>\n",
              "    </tr>\n",
              "  </tbody>\n",
              "</table>\n",
              "</div>\n",
              "      <button class=\"colab-df-convert\" onclick=\"convertToInteractive('df-ff8d97c0-67e4-49c1-a67f-9d7ffaf42b64')\"\n",
              "              title=\"Convert this dataframe to an interactive table.\"\n",
              "              style=\"display:none;\">\n",
              "        \n",
              "  <svg xmlns=\"http://www.w3.org/2000/svg\" height=\"24px\"viewBox=\"0 0 24 24\"\n",
              "       width=\"24px\">\n",
              "    <path d=\"M0 0h24v24H0V0z\" fill=\"none\"/>\n",
              "    <path d=\"M18.56 5.44l.94 2.06.94-2.06 2.06-.94-2.06-.94-.94-2.06-.94 2.06-2.06.94zm-11 1L8.5 8.5l.94-2.06 2.06-.94-2.06-.94L8.5 2.5l-.94 2.06-2.06.94zm10 10l.94 2.06.94-2.06 2.06-.94-2.06-.94-.94-2.06-.94 2.06-2.06.94z\"/><path d=\"M17.41 7.96l-1.37-1.37c-.4-.4-.92-.59-1.43-.59-.52 0-1.04.2-1.43.59L10.3 9.45l-7.72 7.72c-.78.78-.78 2.05 0 2.83L4 21.41c.39.39.9.59 1.41.59.51 0 1.02-.2 1.41-.59l7.78-7.78 2.81-2.81c.8-.78.8-2.07 0-2.86zM5.41 20L4 18.59l7.72-7.72 1.47 1.35L5.41 20z\"/>\n",
              "  </svg>\n",
              "      </button>\n",
              "      \n",
              "  <style>\n",
              "    .colab-df-container {\n",
              "      display:flex;\n",
              "      flex-wrap:wrap;\n",
              "      gap: 12px;\n",
              "    }\n",
              "\n",
              "    .colab-df-convert {\n",
              "      background-color: #E8F0FE;\n",
              "      border: none;\n",
              "      border-radius: 50%;\n",
              "      cursor: pointer;\n",
              "      display: none;\n",
              "      fill: #1967D2;\n",
              "      height: 32px;\n",
              "      padding: 0 0 0 0;\n",
              "      width: 32px;\n",
              "    }\n",
              "\n",
              "    .colab-df-convert:hover {\n",
              "      background-color: #E2EBFA;\n",
              "      box-shadow: 0px 1px 2px rgba(60, 64, 67, 0.3), 0px 1px 3px 1px rgba(60, 64, 67, 0.15);\n",
              "      fill: #174EA6;\n",
              "    }\n",
              "\n",
              "    [theme=dark] .colab-df-convert {\n",
              "      background-color: #3B4455;\n",
              "      fill: #D2E3FC;\n",
              "    }\n",
              "\n",
              "    [theme=dark] .colab-df-convert:hover {\n",
              "      background-color: #434B5C;\n",
              "      box-shadow: 0px 1px 3px 1px rgba(0, 0, 0, 0.15);\n",
              "      filter: drop-shadow(0px 1px 2px rgba(0, 0, 0, 0.3));\n",
              "      fill: #FFFFFF;\n",
              "    }\n",
              "  </style>\n",
              "\n",
              "      <script>\n",
              "        const buttonEl =\n",
              "          document.querySelector('#df-ff8d97c0-67e4-49c1-a67f-9d7ffaf42b64 button.colab-df-convert');\n",
              "        buttonEl.style.display =\n",
              "          google.colab.kernel.accessAllowed ? 'block' : 'none';\n",
              "\n",
              "        async function convertToInteractive(key) {\n",
              "          const element = document.querySelector('#df-ff8d97c0-67e4-49c1-a67f-9d7ffaf42b64');\n",
              "          const dataTable =\n",
              "            await google.colab.kernel.invokeFunction('convertToInteractive',\n",
              "                                                     [key], {});\n",
              "          if (!dataTable) return;\n",
              "\n",
              "          const docLinkHtml = 'Like what you see? Visit the ' +\n",
              "            '<a target=\"_blank\" href=https://colab.research.google.com/notebooks/data_table.ipynb>data table notebook</a>'\n",
              "            + ' to learn more about interactive tables.';\n",
              "          element.innerHTML = '';\n",
              "          dataTable['output_type'] = 'display_data';\n",
              "          await google.colab.output.renderOutput(dataTable, element);\n",
              "          const docLink = document.createElement('div');\n",
              "          docLink.innerHTML = docLinkHtml;\n",
              "          element.appendChild(docLink);\n",
              "        }\n",
              "      </script>\n",
              "    </div>\n",
              "  </div>\n",
              "  "
            ],
            "text/plain": [
              "     survived  pclass  sex  age_x  sibsp  ...  fare  embarked deck  alone      age_y\n",
              "886         0       2    1   28.0      0  ...  33.0         S  NaN  False  30.740707\n",
              "887         0       2    1   21.0      1  ...  11.5         S  NaN  False  30.740707\n",
              "888         0       2    1   24.0      0  ...  13.0         S  NaN   True  30.740707\n",
              "889         0       2    1   28.0      0  ...  10.5         S  NaN   True  30.740707\n",
              "890         0       2    1   27.0      0  ...  13.0         S  NaN   True  30.740707\n",
              "\n",
              "[5 rows x 11 columns]"
            ]
          },
          "metadata": {},
          "execution_count": 106
        }
      ]
    },
    {
      "cell_type": "code",
      "source": [
        "prep_data[(prep_data.pclass == 1) & (prep_data.sex == 1)]"
      ],
      "metadata": {
        "colab": {
          "base_uri": "https://localhost:8080/"
        },
        "id": "FMo3K4dNlXM8",
        "outputId": "b28aa6cb-7931-4f12-eb14-5cd2e4f66bcd"
      },
      "execution_count": null,
      "outputs": [
        {
          "output_type": "execute_result",
          "data": {
            "text/html": [
              "\n",
              "  <div id=\"df-67c19e84-f895-4a37-9fc1-503544f16c4a\">\n",
              "    <div class=\"colab-df-container\">\n",
              "      <div>\n",
              "<style scoped>\n",
              "    .dataframe tbody tr th:only-of-type {\n",
              "        vertical-align: middle;\n",
              "    }\n",
              "\n",
              "    .dataframe tbody tr th {\n",
              "        vertical-align: top;\n",
              "    }\n",
              "\n",
              "    .dataframe thead th {\n",
              "        text-align: right;\n",
              "    }\n",
              "</style>\n",
              "<table border=\"1\" class=\"dataframe\">\n",
              "  <thead>\n",
              "    <tr style=\"text-align: right;\">\n",
              "      <th></th>\n",
              "      <th>survived</th>\n",
              "      <th>pclass</th>\n",
              "      <th>sex</th>\n",
              "      <th>age_x</th>\n",
              "      <th>sibsp</th>\n",
              "      <th>parch</th>\n",
              "      <th>fare</th>\n",
              "      <th>embarked</th>\n",
              "      <th>deck</th>\n",
              "      <th>alone</th>\n",
              "      <th>age_y</th>\n",
              "    </tr>\n",
              "  </thead>\n",
              "  <tbody>\n",
              "    <tr>\n",
              "      <th>585</th>\n",
              "      <td>0</td>\n",
              "      <td>1</td>\n",
              "      <td>1</td>\n",
              "      <td>54.0</td>\n",
              "      <td>0</td>\n",
              "      <td>0</td>\n",
              "      <td>51.8625</td>\n",
              "      <td>S</td>\n",
              "      <td>E</td>\n",
              "      <td>True</td>\n",
              "      <td>41.281386</td>\n",
              "    </tr>\n",
              "    <tr>\n",
              "      <th>586</th>\n",
              "      <td>1</td>\n",
              "      <td>1</td>\n",
              "      <td>1</td>\n",
              "      <td>28.0</td>\n",
              "      <td>0</td>\n",
              "      <td>0</td>\n",
              "      <td>35.5000</td>\n",
              "      <td>S</td>\n",
              "      <td>A</td>\n",
              "      <td>True</td>\n",
              "      <td>41.281386</td>\n",
              "    </tr>\n",
              "    <tr>\n",
              "      <th>587</th>\n",
              "      <td>0</td>\n",
              "      <td>1</td>\n",
              "      <td>1</td>\n",
              "      <td>19.0</td>\n",
              "      <td>3</td>\n",
              "      <td>2</td>\n",
              "      <td>263.0000</td>\n",
              "      <td>S</td>\n",
              "      <td>C</td>\n",
              "      <td>False</td>\n",
              "      <td>41.281386</td>\n",
              "    </tr>\n",
              "    <tr>\n",
              "      <th>588</th>\n",
              "      <td>0</td>\n",
              "      <td>1</td>\n",
              "      <td>1</td>\n",
              "      <td>40.0</td>\n",
              "      <td>0</td>\n",
              "      <td>0</td>\n",
              "      <td>27.7208</td>\n",
              "      <td>C</td>\n",
              "      <td>NaN</td>\n",
              "      <td>True</td>\n",
              "      <td>41.281386</td>\n",
              "    </tr>\n",
              "    <tr>\n",
              "      <th>589</th>\n",
              "      <td>0</td>\n",
              "      <td>1</td>\n",
              "      <td>1</td>\n",
              "      <td>28.0</td>\n",
              "      <td>1</td>\n",
              "      <td>0</td>\n",
              "      <td>82.1708</td>\n",
              "      <td>C</td>\n",
              "      <td>NaN</td>\n",
              "      <td>False</td>\n",
              "      <td>41.281386</td>\n",
              "    </tr>\n",
              "    <tr>\n",
              "      <th>...</th>\n",
              "      <td>...</td>\n",
              "      <td>...</td>\n",
              "      <td>...</td>\n",
              "      <td>...</td>\n",
              "      <td>...</td>\n",
              "      <td>...</td>\n",
              "      <td>...</td>\n",
              "      <td>...</td>\n",
              "      <td>...</td>\n",
              "      <td>...</td>\n",
              "      <td>...</td>\n",
              "    </tr>\n",
              "    <tr>\n",
              "      <th>702</th>\n",
              "      <td>1</td>\n",
              "      <td>1</td>\n",
              "      <td>1</td>\n",
              "      <td>NaN</td>\n",
              "      <td>0</td>\n",
              "      <td>0</td>\n",
              "      <td>29.7000</td>\n",
              "      <td>C</td>\n",
              "      <td>C</td>\n",
              "      <td>True</td>\n",
              "      <td>41.281386</td>\n",
              "    </tr>\n",
              "    <tr>\n",
              "      <th>703</th>\n",
              "      <td>1</td>\n",
              "      <td>1</td>\n",
              "      <td>1</td>\n",
              "      <td>51.0</td>\n",
              "      <td>0</td>\n",
              "      <td>0</td>\n",
              "      <td>26.5500</td>\n",
              "      <td>S</td>\n",
              "      <td>E</td>\n",
              "      <td>True</td>\n",
              "      <td>41.281386</td>\n",
              "    </tr>\n",
              "    <tr>\n",
              "      <th>704</th>\n",
              "      <td>0</td>\n",
              "      <td>1</td>\n",
              "      <td>1</td>\n",
              "      <td>31.0</td>\n",
              "      <td>0</td>\n",
              "      <td>0</td>\n",
              "      <td>50.4958</td>\n",
              "      <td>S</td>\n",
              "      <td>A</td>\n",
              "      <td>True</td>\n",
              "      <td>41.281386</td>\n",
              "    </tr>\n",
              "    <tr>\n",
              "      <th>705</th>\n",
              "      <td>0</td>\n",
              "      <td>1</td>\n",
              "      <td>1</td>\n",
              "      <td>33.0</td>\n",
              "      <td>0</td>\n",
              "      <td>0</td>\n",
              "      <td>5.0000</td>\n",
              "      <td>S</td>\n",
              "      <td>B</td>\n",
              "      <td>True</td>\n",
              "      <td>41.281386</td>\n",
              "    </tr>\n",
              "    <tr>\n",
              "      <th>706</th>\n",
              "      <td>1</td>\n",
              "      <td>1</td>\n",
              "      <td>1</td>\n",
              "      <td>26.0</td>\n",
              "      <td>0</td>\n",
              "      <td>0</td>\n",
              "      <td>30.0000</td>\n",
              "      <td>C</td>\n",
              "      <td>C</td>\n",
              "      <td>True</td>\n",
              "      <td>41.281386</td>\n",
              "    </tr>\n",
              "  </tbody>\n",
              "</table>\n",
              "<p>122 rows × 11 columns</p>\n",
              "</div>\n",
              "      <button class=\"colab-df-convert\" onclick=\"convertToInteractive('df-67c19e84-f895-4a37-9fc1-503544f16c4a')\"\n",
              "              title=\"Convert this dataframe to an interactive table.\"\n",
              "              style=\"display:none;\">\n",
              "        \n",
              "  <svg xmlns=\"http://www.w3.org/2000/svg\" height=\"24px\"viewBox=\"0 0 24 24\"\n",
              "       width=\"24px\">\n",
              "    <path d=\"M0 0h24v24H0V0z\" fill=\"none\"/>\n",
              "    <path d=\"M18.56 5.44l.94 2.06.94-2.06 2.06-.94-2.06-.94-.94-2.06-.94 2.06-2.06.94zm-11 1L8.5 8.5l.94-2.06 2.06-.94-2.06-.94L8.5 2.5l-.94 2.06-2.06.94zm10 10l.94 2.06.94-2.06 2.06-.94-2.06-.94-.94-2.06-.94 2.06-2.06.94z\"/><path d=\"M17.41 7.96l-1.37-1.37c-.4-.4-.92-.59-1.43-.59-.52 0-1.04.2-1.43.59L10.3 9.45l-7.72 7.72c-.78.78-.78 2.05 0 2.83L4 21.41c.39.39.9.59 1.41.59.51 0 1.02-.2 1.41-.59l7.78-7.78 2.81-2.81c.8-.78.8-2.07 0-2.86zM5.41 20L4 18.59l7.72-7.72 1.47 1.35L5.41 20z\"/>\n",
              "  </svg>\n",
              "      </button>\n",
              "      \n",
              "  <style>\n",
              "    .colab-df-container {\n",
              "      display:flex;\n",
              "      flex-wrap:wrap;\n",
              "      gap: 12px;\n",
              "    }\n",
              "\n",
              "    .colab-df-convert {\n",
              "      background-color: #E8F0FE;\n",
              "      border: none;\n",
              "      border-radius: 50%;\n",
              "      cursor: pointer;\n",
              "      display: none;\n",
              "      fill: #1967D2;\n",
              "      height: 32px;\n",
              "      padding: 0 0 0 0;\n",
              "      width: 32px;\n",
              "    }\n",
              "\n",
              "    .colab-df-convert:hover {\n",
              "      background-color: #E2EBFA;\n",
              "      box-shadow: 0px 1px 2px rgba(60, 64, 67, 0.3), 0px 1px 3px 1px rgba(60, 64, 67, 0.15);\n",
              "      fill: #174EA6;\n",
              "    }\n",
              "\n",
              "    [theme=dark] .colab-df-convert {\n",
              "      background-color: #3B4455;\n",
              "      fill: #D2E3FC;\n",
              "    }\n",
              "\n",
              "    [theme=dark] .colab-df-convert:hover {\n",
              "      background-color: #434B5C;\n",
              "      box-shadow: 0px 1px 3px 1px rgba(0, 0, 0, 0.15);\n",
              "      filter: drop-shadow(0px 1px 2px rgba(0, 0, 0, 0.3));\n",
              "      fill: #FFFFFF;\n",
              "    }\n",
              "  </style>\n",
              "\n",
              "      <script>\n",
              "        const buttonEl =\n",
              "          document.querySelector('#df-67c19e84-f895-4a37-9fc1-503544f16c4a button.colab-df-convert');\n",
              "        buttonEl.style.display =\n",
              "          google.colab.kernel.accessAllowed ? 'block' : 'none';\n",
              "\n",
              "        async function convertToInteractive(key) {\n",
              "          const element = document.querySelector('#df-67c19e84-f895-4a37-9fc1-503544f16c4a');\n",
              "          const dataTable =\n",
              "            await google.colab.kernel.invokeFunction('convertToInteractive',\n",
              "                                                     [key], {});\n",
              "          if (!dataTable) return;\n",
              "\n",
              "          const docLinkHtml = 'Like what you see? Visit the ' +\n",
              "            '<a target=\"_blank\" href=https://colab.research.google.com/notebooks/data_table.ipynb>data table notebook</a>'\n",
              "            + ' to learn more about interactive tables.';\n",
              "          element.innerHTML = '';\n",
              "          dataTable['output_type'] = 'display_data';\n",
              "          await google.colab.output.renderOutput(dataTable, element);\n",
              "          const docLink = document.createElement('div');\n",
              "          docLink.innerHTML = docLinkHtml;\n",
              "          element.appendChild(docLink);\n",
              "        }\n",
              "      </script>\n",
              "    </div>\n",
              "  </div>\n",
              "  "
            ],
            "text/plain": [
              "     survived  pclass  sex  age_x  ...  embarked  deck  alone      age_y\n",
              "585         0       1    1   54.0  ...         S     E   True  41.281386\n",
              "586         1       1    1   28.0  ...         S     A   True  41.281386\n",
              "587         0       1    1   19.0  ...         S     C  False  41.281386\n",
              "588         0       1    1   40.0  ...         C   NaN   True  41.281386\n",
              "589         0       1    1   28.0  ...         C   NaN  False  41.281386\n",
              "..        ...     ...  ...    ...  ...       ...   ...    ...        ...\n",
              "702         1       1    1    NaN  ...         C     C   True  41.281386\n",
              "703         1       1    1   51.0  ...         S     E   True  41.281386\n",
              "704         0       1    1   31.0  ...         S     A   True  41.281386\n",
              "705         0       1    1   33.0  ...         S     B   True  41.281386\n",
              "706         1       1    1   26.0  ...         C     C   True  41.281386\n",
              "\n",
              "[122 rows x 11 columns]"
            ]
          },
          "metadata": {},
          "execution_count": 107
        }
      ]
    },
    {
      "cell_type": "code",
      "metadata": {
        "colab": {
          "base_uri": "https://localhost:8080/"
        },
        "id": "d3A41mN3qhTa",
        "outputId": "146a2bb9-6188-457c-bc36-c3369bab7414"
      },
      "source": [
        "prep_data['age'] = prep_data.age_x.fillna(prep_data.age_y)\n",
        "prep_data.head()"
      ],
      "execution_count": null,
      "outputs": [
        {
          "output_type": "execute_result",
          "data": {
            "text/html": [
              "\n",
              "  <div id=\"df-2fd29d3c-409d-4033-abf2-7c4b1b9f00bc\">\n",
              "    <div class=\"colab-df-container\">\n",
              "      <div>\n",
              "<style scoped>\n",
              "    .dataframe tbody tr th:only-of-type {\n",
              "        vertical-align: middle;\n",
              "    }\n",
              "\n",
              "    .dataframe tbody tr th {\n",
              "        vertical-align: top;\n",
              "    }\n",
              "\n",
              "    .dataframe thead th {\n",
              "        text-align: right;\n",
              "    }\n",
              "</style>\n",
              "<table border=\"1\" class=\"dataframe\">\n",
              "  <thead>\n",
              "    <tr style=\"text-align: right;\">\n",
              "      <th></th>\n",
              "      <th>survived</th>\n",
              "      <th>pclass</th>\n",
              "      <th>sex</th>\n",
              "      <th>age_x</th>\n",
              "      <th>sibsp</th>\n",
              "      <th>parch</th>\n",
              "      <th>fare</th>\n",
              "      <th>embarked</th>\n",
              "      <th>deck</th>\n",
              "      <th>alone</th>\n",
              "      <th>age_y</th>\n",
              "      <th>age</th>\n",
              "    </tr>\n",
              "  </thead>\n",
              "  <tbody>\n",
              "    <tr>\n",
              "      <th>0</th>\n",
              "      <td>0</td>\n",
              "      <td>3</td>\n",
              "      <td>1</td>\n",
              "      <td>22.0</td>\n",
              "      <td>1</td>\n",
              "      <td>0</td>\n",
              "      <td>7.2500</td>\n",
              "      <td>S</td>\n",
              "      <td>NaN</td>\n",
              "      <td>False</td>\n",
              "      <td>26.507589</td>\n",
              "      <td>22.000000</td>\n",
              "    </tr>\n",
              "    <tr>\n",
              "      <th>1</th>\n",
              "      <td>0</td>\n",
              "      <td>3</td>\n",
              "      <td>1</td>\n",
              "      <td>35.0</td>\n",
              "      <td>0</td>\n",
              "      <td>0</td>\n",
              "      <td>8.0500</td>\n",
              "      <td>S</td>\n",
              "      <td>NaN</td>\n",
              "      <td>True</td>\n",
              "      <td>26.507589</td>\n",
              "      <td>35.000000</td>\n",
              "    </tr>\n",
              "    <tr>\n",
              "      <th>2</th>\n",
              "      <td>0</td>\n",
              "      <td>3</td>\n",
              "      <td>1</td>\n",
              "      <td>NaN</td>\n",
              "      <td>0</td>\n",
              "      <td>0</td>\n",
              "      <td>8.4583</td>\n",
              "      <td>Q</td>\n",
              "      <td>NaN</td>\n",
              "      <td>True</td>\n",
              "      <td>26.507589</td>\n",
              "      <td>26.507589</td>\n",
              "    </tr>\n",
              "    <tr>\n",
              "      <th>3</th>\n",
              "      <td>0</td>\n",
              "      <td>3</td>\n",
              "      <td>1</td>\n",
              "      <td>2.0</td>\n",
              "      <td>3</td>\n",
              "      <td>1</td>\n",
              "      <td>21.0750</td>\n",
              "      <td>S</td>\n",
              "      <td>NaN</td>\n",
              "      <td>False</td>\n",
              "      <td>26.507589</td>\n",
              "      <td>2.000000</td>\n",
              "    </tr>\n",
              "    <tr>\n",
              "      <th>4</th>\n",
              "      <td>0</td>\n",
              "      <td>3</td>\n",
              "      <td>1</td>\n",
              "      <td>20.0</td>\n",
              "      <td>0</td>\n",
              "      <td>0</td>\n",
              "      <td>8.0500</td>\n",
              "      <td>S</td>\n",
              "      <td>NaN</td>\n",
              "      <td>True</td>\n",
              "      <td>26.507589</td>\n",
              "      <td>20.000000</td>\n",
              "    </tr>\n",
              "  </tbody>\n",
              "</table>\n",
              "</div>\n",
              "      <button class=\"colab-df-convert\" onclick=\"convertToInteractive('df-2fd29d3c-409d-4033-abf2-7c4b1b9f00bc')\"\n",
              "              title=\"Convert this dataframe to an interactive table.\"\n",
              "              style=\"display:none;\">\n",
              "        \n",
              "  <svg xmlns=\"http://www.w3.org/2000/svg\" height=\"24px\"viewBox=\"0 0 24 24\"\n",
              "       width=\"24px\">\n",
              "    <path d=\"M0 0h24v24H0V0z\" fill=\"none\"/>\n",
              "    <path d=\"M18.56 5.44l.94 2.06.94-2.06 2.06-.94-2.06-.94-.94-2.06-.94 2.06-2.06.94zm-11 1L8.5 8.5l.94-2.06 2.06-.94-2.06-.94L8.5 2.5l-.94 2.06-2.06.94zm10 10l.94 2.06.94-2.06 2.06-.94-2.06-.94-.94-2.06-.94 2.06-2.06.94z\"/><path d=\"M17.41 7.96l-1.37-1.37c-.4-.4-.92-.59-1.43-.59-.52 0-1.04.2-1.43.59L10.3 9.45l-7.72 7.72c-.78.78-.78 2.05 0 2.83L4 21.41c.39.39.9.59 1.41.59.51 0 1.02-.2 1.41-.59l7.78-7.78 2.81-2.81c.8-.78.8-2.07 0-2.86zM5.41 20L4 18.59l7.72-7.72 1.47 1.35L5.41 20z\"/>\n",
              "  </svg>\n",
              "      </button>\n",
              "      \n",
              "  <style>\n",
              "    .colab-df-container {\n",
              "      display:flex;\n",
              "      flex-wrap:wrap;\n",
              "      gap: 12px;\n",
              "    }\n",
              "\n",
              "    .colab-df-convert {\n",
              "      background-color: #E8F0FE;\n",
              "      border: none;\n",
              "      border-radius: 50%;\n",
              "      cursor: pointer;\n",
              "      display: none;\n",
              "      fill: #1967D2;\n",
              "      height: 32px;\n",
              "      padding: 0 0 0 0;\n",
              "      width: 32px;\n",
              "    }\n",
              "\n",
              "    .colab-df-convert:hover {\n",
              "      background-color: #E2EBFA;\n",
              "      box-shadow: 0px 1px 2px rgba(60, 64, 67, 0.3), 0px 1px 3px 1px rgba(60, 64, 67, 0.15);\n",
              "      fill: #174EA6;\n",
              "    }\n",
              "\n",
              "    [theme=dark] .colab-df-convert {\n",
              "      background-color: #3B4455;\n",
              "      fill: #D2E3FC;\n",
              "    }\n",
              "\n",
              "    [theme=dark] .colab-df-convert:hover {\n",
              "      background-color: #434B5C;\n",
              "      box-shadow: 0px 1px 3px 1px rgba(0, 0, 0, 0.15);\n",
              "      filter: drop-shadow(0px 1px 2px rgba(0, 0, 0, 0.3));\n",
              "      fill: #FFFFFF;\n",
              "    }\n",
              "  </style>\n",
              "\n",
              "      <script>\n",
              "        const buttonEl =\n",
              "          document.querySelector('#df-2fd29d3c-409d-4033-abf2-7c4b1b9f00bc button.colab-df-convert');\n",
              "        buttonEl.style.display =\n",
              "          google.colab.kernel.accessAllowed ? 'block' : 'none';\n",
              "\n",
              "        async function convertToInteractive(key) {\n",
              "          const element = document.querySelector('#df-2fd29d3c-409d-4033-abf2-7c4b1b9f00bc');\n",
              "          const dataTable =\n",
              "            await google.colab.kernel.invokeFunction('convertToInteractive',\n",
              "                                                     [key], {});\n",
              "          if (!dataTable) return;\n",
              "\n",
              "          const docLinkHtml = 'Like what you see? Visit the ' +\n",
              "            '<a target=\"_blank\" href=https://colab.research.google.com/notebooks/data_table.ipynb>data table notebook</a>'\n",
              "            + ' to learn more about interactive tables.';\n",
              "          element.innerHTML = '';\n",
              "          dataTable['output_type'] = 'display_data';\n",
              "          await google.colab.output.renderOutput(dataTable, element);\n",
              "          const docLink = document.createElement('div');\n",
              "          docLink.innerHTML = docLinkHtml;\n",
              "          element.appendChild(docLink);\n",
              "        }\n",
              "      </script>\n",
              "    </div>\n",
              "  </div>\n",
              "  "
            ],
            "text/plain": [
              "   survived  pclass  sex  age_x  ...  deck  alone      age_y        age\n",
              "0         0       3    1   22.0  ...   NaN  False  26.507589  22.000000\n",
              "1         0       3    1   35.0  ...   NaN   True  26.507589  35.000000\n",
              "2         0       3    1    NaN  ...   NaN   True  26.507589  26.507589\n",
              "3         0       3    1    2.0  ...   NaN  False  26.507589   2.000000\n",
              "4         0       3    1   20.0  ...   NaN   True  26.507589  20.000000\n",
              "\n",
              "[5 rows x 12 columns]"
            ]
          },
          "metadata": {},
          "execution_count": 108
        }
      ]
    },
    {
      "cell_type": "code",
      "metadata": {
        "colab": {
          "base_uri": "https://localhost:8080/"
        },
        "id": "WT0AD4JqsOJm",
        "outputId": "4ef52fd1-e285-4ecb-b3ab-b45685492f22"
      },
      "source": [
        "prep_data.deck.astype('str').value_counts()"
      ],
      "execution_count": null,
      "outputs": [
        {
          "output_type": "execute_result",
          "data": {
            "text/plain": [
              "nan    688\n",
              "C       59\n",
              "B       47\n",
              "D       33\n",
              "E       32\n",
              "A       15\n",
              "F       13\n",
              "G        4\n",
              "Name: deck, dtype: int64"
            ]
          },
          "metadata": {},
          "execution_count": 109
        }
      ]
    },
    {
      "cell_type": "markdown",
      "source": [
        "사실 age가 결측치일 때, who의 child 여부를 확인했어야 한다."
      ],
      "metadata": {
        "id": "bBWqaVEDmqmJ"
      }
    },
    {
      "cell_type": "code",
      "metadata": {
        "id": "jFdaKRYn2iCH",
        "colab": {
          "base_uri": "https://localhost:8080/"
        },
        "outputId": "c92be059-6a89-45c1-f373-1e6999cb6ac6"
      },
      "source": [
        "# category data to string\n",
        "prep_data.deck = prep_data.deck.astype('str').fillna('None')\n",
        "prep_data.embarked = prep_data.embarked.fillna('None')\n",
        "prep_data.head()"
      ],
      "execution_count": null,
      "outputs": [
        {
          "output_type": "execute_result",
          "data": {
            "text/html": [
              "\n",
              "  <div id=\"df-fabfe264-982b-4dc8-a9bf-7551d7e0fbd6\">\n",
              "    <div class=\"colab-df-container\">\n",
              "      <div>\n",
              "<style scoped>\n",
              "    .dataframe tbody tr th:only-of-type {\n",
              "        vertical-align: middle;\n",
              "    }\n",
              "\n",
              "    .dataframe tbody tr th {\n",
              "        vertical-align: top;\n",
              "    }\n",
              "\n",
              "    .dataframe thead th {\n",
              "        text-align: right;\n",
              "    }\n",
              "</style>\n",
              "<table border=\"1\" class=\"dataframe\">\n",
              "  <thead>\n",
              "    <tr style=\"text-align: right;\">\n",
              "      <th></th>\n",
              "      <th>survived</th>\n",
              "      <th>pclass</th>\n",
              "      <th>sex</th>\n",
              "      <th>age_x</th>\n",
              "      <th>sibsp</th>\n",
              "      <th>parch</th>\n",
              "      <th>fare</th>\n",
              "      <th>embarked</th>\n",
              "      <th>deck</th>\n",
              "      <th>alone</th>\n",
              "      <th>age_y</th>\n",
              "      <th>age</th>\n",
              "    </tr>\n",
              "  </thead>\n",
              "  <tbody>\n",
              "    <tr>\n",
              "      <th>0</th>\n",
              "      <td>0</td>\n",
              "      <td>3</td>\n",
              "      <td>1</td>\n",
              "      <td>22.0</td>\n",
              "      <td>1</td>\n",
              "      <td>0</td>\n",
              "      <td>7.2500</td>\n",
              "      <td>S</td>\n",
              "      <td>nan</td>\n",
              "      <td>False</td>\n",
              "      <td>26.507589</td>\n",
              "      <td>22.000000</td>\n",
              "    </tr>\n",
              "    <tr>\n",
              "      <th>1</th>\n",
              "      <td>0</td>\n",
              "      <td>3</td>\n",
              "      <td>1</td>\n",
              "      <td>35.0</td>\n",
              "      <td>0</td>\n",
              "      <td>0</td>\n",
              "      <td>8.0500</td>\n",
              "      <td>S</td>\n",
              "      <td>nan</td>\n",
              "      <td>True</td>\n",
              "      <td>26.507589</td>\n",
              "      <td>35.000000</td>\n",
              "    </tr>\n",
              "    <tr>\n",
              "      <th>2</th>\n",
              "      <td>0</td>\n",
              "      <td>3</td>\n",
              "      <td>1</td>\n",
              "      <td>NaN</td>\n",
              "      <td>0</td>\n",
              "      <td>0</td>\n",
              "      <td>8.4583</td>\n",
              "      <td>Q</td>\n",
              "      <td>nan</td>\n",
              "      <td>True</td>\n",
              "      <td>26.507589</td>\n",
              "      <td>26.507589</td>\n",
              "    </tr>\n",
              "    <tr>\n",
              "      <th>3</th>\n",
              "      <td>0</td>\n",
              "      <td>3</td>\n",
              "      <td>1</td>\n",
              "      <td>2.0</td>\n",
              "      <td>3</td>\n",
              "      <td>1</td>\n",
              "      <td>21.0750</td>\n",
              "      <td>S</td>\n",
              "      <td>nan</td>\n",
              "      <td>False</td>\n",
              "      <td>26.507589</td>\n",
              "      <td>2.000000</td>\n",
              "    </tr>\n",
              "    <tr>\n",
              "      <th>4</th>\n",
              "      <td>0</td>\n",
              "      <td>3</td>\n",
              "      <td>1</td>\n",
              "      <td>20.0</td>\n",
              "      <td>0</td>\n",
              "      <td>0</td>\n",
              "      <td>8.0500</td>\n",
              "      <td>S</td>\n",
              "      <td>nan</td>\n",
              "      <td>True</td>\n",
              "      <td>26.507589</td>\n",
              "      <td>20.000000</td>\n",
              "    </tr>\n",
              "  </tbody>\n",
              "</table>\n",
              "</div>\n",
              "      <button class=\"colab-df-convert\" onclick=\"convertToInteractive('df-fabfe264-982b-4dc8-a9bf-7551d7e0fbd6')\"\n",
              "              title=\"Convert this dataframe to an interactive table.\"\n",
              "              style=\"display:none;\">\n",
              "        \n",
              "  <svg xmlns=\"http://www.w3.org/2000/svg\" height=\"24px\"viewBox=\"0 0 24 24\"\n",
              "       width=\"24px\">\n",
              "    <path d=\"M0 0h24v24H0V0z\" fill=\"none\"/>\n",
              "    <path d=\"M18.56 5.44l.94 2.06.94-2.06 2.06-.94-2.06-.94-.94-2.06-.94 2.06-2.06.94zm-11 1L8.5 8.5l.94-2.06 2.06-.94-2.06-.94L8.5 2.5l-.94 2.06-2.06.94zm10 10l.94 2.06.94-2.06 2.06-.94-2.06-.94-.94-2.06-.94 2.06-2.06.94z\"/><path d=\"M17.41 7.96l-1.37-1.37c-.4-.4-.92-.59-1.43-.59-.52 0-1.04.2-1.43.59L10.3 9.45l-7.72 7.72c-.78.78-.78 2.05 0 2.83L4 21.41c.39.39.9.59 1.41.59.51 0 1.02-.2 1.41-.59l7.78-7.78 2.81-2.81c.8-.78.8-2.07 0-2.86zM5.41 20L4 18.59l7.72-7.72 1.47 1.35L5.41 20z\"/>\n",
              "  </svg>\n",
              "      </button>\n",
              "      \n",
              "  <style>\n",
              "    .colab-df-container {\n",
              "      display:flex;\n",
              "      flex-wrap:wrap;\n",
              "      gap: 12px;\n",
              "    }\n",
              "\n",
              "    .colab-df-convert {\n",
              "      background-color: #E8F0FE;\n",
              "      border: none;\n",
              "      border-radius: 50%;\n",
              "      cursor: pointer;\n",
              "      display: none;\n",
              "      fill: #1967D2;\n",
              "      height: 32px;\n",
              "      padding: 0 0 0 0;\n",
              "      width: 32px;\n",
              "    }\n",
              "\n",
              "    .colab-df-convert:hover {\n",
              "      background-color: #E2EBFA;\n",
              "      box-shadow: 0px 1px 2px rgba(60, 64, 67, 0.3), 0px 1px 3px 1px rgba(60, 64, 67, 0.15);\n",
              "      fill: #174EA6;\n",
              "    }\n",
              "\n",
              "    [theme=dark] .colab-df-convert {\n",
              "      background-color: #3B4455;\n",
              "      fill: #D2E3FC;\n",
              "    }\n",
              "\n",
              "    [theme=dark] .colab-df-convert:hover {\n",
              "      background-color: #434B5C;\n",
              "      box-shadow: 0px 1px 3px 1px rgba(0, 0, 0, 0.15);\n",
              "      filter: drop-shadow(0px 1px 2px rgba(0, 0, 0, 0.3));\n",
              "      fill: #FFFFFF;\n",
              "    }\n",
              "  </style>\n",
              "\n",
              "      <script>\n",
              "        const buttonEl =\n",
              "          document.querySelector('#df-fabfe264-982b-4dc8-a9bf-7551d7e0fbd6 button.colab-df-convert');\n",
              "        buttonEl.style.display =\n",
              "          google.colab.kernel.accessAllowed ? 'block' : 'none';\n",
              "\n",
              "        async function convertToInteractive(key) {\n",
              "          const element = document.querySelector('#df-fabfe264-982b-4dc8-a9bf-7551d7e0fbd6');\n",
              "          const dataTable =\n",
              "            await google.colab.kernel.invokeFunction('convertToInteractive',\n",
              "                                                     [key], {});\n",
              "          if (!dataTable) return;\n",
              "\n",
              "          const docLinkHtml = 'Like what you see? Visit the ' +\n",
              "            '<a target=\"_blank\" href=https://colab.research.google.com/notebooks/data_table.ipynb>data table notebook</a>'\n",
              "            + ' to learn more about interactive tables.';\n",
              "          element.innerHTML = '';\n",
              "          dataTable['output_type'] = 'display_data';\n",
              "          await google.colab.output.renderOutput(dataTable, element);\n",
              "          const docLink = document.createElement('div');\n",
              "          docLink.innerHTML = docLinkHtml;\n",
              "          element.appendChild(docLink);\n",
              "        }\n",
              "      </script>\n",
              "    </div>\n",
              "  </div>\n",
              "  "
            ],
            "text/plain": [
              "   survived  pclass  sex  age_x  ...  deck  alone      age_y        age\n",
              "0         0       3    1   22.0  ...   nan  False  26.507589  22.000000\n",
              "1         0       3    1   35.0  ...   nan   True  26.507589  35.000000\n",
              "2         0       3    1    NaN  ...   nan   True  26.507589  26.507589\n",
              "3         0       3    1    2.0  ...   nan  False  26.507589   2.000000\n",
              "4         0       3    1   20.0  ...   nan   True  26.507589  20.000000\n",
              "\n",
              "[5 rows x 12 columns]"
            ]
          },
          "metadata": {},
          "execution_count": 110
        }
      ]
    },
    {
      "cell_type": "code",
      "metadata": {
        "colab": {
          "base_uri": "https://localhost:8080/"
        },
        "id": "efjZ6FuKss-x",
        "outputId": "8d6bfbe0-d046-4d86-e81b-9a288dafe034"
      },
      "source": [
        "prep_data.info()"
      ],
      "execution_count": null,
      "outputs": [
        {
          "output_type": "stream",
          "name": "stdout",
          "text": [
            "<class 'pandas.core.frame.DataFrame'>\n",
            "Int64Index: 891 entries, 0 to 890\n",
            "Data columns (total 12 columns):\n",
            " #   Column    Non-Null Count  Dtype  \n",
            "---  ------    --------------  -----  \n",
            " 0   survived  891 non-null    int64  \n",
            " 1   pclass    891 non-null    int64  \n",
            " 2   sex       891 non-null    int64  \n",
            " 3   age_x     714 non-null    float64\n",
            " 4   sibsp     891 non-null    int64  \n",
            " 5   parch     891 non-null    int64  \n",
            " 6   fare      891 non-null    float64\n",
            " 7   embarked  891 non-null    object \n",
            " 8   deck      891 non-null    object \n",
            " 9   alone     891 non-null    bool   \n",
            " 10  age_y     891 non-null    float64\n",
            " 11  age       891 non-null    float64\n",
            "dtypes: bool(1), float64(4), int64(5), object(2)\n",
            "memory usage: 84.4+ KB\n"
          ]
        }
      ]
    },
    {
      "cell_type": "markdown",
      "metadata": {
        "id": "Q3m74sN-s8dO"
      },
      "source": [
        "결측처리하여 age와 중복된 열인 age_x, age_y를 제거한다."
      ]
    },
    {
      "cell_type": "code",
      "metadata": {
        "colab": {
          "base_uri": "https://localhost:8080/"
        },
        "id": "LgNg1YyZs74C",
        "outputId": "5f22f86f-c520-4aff-ebae-6794997332d3"
      },
      "source": [
        "prep_data = prep_data.drop(columns=['age_x', 'age_y'])\n",
        "prep_data.info()"
      ],
      "execution_count": null,
      "outputs": [
        {
          "output_type": "stream",
          "name": "stdout",
          "text": [
            "<class 'pandas.core.frame.DataFrame'>\n",
            "Int64Index: 891 entries, 0 to 890\n",
            "Data columns (total 10 columns):\n",
            " #   Column    Non-Null Count  Dtype  \n",
            "---  ------    --------------  -----  \n",
            " 0   survived  891 non-null    int64  \n",
            " 1   pclass    891 non-null    int64  \n",
            " 2   sex       891 non-null    int64  \n",
            " 3   sibsp     891 non-null    int64  \n",
            " 4   parch     891 non-null    int64  \n",
            " 5   fare      891 non-null    float64\n",
            " 6   embarked  891 non-null    object \n",
            " 7   deck      891 non-null    object \n",
            " 8   alone     891 non-null    bool   \n",
            " 9   age       891 non-null    float64\n",
            "dtypes: bool(1), float64(2), int64(5), object(2)\n",
            "memory usage: 70.5+ KB\n"
          ]
        }
      ]
    },
    {
      "cell_type": "markdown",
      "metadata": {
        "id": "qWOv-pFy2iCH"
      },
      "source": [
        "#### 범주형을 수치형으로 변환\n",
        "아래 코드는 pandas의 get_dummies 함수를 이용하면 한번에 처리해준다.\n",
        "```python\n",
        "prep_data = pd.get_dummies(prep_data)\n",
        "```"
      ]
    },
    {
      "cell_type": "code",
      "metadata": {
        "id": "kts_9hG42iCH",
        "colab": {
          "base_uri": "https://localhost:8080/"
        },
        "outputId": "dc2ae0e0-94c5-4a7a-ffd3-ed5c6959781c"
      },
      "source": [
        "prep_data = pd.get_dummies(prep_data)\n",
        "prep_data.info()"
      ],
      "execution_count": null,
      "outputs": [
        {
          "output_type": "stream",
          "name": "stdout",
          "text": [
            "<class 'pandas.core.frame.DataFrame'>\n",
            "Int64Index: 891 entries, 0 to 890\n",
            "Data columns (total 20 columns):\n",
            " #   Column         Non-Null Count  Dtype  \n",
            "---  ------         --------------  -----  \n",
            " 0   survived       891 non-null    int64  \n",
            " 1   pclass         891 non-null    int64  \n",
            " 2   sex            891 non-null    int64  \n",
            " 3   sibsp          891 non-null    int64  \n",
            " 4   parch          891 non-null    int64  \n",
            " 5   fare           891 non-null    float64\n",
            " 6   alone          891 non-null    bool   \n",
            " 7   age            891 non-null    float64\n",
            " 8   embarked_C     891 non-null    uint8  \n",
            " 9   embarked_None  891 non-null    uint8  \n",
            " 10  embarked_Q     891 non-null    uint8  \n",
            " 11  embarked_S     891 non-null    uint8  \n",
            " 12  deck_A         891 non-null    uint8  \n",
            " 13  deck_B         891 non-null    uint8  \n",
            " 14  deck_C         891 non-null    uint8  \n",
            " 15  deck_D         891 non-null    uint8  \n",
            " 16  deck_E         891 non-null    uint8  \n",
            " 17  deck_F         891 non-null    uint8  \n",
            " 18  deck_G         891 non-null    uint8  \n",
            " 19  deck_nan       891 non-null    uint8  \n",
            "dtypes: bool(1), float64(2), int64(5), uint8(12)\n",
            "memory usage: 67.0 KB\n"
          ]
        }
      ]
    },
    {
      "cell_type": "code",
      "metadata": {
        "id": "BxUvF6b52iCI"
      },
      "source": [
        "# from sklearn.preprocessing import OneHotEncoder\n",
        "\n",
        "# ohe = OneHotEncoder()\n",
        "# # fit의 대상은 2-d array이다. 따라서 Series가 아닌 DataFrame을 전달해야 함.\n",
        "# ohe.fit_transform(prep_data[['embarked']])"
      ],
      "execution_count": null,
      "outputs": []
    },
    {
      "cell_type": "code",
      "metadata": {
        "id": "-5bUADom2iCI"
      },
      "source": [
        "# embarked_unique = prep_data.embarked.unique()\n",
        "# embarked_unique"
      ],
      "execution_count": null,
      "outputs": []
    },
    {
      "cell_type": "code",
      "metadata": {
        "id": "iPqjOX4g2iCI"
      },
      "source": [
        "# from sklearn.preprocessing import OneHotEncoder\n",
        "\n",
        "# ohe = OneHotEncoder()\n",
        "# embarked_df = prep_data[['embarked']]\n",
        "# embarked_ohe = ohe.fit_transform(embarked_df)\n",
        "# embarked_df = pd.DataFrame(embarked_ohe.toarray(), columns=embarked_unique)\n",
        "# embarked_df.sample(5)"
      ],
      "execution_count": null,
      "outputs": []
    },
    {
      "cell_type": "code",
      "metadata": {
        "id": "YIkhSYjQ2iCI"
      },
      "source": [
        "# prep_data = pd.concat([prep_data, embarked_df], axis=1)\n",
        "# prep_data.drop('embarked', axis=1, inplace=True)\n",
        "# prep_data.head()"
      ],
      "execution_count": null,
      "outputs": []
    },
    {
      "cell_type": "code",
      "metadata": {
        "id": "J25QWRNvxdsS"
      },
      "source": [
        "X_train, X_test, y_train, y_test = train_test_split(prep_data.iloc[:, 1:],\n",
        "                                                    prep_data.iloc[:, 0])"
      ],
      "execution_count": null,
      "outputs": []
    },
    {
      "cell_type": "code",
      "metadata": {
        "colab": {
          "base_uri": "https://localhost:8080/"
        },
        "id": "XJ47vpqaxdhe",
        "outputId": "50183ffb-049d-4eae-95f1-3834ad92600d"
      },
      "source": [
        "paramgrids\n",
        "dtc = GridSearchCV(DecisionTreeClassifier(), paramgrids, n_jobs=1, cv=cv)\n",
        "dtc.fit(X_train, y_train)\n",
        "dtc"
      ],
      "execution_count": null,
      "outputs": [
        {
          "output_type": "execute_result",
          "data": {
            "text/plain": [
              "GridSearchCV(cv=KFold(n_splits=5, random_state=123, shuffle=True),\n",
              "             estimator=DecisionTreeClassifier(), n_jobs=1,\n",
              "             param_grid={'max_depth': [2, 3, 4, 5, 6],\n",
              "                         'max_leaf_nodes': [5, 7, 9, 11, 13],\n",
              "                         'min_samples_leaf': [1, 3, 5],\n",
              "                         'min_samples_split': [2, 4, 8]})"
            ]
          },
          "metadata": {},
          "execution_count": 119
        }
      ]
    },
    {
      "cell_type": "code",
      "metadata": {
        "colab": {
          "base_uri": "https://localhost:8080/"
        },
        "id": "_RJFkzukyKHt",
        "outputId": "e3ecb6b4-5886-4bd8-eede-21cb1ebc2390"
      },
      "source": [
        "dtc.best_params_, dtc.best_score_"
      ],
      "execution_count": null,
      "outputs": [
        {
          "output_type": "execute_result",
          "data": {
            "text/plain": [
              "({'max_depth': 6,\n",
              "  'max_leaf_nodes': 11,\n",
              "  'min_samples_leaf': 5,\n",
              "  'min_samples_split': 2},\n",
              " 0.8264055661541916)"
            ]
          },
          "metadata": {},
          "execution_count": 120
        }
      ]
    },
    {
      "cell_type": "code",
      "metadata": {
        "colab": {
          "base_uri": "https://localhost:8080/"
        },
        "id": "1idysTExyjiO",
        "outputId": "3e00549c-9f0c-4ff7-8d6c-cebe311e6493"
      },
      "source": [
        "dtc.score(X_test, y_test)"
      ],
      "execution_count": null,
      "outputs": [
        {
          "output_type": "execute_result",
          "data": {
            "text/plain": [
              "0.8071748878923767"
            ]
          },
          "metadata": {},
          "execution_count": 121
        }
      ]
    },
    {
      "cell_type": "markdown",
      "metadata": {
        "id": "9lNQJecZ2iCN"
      },
      "source": [
        "### 2.4.4 Naive Bayse\n",
        "아래 수식에서 제시된 바와 같이 각 변수들이 서로 독립이라는 순진한 가정하에서 $P(x_i|y)$를 계산하므로 각 변수들($x_i$)이 범주형일 때 좋은 성능을 갖는다.\n",
        "\n",
        "$$\\begin{align}\n",
        "posterior &= \\cfrac {likelihood * prior} {marginal probability} \\\\\n",
        "P(y|X) &= P(X|y) P(y) / P(X) \\\\\n",
        "&= P(x_1, \\cdots, x_p | y) P(y) / P(x_1, \\cdots, x_p) \\\\\n",
        "&= \\cfrac {P(x_1|y)\\cdots P(x_p|y) P(y)} {P(x_1)\\cdots P(x_p)} \\\\\n",
        "&= \\cfrac {\\prod_{i=1}^p P(x_i|y) P(y)}{\\prod_{i=1}^p P(x_i)}\n",
        "\\end{align}$$\n",
        "\n",
        "$$\\begin{align}\n",
        "P(y=1|X) &= P(X|y=1) P(y=1) / P(X) \\\\\n",
        "&= \\cfrac {\\prod_{i=1}^p P(x_i|y=1) P(y=1)}{\\prod_{i=1}^p P(x_i)} \\\\\n",
        "&\\sim \\prod_{i=1}^p P(x_i|y=1) P(y=1) \\\\\n",
        "\\log{P(y=1|X)} &\\sim \\sum_{i=1}^p \\log{P(x_i|y=1)} + \\log{P(y=1)} \\\\\n",
        "P(y=0|X) &= P(X|y=0) P(y=0) / P(X) \\\\\n",
        "&= \\cfrac {\\prod_{i=1}^p P(x_i|y=0) P(y=1)}{\\prod_{i=1}^p P(x_i)} \\\\\n",
        "&\\sim \\prod_{i=1}^p P(x_i|y=0) P(y=0)\\\\\n",
        "\\log{P(y=0|X)} &\\sim \\sum_{i=1}^p \\log{P(x_i|y=0)} + \\log{P(y=0)}\n",
        "\\end{align}$$\n",
        "\n",
        "$P(x_1, \\dots, x_p)$는 관측된 상수이므로 다음과 같은 분류 규칙을 사용할 수 있다:\n",
        "$$\\begin{aligned}\n",
        "P(y \\mid x_1, \\dots, x_p) \\propto P(y) \\prod_{i=1}^{p} P(x_i \\mid y) & \\\\\n",
        "\\Downarrow & \\\\\n",
        "\\hat{y} = \\arg\\max_y P(y) \\prod_{i=1}^{p} P(x_i \\mid y) &\n",
        "\\end{aligned}$$"
      ]
    },
    {
      "cell_type": "code",
      "metadata": {
        "id": "cWckq5jl2iCN",
        "colab": {
          "base_uri": "https://localhost:8080/"
        },
        "outputId": "d250890b-e9ac-462a-933d-304b0de79dda"
      },
      "source": [
        "# !dir/w weath*\n",
        "from google.colab import drive\n",
        "import os, shutil\n",
        "\n",
        "drive.mount('/content/drive/')\n",
        "os.chdir('/content/drive/My Drive/Colab Notebooks/')\n",
        "!pwd"
      ],
      "execution_count": null,
      "outputs": [
        {
          "output_type": "stream",
          "name": "stdout",
          "text": [
            "Drive already mounted at /content/drive/; to attempt to forcibly remount, call drive.mount(\"/content/drive/\", force_remount=True).\n",
            "/content/drive/My Drive/Colab Notebooks\n"
          ]
        }
      ]
    },
    {
      "cell_type": "code",
      "metadata": {
        "colab": {
          "base_uri": "https://localhost:8080/"
        },
        "id": "fV0oeQxMCAq9",
        "outputId": "a46216bd-5954-4b3e-be7b-f8571fc863cd"
      },
      "source": [
        "%ls # chdir 에 뭐가 있는지보여주는 명령어 "
      ],
      "execution_count": null,
      "outputs": [
        {
          "output_type": "stream",
          "name": "stdout",
          "text": [
            "'03.04.classification.ipynb의 사본'              weather.nominal.csv\n",
            "'03.04.classification.ipynb의 사본 실행되는것'\n"
          ]
        }
      ]
    },
    {
      "cell_type": "code",
      "metadata": {
        "id": "5UzvM7Nt2iCN",
        "colab": {
          "base_uri": "https://localhost:8080/",
          "height": 488
        },
        "outputId": "7b6f6b2e-c99f-4794-b35a-cd9bdc4dad07"
      },
      "source": [
        "import pandas as pd\n",
        "data = pd.read_csv('weather.nominal.csv')\n",
        "data"
      ],
      "execution_count": null,
      "outputs": [
        {
          "output_type": "execute_result",
          "data": {
            "text/html": [
              "\n",
              "  <div id=\"df-249331a0-9f9d-4281-83f6-67f34dfd8ea8\">\n",
              "    <div class=\"colab-df-container\">\n",
              "      <div>\n",
              "<style scoped>\n",
              "    .dataframe tbody tr th:only-of-type {\n",
              "        vertical-align: middle;\n",
              "    }\n",
              "\n",
              "    .dataframe tbody tr th {\n",
              "        vertical-align: top;\n",
              "    }\n",
              "\n",
              "    .dataframe thead th {\n",
              "        text-align: right;\n",
              "    }\n",
              "</style>\n",
              "<table border=\"1\" class=\"dataframe\">\n",
              "  <thead>\n",
              "    <tr style=\"text-align: right;\">\n",
              "      <th></th>\n",
              "      <th>outlook</th>\n",
              "      <th>temperature</th>\n",
              "      <th>humidity</th>\n",
              "      <th>windy</th>\n",
              "      <th>play</th>\n",
              "    </tr>\n",
              "  </thead>\n",
              "  <tbody>\n",
              "    <tr>\n",
              "      <th>0</th>\n",
              "      <td>overcast</td>\n",
              "      <td>hot</td>\n",
              "      <td>high</td>\n",
              "      <td>False</td>\n",
              "      <td>yes</td>\n",
              "    </tr>\n",
              "    <tr>\n",
              "      <th>1</th>\n",
              "      <td>overcast</td>\n",
              "      <td>cool</td>\n",
              "      <td>normal</td>\n",
              "      <td>True</td>\n",
              "      <td>yes</td>\n",
              "    </tr>\n",
              "    <tr>\n",
              "      <th>2</th>\n",
              "      <td>overcast</td>\n",
              "      <td>mild</td>\n",
              "      <td>high</td>\n",
              "      <td>True</td>\n",
              "      <td>yes</td>\n",
              "    </tr>\n",
              "    <tr>\n",
              "      <th>3</th>\n",
              "      <td>overcast</td>\n",
              "      <td>hot</td>\n",
              "      <td>normal</td>\n",
              "      <td>False</td>\n",
              "      <td>yes</td>\n",
              "    </tr>\n",
              "    <tr>\n",
              "      <th>4</th>\n",
              "      <td>rainy</td>\n",
              "      <td>mild</td>\n",
              "      <td>high</td>\n",
              "      <td>False</td>\n",
              "      <td>yes</td>\n",
              "    </tr>\n",
              "    <tr>\n",
              "      <th>5</th>\n",
              "      <td>rainy</td>\n",
              "      <td>cool</td>\n",
              "      <td>normal</td>\n",
              "      <td>False</td>\n",
              "      <td>yes</td>\n",
              "    </tr>\n",
              "    <tr>\n",
              "      <th>6</th>\n",
              "      <td>rainy</td>\n",
              "      <td>cool</td>\n",
              "      <td>normal</td>\n",
              "      <td>True</td>\n",
              "      <td>no</td>\n",
              "    </tr>\n",
              "    <tr>\n",
              "      <th>7</th>\n",
              "      <td>rainy</td>\n",
              "      <td>mild</td>\n",
              "      <td>normal</td>\n",
              "      <td>False</td>\n",
              "      <td>yes</td>\n",
              "    </tr>\n",
              "    <tr>\n",
              "      <th>8</th>\n",
              "      <td>rainy</td>\n",
              "      <td>mild</td>\n",
              "      <td>high</td>\n",
              "      <td>True</td>\n",
              "      <td>no</td>\n",
              "    </tr>\n",
              "    <tr>\n",
              "      <th>9</th>\n",
              "      <td>sunny</td>\n",
              "      <td>hot</td>\n",
              "      <td>high</td>\n",
              "      <td>False</td>\n",
              "      <td>no</td>\n",
              "    </tr>\n",
              "    <tr>\n",
              "      <th>10</th>\n",
              "      <td>sunny</td>\n",
              "      <td>hot</td>\n",
              "      <td>high</td>\n",
              "      <td>True</td>\n",
              "      <td>no</td>\n",
              "    </tr>\n",
              "    <tr>\n",
              "      <th>11</th>\n",
              "      <td>sunny</td>\n",
              "      <td>mild</td>\n",
              "      <td>high</td>\n",
              "      <td>False</td>\n",
              "      <td>no</td>\n",
              "    </tr>\n",
              "    <tr>\n",
              "      <th>12</th>\n",
              "      <td>sunny</td>\n",
              "      <td>cool</td>\n",
              "      <td>normal</td>\n",
              "      <td>False</td>\n",
              "      <td>yes</td>\n",
              "    </tr>\n",
              "    <tr>\n",
              "      <th>13</th>\n",
              "      <td>sunny</td>\n",
              "      <td>mild</td>\n",
              "      <td>normal</td>\n",
              "      <td>True</td>\n",
              "      <td>yes</td>\n",
              "    </tr>\n",
              "  </tbody>\n",
              "</table>\n",
              "</div>\n",
              "      <button class=\"colab-df-convert\" onclick=\"convertToInteractive('df-249331a0-9f9d-4281-83f6-67f34dfd8ea8')\"\n",
              "              title=\"Convert this dataframe to an interactive table.\"\n",
              "              style=\"display:none;\">\n",
              "        \n",
              "  <svg xmlns=\"http://www.w3.org/2000/svg\" height=\"24px\"viewBox=\"0 0 24 24\"\n",
              "       width=\"24px\">\n",
              "    <path d=\"M0 0h24v24H0V0z\" fill=\"none\"/>\n",
              "    <path d=\"M18.56 5.44l.94 2.06.94-2.06 2.06-.94-2.06-.94-.94-2.06-.94 2.06-2.06.94zm-11 1L8.5 8.5l.94-2.06 2.06-.94-2.06-.94L8.5 2.5l-.94 2.06-2.06.94zm10 10l.94 2.06.94-2.06 2.06-.94-2.06-.94-.94-2.06-.94 2.06-2.06.94z\"/><path d=\"M17.41 7.96l-1.37-1.37c-.4-.4-.92-.59-1.43-.59-.52 0-1.04.2-1.43.59L10.3 9.45l-7.72 7.72c-.78.78-.78 2.05 0 2.83L4 21.41c.39.39.9.59 1.41.59.51 0 1.02-.2 1.41-.59l7.78-7.78 2.81-2.81c.8-.78.8-2.07 0-2.86zM5.41 20L4 18.59l7.72-7.72 1.47 1.35L5.41 20z\"/>\n",
              "  </svg>\n",
              "      </button>\n",
              "      \n",
              "  <style>\n",
              "    .colab-df-container {\n",
              "      display:flex;\n",
              "      flex-wrap:wrap;\n",
              "      gap: 12px;\n",
              "    }\n",
              "\n",
              "    .colab-df-convert {\n",
              "      background-color: #E8F0FE;\n",
              "      border: none;\n",
              "      border-radius: 50%;\n",
              "      cursor: pointer;\n",
              "      display: none;\n",
              "      fill: #1967D2;\n",
              "      height: 32px;\n",
              "      padding: 0 0 0 0;\n",
              "      width: 32px;\n",
              "    }\n",
              "\n",
              "    .colab-df-convert:hover {\n",
              "      background-color: #E2EBFA;\n",
              "      box-shadow: 0px 1px 2px rgba(60, 64, 67, 0.3), 0px 1px 3px 1px rgba(60, 64, 67, 0.15);\n",
              "      fill: #174EA6;\n",
              "    }\n",
              "\n",
              "    [theme=dark] .colab-df-convert {\n",
              "      background-color: #3B4455;\n",
              "      fill: #D2E3FC;\n",
              "    }\n",
              "\n",
              "    [theme=dark] .colab-df-convert:hover {\n",
              "      background-color: #434B5C;\n",
              "      box-shadow: 0px 1px 3px 1px rgba(0, 0, 0, 0.15);\n",
              "      filter: drop-shadow(0px 1px 2px rgba(0, 0, 0, 0.3));\n",
              "      fill: #FFFFFF;\n",
              "    }\n",
              "  </style>\n",
              "\n",
              "      <script>\n",
              "        const buttonEl =\n",
              "          document.querySelector('#df-249331a0-9f9d-4281-83f6-67f34dfd8ea8 button.colab-df-convert');\n",
              "        buttonEl.style.display =\n",
              "          google.colab.kernel.accessAllowed ? 'block' : 'none';\n",
              "\n",
              "        async function convertToInteractive(key) {\n",
              "          const element = document.querySelector('#df-249331a0-9f9d-4281-83f6-67f34dfd8ea8');\n",
              "          const dataTable =\n",
              "            await google.colab.kernel.invokeFunction('convertToInteractive',\n",
              "                                                     [key], {});\n",
              "          if (!dataTable) return;\n",
              "\n",
              "          const docLinkHtml = 'Like what you see? Visit the ' +\n",
              "            '<a target=\"_blank\" href=https://colab.research.google.com/notebooks/data_table.ipynb>data table notebook</a>'\n",
              "            + ' to learn more about interactive tables.';\n",
              "          element.innerHTML = '';\n",
              "          dataTable['output_type'] = 'display_data';\n",
              "          await google.colab.output.renderOutput(dataTable, element);\n",
              "          const docLink = document.createElement('div');\n",
              "          docLink.innerHTML = docLinkHtml;\n",
              "          element.appendChild(docLink);\n",
              "        }\n",
              "      </script>\n",
              "    </div>\n",
              "  </div>\n",
              "  "
            ],
            "text/plain": [
              "     outlook  temperature  humidity   windy  play\n",
              "0   overcast          hot      high   False   yes\n",
              "1   overcast         cool    normal    True   yes\n",
              "2   overcast         mild      high    True   yes\n",
              "3   overcast          hot    normal   False   yes\n",
              "4      rainy         mild      high   False   yes\n",
              "5      rainy         cool    normal   False   yes\n",
              "6      rainy         cool    normal    True    no\n",
              "7      rainy         mild    normal   False   yes\n",
              "8      rainy         mild      high    True    no\n",
              "9      sunny          hot      high   False    no\n",
              "10     sunny          hot      high    True    no\n",
              "11     sunny         mild      high   False    no\n",
              "12     sunny         cool    normal   False   yes\n",
              "13     sunny         mild    normal    True   yes"
            ]
          },
          "metadata": {},
          "execution_count": 229
        }
      ]
    },
    {
      "cell_type": "markdown",
      "metadata": {
        "id": "Nv4TLF-t2iCN"
      },
      "source": [
        "컬럼명 앞뒤로 공백이 존재하므로, 이를 제거해줘야 한다."
      ]
    },
    {
      "cell_type": "code",
      "metadata": {
        "id": "y0UZjtLl2iCN",
        "colab": {
          "base_uri": "https://localhost:8080/"
        },
        "outputId": "38b404c7-787b-4c12-9b35-0299e6b1737a"
      },
      "source": [
        "data.info()"
      ],
      "execution_count": null,
      "outputs": [
        {
          "output_type": "stream",
          "name": "stdout",
          "text": [
            "<class 'pandas.core.frame.DataFrame'>\n",
            "RangeIndex: 14 entries, 0 to 13\n",
            "Data columns (total 5 columns):\n",
            " #   Column        Non-Null Count  Dtype \n",
            "---  ------        --------------  ----- \n",
            " 0   outlook       14 non-null     object\n",
            " 1    temperature  14 non-null     object\n",
            " 2    humidity     14 non-null     object\n",
            " 3    windy        14 non-null     bool  \n",
            " 4    play         14 non-null     object\n",
            "dtypes: bool(1), object(4)\n",
            "memory usage: 590.0+ bytes\n"
          ]
        }
      ]
    },
    {
      "cell_type": "code",
      "metadata": {
        "id": "PQvN_5rR2iCO",
        "colab": {
          "base_uri": "https://localhost:8080/"
        },
        "outputId": "499ef2bb-582f-4138-ce48-3c374bad01ad"
      },
      "source": [
        "names = pd.Series(data.columns.values) # 데이터의 컬럼들을 빼서 시리즈로만들고 \n",
        "names = names.str.strip() # str을 함수를 쓰면 문자열 처럼 다룰수있게바꿔주고 strip 을 적용해준다. \n",
        "for name in names:        # 중간에있는 공백 없앨려면 replace 등등 을 써야한다. \n",
        "    print(name) #  람다 함수로 적용해보기. "
      ],
      "execution_count": null,
      "outputs": [
        {
          "output_type": "stream",
          "name": "stdout",
          "text": [
            "outlook\n",
            "temperature\n",
            "humidity\n",
            "windy\n",
            "play\n"
          ]
        }
      ]
    },
    {
      "cell_type": "code",
      "metadata": {
        "id": "EBRC8ldE2iCO",
        "colab": {
          "base_uri": "https://localhost:8080/"
        },
        "outputId": "f0fd1933-2faf-463a-f149-0c89aa4f92ac"
      },
      "source": [
        "data.columns = names ## 기계들은 조그마한 앞뒤공백이 자주있음 있는 보기좋게 하려면 공백을 줘서일렬로쭉 줘서 한다.\n",
        "data.info()          ##  "
      ],
      "execution_count": null,
      "outputs": [
        {
          "output_type": "stream",
          "name": "stdout",
          "text": [
            "<class 'pandas.core.frame.DataFrame'>\n",
            "RangeIndex: 14 entries, 0 to 13\n",
            "Data columns (total 5 columns):\n",
            " #   Column       Non-Null Count  Dtype \n",
            "---  ------       --------------  ----- \n",
            " 0   outlook      14 non-null     object\n",
            " 1   temperature  14 non-null     object\n",
            " 2   humidity     14 non-null     object\n",
            " 3   windy        14 non-null     bool  \n",
            " 4   play         14 non-null     object\n",
            "dtypes: bool(1), object(4)\n",
            "memory usage: 590.0+ bytes\n"
          ]
        }
      ]
    },
    {
      "cell_type": "code",
      "metadata": {
        "scrolled": false,
        "id": "TvsJsDRK2iCO"
      },
      "source": [
        "data['windy'] = data['windy'].astype(str) # 윈디 타입을 불리언에서 오브젝트 형식으로 바꿔줌 나이브베이즈할려고 "
      ],
      "execution_count": null,
      "outputs": []
    },
    {
      "cell_type": "code",
      "metadata": {
        "id": "ZTjOKaFM2iCO",
        "colab": {
          "base_uri": "https://localhost:8080/"
        },
        "outputId": "eba06fe6-ba4c-4c78-8203-0d989d9144c2"
      },
      "source": [
        "data.dtypes"
      ],
      "execution_count": null,
      "outputs": [
        {
          "output_type": "execute_result",
          "data": {
            "text/plain": [
              "outlook        object\n",
              "temperature    object\n",
              "humidity       object\n",
              "windy          object\n",
              "play           object\n",
              "dtype: object"
            ]
          },
          "metadata": {},
          "execution_count": 234
        }
      ]
    },
    {
      "cell_type": "code",
      "source": [
        "data"
      ],
      "metadata": {
        "colab": {
          "base_uri": "https://localhost:8080/",
          "height": 488
        },
        "id": "Ngp_05c7Rdcf",
        "outputId": "f4fcaa7f-3a5b-4fea-fd79-8a48d1f6b75b"
      },
      "execution_count": null,
      "outputs": [
        {
          "output_type": "execute_result",
          "data": {
            "text/html": [
              "\n",
              "  <div id=\"df-5d944a81-ec71-4d3c-a8c9-da07333b9743\">\n",
              "    <div class=\"colab-df-container\">\n",
              "      <div>\n",
              "<style scoped>\n",
              "    .dataframe tbody tr th:only-of-type {\n",
              "        vertical-align: middle;\n",
              "    }\n",
              "\n",
              "    .dataframe tbody tr th {\n",
              "        vertical-align: top;\n",
              "    }\n",
              "\n",
              "    .dataframe thead th {\n",
              "        text-align: right;\n",
              "    }\n",
              "</style>\n",
              "<table border=\"1\" class=\"dataframe\">\n",
              "  <thead>\n",
              "    <tr style=\"text-align: right;\">\n",
              "      <th></th>\n",
              "      <th>outlook</th>\n",
              "      <th>temperature</th>\n",
              "      <th>humidity</th>\n",
              "      <th>windy</th>\n",
              "      <th>play</th>\n",
              "    </tr>\n",
              "  </thead>\n",
              "  <tbody>\n",
              "    <tr>\n",
              "      <th>0</th>\n",
              "      <td>overcast</td>\n",
              "      <td>hot</td>\n",
              "      <td>high</td>\n",
              "      <td>False</td>\n",
              "      <td>yes</td>\n",
              "    </tr>\n",
              "    <tr>\n",
              "      <th>1</th>\n",
              "      <td>overcast</td>\n",
              "      <td>cool</td>\n",
              "      <td>normal</td>\n",
              "      <td>True</td>\n",
              "      <td>yes</td>\n",
              "    </tr>\n",
              "    <tr>\n",
              "      <th>2</th>\n",
              "      <td>overcast</td>\n",
              "      <td>mild</td>\n",
              "      <td>high</td>\n",
              "      <td>True</td>\n",
              "      <td>yes</td>\n",
              "    </tr>\n",
              "    <tr>\n",
              "      <th>3</th>\n",
              "      <td>overcast</td>\n",
              "      <td>hot</td>\n",
              "      <td>normal</td>\n",
              "      <td>False</td>\n",
              "      <td>yes</td>\n",
              "    </tr>\n",
              "    <tr>\n",
              "      <th>4</th>\n",
              "      <td>rainy</td>\n",
              "      <td>mild</td>\n",
              "      <td>high</td>\n",
              "      <td>False</td>\n",
              "      <td>yes</td>\n",
              "    </tr>\n",
              "    <tr>\n",
              "      <th>5</th>\n",
              "      <td>rainy</td>\n",
              "      <td>cool</td>\n",
              "      <td>normal</td>\n",
              "      <td>False</td>\n",
              "      <td>yes</td>\n",
              "    </tr>\n",
              "    <tr>\n",
              "      <th>6</th>\n",
              "      <td>rainy</td>\n",
              "      <td>cool</td>\n",
              "      <td>normal</td>\n",
              "      <td>True</td>\n",
              "      <td>no</td>\n",
              "    </tr>\n",
              "    <tr>\n",
              "      <th>7</th>\n",
              "      <td>rainy</td>\n",
              "      <td>mild</td>\n",
              "      <td>normal</td>\n",
              "      <td>False</td>\n",
              "      <td>yes</td>\n",
              "    </tr>\n",
              "    <tr>\n",
              "      <th>8</th>\n",
              "      <td>rainy</td>\n",
              "      <td>mild</td>\n",
              "      <td>high</td>\n",
              "      <td>True</td>\n",
              "      <td>no</td>\n",
              "    </tr>\n",
              "    <tr>\n",
              "      <th>9</th>\n",
              "      <td>sunny</td>\n",
              "      <td>hot</td>\n",
              "      <td>high</td>\n",
              "      <td>False</td>\n",
              "      <td>no</td>\n",
              "    </tr>\n",
              "    <tr>\n",
              "      <th>10</th>\n",
              "      <td>sunny</td>\n",
              "      <td>hot</td>\n",
              "      <td>high</td>\n",
              "      <td>True</td>\n",
              "      <td>no</td>\n",
              "    </tr>\n",
              "    <tr>\n",
              "      <th>11</th>\n",
              "      <td>sunny</td>\n",
              "      <td>mild</td>\n",
              "      <td>high</td>\n",
              "      <td>False</td>\n",
              "      <td>no</td>\n",
              "    </tr>\n",
              "    <tr>\n",
              "      <th>12</th>\n",
              "      <td>sunny</td>\n",
              "      <td>cool</td>\n",
              "      <td>normal</td>\n",
              "      <td>False</td>\n",
              "      <td>yes</td>\n",
              "    </tr>\n",
              "    <tr>\n",
              "      <th>13</th>\n",
              "      <td>sunny</td>\n",
              "      <td>mild</td>\n",
              "      <td>normal</td>\n",
              "      <td>True</td>\n",
              "      <td>yes</td>\n",
              "    </tr>\n",
              "  </tbody>\n",
              "</table>\n",
              "</div>\n",
              "      <button class=\"colab-df-convert\" onclick=\"convertToInteractive('df-5d944a81-ec71-4d3c-a8c9-da07333b9743')\"\n",
              "              title=\"Convert this dataframe to an interactive table.\"\n",
              "              style=\"display:none;\">\n",
              "        \n",
              "  <svg xmlns=\"http://www.w3.org/2000/svg\" height=\"24px\"viewBox=\"0 0 24 24\"\n",
              "       width=\"24px\">\n",
              "    <path d=\"M0 0h24v24H0V0z\" fill=\"none\"/>\n",
              "    <path d=\"M18.56 5.44l.94 2.06.94-2.06 2.06-.94-2.06-.94-.94-2.06-.94 2.06-2.06.94zm-11 1L8.5 8.5l.94-2.06 2.06-.94-2.06-.94L8.5 2.5l-.94 2.06-2.06.94zm10 10l.94 2.06.94-2.06 2.06-.94-2.06-.94-.94-2.06-.94 2.06-2.06.94z\"/><path d=\"M17.41 7.96l-1.37-1.37c-.4-.4-.92-.59-1.43-.59-.52 0-1.04.2-1.43.59L10.3 9.45l-7.72 7.72c-.78.78-.78 2.05 0 2.83L4 21.41c.39.39.9.59 1.41.59.51 0 1.02-.2 1.41-.59l7.78-7.78 2.81-2.81c.8-.78.8-2.07 0-2.86zM5.41 20L4 18.59l7.72-7.72 1.47 1.35L5.41 20z\"/>\n",
              "  </svg>\n",
              "      </button>\n",
              "      \n",
              "  <style>\n",
              "    .colab-df-container {\n",
              "      display:flex;\n",
              "      flex-wrap:wrap;\n",
              "      gap: 12px;\n",
              "    }\n",
              "\n",
              "    .colab-df-convert {\n",
              "      background-color: #E8F0FE;\n",
              "      border: none;\n",
              "      border-radius: 50%;\n",
              "      cursor: pointer;\n",
              "      display: none;\n",
              "      fill: #1967D2;\n",
              "      height: 32px;\n",
              "      padding: 0 0 0 0;\n",
              "      width: 32px;\n",
              "    }\n",
              "\n",
              "    .colab-df-convert:hover {\n",
              "      background-color: #E2EBFA;\n",
              "      box-shadow: 0px 1px 2px rgba(60, 64, 67, 0.3), 0px 1px 3px 1px rgba(60, 64, 67, 0.15);\n",
              "      fill: #174EA6;\n",
              "    }\n",
              "\n",
              "    [theme=dark] .colab-df-convert {\n",
              "      background-color: #3B4455;\n",
              "      fill: #D2E3FC;\n",
              "    }\n",
              "\n",
              "    [theme=dark] .colab-df-convert:hover {\n",
              "      background-color: #434B5C;\n",
              "      box-shadow: 0px 1px 3px 1px rgba(0, 0, 0, 0.15);\n",
              "      filter: drop-shadow(0px 1px 2px rgba(0, 0, 0, 0.3));\n",
              "      fill: #FFFFFF;\n",
              "    }\n",
              "  </style>\n",
              "\n",
              "      <script>\n",
              "        const buttonEl =\n",
              "          document.querySelector('#df-5d944a81-ec71-4d3c-a8c9-da07333b9743 button.colab-df-convert');\n",
              "        buttonEl.style.display =\n",
              "          google.colab.kernel.accessAllowed ? 'block' : 'none';\n",
              "\n",
              "        async function convertToInteractive(key) {\n",
              "          const element = document.querySelector('#df-5d944a81-ec71-4d3c-a8c9-da07333b9743');\n",
              "          const dataTable =\n",
              "            await google.colab.kernel.invokeFunction('convertToInteractive',\n",
              "                                                     [key], {});\n",
              "          if (!dataTable) return;\n",
              "\n",
              "          const docLinkHtml = 'Like what you see? Visit the ' +\n",
              "            '<a target=\"_blank\" href=https://colab.research.google.com/notebooks/data_table.ipynb>data table notebook</a>'\n",
              "            + ' to learn more about interactive tables.';\n",
              "          element.innerHTML = '';\n",
              "          dataTable['output_type'] = 'display_data';\n",
              "          await google.colab.output.renderOutput(dataTable, element);\n",
              "          const docLink = document.createElement('div');\n",
              "          docLink.innerHTML = docLinkHtml;\n",
              "          element.appendChild(docLink);\n",
              "        }\n",
              "      </script>\n",
              "    </div>\n",
              "  </div>\n",
              "  "
            ],
            "text/plain": [
              "     outlook temperature humidity  windy play\n",
              "0   overcast         hot     high  False  yes\n",
              "1   overcast        cool   normal   True  yes\n",
              "2   overcast        mild     high   True  yes\n",
              "3   overcast         hot   normal  False  yes\n",
              "4      rainy        mild     high  False  yes\n",
              "5      rainy        cool   normal  False  yes\n",
              "6      rainy        cool   normal   True   no\n",
              "7      rainy        mild   normal  False  yes\n",
              "8      rainy        mild     high   True   no\n",
              "9      sunny         hot     high  False   no\n",
              "10     sunny         hot     high   True   no\n",
              "11     sunny        mild     high  False   no\n",
              "12     sunny        cool   normal  False  yes\n",
              "13     sunny        mild   normal   True  yes"
            ]
          },
          "metadata": {},
          "execution_count": 235
        }
      ]
    },
    {
      "cell_type": "code",
      "source": [
        "data.groupby('play')[['outlook','temperature']].count() # 정확한 값이 나오지 않음 "
      ],
      "metadata": {
        "colab": {
          "base_uri": "https://localhost:8080/",
          "height": 143
        },
        "id": "PTEi216QRDF4",
        "outputId": "25f9956c-eb3d-4c79-d37e-fe3ce7f285cc"
      },
      "execution_count": null,
      "outputs": [
        {
          "output_type": "execute_result",
          "data": {
            "text/html": [
              "\n",
              "  <div id=\"df-3e814ea6-541d-48b1-88c3-0c49d7b5867a\">\n",
              "    <div class=\"colab-df-container\">\n",
              "      <div>\n",
              "<style scoped>\n",
              "    .dataframe tbody tr th:only-of-type {\n",
              "        vertical-align: middle;\n",
              "    }\n",
              "\n",
              "    .dataframe tbody tr th {\n",
              "        vertical-align: top;\n",
              "    }\n",
              "\n",
              "    .dataframe thead th {\n",
              "        text-align: right;\n",
              "    }\n",
              "</style>\n",
              "<table border=\"1\" class=\"dataframe\">\n",
              "  <thead>\n",
              "    <tr style=\"text-align: right;\">\n",
              "      <th></th>\n",
              "      <th>outlook</th>\n",
              "      <th>temperature</th>\n",
              "    </tr>\n",
              "    <tr>\n",
              "      <th>play</th>\n",
              "      <th></th>\n",
              "      <th></th>\n",
              "    </tr>\n",
              "  </thead>\n",
              "  <tbody>\n",
              "    <tr>\n",
              "      <th>no</th>\n",
              "      <td>5</td>\n",
              "      <td>5</td>\n",
              "    </tr>\n",
              "    <tr>\n",
              "      <th>yes</th>\n",
              "      <td>9</td>\n",
              "      <td>9</td>\n",
              "    </tr>\n",
              "  </tbody>\n",
              "</table>\n",
              "</div>\n",
              "      <button class=\"colab-df-convert\" onclick=\"convertToInteractive('df-3e814ea6-541d-48b1-88c3-0c49d7b5867a')\"\n",
              "              title=\"Convert this dataframe to an interactive table.\"\n",
              "              style=\"display:none;\">\n",
              "        \n",
              "  <svg xmlns=\"http://www.w3.org/2000/svg\" height=\"24px\"viewBox=\"0 0 24 24\"\n",
              "       width=\"24px\">\n",
              "    <path d=\"M0 0h24v24H0V0z\" fill=\"none\"/>\n",
              "    <path d=\"M18.56 5.44l.94 2.06.94-2.06 2.06-.94-2.06-.94-.94-2.06-.94 2.06-2.06.94zm-11 1L8.5 8.5l.94-2.06 2.06-.94-2.06-.94L8.5 2.5l-.94 2.06-2.06.94zm10 10l.94 2.06.94-2.06 2.06-.94-2.06-.94-.94-2.06-.94 2.06-2.06.94z\"/><path d=\"M17.41 7.96l-1.37-1.37c-.4-.4-.92-.59-1.43-.59-.52 0-1.04.2-1.43.59L10.3 9.45l-7.72 7.72c-.78.78-.78 2.05 0 2.83L4 21.41c.39.39.9.59 1.41.59.51 0 1.02-.2 1.41-.59l7.78-7.78 2.81-2.81c.8-.78.8-2.07 0-2.86zM5.41 20L4 18.59l7.72-7.72 1.47 1.35L5.41 20z\"/>\n",
              "  </svg>\n",
              "      </button>\n",
              "      \n",
              "  <style>\n",
              "    .colab-df-container {\n",
              "      display:flex;\n",
              "      flex-wrap:wrap;\n",
              "      gap: 12px;\n",
              "    }\n",
              "\n",
              "    .colab-df-convert {\n",
              "      background-color: #E8F0FE;\n",
              "      border: none;\n",
              "      border-radius: 50%;\n",
              "      cursor: pointer;\n",
              "      display: none;\n",
              "      fill: #1967D2;\n",
              "      height: 32px;\n",
              "      padding: 0 0 0 0;\n",
              "      width: 32px;\n",
              "    }\n",
              "\n",
              "    .colab-df-convert:hover {\n",
              "      background-color: #E2EBFA;\n",
              "      box-shadow: 0px 1px 2px rgba(60, 64, 67, 0.3), 0px 1px 3px 1px rgba(60, 64, 67, 0.15);\n",
              "      fill: #174EA6;\n",
              "    }\n",
              "\n",
              "    [theme=dark] .colab-df-convert {\n",
              "      background-color: #3B4455;\n",
              "      fill: #D2E3FC;\n",
              "    }\n",
              "\n",
              "    [theme=dark] .colab-df-convert:hover {\n",
              "      background-color: #434B5C;\n",
              "      box-shadow: 0px 1px 3px 1px rgba(0, 0, 0, 0.15);\n",
              "      filter: drop-shadow(0px 1px 2px rgba(0, 0, 0, 0.3));\n",
              "      fill: #FFFFFF;\n",
              "    }\n",
              "  </style>\n",
              "\n",
              "      <script>\n",
              "        const buttonEl =\n",
              "          document.querySelector('#df-3e814ea6-541d-48b1-88c3-0c49d7b5867a button.colab-df-convert');\n",
              "        buttonEl.style.display =\n",
              "          google.colab.kernel.accessAllowed ? 'block' : 'none';\n",
              "\n",
              "        async function convertToInteractive(key) {\n",
              "          const element = document.querySelector('#df-3e814ea6-541d-48b1-88c3-0c49d7b5867a');\n",
              "          const dataTable =\n",
              "            await google.colab.kernel.invokeFunction('convertToInteractive',\n",
              "                                                     [key], {});\n",
              "          if (!dataTable) return;\n",
              "\n",
              "          const docLinkHtml = 'Like what you see? Visit the ' +\n",
              "            '<a target=\"_blank\" href=https://colab.research.google.com/notebooks/data_table.ipynb>data table notebook</a>'\n",
              "            + ' to learn more about interactive tables.';\n",
              "          element.innerHTML = '';\n",
              "          dataTable['output_type'] = 'display_data';\n",
              "          await google.colab.output.renderOutput(dataTable, element);\n",
              "          const docLink = document.createElement('div');\n",
              "          docLink.innerHTML = docLinkHtml;\n",
              "          element.appendChild(docLink);\n",
              "        }\n",
              "      </script>\n",
              "    </div>\n",
              "  </div>\n",
              "  "
            ],
            "text/plain": [
              "      outlook  temperature\n",
              "play                      \n",
              "no          5            5\n",
              "yes         9            9"
            ]
          },
          "metadata": {},
          "execution_count": 253
        }
      ]
    },
    {
      "cell_type": "code",
      "metadata": {
        "id": "tG2dSuUx2iCO",
        "outputId": "766c6ebc-412e-4e33-ab67-935cbdb0da4c",
        "colab": {
          "base_uri": "https://localhost:8080/",
          "height": 143
        }
      },
      "source": [
        "tabs = []  # 플레이에대한 빈도수 계산  X라는 현상이 발생했을때 y라는 의사결정을 할 확률은? 을 계산해야함 \n",
        "for col in data.columns[:-1]: # play를 빼놓고 계산한거임 \n",
        "    temp = pd.crosstab(data['play'], data[col])  # dot+ group by\n",
        "    tabs.append(temp)\n",
        "    \n",
        "joined_tab = pd.concat(tabs, axis=1) # 결합을 시키는데 axis =1  로한다\n",
        "joined_tab\n",
        "### 나이브베이즈를 어떻게 쓰는지 알려줄려고 정리해준거임\n",
        "# 각각의 확률을 구할수 있음"
      ],
      "execution_count": null,
      "outputs": [
        {
          "output_type": "execute_result",
          "data": {
            "text/html": [
              "\n",
              "  <div id=\"df-4e594181-ab54-4d0a-be40-b17db17b0e68\">\n",
              "    <div class=\"colab-df-container\">\n",
              "      <div>\n",
              "<style scoped>\n",
              "    .dataframe tbody tr th:only-of-type {\n",
              "        vertical-align: middle;\n",
              "    }\n",
              "\n",
              "    .dataframe tbody tr th {\n",
              "        vertical-align: top;\n",
              "    }\n",
              "\n",
              "    .dataframe thead th {\n",
              "        text-align: right;\n",
              "    }\n",
              "</style>\n",
              "<table border=\"1\" class=\"dataframe\">\n",
              "  <thead>\n",
              "    <tr style=\"text-align: right;\">\n",
              "      <th></th>\n",
              "      <th>overcast</th>\n",
              "      <th>rainy</th>\n",
              "      <th>sunny</th>\n",
              "      <th>cool</th>\n",
              "      <th>hot</th>\n",
              "      <th>mild</th>\n",
              "      <th>high</th>\n",
              "      <th>normal</th>\n",
              "      <th>False</th>\n",
              "      <th>True</th>\n",
              "    </tr>\n",
              "    <tr>\n",
              "      <th>play</th>\n",
              "      <th></th>\n",
              "      <th></th>\n",
              "      <th></th>\n",
              "      <th></th>\n",
              "      <th></th>\n",
              "      <th></th>\n",
              "      <th></th>\n",
              "      <th></th>\n",
              "      <th></th>\n",
              "      <th></th>\n",
              "    </tr>\n",
              "  </thead>\n",
              "  <tbody>\n",
              "    <tr>\n",
              "      <th>no</th>\n",
              "      <td>0</td>\n",
              "      <td>2</td>\n",
              "      <td>3</td>\n",
              "      <td>1</td>\n",
              "      <td>2</td>\n",
              "      <td>2</td>\n",
              "      <td>4</td>\n",
              "      <td>1</td>\n",
              "      <td>2</td>\n",
              "      <td>3</td>\n",
              "    </tr>\n",
              "    <tr>\n",
              "      <th>yes</th>\n",
              "      <td>4</td>\n",
              "      <td>3</td>\n",
              "      <td>2</td>\n",
              "      <td>3</td>\n",
              "      <td>2</td>\n",
              "      <td>4</td>\n",
              "      <td>3</td>\n",
              "      <td>6</td>\n",
              "      <td>6</td>\n",
              "      <td>3</td>\n",
              "    </tr>\n",
              "  </tbody>\n",
              "</table>\n",
              "</div>\n",
              "      <button class=\"colab-df-convert\" onclick=\"convertToInteractive('df-4e594181-ab54-4d0a-be40-b17db17b0e68')\"\n",
              "              title=\"Convert this dataframe to an interactive table.\"\n",
              "              style=\"display:none;\">\n",
              "        \n",
              "  <svg xmlns=\"http://www.w3.org/2000/svg\" height=\"24px\"viewBox=\"0 0 24 24\"\n",
              "       width=\"24px\">\n",
              "    <path d=\"M0 0h24v24H0V0z\" fill=\"none\"/>\n",
              "    <path d=\"M18.56 5.44l.94 2.06.94-2.06 2.06-.94-2.06-.94-.94-2.06-.94 2.06-2.06.94zm-11 1L8.5 8.5l.94-2.06 2.06-.94-2.06-.94L8.5 2.5l-.94 2.06-2.06.94zm10 10l.94 2.06.94-2.06 2.06-.94-2.06-.94-.94-2.06-.94 2.06-2.06.94z\"/><path d=\"M17.41 7.96l-1.37-1.37c-.4-.4-.92-.59-1.43-.59-.52 0-1.04.2-1.43.59L10.3 9.45l-7.72 7.72c-.78.78-.78 2.05 0 2.83L4 21.41c.39.39.9.59 1.41.59.51 0 1.02-.2 1.41-.59l7.78-7.78 2.81-2.81c.8-.78.8-2.07 0-2.86zM5.41 20L4 18.59l7.72-7.72 1.47 1.35L5.41 20z\"/>\n",
              "  </svg>\n",
              "      </button>\n",
              "      \n",
              "  <style>\n",
              "    .colab-df-container {\n",
              "      display:flex;\n",
              "      flex-wrap:wrap;\n",
              "      gap: 12px;\n",
              "    }\n",
              "\n",
              "    .colab-df-convert {\n",
              "      background-color: #E8F0FE;\n",
              "      border: none;\n",
              "      border-radius: 50%;\n",
              "      cursor: pointer;\n",
              "      display: none;\n",
              "      fill: #1967D2;\n",
              "      height: 32px;\n",
              "      padding: 0 0 0 0;\n",
              "      width: 32px;\n",
              "    }\n",
              "\n",
              "    .colab-df-convert:hover {\n",
              "      background-color: #E2EBFA;\n",
              "      box-shadow: 0px 1px 2px rgba(60, 64, 67, 0.3), 0px 1px 3px 1px rgba(60, 64, 67, 0.15);\n",
              "      fill: #174EA6;\n",
              "    }\n",
              "\n",
              "    [theme=dark] .colab-df-convert {\n",
              "      background-color: #3B4455;\n",
              "      fill: #D2E3FC;\n",
              "    }\n",
              "\n",
              "    [theme=dark] .colab-df-convert:hover {\n",
              "      background-color: #434B5C;\n",
              "      box-shadow: 0px 1px 3px 1px rgba(0, 0, 0, 0.15);\n",
              "      filter: drop-shadow(0px 1px 2px rgba(0, 0, 0, 0.3));\n",
              "      fill: #FFFFFF;\n",
              "    }\n",
              "  </style>\n",
              "\n",
              "      <script>\n",
              "        const buttonEl =\n",
              "          document.querySelector('#df-4e594181-ab54-4d0a-be40-b17db17b0e68 button.colab-df-convert');\n",
              "        buttonEl.style.display =\n",
              "          google.colab.kernel.accessAllowed ? 'block' : 'none';\n",
              "\n",
              "        async function convertToInteractive(key) {\n",
              "          const element = document.querySelector('#df-4e594181-ab54-4d0a-be40-b17db17b0e68');\n",
              "          const dataTable =\n",
              "            await google.colab.kernel.invokeFunction('convertToInteractive',\n",
              "                                                     [key], {});\n",
              "          if (!dataTable) return;\n",
              "\n",
              "          const docLinkHtml = 'Like what you see? Visit the ' +\n",
              "            '<a target=\"_blank\" href=https://colab.research.google.com/notebooks/data_table.ipynb>data table notebook</a>'\n",
              "            + ' to learn more about interactive tables.';\n",
              "          element.innerHTML = '';\n",
              "          dataTable['output_type'] = 'display_data';\n",
              "          await google.colab.output.renderOutput(dataTable, element);\n",
              "          const docLink = document.createElement('div');\n",
              "          docLink.innerHTML = docLinkHtml;\n",
              "          element.appendChild(docLink);\n",
              "        }\n",
              "      </script>\n",
              "    </div>\n",
              "  </div>\n",
              "  "
            ],
            "text/plain": [
              "      overcast  rainy  sunny  cool  hot  mild  high  normal  False  True\n",
              "play                                                                    \n",
              "no           0      2      3     1    2     2     4       1      2     3\n",
              "yes          4      3      2     3    2     4     3       6      6     3"
            ]
          },
          "metadata": {},
          "execution_count": 258
        }
      ]
    },
    {
      "cell_type": "code",
      "metadata": {
        "id": "AwbpKw_F2iCO",
        "outputId": "b84a2aa7-1508-41d9-d571-088a4c643d7f",
        "colab": {
          "base_uri": "https://localhost:8080/"
        }
      },
      "source": [
        "##### size 해서  yes가 몇인지 no가 몇인지 \n",
        "freqY = data.groupby(['play']).agg('size')\n",
        "freqY"
      ],
      "execution_count": null,
      "outputs": [
        {
          "output_type": "execute_result",
          "data": {
            "text/plain": [
              "play\n",
              "no     5\n",
              "yes    9\n",
              "dtype: int64"
            ]
          },
          "metadata": {},
          "execution_count": 240
        }
      ]
    },
    {
      "cell_type": "code",
      "source": [
        "data.play.value_counts() # 사이즈랑 벨류 카운츠랑 같은거임 "
      ],
      "metadata": {
        "colab": {
          "base_uri": "https://localhost:8080/"
        },
        "id": "1yQI7SBWodAD",
        "outputId": "08c4a51e-9243-41ce-da91-6ae0552f3855"
      },
      "execution_count": null,
      "outputs": [
        {
          "output_type": "execute_result",
          "data": {
            "text/plain": [
              "yes    9\n",
              "no     5\n",
              "Name: play, dtype: int64"
            ]
          },
          "metadata": {},
          "execution_count": 142
        }
      ]
    },
    {
      "cell_type": "code",
      "source": [
        "# data.play.value_counts()"
      ],
      "metadata": {
        "colab": {
          "base_uri": "https://localhost:8080/"
        },
        "id": "vVfZYzNdokeb",
        "outputId": "97fb7e67-63be-4f2f-bcd6-15b36c05d46c"
      },
      "execution_count": null,
      "outputs": [
        {
          "output_type": "execute_result",
          "data": {
            "text/plain": [
              "yes    9\n",
              "no     5\n",
              "Name: play, dtype: int64"
            ]
          },
          "metadata": {},
          "execution_count": 143
        }
      ]
    },
    {
      "cell_type": "markdown",
      "metadata": {
        "id": "A6_JGau-2iCO"
      },
      "source": [
        "numpy의 broadcasting 규칙:\n",
        "1. 마지막 axis의 shape size가 동일하거나, 어느 하나가 1이어야 한다.\n",
        "2. 다음 axis에서도 동일하게 비교한다.\n",
        "3. 어느 하나의 axis가 끝날 때까지 반복한다.\n",
        "\n",
        "(l, m, n) / (o, p)"
      ]
    },
    {
      "cell_type": "code",
      "source": [
        ""
      ],
      "metadata": {
        "id": "qvsk91O6o9UU"
      },
      "execution_count": null,
      "outputs": []
    },
    {
      "cell_type": "code",
      "source": [
        "Xprob = joined_tab / freqY.values.reshape((-1,1)) # 방법1 방법 2  몰라도 된다는 거임 그냥 규칙만 알면 된다.\n",
        "Xprob"
      ],
      "metadata": {
        "colab": {
          "base_uri": "https://localhost:8080/",
          "height": 143
        },
        "id": "Q3i6iMvbpAFa",
        "outputId": "17d64339-d71f-4201-b4e2-9ab43c992df8"
      },
      "execution_count": null,
      "outputs": [
        {
          "output_type": "execute_result",
          "data": {
            "text/html": [
              "\n",
              "  <div id=\"df-c999802f-e7aa-441b-a3ee-6f42ff3abdd3\">\n",
              "    <div class=\"colab-df-container\">\n",
              "      <div>\n",
              "<style scoped>\n",
              "    .dataframe tbody tr th:only-of-type {\n",
              "        vertical-align: middle;\n",
              "    }\n",
              "\n",
              "    .dataframe tbody tr th {\n",
              "        vertical-align: top;\n",
              "    }\n",
              "\n",
              "    .dataframe thead th {\n",
              "        text-align: right;\n",
              "    }\n",
              "</style>\n",
              "<table border=\"1\" class=\"dataframe\">\n",
              "  <thead>\n",
              "    <tr style=\"text-align: right;\">\n",
              "      <th></th>\n",
              "      <th>overcast</th>\n",
              "      <th>rainy</th>\n",
              "      <th>sunny</th>\n",
              "      <th>cool</th>\n",
              "      <th>hot</th>\n",
              "      <th>mild</th>\n",
              "      <th>high</th>\n",
              "      <th>normal</th>\n",
              "      <th>False</th>\n",
              "      <th>True</th>\n",
              "    </tr>\n",
              "    <tr>\n",
              "      <th>play</th>\n",
              "      <th></th>\n",
              "      <th></th>\n",
              "      <th></th>\n",
              "      <th></th>\n",
              "      <th></th>\n",
              "      <th></th>\n",
              "      <th></th>\n",
              "      <th></th>\n",
              "      <th></th>\n",
              "      <th></th>\n",
              "    </tr>\n",
              "  </thead>\n",
              "  <tbody>\n",
              "    <tr>\n",
              "      <th>no</th>\n",
              "      <td>0.000000</td>\n",
              "      <td>0.400000</td>\n",
              "      <td>0.600000</td>\n",
              "      <td>0.200000</td>\n",
              "      <td>0.400000</td>\n",
              "      <td>0.400000</td>\n",
              "      <td>0.800000</td>\n",
              "      <td>0.200000</td>\n",
              "      <td>0.400000</td>\n",
              "      <td>0.600000</td>\n",
              "    </tr>\n",
              "    <tr>\n",
              "      <th>yes</th>\n",
              "      <td>0.444444</td>\n",
              "      <td>0.333333</td>\n",
              "      <td>0.222222</td>\n",
              "      <td>0.333333</td>\n",
              "      <td>0.222222</td>\n",
              "      <td>0.444444</td>\n",
              "      <td>0.333333</td>\n",
              "      <td>0.666667</td>\n",
              "      <td>0.666667</td>\n",
              "      <td>0.333333</td>\n",
              "    </tr>\n",
              "  </tbody>\n",
              "</table>\n",
              "</div>\n",
              "      <button class=\"colab-df-convert\" onclick=\"convertToInteractive('df-c999802f-e7aa-441b-a3ee-6f42ff3abdd3')\"\n",
              "              title=\"Convert this dataframe to an interactive table.\"\n",
              "              style=\"display:none;\">\n",
              "        \n",
              "  <svg xmlns=\"http://www.w3.org/2000/svg\" height=\"24px\"viewBox=\"0 0 24 24\"\n",
              "       width=\"24px\">\n",
              "    <path d=\"M0 0h24v24H0V0z\" fill=\"none\"/>\n",
              "    <path d=\"M18.56 5.44l.94 2.06.94-2.06 2.06-.94-2.06-.94-.94-2.06-.94 2.06-2.06.94zm-11 1L8.5 8.5l.94-2.06 2.06-.94-2.06-.94L8.5 2.5l-.94 2.06-2.06.94zm10 10l.94 2.06.94-2.06 2.06-.94-2.06-.94-.94-2.06-.94 2.06-2.06.94z\"/><path d=\"M17.41 7.96l-1.37-1.37c-.4-.4-.92-.59-1.43-.59-.52 0-1.04.2-1.43.59L10.3 9.45l-7.72 7.72c-.78.78-.78 2.05 0 2.83L4 21.41c.39.39.9.59 1.41.59.51 0 1.02-.2 1.41-.59l7.78-7.78 2.81-2.81c.8-.78.8-2.07 0-2.86zM5.41 20L4 18.59l7.72-7.72 1.47 1.35L5.41 20z\"/>\n",
              "  </svg>\n",
              "      </button>\n",
              "      \n",
              "  <style>\n",
              "    .colab-df-container {\n",
              "      display:flex;\n",
              "      flex-wrap:wrap;\n",
              "      gap: 12px;\n",
              "    }\n",
              "\n",
              "    .colab-df-convert {\n",
              "      background-color: #E8F0FE;\n",
              "      border: none;\n",
              "      border-radius: 50%;\n",
              "      cursor: pointer;\n",
              "      display: none;\n",
              "      fill: #1967D2;\n",
              "      height: 32px;\n",
              "      padding: 0 0 0 0;\n",
              "      width: 32px;\n",
              "    }\n",
              "\n",
              "    .colab-df-convert:hover {\n",
              "      background-color: #E2EBFA;\n",
              "      box-shadow: 0px 1px 2px rgba(60, 64, 67, 0.3), 0px 1px 3px 1px rgba(60, 64, 67, 0.15);\n",
              "      fill: #174EA6;\n",
              "    }\n",
              "\n",
              "    [theme=dark] .colab-df-convert {\n",
              "      background-color: #3B4455;\n",
              "      fill: #D2E3FC;\n",
              "    }\n",
              "\n",
              "    [theme=dark] .colab-df-convert:hover {\n",
              "      background-color: #434B5C;\n",
              "      box-shadow: 0px 1px 3px 1px rgba(0, 0, 0, 0.15);\n",
              "      filter: drop-shadow(0px 1px 2px rgba(0, 0, 0, 0.3));\n",
              "      fill: #FFFFFF;\n",
              "    }\n",
              "  </style>\n",
              "\n",
              "      <script>\n",
              "        const buttonEl =\n",
              "          document.querySelector('#df-c999802f-e7aa-441b-a3ee-6f42ff3abdd3 button.colab-df-convert');\n",
              "        buttonEl.style.display =\n",
              "          google.colab.kernel.accessAllowed ? 'block' : 'none';\n",
              "\n",
              "        async function convertToInteractive(key) {\n",
              "          const element = document.querySelector('#df-c999802f-e7aa-441b-a3ee-6f42ff3abdd3');\n",
              "          const dataTable =\n",
              "            await google.colab.kernel.invokeFunction('convertToInteractive',\n",
              "                                                     [key], {});\n",
              "          if (!dataTable) return;\n",
              "\n",
              "          const docLinkHtml = 'Like what you see? Visit the ' +\n",
              "            '<a target=\"_blank\" href=https://colab.research.google.com/notebooks/data_table.ipynb>data table notebook</a>'\n",
              "            + ' to learn more about interactive tables.';\n",
              "          element.innerHTML = '';\n",
              "          dataTable['output_type'] = 'display_data';\n",
              "          await google.colab.output.renderOutput(dataTable, element);\n",
              "          const docLink = document.createElement('div');\n",
              "          docLink.innerHTML = docLinkHtml;\n",
              "          element.appendChild(docLink);\n",
              "        }\n",
              "      </script>\n",
              "    </div>\n",
              "  </div>\n",
              "  "
            ],
            "text/plain": [
              "      overcast     rainy     sunny  ...    normal     False      True\n",
              "play                                ...                              \n",
              "no    0.000000  0.400000  0.600000  ...  0.200000  0.400000  0.600000\n",
              "yes   0.444444  0.333333  0.222222  ...  0.666667  0.666667  0.333333\n",
              "\n",
              "[2 rows x 10 columns]"
            ]
          },
          "metadata": {},
          "execution_count": 148
        }
      ]
    },
    {
      "cell_type": "code",
      "metadata": {
        "id": "hvVBl8qF2iCP",
        "outputId": "0a1cc553-b886-425f-870b-e62353242c7e",
        "colab": {
          "base_uri": "https://localhost:8080/",
          "height": 143
        }
      },
      "source": [
        "Xprob = joined_tab / freqY.to_frame().values # to 프레임 해주면 셰입이 변경된다./ \n",
        "Xprob\n",
        "# 사칙연산 브로드캐스팅 준수 "
      ],
      "execution_count": null,
      "outputs": [
        {
          "output_type": "execute_result",
          "data": {
            "text/html": [
              "\n",
              "  <div id=\"df-bbf2cfe8-13ed-42e1-b463-0e64dba4d073\">\n",
              "    <div class=\"colab-df-container\">\n",
              "      <div>\n",
              "<style scoped>\n",
              "    .dataframe tbody tr th:only-of-type {\n",
              "        vertical-align: middle;\n",
              "    }\n",
              "\n",
              "    .dataframe tbody tr th {\n",
              "        vertical-align: top;\n",
              "    }\n",
              "\n",
              "    .dataframe thead th {\n",
              "        text-align: right;\n",
              "    }\n",
              "</style>\n",
              "<table border=\"1\" class=\"dataframe\">\n",
              "  <thead>\n",
              "    <tr style=\"text-align: right;\">\n",
              "      <th></th>\n",
              "      <th>overcast</th>\n",
              "      <th>rainy</th>\n",
              "      <th>sunny</th>\n",
              "      <th>cool</th>\n",
              "      <th>hot</th>\n",
              "      <th>mild</th>\n",
              "      <th>high</th>\n",
              "      <th>normal</th>\n",
              "      <th>False</th>\n",
              "      <th>True</th>\n",
              "    </tr>\n",
              "    <tr>\n",
              "      <th>play</th>\n",
              "      <th></th>\n",
              "      <th></th>\n",
              "      <th></th>\n",
              "      <th></th>\n",
              "      <th></th>\n",
              "      <th></th>\n",
              "      <th></th>\n",
              "      <th></th>\n",
              "      <th></th>\n",
              "      <th></th>\n",
              "    </tr>\n",
              "  </thead>\n",
              "  <tbody>\n",
              "    <tr>\n",
              "      <th>no</th>\n",
              "      <td>0.000000</td>\n",
              "      <td>0.400000</td>\n",
              "      <td>0.600000</td>\n",
              "      <td>0.200000</td>\n",
              "      <td>0.400000</td>\n",
              "      <td>0.400000</td>\n",
              "      <td>0.800000</td>\n",
              "      <td>0.200000</td>\n",
              "      <td>0.400000</td>\n",
              "      <td>0.600000</td>\n",
              "    </tr>\n",
              "    <tr>\n",
              "      <th>yes</th>\n",
              "      <td>0.444444</td>\n",
              "      <td>0.333333</td>\n",
              "      <td>0.222222</td>\n",
              "      <td>0.333333</td>\n",
              "      <td>0.222222</td>\n",
              "      <td>0.444444</td>\n",
              "      <td>0.333333</td>\n",
              "      <td>0.666667</td>\n",
              "      <td>0.666667</td>\n",
              "      <td>0.333333</td>\n",
              "    </tr>\n",
              "  </tbody>\n",
              "</table>\n",
              "</div>\n",
              "      <button class=\"colab-df-convert\" onclick=\"convertToInteractive('df-bbf2cfe8-13ed-42e1-b463-0e64dba4d073')\"\n",
              "              title=\"Convert this dataframe to an interactive table.\"\n",
              "              style=\"display:none;\">\n",
              "        \n",
              "  <svg xmlns=\"http://www.w3.org/2000/svg\" height=\"24px\"viewBox=\"0 0 24 24\"\n",
              "       width=\"24px\">\n",
              "    <path d=\"M0 0h24v24H0V0z\" fill=\"none\"/>\n",
              "    <path d=\"M18.56 5.44l.94 2.06.94-2.06 2.06-.94-2.06-.94-.94-2.06-.94 2.06-2.06.94zm-11 1L8.5 8.5l.94-2.06 2.06-.94-2.06-.94L8.5 2.5l-.94 2.06-2.06.94zm10 10l.94 2.06.94-2.06 2.06-.94-2.06-.94-.94-2.06-.94 2.06-2.06.94z\"/><path d=\"M17.41 7.96l-1.37-1.37c-.4-.4-.92-.59-1.43-.59-.52 0-1.04.2-1.43.59L10.3 9.45l-7.72 7.72c-.78.78-.78 2.05 0 2.83L4 21.41c.39.39.9.59 1.41.59.51 0 1.02-.2 1.41-.59l7.78-7.78 2.81-2.81c.8-.78.8-2.07 0-2.86zM5.41 20L4 18.59l7.72-7.72 1.47 1.35L5.41 20z\"/>\n",
              "  </svg>\n",
              "      </button>\n",
              "      \n",
              "  <style>\n",
              "    .colab-df-container {\n",
              "      display:flex;\n",
              "      flex-wrap:wrap;\n",
              "      gap: 12px;\n",
              "    }\n",
              "\n",
              "    .colab-df-convert {\n",
              "      background-color: #E8F0FE;\n",
              "      border: none;\n",
              "      border-radius: 50%;\n",
              "      cursor: pointer;\n",
              "      display: none;\n",
              "      fill: #1967D2;\n",
              "      height: 32px;\n",
              "      padding: 0 0 0 0;\n",
              "      width: 32px;\n",
              "    }\n",
              "\n",
              "    .colab-df-convert:hover {\n",
              "      background-color: #E2EBFA;\n",
              "      box-shadow: 0px 1px 2px rgba(60, 64, 67, 0.3), 0px 1px 3px 1px rgba(60, 64, 67, 0.15);\n",
              "      fill: #174EA6;\n",
              "    }\n",
              "\n",
              "    [theme=dark] .colab-df-convert {\n",
              "      background-color: #3B4455;\n",
              "      fill: #D2E3FC;\n",
              "    }\n",
              "\n",
              "    [theme=dark] .colab-df-convert:hover {\n",
              "      background-color: #434B5C;\n",
              "      box-shadow: 0px 1px 3px 1px rgba(0, 0, 0, 0.15);\n",
              "      filter: drop-shadow(0px 1px 2px rgba(0, 0, 0, 0.3));\n",
              "      fill: #FFFFFF;\n",
              "    }\n",
              "  </style>\n",
              "\n",
              "      <script>\n",
              "        const buttonEl =\n",
              "          document.querySelector('#df-bbf2cfe8-13ed-42e1-b463-0e64dba4d073 button.colab-df-convert');\n",
              "        buttonEl.style.display =\n",
              "          google.colab.kernel.accessAllowed ? 'block' : 'none';\n",
              "\n",
              "        async function convertToInteractive(key) {\n",
              "          const element = document.querySelector('#df-bbf2cfe8-13ed-42e1-b463-0e64dba4d073');\n",
              "          const dataTable =\n",
              "            await google.colab.kernel.invokeFunction('convertToInteractive',\n",
              "                                                     [key], {});\n",
              "          if (!dataTable) return;\n",
              "\n",
              "          const docLinkHtml = 'Like what you see? Visit the ' +\n",
              "            '<a target=\"_blank\" href=https://colab.research.google.com/notebooks/data_table.ipynb>data table notebook</a>'\n",
              "            + ' to learn more about interactive tables.';\n",
              "          element.innerHTML = '';\n",
              "          dataTable['output_type'] = 'display_data';\n",
              "          await google.colab.output.renderOutput(dataTable, element);\n",
              "          const docLink = document.createElement('div');\n",
              "          docLink.innerHTML = docLinkHtml;\n",
              "          element.appendChild(docLink);\n",
              "        }\n",
              "      </script>\n",
              "    </div>\n",
              "  </div>\n",
              "  "
            ],
            "text/plain": [
              "      overcast     rainy     sunny  ...    normal     False      True\n",
              "play                                ...                              \n",
              "no    0.000000  0.400000  0.600000  ...  0.200000  0.400000  0.600000\n",
              "yes   0.444444  0.333333  0.222222  ...  0.666667  0.666667  0.333333\n",
              "\n",
              "[2 rows x 10 columns]"
            ]
          },
          "metadata": {},
          "execution_count": 145
        }
      ]
    },
    {
      "cell_type": "code",
      "metadata": {
        "id": "bzAKXGcn2iCP",
        "outputId": "50c6a3aa-2d49-4ac2-f576-daba9ca0b9ce",
        "colab": {
          "base_uri": "https://localhost:8080/"
        }
      },
      "source": [
        "yprob = freqY / freqY.sum() # 프라이어 프라버블리티  \n",
        "yprob # 위아래 인덱스 차이점\n",
        "# 그룹바이를 통해서 구하면 인덱스를 알파벳순으로 정렬함."
      ],
      "execution_count": null,
      "outputs": [
        {
          "output_type": "execute_result",
          "data": {
            "text/plain": [
              "play\n",
              "no     0.357143\n",
              "yes    0.642857\n",
              "dtype: float64"
            ]
          },
          "metadata": {},
          "execution_count": 146
        }
      ]
    },
    {
      "cell_type": "code",
      "source": [
        "data.play.value_counts(normalize=True)\n",
        "# value_counts 는 빈도가 높은 순으로 정렬함 \n",
        "data.play.value_counts(normalize=True)[::-1] # 그래서 역으로 정렬을 해줘야함 \n",
        "# 비율은 프라버블리티 를 구하는 건데 이렇게 하면 된다. \n",
        "# 프라이어를 구한거임\n",
        "# 아규먼트맥스로 프리딕션 한다고했죠~"
      ],
      "metadata": {
        "colab": {
          "base_uri": "https://localhost:8080/"
        },
        "id": "qYAFvJvFq5Ah",
        "outputId": "154ab6af-a377-41bc-f0d6-a6388dd1c5dd"
      },
      "execution_count": null,
      "outputs": [
        {
          "output_type": "execute_result",
          "data": {
            "text/plain": [
              "no     0.357143\n",
              "yes    0.642857\n",
              "Name: play, dtype: float64"
            ]
          },
          "metadata": {},
          "execution_count": 151
        }
      ]
    },
    {
      "cell_type": "markdown",
      "metadata": {
        "id": "YY7VeYjx2iCP"
      },
      "source": [
        "우리가 구하려는 것은 날씨가 Sunny, Mild, High, True일 때, 골프를 칠꺼냐(Yes) 말꺼냐(No)이다. 따라서:\n",
        "- P(Sunny, Mild, High, True|Yes)과\n",
        "- P(Sunny, Mild, High, True|No) 비교해서,\n",
        "\n",
        "큰 값으로 선택하면 된다.\n",
        "\n",
        "위에서 언급 했듯이, 나이브 베이지안 분류기는 모든 변수들의 사건이 독립이라 가정하기 때문에, \n",
        "- P(Sunny, Mild, High, True|Yes)는\n",
        "- P(Sunny|Yes) × ...P(True|Yes)과 같다. \n",
        "\n",
        "위의 표를 가지고 직접 계산하여 보자. 먼저 아래와 같은 값을 먼저 계산한다.\n",
        "- Xprob = [$\\cdots, P(x_i|y), \\cdots$]\n",
        "- yprob = $P(y)$"
      ]
    },
    {
      "cell_type": "code",
      "metadata": {
        "id": "TRCyEV9N2iCP",
        "outputId": "4866f677-eaa9-4781-8c66-da50c733f37e",
        "colab": {
          "base_uri": "https://localhost:8080/"
        }
      },
      "source": [
        "Xprob.columns # 컬럼들 확인해주고 "
      ],
      "execution_count": null,
      "outputs": [
        {
          "output_type": "execute_result",
          "data": {
            "text/plain": [
              "Index(['overcast', 'rainy', 'sunny', 'cool', 'hot', 'mild', 'high', 'normal',\n",
              "       'False', 'True'],\n",
              "      dtype='object')"
            ]
          },
          "metadata": {},
          "execution_count": 153
        }
      ]
    },
    {
      "cell_type": "code",
      "metadata": {
        "id": "SDxVixWx2iCP",
        "outputId": "5dade4bd-d2ac-4086-a540-a705b6eae635",
        "colab": {
          "base_uri": "https://localhost:8080/",
          "height": 35
        }
      },
      "source": [
        "prob = yprob.copy() # 카피 디카피 \n",
        "for col in [\"sunny\", \"mild\", \"high\", \"True\"]:\n",
        "    prob *= Xprob[col].values\n",
        "    \n",
        "yprob.index[prob.argmax()] # 여기서 다 구해주는것  arg max를 통해서 많은 값을 구하고 \n",
        "                           # yporb로 인덱스를 해주면 no를 구할 수 있는것이다. "
      ],
      "execution_count": null,
      "outputs": [
        {
          "output_type": "execute_result",
          "data": {
            "application/vnd.google.colaboratory.intrinsic+json": {
              "type": "string"
            },
            "text/plain": [
              "'no'"
            ]
          },
          "metadata": {},
          "execution_count": 162
        }
      ]
    },
    {
      "cell_type": "code",
      "metadata": {
        "id": "a1EDHbAU2iCQ",
        "outputId": "67c84e9d-dc10-42ba-b7d2-5c848e8517ef",
        "colab": {
          "base_uri": "https://localhost:8080/"
        }
      },
      "source": [
        "prob # 여기서 프로버블리티 x로 나눠줘야하는데 아직안했고 이건 정확히 프로버블리티 스코어가 맞는말이다. "
      ],
      "execution_count": null,
      "outputs": [
        {
          "output_type": "execute_result",
          "data": {
            "text/plain": [
              "play\n",
              "no     0.041143\n",
              "yes    0.007055\n",
              "dtype: float64"
            ]
          },
          "metadata": {},
          "execution_count": 163
        }
      ]
    },
    {
      "cell_type": "code",
      "source": [
        "prob.argmax"
      ],
      "metadata": {
        "colab": {
          "base_uri": "https://localhost:8080/"
        },
        "id": "Xvyaj9fLsbLx",
        "outputId": "2995876b-0d8d-49a6-b30b-a81b04dd7de1"
      },
      "execution_count": null,
      "outputs": [
        {
          "output_type": "execute_result",
          "data": {
            "text/plain": [
              "<bound method IndexOpsMixin.argmax of play\n",
              "no     0.041143\n",
              "yes    0.007055\n",
              "dtype: float64>"
            ]
          },
          "metadata": {},
          "execution_count": 169
        }
      ]
    },
    {
      "cell_type": "code",
      "metadata": {
        "id": "4Y_zZye42iCQ",
        "outputId": "0e99021d-6057-4e08-e9a2-59b0f639dca7",
        "colab": {
          "base_uri": "https://localhost:8080/"
        }
      },
      "source": [
        "prob / prob.sum() # 진짜 확률을 구하고 싶으면 이걸해줘야한다. 프로버블리티 섬을하는이유 다시 리뷰해서 생가해보기 \n"
      ],
      "execution_count": null,
      "outputs": [
        {
          "output_type": "execute_result",
          "data": {
            "text/plain": [
              "play\n",
              "no     0.85363\n",
              "yes    0.14637\n",
              "dtype: float64"
            ]
          },
          "metadata": {},
          "execution_count": 156
        }
      ]
    },
    {
      "cell_type": "markdown",
      "metadata": {
        "id": "qGT3uAyM2iCQ"
      },
      "source": [
        "[Quiz] 위 Xprob과 yprob을 이용하여 logprob을 계산해보자."
      ]
    },
    {
      "cell_type": "code",
      "metadata": {
        "id": "4FVSc8hE2iCQ",
        "outputId": "70aa0a32-f7e0-4139-e6c9-2e8bf9476c03",
        "colab": {
          "base_uri": "https://localhost:8080/"
        }
      },
      "source": [
        "logprob = np.log(yprob) # 로그프로버블리티하는이유  로그 취하기 \n",
        "for col in [\"sunny\", \"mild\", \"high\", \"True\"]:  # 위랑 다른거없음 로그만 취한거임\n",
        "    logprob += np.log(Xprob[col].values)\n",
        "    \n",
        "print(yprob.index[logprob.argmax()])\n",
        "logprob # no값이 yes 값보다 큼 "
      ],
      "execution_count": null,
      "outputs": [
        {
          "output_type": "stream",
          "name": "stdout",
          "text": [
            "no\n"
          ]
        },
        {
          "output_type": "execute_result",
          "data": {
            "text/plain": [
              "play\n",
              "no    -3.190705\n",
              "yes   -4.954065\n",
              "dtype: float64"
            ]
          },
          "metadata": {},
          "execution_count": 170
        }
      ]
    },
    {
      "cell_type": "markdown",
      "metadata": {
        "id": "wxZTKy6X2iCQ"
      },
      "source": [
        "새로운 데이터 $\\mathbf X$에 대한 예측은 다음과 같이 수행한다:\n",
        "$$P(y = C_k \\mid \\mathbf X) \\;\\; \\propto \\;\\; \\prod_{i=1}^n P(x_{i} \\mid y = C_k)\\; P(y = C_k)$$\n",
        "\n",
        "sklearn은 아래와 같이 input의 특성에 따라 3가지의 NB 모델을 제공한다:\n",
        "\n",
        "| 구분 | Gaussian NB | Bernoulli NB | Multinormial NB |\n",
        "|:---:|:---:|:---:|:---:|\n",
        "| input $x_i$ | interval; continuous; float; integer | binarys (0 or 1) | multinormial (frequency) |\n",
        "| $P(x_i \\mid y = C_k)$ | $\\frac{1}{\\sqrt{2\\pi\\sigma^2_{k,i}}} \\exp \\left[ -\\frac{(x_i - \\mu_{k,i})^2}{2\\sigma^2_{k,i}} \\right]$ | $\\theta_{k,i}^{x_i} (1-\\theta_{k,i})^{(1-x_i)}$ | $\\theta_{k,i}^{x_i}$ |\n",
        "| $\\theta_{k,i}$ | . | $\\frac {n_{0,i} + \\alpha}{N_0 + 2\\alpha}$ | $\\frac{ N_{yi} + \\alpha}{N_y + n \\alpha}$ |\n",
        "| Sparsity Input | poor | very good | good |\n",
        "| High Dimension input | good | - | good |\n",
        "| Online Update | O, with partial_fit() | O, with partial_fit() | O, with partial_fit() |\n",
        "\n",
        "\n",
        "\n",
        "자연어 처리를 위해 online 학습을 하는 좋은 예제로는 [Out-of-core classification of text documents](http://scikit-learn.org/stable/auto_examples/applications/plot_out_of_core_classification.html#sphx-glr-auto-examples-applications-plot-out-of-core-classification-py)이 있다."
      ]
    },
    {
      "cell_type": "markdown",
      "metadata": {
        "id": "jDWoCMuD2iCQ"
      },
      "source": [
        "#### 1) 다항분포 나이브 베이즈\n",
        "입력 $\\mathbf X$가 multinomial Variable이고, i행 j열의 값 $x_{ij}$는 입력 $\\mathbf x_i$의 $j^{th}$ 범주의 빈도값에 해당하는 경우에 적용한다. \n",
        "\n",
        "MultinomialNB(alpha=1.0, fit_prior=True, class_prior=None):\n",
        "- alpha : float, optional (default=1.0). smoothing parameter\n",
        "- fit_prior : boolean, optional (default=True)\n",
        " - class prior probabilities를 학습할 지 여부를 결정한다.\n",
        " - False인 경우, uniform prior가 사용된다.\n",
        "- class_prior : array-like, size (n_classes,), optional (default=None)\n",
        " - 각 class의 Prior probabilities를 지정한다.\n",
        "\n",
        "속성:\n",
        "- `clases_`: array, shape(n_classes, ). y에 라벨링된 class의 값\n",
        "- `class_log_prior_` : array, shape (n_classes, )\n",
        " - 각 class에 대해 계산된 Smoothed log probability. $\\log{P(y)}$\n",
        "- `intercept_` : property. 선형 모델로 MultinomialNB을 해석하기 위한 `class_log_prior_`\n",
        "- `feature_log_prob_` : array, shape (n_classes, n_features).\n",
        " - class y에 대해 계산된 변수들의 log probability. $\\log P(x_i|y)$\n",
        "- `coef_` : property. 선형 모델로 MultinomialNB을 해석하기 위한 `feature_log_prob_`\n",
        "- `class_count_` : array, shape (n_classes,). 클래스별 빈도 수.\n",
        "- `feature_count_` : array, shape (n_classes, n_features). 클래스별 변수 출현 빈도 수."
      ]
    },
    {
      "cell_type": "code",
      "metadata": {
        "id": "3Ce7EfnX2iCR",
        "colab": {
          "base_uri": "https://localhost:8080/"
        },
        "outputId": "f0f4954d-d2d3-41ad-af01-4752f03e98f3"
      },
      "source": [
        "from sklearn.naive_bayes import MultinomialNB\n",
        "multinomial_model = MultinomialNB()\n",
        "multinomial_model"
      ],
      "execution_count": null,
      "outputs": [
        {
          "output_type": "execute_result",
          "data": {
            "text/plain": [
              "MultinomialNB()"
            ]
          },
          "metadata": {},
          "execution_count": 265
        }
      ]
    },
    {
      "cell_type": "code",
      "metadata": {
        "id": "-g2Lw5yR2iCR",
        "colab": {
          "base_uri": "https://localhost:8080/"
        },
        "outputId": "73f45287-0dee-4bd2-b901-bd28695babd9"
      },
      "source": [
        "data = data.apply(lambda s: s.astype('category'))\n",
        "data.dtypes # 변수들을 카테고리칼로 바꿈\n",
        "            # 변수들 카테고리칼 이용해서 변수 확인하기 "
      ],
      "execution_count": null,
      "outputs": [
        {
          "output_type": "execute_result",
          "data": {
            "text/plain": [
              "outlook        category\n",
              "temperature    category\n",
              "humidity       category\n",
              "windy          category\n",
              "play           category\n",
              "dtype: object"
            ]
          },
          "metadata": {},
          "execution_count": 264
        }
      ]
    },
    {
      "cell_type": "code",
      "source": [
        ""
      ],
      "metadata": {
        "id": "4cBOM6KFX_jr"
      },
      "execution_count": null,
      "outputs": []
    },
    {
      "cell_type": "code",
      "metadata": {
        "id": "VGv6rA3B2iCR",
        "colab": {
          "base_uri": "https://localhost:8080/"
        },
        "outputId": "60704d3e-a757-4073-cc8e-33f1182ef22d"
      },
      "source": [
        "try:\n",
        "    multinomial_model.fit(data.iloc[:,:-1], data.iloc[:,-1])\n",
        "except Exception as e:\n",
        "    print(e)"
      ],
      "execution_count": null,
      "outputs": [
        {
          "output_type": "stream",
          "name": "stdout",
          "text": [
            "Unable to convert array of bytes/strings into decimal numbers with dtype='numeric'\n"
          ]
        },
        {
          "output_type": "stream",
          "name": "stderr",
          "text": [
            "/usr/local/lib/python3.7/dist-packages/sklearn/utils/validation.py:968: FutureWarning: Arrays of bytes/strings is being converted to decimal numbers if dtype='numeric'. This behavior is deprecated in 0.24 and will be removed in 1.1 (renaming of 0.26). Please convert your data to numeric values explicitly instead.\n",
            "  estimator=estimator,\n"
          ]
        }
      ]
    },
    {
      "cell_type": "markdown",
      "metadata": {
        "id": "o0uqlO9d2iCR"
      },
      "source": [
        "아래와 같이 one-hot encoding없이 category 데이터로 작업할 경우, 잘 못된 결과를 발생시킨다."
      ]
    },
    {
      "cell_type": "code",
      "source": [
        ""
      ],
      "metadata": {
        "colab": {
          "base_uri": "https://localhost:8080/",
          "height": 206
        },
        "id": "p3qeElH3YReK",
        "outputId": "31275ef9-f828-4fc2-a3cb-ac6f363895f0"
      },
      "execution_count": null,
      "outputs": [
        {
          "output_type": "execute_result",
          "data": {
            "text/html": [
              "\n",
              "  <div id=\"df-3a118f58-b967-4768-8edf-8758ad90e56c\">\n",
              "    <div class=\"colab-df-container\">\n",
              "      <div>\n",
              "<style scoped>\n",
              "    .dataframe tbody tr th:only-of-type {\n",
              "        vertical-align: middle;\n",
              "    }\n",
              "\n",
              "    .dataframe tbody tr th {\n",
              "        vertical-align: top;\n",
              "    }\n",
              "\n",
              "    .dataframe thead th {\n",
              "        text-align: right;\n",
              "    }\n",
              "</style>\n",
              "<table border=\"1\" class=\"dataframe\">\n",
              "  <thead>\n",
              "    <tr style=\"text-align: right;\">\n",
              "      <th></th>\n",
              "      <th>outlook</th>\n",
              "      <th>temperature</th>\n",
              "      <th>humidity</th>\n",
              "      <th>windy</th>\n",
              "      <th>play</th>\n",
              "    </tr>\n",
              "  </thead>\n",
              "  <tbody>\n",
              "    <tr>\n",
              "      <th>0</th>\n",
              "      <td>0</td>\n",
              "      <td>1</td>\n",
              "      <td>0</td>\n",
              "      <td>0</td>\n",
              "      <td>yes</td>\n",
              "    </tr>\n",
              "    <tr>\n",
              "      <th>1</th>\n",
              "      <td>0</td>\n",
              "      <td>0</td>\n",
              "      <td>1</td>\n",
              "      <td>1</td>\n",
              "      <td>yes</td>\n",
              "    </tr>\n",
              "    <tr>\n",
              "      <th>2</th>\n",
              "      <td>0</td>\n",
              "      <td>2</td>\n",
              "      <td>0</td>\n",
              "      <td>1</td>\n",
              "      <td>yes</td>\n",
              "    </tr>\n",
              "    <tr>\n",
              "      <th>3</th>\n",
              "      <td>0</td>\n",
              "      <td>1</td>\n",
              "      <td>1</td>\n",
              "      <td>0</td>\n",
              "      <td>yes</td>\n",
              "    </tr>\n",
              "    <tr>\n",
              "      <th>4</th>\n",
              "      <td>1</td>\n",
              "      <td>2</td>\n",
              "      <td>0</td>\n",
              "      <td>0</td>\n",
              "      <td>yes</td>\n",
              "    </tr>\n",
              "  </tbody>\n",
              "</table>\n",
              "</div>\n",
              "      <button class=\"colab-df-convert\" onclick=\"convertToInteractive('df-3a118f58-b967-4768-8edf-8758ad90e56c')\"\n",
              "              title=\"Convert this dataframe to an interactive table.\"\n",
              "              style=\"display:none;\">\n",
              "        \n",
              "  <svg xmlns=\"http://www.w3.org/2000/svg\" height=\"24px\"viewBox=\"0 0 24 24\"\n",
              "       width=\"24px\">\n",
              "    <path d=\"M0 0h24v24H0V0z\" fill=\"none\"/>\n",
              "    <path d=\"M18.56 5.44l.94 2.06.94-2.06 2.06-.94-2.06-.94-.94-2.06-.94 2.06-2.06.94zm-11 1L8.5 8.5l.94-2.06 2.06-.94-2.06-.94L8.5 2.5l-.94 2.06-2.06.94zm10 10l.94 2.06.94-2.06 2.06-.94-2.06-.94-.94-2.06-.94 2.06-2.06.94z\"/><path d=\"M17.41 7.96l-1.37-1.37c-.4-.4-.92-.59-1.43-.59-.52 0-1.04.2-1.43.59L10.3 9.45l-7.72 7.72c-.78.78-.78 2.05 0 2.83L4 21.41c.39.39.9.59 1.41.59.51 0 1.02-.2 1.41-.59l7.78-7.78 2.81-2.81c.8-.78.8-2.07 0-2.86zM5.41 20L4 18.59l7.72-7.72 1.47 1.35L5.41 20z\"/>\n",
              "  </svg>\n",
              "      </button>\n",
              "      \n",
              "  <style>\n",
              "    .colab-df-container {\n",
              "      display:flex;\n",
              "      flex-wrap:wrap;\n",
              "      gap: 12px;\n",
              "    }\n",
              "\n",
              "    .colab-df-convert {\n",
              "      background-color: #E8F0FE;\n",
              "      border: none;\n",
              "      border-radius: 50%;\n",
              "      cursor: pointer;\n",
              "      display: none;\n",
              "      fill: #1967D2;\n",
              "      height: 32px;\n",
              "      padding: 0 0 0 0;\n",
              "      width: 32px;\n",
              "    }\n",
              "\n",
              "    .colab-df-convert:hover {\n",
              "      background-color: #E2EBFA;\n",
              "      box-shadow: 0px 1px 2px rgba(60, 64, 67, 0.3), 0px 1px 3px 1px rgba(60, 64, 67, 0.15);\n",
              "      fill: #174EA6;\n",
              "    }\n",
              "\n",
              "    [theme=dark] .colab-df-convert {\n",
              "      background-color: #3B4455;\n",
              "      fill: #D2E3FC;\n",
              "    }\n",
              "\n",
              "    [theme=dark] .colab-df-convert:hover {\n",
              "      background-color: #434B5C;\n",
              "      box-shadow: 0px 1px 3px 1px rgba(0, 0, 0, 0.15);\n",
              "      filter: drop-shadow(0px 1px 2px rgba(0, 0, 0, 0.3));\n",
              "      fill: #FFFFFF;\n",
              "    }\n",
              "  </style>\n",
              "\n",
              "      <script>\n",
              "        const buttonEl =\n",
              "          document.querySelector('#df-3a118f58-b967-4768-8edf-8758ad90e56c button.colab-df-convert');\n",
              "        buttonEl.style.display =\n",
              "          google.colab.kernel.accessAllowed ? 'block' : 'none';\n",
              "\n",
              "        async function convertToInteractive(key) {\n",
              "          const element = document.querySelector('#df-3a118f58-b967-4768-8edf-8758ad90e56c');\n",
              "          const dataTable =\n",
              "            await google.colab.kernel.invokeFunction('convertToInteractive',\n",
              "                                                     [key], {});\n",
              "          if (!dataTable) return;\n",
              "\n",
              "          const docLinkHtml = 'Like what you see? Visit the ' +\n",
              "            '<a target=\"_blank\" href=https://colab.research.google.com/notebooks/data_table.ipynb>data table notebook</a>'\n",
              "            + ' to learn more about interactive tables.';\n",
              "          element.innerHTML = '';\n",
              "          dataTable['output_type'] = 'display_data';\n",
              "          await google.colab.output.renderOutput(dataTable, element);\n",
              "          const docLink = document.createElement('div');\n",
              "          docLink.innerHTML = docLinkHtml;\n",
              "          element.appendChild(docLink);\n",
              "        }\n",
              "      </script>\n",
              "    </div>\n",
              "  </div>\n",
              "  "
            ],
            "text/plain": [
              "  outlook temperature humidity windy play\n",
              "0       0           1        0     0  yes\n",
              "1       0           0        1     1  yes\n",
              "2       0           2        0     1  yes\n",
              "3       0           1        1     0  yes\n",
              "4       1           2        0     0  yes"
            ]
          },
          "metadata": {},
          "execution_count": 268
        }
      ]
    },
    {
      "cell_type": "code",
      "metadata": {
        "id": "QprJkJZz2iCR",
        "colab": {
          "base_uri": "https://localhost:8080/",
          "height": 206
        },
        "outputId": "74a64e63-e253-434f-8dd2-8ca01174f412"
      },
      "source": [
        "## 데이터들을 원핫 인코딩 시켜줘야한다. \n",
        "#data.head() # 우리가 카테고리화 했기 때문에  데이터의 쉐입원의 플레이를 돌면서 룩업테이블을 만들었는데 데이터 각변수별로 유니크한걸 뽑은거임\n",
        "# 그러면 j 와 p가 나옴  key, value 를 쌍으로 나오게 해서 인덱스화 시키고 각 데이터를 인덱스 화 시킨것\\\n",
        "# 범주형을 전부다 숫자로 바꿈\n",
        "# 다 숫자로 인식해버림 \n",
        "# true Fales가 아니라 다 숫자 로 인식해버림 \n",
        "# 이걸 바꿔 줘야함\n",
        "\n",
        "for i in range(data.shape[1]-1):\n",
        "    lookup = {}\n",
        "    for j, k in enumerate(np.unique(data.iloc[:,i])):\n",
        "        lookup[k] = j\n",
        "    data.iloc[:, i] = data.iloc[:, i].map(lookup)\n",
        "    \n",
        "data.head()"
      ],
      "execution_count": null,
      "outputs": [
        {
          "output_type": "execute_result",
          "data": {
            "text/html": [
              "\n",
              "  <div id=\"df-2857810f-4772-4cb6-8497-58d7211f640f\">\n",
              "    <div class=\"colab-df-container\">\n",
              "      <div>\n",
              "<style scoped>\n",
              "    .dataframe tbody tr th:only-of-type {\n",
              "        vertical-align: middle;\n",
              "    }\n",
              "\n",
              "    .dataframe tbody tr th {\n",
              "        vertical-align: top;\n",
              "    }\n",
              "\n",
              "    .dataframe thead th {\n",
              "        text-align: right;\n",
              "    }\n",
              "</style>\n",
              "<table border=\"1\" class=\"dataframe\">\n",
              "  <thead>\n",
              "    <tr style=\"text-align: right;\">\n",
              "      <th></th>\n",
              "      <th>outlook</th>\n",
              "      <th>temperature</th>\n",
              "      <th>humidity</th>\n",
              "      <th>windy</th>\n",
              "      <th>play</th>\n",
              "    </tr>\n",
              "  </thead>\n",
              "  <tbody>\n",
              "    <tr>\n",
              "      <th>0</th>\n",
              "      <td>0</td>\n",
              "      <td>1</td>\n",
              "      <td>0</td>\n",
              "      <td>0</td>\n",
              "      <td>yes</td>\n",
              "    </tr>\n",
              "    <tr>\n",
              "      <th>1</th>\n",
              "      <td>0</td>\n",
              "      <td>0</td>\n",
              "      <td>1</td>\n",
              "      <td>1</td>\n",
              "      <td>yes</td>\n",
              "    </tr>\n",
              "    <tr>\n",
              "      <th>2</th>\n",
              "      <td>0</td>\n",
              "      <td>2</td>\n",
              "      <td>0</td>\n",
              "      <td>1</td>\n",
              "      <td>yes</td>\n",
              "    </tr>\n",
              "    <tr>\n",
              "      <th>3</th>\n",
              "      <td>0</td>\n",
              "      <td>1</td>\n",
              "      <td>1</td>\n",
              "      <td>0</td>\n",
              "      <td>yes</td>\n",
              "    </tr>\n",
              "    <tr>\n",
              "      <th>4</th>\n",
              "      <td>1</td>\n",
              "      <td>2</td>\n",
              "      <td>0</td>\n",
              "      <td>0</td>\n",
              "      <td>yes</td>\n",
              "    </tr>\n",
              "  </tbody>\n",
              "</table>\n",
              "</div>\n",
              "      <button class=\"colab-df-convert\" onclick=\"convertToInteractive('df-2857810f-4772-4cb6-8497-58d7211f640f')\"\n",
              "              title=\"Convert this dataframe to an interactive table.\"\n",
              "              style=\"display:none;\">\n",
              "        \n",
              "  <svg xmlns=\"http://www.w3.org/2000/svg\" height=\"24px\"viewBox=\"0 0 24 24\"\n",
              "       width=\"24px\">\n",
              "    <path d=\"M0 0h24v24H0V0z\" fill=\"none\"/>\n",
              "    <path d=\"M18.56 5.44l.94 2.06.94-2.06 2.06-.94-2.06-.94-.94-2.06-.94 2.06-2.06.94zm-11 1L8.5 8.5l.94-2.06 2.06-.94-2.06-.94L8.5 2.5l-.94 2.06-2.06.94zm10 10l.94 2.06.94-2.06 2.06-.94-2.06-.94-.94-2.06-.94 2.06-2.06.94z\"/><path d=\"M17.41 7.96l-1.37-1.37c-.4-.4-.92-.59-1.43-.59-.52 0-1.04.2-1.43.59L10.3 9.45l-7.72 7.72c-.78.78-.78 2.05 0 2.83L4 21.41c.39.39.9.59 1.41.59.51 0 1.02-.2 1.41-.59l7.78-7.78 2.81-2.81c.8-.78.8-2.07 0-2.86zM5.41 20L4 18.59l7.72-7.72 1.47 1.35L5.41 20z\"/>\n",
              "  </svg>\n",
              "      </button>\n",
              "      \n",
              "  <style>\n",
              "    .colab-df-container {\n",
              "      display:flex;\n",
              "      flex-wrap:wrap;\n",
              "      gap: 12px;\n",
              "    }\n",
              "\n",
              "    .colab-df-convert {\n",
              "      background-color: #E8F0FE;\n",
              "      border: none;\n",
              "      border-radius: 50%;\n",
              "      cursor: pointer;\n",
              "      display: none;\n",
              "      fill: #1967D2;\n",
              "      height: 32px;\n",
              "      padding: 0 0 0 0;\n",
              "      width: 32px;\n",
              "    }\n",
              "\n",
              "    .colab-df-convert:hover {\n",
              "      background-color: #E2EBFA;\n",
              "      box-shadow: 0px 1px 2px rgba(60, 64, 67, 0.3), 0px 1px 3px 1px rgba(60, 64, 67, 0.15);\n",
              "      fill: #174EA6;\n",
              "    }\n",
              "\n",
              "    [theme=dark] .colab-df-convert {\n",
              "      background-color: #3B4455;\n",
              "      fill: #D2E3FC;\n",
              "    }\n",
              "\n",
              "    [theme=dark] .colab-df-convert:hover {\n",
              "      background-color: #434B5C;\n",
              "      box-shadow: 0px 1px 3px 1px rgba(0, 0, 0, 0.15);\n",
              "      filter: drop-shadow(0px 1px 2px rgba(0, 0, 0, 0.3));\n",
              "      fill: #FFFFFF;\n",
              "    }\n",
              "  </style>\n",
              "\n",
              "      <script>\n",
              "        const buttonEl =\n",
              "          document.querySelector('#df-2857810f-4772-4cb6-8497-58d7211f640f button.colab-df-convert');\n",
              "        buttonEl.style.display =\n",
              "          google.colab.kernel.accessAllowed ? 'block' : 'none';\n",
              "\n",
              "        async function convertToInteractive(key) {\n",
              "          const element = document.querySelector('#df-2857810f-4772-4cb6-8497-58d7211f640f');\n",
              "          const dataTable =\n",
              "            await google.colab.kernel.invokeFunction('convertToInteractive',\n",
              "                                                     [key], {});\n",
              "          if (!dataTable) return;\n",
              "\n",
              "          const docLinkHtml = 'Like what you see? Visit the ' +\n",
              "            '<a target=\"_blank\" href=https://colab.research.google.com/notebooks/data_table.ipynb>data table notebook</a>'\n",
              "            + ' to learn more about interactive tables.';\n",
              "          element.innerHTML = '';\n",
              "          dataTable['output_type'] = 'display_data';\n",
              "          await google.colab.output.renderOutput(dataTable, element);\n",
              "          const docLink = document.createElement('div');\n",
              "          docLink.innerHTML = docLinkHtml;\n",
              "          element.appendChild(docLink);\n",
              "        }\n",
              "      </script>\n",
              "    </div>\n",
              "  </div>\n",
              "  "
            ],
            "text/plain": [
              "  outlook temperature humidity windy play\n",
              "0       0           1        0     0  yes\n",
              "1       0           0        1     1  yes\n",
              "2       0           2        0     1  yes\n",
              "3       0           1        1     0  yes\n",
              "4       1           2        0     0  yes"
            ]
          },
          "metadata": {},
          "execution_count": 270
        }
      ]
    },
    {
      "cell_type": "markdown",
      "metadata": {
        "id": "eA1RIW6U2iCR"
      },
      "source": [
        "다항모델은 다음과 같이 잘 못 해석한다:\n",
        "- outlook이 0번, 온도가 1번, 습도가 0번, 바람이 0번 출현할 때 play가 yes다\n",
        "- outlook이 0번, 온도가 0번, 습도가 1번, 바람이 1번 출현할 때 play가 yes다\n",
        "- ..."
      ]
    },
    {
      "cell_type": "code",
      "metadata": {
        "id": "N-Do3SLG2iCS",
        "colab": {
          "base_uri": "https://localhost:8080/"
        },
        "outputId": "356f1b62-0199-47e5-ce3d-3f439890c294"
      },
      "source": [
        "multinomial_model.fit(data.iloc[:,:-1], data.iloc[:,-1])"
      ],
      "execution_count": null,
      "outputs": [
        {
          "output_type": "execute_result",
          "data": {
            "text/plain": [
              "MultinomialNB()"
            ]
          },
          "metadata": {},
          "execution_count": 271
        }
      ]
    },
    {
      "cell_type": "markdown",
      "metadata": {
        "id": "m1puONs62iCS"
      },
      "source": [
        "우리가 관심있는 Outlook = Sunny, Temperature = Mild,Humidity = High, Windy = True 일때의 y 값을 알아보자."
      ]
    },
    {
      "cell_type": "code",
      "metadata": {
        "id": "tpoTznvE2iCS",
        "colab": {
          "base_uri": "https://localhost:8080/"
        },
        "outputId": "9a0d4606-8a28-410d-ec68-9343eadad2af"
      },
      "source": [
        "multinomial_model.predict([[2,2,0,1]])"
      ],
      "execution_count": null,
      "outputs": [
        {
          "output_type": "stream",
          "name": "stderr",
          "text": [
            "/usr/local/lib/python3.7/dist-packages/sklearn/base.py:446: UserWarning: X does not have valid feature names, but MultinomialNB was fitted with feature names\n",
            "  \"X does not have valid feature names, but\"\n"
          ]
        },
        {
          "output_type": "execute_result",
          "data": {
            "text/plain": [
              "array(['no'], dtype='<U3')"
            ]
          },
          "metadata": {},
          "execution_count": 272
        }
      ]
    },
    {
      "cell_type": "code",
      "metadata": {
        "id": "w8B1CAFE2iCS",
        "colab": {
          "base_uri": "https://localhost:8080/"
        },
        "outputId": "bcffd286-6a60-4dfe-b598-d4a77488a370"
      },
      "source": [
        "multinomial_model.predict_proba([[2,2,0,1]]) # 프레딕 프로바 다시보기 "
      ],
      "execution_count": null,
      "outputs": [
        {
          "output_type": "stream",
          "name": "stderr",
          "text": [
            "/usr/local/lib/python3.7/dist-packages/sklearn/base.py:446: UserWarning: X does not have valid feature names, but MultinomialNB was fitted with feature names\n",
            "  \"X does not have valid feature names, but\"\n"
          ]
        },
        {
          "output_type": "execute_result",
          "data": {
            "text/plain": [
              "array([[0.57311795, 0.42688205]])"
            ]
          },
          "metadata": {},
          "execution_count": 273
        }
      ]
    },
    {
      "cell_type": "code",
      "source": [
        "multinomial_model.classes_ # no . 0.5 yes 0.5  수기로 계산한것과 값이 다름 "
      ],
      "metadata": {
        "colab": {
          "base_uri": "https://localhost:8080/"
        },
        "id": "hh_0lhF9ZJ0b",
        "outputId": "d0a7f322-d04a-4460-c061-44cbe801df11"
      },
      "execution_count": null,
      "outputs": [
        {
          "output_type": "execute_result",
          "data": {
            "text/plain": [
              "array(['no', 'yes'], dtype='<U3')"
            ]
          },
          "metadata": {},
          "execution_count": 274
        }
      ]
    },
    {
      "cell_type": "markdown",
      "metadata": {
        "id": "UwMxOhK22iCS"
      },
      "source": [
        "아래는 우리가 수기로 계산한 값이다."
      ]
    },
    {
      "cell_type": "code",
      "metadata": {
        "id": "QEZgmmpi2iCS",
        "outputId": "0700d761-364a-4717-d7c3-40f958209425",
        "colab": {
          "base_uri": "https://localhost:8080/"
        }
      },
      "source": [
        "prob / prob.sum() # 0.5 0.5 가아님 \n",
        "# 제대로 할려면 파일을 읽어서 "
      ],
      "execution_count": null,
      "outputs": [
        {
          "output_type": "execute_result",
          "data": {
            "text/plain": [
              "play\n",
              "no     0.85363\n",
              "yes    0.14637\n",
              "dtype: float64"
            ]
          },
          "metadata": {},
          "execution_count": 275
        }
      ]
    },
    {
      "cell_type": "markdown",
      "metadata": {
        "id": "mU8LlSmd2iCS"
      },
      "source": [
        "값이 달리 나왔다. 이유가 무엇일까?"
      ]
    },
    {
      "cell_type": "code",
      "metadata": {
        "id": "qJrwCs7l2iCT",
        "outputId": "f39853d0-2cab-495d-a335-d2bcf362e600",
        "colab": {
          "base_uri": "https://localhost:8080/"
        }
      },
      "source": [
        "data = pd.read_csv('weather.nominal.csv')\n",
        "names = pd.Series(data.columns.values)\n",
        "names = names.str.strip() # 이전에 했던작업\n",
        "data.columns = names\n",
        "data = data.apply(lambda s: s.astype('category')) # 시리즈 들을 전부다 카테고리화 시켜주기\n",
        "data.dtypes # 플레이만 빼고 나머지는 겟더미로 원핫 인코딩"
      ],
      "execution_count": null,
      "outputs": [
        {
          "output_type": "execute_result",
          "data": {
            "text/plain": [
              "outlook        category\n",
              "temperature    category\n",
              "humidity       category\n",
              "windy          category\n",
              "play           category\n",
              "dtype: object"
            ]
          },
          "metadata": {},
          "execution_count": 277
        }
      ]
    },
    {
      "cell_type": "code",
      "metadata": {
        "id": "uX-Y_-4N2iCT",
        "outputId": "f5d33104-90cc-4dc1-83f9-dd3777c71b3a",
        "colab": {
          "base_uri": "https://localhost:8080/"
        }
      },
      "source": [
        "data = pd.get_dummies(data, columns=data.columns[:-1])# 플레이만 빼고 나머지는 겟더미로 원핫 인코딩 시킨것 \n",
        "data.dtypes"
      ],
      "execution_count": null,
      "outputs": [
        {
          "output_type": "execute_result",
          "data": {
            "text/plain": [
              "play                category\n",
              "outlook_overcast       uint8\n",
              "outlook_rainy          uint8\n",
              "outlook_sunny          uint8\n",
              "temperature_cool       uint8\n",
              "temperature_hot        uint8\n",
              "temperature_mild       uint8\n",
              "humidity_high          uint8\n",
              "humidity_normal        uint8\n",
              "windy_False            uint8\n",
              "windy_True             uint8\n",
              "dtype: object"
            ]
          },
          "metadata": {},
          "execution_count": 278
        }
      ]
    },
    {
      "cell_type": "markdown",
      "source": [
        ""
      ],
      "metadata": {
        "id": "ISfyQuJmbUto"
      }
    },
    {
      "cell_type": "code",
      "metadata": {
        "id": "m-w34V2F2iCT",
        "outputId": "0143ae8e-cf85-4dc2-ce92-a95ae2337d36",
        "colab": {
          "base_uri": "https://localhost:8080/",
          "height": 270
        }
      },
      "source": [
        "data.head()"
      ],
      "execution_count": null,
      "outputs": [
        {
          "output_type": "execute_result",
          "data": {
            "text/html": [
              "\n",
              "  <div id=\"df-7bf3b36b-c0ae-4be2-8433-ce6eacc1a084\">\n",
              "    <div class=\"colab-df-container\">\n",
              "      <div>\n",
              "<style scoped>\n",
              "    .dataframe tbody tr th:only-of-type {\n",
              "        vertical-align: middle;\n",
              "    }\n",
              "\n",
              "    .dataframe tbody tr th {\n",
              "        vertical-align: top;\n",
              "    }\n",
              "\n",
              "    .dataframe thead th {\n",
              "        text-align: right;\n",
              "    }\n",
              "</style>\n",
              "<table border=\"1\" class=\"dataframe\">\n",
              "  <thead>\n",
              "    <tr style=\"text-align: right;\">\n",
              "      <th></th>\n",
              "      <th>play</th>\n",
              "      <th>outlook_overcast</th>\n",
              "      <th>outlook_rainy</th>\n",
              "      <th>outlook_sunny</th>\n",
              "      <th>temperature_cool</th>\n",
              "      <th>temperature_hot</th>\n",
              "      <th>temperature_mild</th>\n",
              "      <th>humidity_high</th>\n",
              "      <th>humidity_normal</th>\n",
              "      <th>windy_False</th>\n",
              "      <th>windy_True</th>\n",
              "    </tr>\n",
              "  </thead>\n",
              "  <tbody>\n",
              "    <tr>\n",
              "      <th>0</th>\n",
              "      <td>yes</td>\n",
              "      <td>1</td>\n",
              "      <td>0</td>\n",
              "      <td>0</td>\n",
              "      <td>0</td>\n",
              "      <td>1</td>\n",
              "      <td>0</td>\n",
              "      <td>1</td>\n",
              "      <td>0</td>\n",
              "      <td>1</td>\n",
              "      <td>0</td>\n",
              "    </tr>\n",
              "    <tr>\n",
              "      <th>1</th>\n",
              "      <td>yes</td>\n",
              "      <td>1</td>\n",
              "      <td>0</td>\n",
              "      <td>0</td>\n",
              "      <td>1</td>\n",
              "      <td>0</td>\n",
              "      <td>0</td>\n",
              "      <td>0</td>\n",
              "      <td>1</td>\n",
              "      <td>0</td>\n",
              "      <td>1</td>\n",
              "    </tr>\n",
              "    <tr>\n",
              "      <th>2</th>\n",
              "      <td>yes</td>\n",
              "      <td>1</td>\n",
              "      <td>0</td>\n",
              "      <td>0</td>\n",
              "      <td>0</td>\n",
              "      <td>0</td>\n",
              "      <td>1</td>\n",
              "      <td>1</td>\n",
              "      <td>0</td>\n",
              "      <td>0</td>\n",
              "      <td>1</td>\n",
              "    </tr>\n",
              "    <tr>\n",
              "      <th>3</th>\n",
              "      <td>yes</td>\n",
              "      <td>1</td>\n",
              "      <td>0</td>\n",
              "      <td>0</td>\n",
              "      <td>0</td>\n",
              "      <td>1</td>\n",
              "      <td>0</td>\n",
              "      <td>0</td>\n",
              "      <td>1</td>\n",
              "      <td>1</td>\n",
              "      <td>0</td>\n",
              "    </tr>\n",
              "    <tr>\n",
              "      <th>4</th>\n",
              "      <td>yes</td>\n",
              "      <td>0</td>\n",
              "      <td>1</td>\n",
              "      <td>0</td>\n",
              "      <td>0</td>\n",
              "      <td>0</td>\n",
              "      <td>1</td>\n",
              "      <td>1</td>\n",
              "      <td>0</td>\n",
              "      <td>1</td>\n",
              "      <td>0</td>\n",
              "    </tr>\n",
              "  </tbody>\n",
              "</table>\n",
              "</div>\n",
              "      <button class=\"colab-df-convert\" onclick=\"convertToInteractive('df-7bf3b36b-c0ae-4be2-8433-ce6eacc1a084')\"\n",
              "              title=\"Convert this dataframe to an interactive table.\"\n",
              "              style=\"display:none;\">\n",
              "        \n",
              "  <svg xmlns=\"http://www.w3.org/2000/svg\" height=\"24px\"viewBox=\"0 0 24 24\"\n",
              "       width=\"24px\">\n",
              "    <path d=\"M0 0h24v24H0V0z\" fill=\"none\"/>\n",
              "    <path d=\"M18.56 5.44l.94 2.06.94-2.06 2.06-.94-2.06-.94-.94-2.06-.94 2.06-2.06.94zm-11 1L8.5 8.5l.94-2.06 2.06-.94-2.06-.94L8.5 2.5l-.94 2.06-2.06.94zm10 10l.94 2.06.94-2.06 2.06-.94-2.06-.94-.94-2.06-.94 2.06-2.06.94z\"/><path d=\"M17.41 7.96l-1.37-1.37c-.4-.4-.92-.59-1.43-.59-.52 0-1.04.2-1.43.59L10.3 9.45l-7.72 7.72c-.78.78-.78 2.05 0 2.83L4 21.41c.39.39.9.59 1.41.59.51 0 1.02-.2 1.41-.59l7.78-7.78 2.81-2.81c.8-.78.8-2.07 0-2.86zM5.41 20L4 18.59l7.72-7.72 1.47 1.35L5.41 20z\"/>\n",
              "  </svg>\n",
              "      </button>\n",
              "      \n",
              "  <style>\n",
              "    .colab-df-container {\n",
              "      display:flex;\n",
              "      flex-wrap:wrap;\n",
              "      gap: 12px;\n",
              "    }\n",
              "\n",
              "    .colab-df-convert {\n",
              "      background-color: #E8F0FE;\n",
              "      border: none;\n",
              "      border-radius: 50%;\n",
              "      cursor: pointer;\n",
              "      display: none;\n",
              "      fill: #1967D2;\n",
              "      height: 32px;\n",
              "      padding: 0 0 0 0;\n",
              "      width: 32px;\n",
              "    }\n",
              "\n",
              "    .colab-df-convert:hover {\n",
              "      background-color: #E2EBFA;\n",
              "      box-shadow: 0px 1px 2px rgba(60, 64, 67, 0.3), 0px 1px 3px 1px rgba(60, 64, 67, 0.15);\n",
              "      fill: #174EA6;\n",
              "    }\n",
              "\n",
              "    [theme=dark] .colab-df-convert {\n",
              "      background-color: #3B4455;\n",
              "      fill: #D2E3FC;\n",
              "    }\n",
              "\n",
              "    [theme=dark] .colab-df-convert:hover {\n",
              "      background-color: #434B5C;\n",
              "      box-shadow: 0px 1px 3px 1px rgba(0, 0, 0, 0.15);\n",
              "      filter: drop-shadow(0px 1px 2px rgba(0, 0, 0, 0.3));\n",
              "      fill: #FFFFFF;\n",
              "    }\n",
              "  </style>\n",
              "\n",
              "      <script>\n",
              "        const buttonEl =\n",
              "          document.querySelector('#df-7bf3b36b-c0ae-4be2-8433-ce6eacc1a084 button.colab-df-convert');\n",
              "        buttonEl.style.display =\n",
              "          google.colab.kernel.accessAllowed ? 'block' : 'none';\n",
              "\n",
              "        async function convertToInteractive(key) {\n",
              "          const element = document.querySelector('#df-7bf3b36b-c0ae-4be2-8433-ce6eacc1a084');\n",
              "          const dataTable =\n",
              "            await google.colab.kernel.invokeFunction('convertToInteractive',\n",
              "                                                     [key], {});\n",
              "          if (!dataTable) return;\n",
              "\n",
              "          const docLinkHtml = 'Like what you see? Visit the ' +\n",
              "            '<a target=\"_blank\" href=https://colab.research.google.com/notebooks/data_table.ipynb>data table notebook</a>'\n",
              "            + ' to learn more about interactive tables.';\n",
              "          element.innerHTML = '';\n",
              "          dataTable['output_type'] = 'display_data';\n",
              "          await google.colab.output.renderOutput(dataTable, element);\n",
              "          const docLink = document.createElement('div');\n",
              "          docLink.innerHTML = docLinkHtml;\n",
              "          element.appendChild(docLink);\n",
              "        }\n",
              "      </script>\n",
              "    </div>\n",
              "  </div>\n",
              "  "
            ],
            "text/plain": [
              "  play  outlook_overcast  ...  windy_False  windy_True\n",
              "0  yes                 1  ...            1           0\n",
              "1  yes                 1  ...            0           1\n",
              "2  yes                 1  ...            0           1\n",
              "3  yes                 1  ...            1           0\n",
              "4  yes                 0  ...            1           0\n",
              "\n",
              "[5 rows x 11 columns]"
            ]
          },
          "metadata": {},
          "execution_count": 279
        }
      ]
    },
    {
      "cell_type": "code",
      "metadata": {
        "id": "Obotx30T2iCT",
        "outputId": "835f1c21-810e-43e3-b876-10287c58ebc9",
        "colab": {
          "base_uri": "https://localhost:8080/"
        }
      },
      "source": [
        "multinomial_model2 = MultinomialNB(alpha=2) # 튜닝 파라메타 그리드 서치 cv 사용 가능할듯 베스트 팔람스랑 \n",
        "                                            # 여러가지 사용 가능 할 것이라 생각 됨 \n",
        "multinomial_model2.fit(data.iloc[:,1:], data.iloc[:,0])\n",
        "multinomial_model2.predict_proba([[0,0,1, 0,0,1, 1,0, 0,1]])"
      ],
      "execution_count": null,
      "outputs": [
        {
          "output_type": "stream",
          "name": "stderr",
          "text": [
            "/usr/local/lib/python3.7/dist-packages/sklearn/base.py:446: UserWarning: X does not have valid feature names, but MultinomialNB was fitted with feature names\n",
            "  \"X does not have valid feature names, but\"\n"
          ]
        },
        {
          "output_type": "execute_result",
          "data": {
            "text/plain": [
              "array([[0.68094158, 0.31905842]])"
            ]
          },
          "metadata": {},
          "execution_count": 291
        }
      ]
    },
    {
      "cell_type": "code",
      "metadata": {
        "id": "j7z_7Lxn2iCT",
        "outputId": "f55f9aac-9353-41f4-8edb-cc4dbdde69e7",
        "colab": {
          "base_uri": "https://localhost:8080/"
        }
      },
      "source": [
        "np.exp(multinomial_model.intercept_) # 기울기 "
      ],
      "execution_count": null,
      "outputs": [
        {
          "output_type": "stream",
          "name": "stderr",
          "text": [
            "/usr/local/lib/python3.7/dist-packages/sklearn/utils/deprecation.py:103: FutureWarning: Attribute `intercept_` was deprecated in version 0.24 and will be removed in 1.1 (renaming of 0.26).\n",
            "  warnings.warn(msg, category=FutureWarning)\n"
          ]
        },
        {
          "output_type": "execute_result",
          "data": {
            "text/plain": [
              "array([0.64285714])"
            ]
          },
          "metadata": {},
          "execution_count": 284
        }
      ]
    },
    {
      "cell_type": "code",
      "metadata": {
        "id": "FI2gK50Z2iCT",
        "outputId": "8a446a29-5f2d-441c-84d1-c1db4773178f",
        "colab": {
          "base_uri": "https://localhost:8080/"
        }
      },
      "source": [
        "np.exp(multinomial_model.class_log_prior_) # 사전값 "
      ],
      "execution_count": null,
      "outputs": [
        {
          "output_type": "execute_result",
          "data": {
            "text/plain": [
              "array([0.35714286, 0.64285714])"
            ]
          },
          "metadata": {},
          "execution_count": 285
        }
      ]
    },
    {
      "cell_type": "markdown",
      "source": [
        "[quiz] 데이터를 빈도표 형식으로 작성하여 학습해보자 . 이미 작성했잖아 "
      ],
      "metadata": {
        "id": "lld4Rml_Z01w"
      }
    },
    {
      "cell_type": "code",
      "source": [
        "data.head()\n",
        "\n",
        "# outlook_overcast가 한번 발쌩  temp 이 한번 발쌩 "
      ],
      "metadata": {
        "colab": {
          "base_uri": "https://localhost:8080/",
          "height": 270
        },
        "id": "wjYlClrGZ6fh",
        "outputId": "bc30e8c0-6024-4b41-9708-077949135fbd"
      },
      "execution_count": null,
      "outputs": [
        {
          "output_type": "execute_result",
          "data": {
            "text/html": [
              "\n",
              "  <div id=\"df-b95abebb-9a63-4af4-857b-220de5a96563\">\n",
              "    <div class=\"colab-df-container\">\n",
              "      <div>\n",
              "<style scoped>\n",
              "    .dataframe tbody tr th:only-of-type {\n",
              "        vertical-align: middle;\n",
              "    }\n",
              "\n",
              "    .dataframe tbody tr th {\n",
              "        vertical-align: top;\n",
              "    }\n",
              "\n",
              "    .dataframe thead th {\n",
              "        text-align: right;\n",
              "    }\n",
              "</style>\n",
              "<table border=\"1\" class=\"dataframe\">\n",
              "  <thead>\n",
              "    <tr style=\"text-align: right;\">\n",
              "      <th></th>\n",
              "      <th>play</th>\n",
              "      <th>outlook_overcast</th>\n",
              "      <th>outlook_rainy</th>\n",
              "      <th>outlook_sunny</th>\n",
              "      <th>temperature_cool</th>\n",
              "      <th>temperature_hot</th>\n",
              "      <th>temperature_mild</th>\n",
              "      <th>humidity_high</th>\n",
              "      <th>humidity_normal</th>\n",
              "      <th>windy_False</th>\n",
              "      <th>windy_True</th>\n",
              "    </tr>\n",
              "  </thead>\n",
              "  <tbody>\n",
              "    <tr>\n",
              "      <th>0</th>\n",
              "      <td>yes</td>\n",
              "      <td>1</td>\n",
              "      <td>0</td>\n",
              "      <td>0</td>\n",
              "      <td>0</td>\n",
              "      <td>1</td>\n",
              "      <td>0</td>\n",
              "      <td>1</td>\n",
              "      <td>0</td>\n",
              "      <td>1</td>\n",
              "      <td>0</td>\n",
              "    </tr>\n",
              "    <tr>\n",
              "      <th>1</th>\n",
              "      <td>yes</td>\n",
              "      <td>1</td>\n",
              "      <td>0</td>\n",
              "      <td>0</td>\n",
              "      <td>1</td>\n",
              "      <td>0</td>\n",
              "      <td>0</td>\n",
              "      <td>0</td>\n",
              "      <td>1</td>\n",
              "      <td>0</td>\n",
              "      <td>1</td>\n",
              "    </tr>\n",
              "    <tr>\n",
              "      <th>2</th>\n",
              "      <td>yes</td>\n",
              "      <td>1</td>\n",
              "      <td>0</td>\n",
              "      <td>0</td>\n",
              "      <td>0</td>\n",
              "      <td>0</td>\n",
              "      <td>1</td>\n",
              "      <td>1</td>\n",
              "      <td>0</td>\n",
              "      <td>0</td>\n",
              "      <td>1</td>\n",
              "    </tr>\n",
              "    <tr>\n",
              "      <th>3</th>\n",
              "      <td>yes</td>\n",
              "      <td>1</td>\n",
              "      <td>0</td>\n",
              "      <td>0</td>\n",
              "      <td>0</td>\n",
              "      <td>1</td>\n",
              "      <td>0</td>\n",
              "      <td>0</td>\n",
              "      <td>1</td>\n",
              "      <td>1</td>\n",
              "      <td>0</td>\n",
              "    </tr>\n",
              "    <tr>\n",
              "      <th>4</th>\n",
              "      <td>yes</td>\n",
              "      <td>0</td>\n",
              "      <td>1</td>\n",
              "      <td>0</td>\n",
              "      <td>0</td>\n",
              "      <td>0</td>\n",
              "      <td>1</td>\n",
              "      <td>1</td>\n",
              "      <td>0</td>\n",
              "      <td>1</td>\n",
              "      <td>0</td>\n",
              "    </tr>\n",
              "  </tbody>\n",
              "</table>\n",
              "</div>\n",
              "      <button class=\"colab-df-convert\" onclick=\"convertToInteractive('df-b95abebb-9a63-4af4-857b-220de5a96563')\"\n",
              "              title=\"Convert this dataframe to an interactive table.\"\n",
              "              style=\"display:none;\">\n",
              "        \n",
              "  <svg xmlns=\"http://www.w3.org/2000/svg\" height=\"24px\"viewBox=\"0 0 24 24\"\n",
              "       width=\"24px\">\n",
              "    <path d=\"M0 0h24v24H0V0z\" fill=\"none\"/>\n",
              "    <path d=\"M18.56 5.44l.94 2.06.94-2.06 2.06-.94-2.06-.94-.94-2.06-.94 2.06-2.06.94zm-11 1L8.5 8.5l.94-2.06 2.06-.94-2.06-.94L8.5 2.5l-.94 2.06-2.06.94zm10 10l.94 2.06.94-2.06 2.06-.94-2.06-.94-.94-2.06-.94 2.06-2.06.94z\"/><path d=\"M17.41 7.96l-1.37-1.37c-.4-.4-.92-.59-1.43-.59-.52 0-1.04.2-1.43.59L10.3 9.45l-7.72 7.72c-.78.78-.78 2.05 0 2.83L4 21.41c.39.39.9.59 1.41.59.51 0 1.02-.2 1.41-.59l7.78-7.78 2.81-2.81c.8-.78.8-2.07 0-2.86zM5.41 20L4 18.59l7.72-7.72 1.47 1.35L5.41 20z\"/>\n",
              "  </svg>\n",
              "      </button>\n",
              "      \n",
              "  <style>\n",
              "    .colab-df-container {\n",
              "      display:flex;\n",
              "      flex-wrap:wrap;\n",
              "      gap: 12px;\n",
              "    }\n",
              "\n",
              "    .colab-df-convert {\n",
              "      background-color: #E8F0FE;\n",
              "      border: none;\n",
              "      border-radius: 50%;\n",
              "      cursor: pointer;\n",
              "      display: none;\n",
              "      fill: #1967D2;\n",
              "      height: 32px;\n",
              "      padding: 0 0 0 0;\n",
              "      width: 32px;\n",
              "    }\n",
              "\n",
              "    .colab-df-convert:hover {\n",
              "      background-color: #E2EBFA;\n",
              "      box-shadow: 0px 1px 2px rgba(60, 64, 67, 0.3), 0px 1px 3px 1px rgba(60, 64, 67, 0.15);\n",
              "      fill: #174EA6;\n",
              "    }\n",
              "\n",
              "    [theme=dark] .colab-df-convert {\n",
              "      background-color: #3B4455;\n",
              "      fill: #D2E3FC;\n",
              "    }\n",
              "\n",
              "    [theme=dark] .colab-df-convert:hover {\n",
              "      background-color: #434B5C;\n",
              "      box-shadow: 0px 1px 3px 1px rgba(0, 0, 0, 0.15);\n",
              "      filter: drop-shadow(0px 1px 2px rgba(0, 0, 0, 0.3));\n",
              "      fill: #FFFFFF;\n",
              "    }\n",
              "  </style>\n",
              "\n",
              "      <script>\n",
              "        const buttonEl =\n",
              "          document.querySelector('#df-b95abebb-9a63-4af4-857b-220de5a96563 button.colab-df-convert');\n",
              "        buttonEl.style.display =\n",
              "          google.colab.kernel.accessAllowed ? 'block' : 'none';\n",
              "\n",
              "        async function convertToInteractive(key) {\n",
              "          const element = document.querySelector('#df-b95abebb-9a63-4af4-857b-220de5a96563');\n",
              "          const dataTable =\n",
              "            await google.colab.kernel.invokeFunction('convertToInteractive',\n",
              "                                                     [key], {});\n",
              "          if (!dataTable) return;\n",
              "\n",
              "          const docLinkHtml = 'Like what you see? Visit the ' +\n",
              "            '<a target=\"_blank\" href=https://colab.research.google.com/notebooks/data_table.ipynb>data table notebook</a>'\n",
              "            + ' to learn more about interactive tables.';\n",
              "          element.innerHTML = '';\n",
              "          dataTable['output_type'] = 'display_data';\n",
              "          await google.colab.output.renderOutput(dataTable, element);\n",
              "          const docLink = document.createElement('div');\n",
              "          docLink.innerHTML = docLinkHtml;\n",
              "          element.appendChild(docLink);\n",
              "        }\n",
              "      </script>\n",
              "    </div>\n",
              "  </div>\n",
              "  "
            ],
            "text/plain": [
              "  play  outlook_overcast  ...  windy_False  windy_True\n",
              "0  yes                 1  ...            1           0\n",
              "1  yes                 1  ...            0           1\n",
              "2  yes                 1  ...            0           1\n",
              "3  yes                 1  ...            1           0\n",
              "4  yes                 0  ...            1           0\n",
              "\n",
              "[5 rows x 11 columns]"
            ]
          },
          "metadata": {},
          "execution_count": 286
        }
      ]
    },
    {
      "cell_type": "code",
      "source": [
        "# 빈도표현식 ?으로 바꿔서 하면 "
      ],
      "metadata": {
        "id": "qrUrR0cpZtJ7"
      },
      "execution_count": null,
      "outputs": []
    },
    {
      "cell_type": "markdown",
      "metadata": {
        "id": "8Jcp9E1p2iCU"
      },
      "source": [
        "#### 2) 가우시안 나이브 베이즈\n",
        "GaussianNB는 Gaussian Naive Bayes 분류 알고리즘을 구현하였다. 이 알고리즘에서 targt y가 주어졌을 때의 변수 x의 likelihood는 다음과 같이 Gaussian이라고 가정한다:\n",
        "\n",
        "$$P(x_i \\mid y) = \\frac{1}{\\sqrt{2\\pi\\sigma^2_{x|y}}} \\exp\\left(-\\frac{(x_i - \\mu_{x|y})^2}{2\\sigma^2_{x|y}}\\right)$$\n",
        "\n",
        "- 연속형 변수에 대한 target class y를 예측한다.\n",
        "- 이때, 파마미터 $\\sigma_{x|y}$, $\\mu_{x|y}$는 학습데이터에 의한 최대 우도를 통해 추정한다.\n",
        "\n",
        "sklearn.naive_bayes.GaussianNB(priors=None):\n",
        "- partial_fit 메소드를 이용하여 온라인 업데이트를 제공한다.\n",
        "- priors : array-like, shape (n_classes,)\n",
        "\n",
        "속성:\n",
        "- class\\_prior\\_ : array, shape (n_classes,). 각 class의 확률\n",
        "- class\\_count\\_ : array, shape (n_classes,). 각 class별 확습데이터의 수\n",
        "- theta\\_ : array, shape (n_classes, n_features). class별 변수들의 평균 값. $\\mu_{y,i}$\n",
        "- sigma\\_ : array, shape (n_classes, n_features). class별 변수들의 분산 값. $\\sigma_{y,i}^2$"
      ]
    },
    {
      "cell_type": "code",
      "metadata": {
        "id": "reILcI8n2iCU",
        "outputId": "79fb92fb-a56c-4e19-b02e-1d18f2b80f82"
      },
      "source": [
        "from sklearn.datasets import load_iris\n",
        "iris = load_iris()\n",
        "df = pd.DataFrame(iris.data, columns=iris.feature_names)\n",
        "df['Species'] = iris.target\n",
        "df.head()"
      ],
      "execution_count": null,
      "outputs": [
        {
          "data": {
            "text/html": [
              "<div>\n",
              "<style scoped>\n",
              "    .dataframe tbody tr th:only-of-type {\n",
              "        vertical-align: middle;\n",
              "    }\n",
              "\n",
              "    .dataframe tbody tr th {\n",
              "        vertical-align: top;\n",
              "    }\n",
              "\n",
              "    .dataframe thead th {\n",
              "        text-align: right;\n",
              "    }\n",
              "</style>\n",
              "<table border=\"1\" class=\"dataframe\">\n",
              "  <thead>\n",
              "    <tr style=\"text-align: right;\">\n",
              "      <th></th>\n",
              "      <th>sepal length (cm)</th>\n",
              "      <th>sepal width (cm)</th>\n",
              "      <th>petal length (cm)</th>\n",
              "      <th>petal width (cm)</th>\n",
              "      <th>Species</th>\n",
              "    </tr>\n",
              "  </thead>\n",
              "  <tbody>\n",
              "    <tr>\n",
              "      <th>0</th>\n",
              "      <td>5.1</td>\n",
              "      <td>3.5</td>\n",
              "      <td>1.4</td>\n",
              "      <td>0.2</td>\n",
              "      <td>0</td>\n",
              "    </tr>\n",
              "    <tr>\n",
              "      <th>1</th>\n",
              "      <td>4.9</td>\n",
              "      <td>3.0</td>\n",
              "      <td>1.4</td>\n",
              "      <td>0.2</td>\n",
              "      <td>0</td>\n",
              "    </tr>\n",
              "    <tr>\n",
              "      <th>2</th>\n",
              "      <td>4.7</td>\n",
              "      <td>3.2</td>\n",
              "      <td>1.3</td>\n",
              "      <td>0.2</td>\n",
              "      <td>0</td>\n",
              "    </tr>\n",
              "    <tr>\n",
              "      <th>3</th>\n",
              "      <td>4.6</td>\n",
              "      <td>3.1</td>\n",
              "      <td>1.5</td>\n",
              "      <td>0.2</td>\n",
              "      <td>0</td>\n",
              "    </tr>\n",
              "    <tr>\n",
              "      <th>4</th>\n",
              "      <td>5.0</td>\n",
              "      <td>3.6</td>\n",
              "      <td>1.4</td>\n",
              "      <td>0.2</td>\n",
              "      <td>0</td>\n",
              "    </tr>\n",
              "  </tbody>\n",
              "</table>\n",
              "</div>"
            ],
            "text/plain": [
              "   sepal length (cm)  sepal width (cm)  petal length (cm)  petal width (cm)  \\\n",
              "0                5.1               3.5                1.4               0.2   \n",
              "1                4.9               3.0                1.4               0.2   \n",
              "2                4.7               3.2                1.3               0.2   \n",
              "3                4.6               3.1                1.5               0.2   \n",
              "4                5.0               3.6                1.4               0.2   \n",
              "\n",
              "   Species  \n",
              "0        0  \n",
              "1        0  \n",
              "2        0  \n",
              "3        0  \n",
              "4        0  "
            ]
          },
          "execution_count": 116,
          "metadata": {},
          "output_type": "execute_result"
        }
      ]
    },
    {
      "cell_type": "markdown",
      "metadata": {
        "id": "E10PZ-CK2iCU"
      },
      "source": [
        "선형 분류기가 아니며, y의 범주에 따라 X의 분포가 달라질 것이라는 가정이 있으므로, scaler가 필요하지 않다."
      ]
    },
    {
      "cell_type": "code",
      "metadata": {
        "id": "Q-CSmBhc2iCU"
      },
      "source": [
        "from sklearn.model_selection import train_test_split\n",
        "\n",
        "X_train, X_test, y_train, y_test = train_test_split(df.iloc[:, :4],\n",
        "                                                   df.iloc[:, 4],\n",
        "                                                   test_size = 0.33,\n",
        "                                                   stratify = df.Species,\n",
        "                                                   random_state = 234)\n",
        "from sklearn.naive_bayes import GaussianNB\n",
        "gaussian_model = GaussianNB().fit(X_train, y_train)"
      ],
      "execution_count": null,
      "outputs": []
    },
    {
      "cell_type": "code",
      "metadata": {
        "scrolled": false,
        "id": "hT4wVWtE2iCU",
        "outputId": "d606f96e-99e8-4f4f-9979-57c62e277876"
      },
      "source": [
        "from sklearn.metrics import classification_report, confusion_matrix\n",
        "pred = gaussian_model.predict(X_test)\n",
        "print(classification_report(y_test, pred))\n",
        "print(confusion_matrix(y_test, pred))"
      ],
      "execution_count": null,
      "outputs": [
        {
          "name": "stdout",
          "output_type": "stream",
          "text": [
            "              precision    recall  f1-score   support\n",
            "\n",
            "           0       1.00      1.00      1.00        17\n",
            "           1       0.94      0.88      0.91        17\n",
            "           2       0.88      0.94      0.91        16\n",
            "\n",
            "    accuracy                           0.94        50\n",
            "   macro avg       0.94      0.94      0.94        50\n",
            "weighted avg       0.94      0.94      0.94        50\n",
            "\n",
            "[[17  0  0]\n",
            " [ 0 15  2]\n",
            " [ 0  1 15]]\n"
          ]
        }
      ]
    },
    {
      "cell_type": "code",
      "metadata": {
        "id": "boTwFEiL2iCU",
        "outputId": "72bc258d-4995-4ef1-e35e-63124da6b45d"
      },
      "source": [
        "def rateMean(v1, v2):\n",
        "    return 2 / (1/v1 + 1/v2)\n",
        "rateMean(.94, .88)"
      ],
      "execution_count": null,
      "outputs": [
        {
          "data": {
            "text/plain": [
              "0.9090109890109889"
            ]
          },
          "execution_count": 119,
          "metadata": {},
          "output_type": "execute_result"
        }
      ]
    },
    {
      "cell_type": "code",
      "metadata": {
        "id": "2F3G1kOA2iCU",
        "outputId": "4a55b7e4-6ed9-4f8f-969c-754b8c630654"
      },
      "source": [
        "gaussian_model.sigma_ # devide by n"
      ],
      "execution_count": null,
      "outputs": [
        {
          "data": {
            "text/plain": [
              "array([[0.13682278, 0.11603306, 0.04110193, 0.01280074],\n",
              "       [0.1800551 , 0.09682278, 0.20844812, 0.03941231],\n",
              "       [0.33481834, 0.10297578, 0.26616782, 0.07810554]])"
            ]
          },
          "execution_count": 120,
          "metadata": {},
          "output_type": "execute_result"
        }
      ]
    },
    {
      "cell_type": "code",
      "metadata": {
        "id": "f5Q1VZ3M2iCV",
        "outputId": "0dced339-e995-4b3d-8b5e-368937e6d329"
      },
      "source": [
        "gaussian_model.theta_"
      ],
      "execution_count": null,
      "outputs": [
        {
          "data": {
            "text/plain": [
              "array([[4.98787879, 3.41818182, 1.46363636, 0.24848485],\n",
              "       [5.84545455, 2.78787879, 4.20606061, 1.32424242],\n",
              "       [6.55588235, 2.97647059, 5.50294118, 2.02058824]])"
            ]
          },
          "execution_count": 121,
          "metadata": {},
          "output_type": "execute_result"
        }
      ]
    },
    {
      "cell_type": "code",
      "metadata": {
        "id": "iva8s5Iv2iCV",
        "outputId": "25f94d88-2597-4b18-833a-643f68734e1c"
      },
      "source": [
        "X_train.groupby(y_train).agg(['mean', 'var']) # devide by n-1"
      ],
      "execution_count": null,
      "outputs": [
        {
          "data": {
            "text/html": [
              "<div>\n",
              "<style scoped>\n",
              "    .dataframe tbody tr th:only-of-type {\n",
              "        vertical-align: middle;\n",
              "    }\n",
              "\n",
              "    .dataframe tbody tr th {\n",
              "        vertical-align: top;\n",
              "    }\n",
              "\n",
              "    .dataframe thead tr th {\n",
              "        text-align: left;\n",
              "    }\n",
              "\n",
              "    .dataframe thead tr:last-of-type th {\n",
              "        text-align: right;\n",
              "    }\n",
              "</style>\n",
              "<table border=\"1\" class=\"dataframe\">\n",
              "  <thead>\n",
              "    <tr>\n",
              "      <th></th>\n",
              "      <th colspan=\"2\" halign=\"left\">sepal length (cm)</th>\n",
              "      <th colspan=\"2\" halign=\"left\">sepal width (cm)</th>\n",
              "      <th colspan=\"2\" halign=\"left\">petal length (cm)</th>\n",
              "      <th colspan=\"2\" halign=\"left\">petal width (cm)</th>\n",
              "    </tr>\n",
              "    <tr>\n",
              "      <th></th>\n",
              "      <th>mean</th>\n",
              "      <th>var</th>\n",
              "      <th>mean</th>\n",
              "      <th>var</th>\n",
              "      <th>mean</th>\n",
              "      <th>var</th>\n",
              "      <th>mean</th>\n",
              "      <th>var</th>\n",
              "    </tr>\n",
              "    <tr>\n",
              "      <th>Species</th>\n",
              "      <th></th>\n",
              "      <th></th>\n",
              "      <th></th>\n",
              "      <th></th>\n",
              "      <th></th>\n",
              "      <th></th>\n",
              "      <th></th>\n",
              "      <th></th>\n",
              "    </tr>\n",
              "  </thead>\n",
              "  <tbody>\n",
              "    <tr>\n",
              "      <th>0</th>\n",
              "      <td>4.987879</td>\n",
              "      <td>0.141098</td>\n",
              "      <td>3.418182</td>\n",
              "      <td>0.119659</td>\n",
              "      <td>1.463636</td>\n",
              "      <td>0.042386</td>\n",
              "      <td>0.248485</td>\n",
              "      <td>0.013201</td>\n",
              "    </tr>\n",
              "    <tr>\n",
              "      <th>1</th>\n",
              "      <td>5.845455</td>\n",
              "      <td>0.185682</td>\n",
              "      <td>2.787879</td>\n",
              "      <td>0.099848</td>\n",
              "      <td>4.206061</td>\n",
              "      <td>0.214962</td>\n",
              "      <td>1.324242</td>\n",
              "      <td>0.040644</td>\n",
              "    </tr>\n",
              "    <tr>\n",
              "      <th>2</th>\n",
              "      <td>6.555882</td>\n",
              "      <td>0.344964</td>\n",
              "      <td>2.976471</td>\n",
              "      <td>0.106096</td>\n",
              "      <td>5.502941</td>\n",
              "      <td>0.274234</td>\n",
              "      <td>2.020588</td>\n",
              "      <td>0.080472</td>\n",
              "    </tr>\n",
              "  </tbody>\n",
              "</table>\n",
              "</div>"
            ],
            "text/plain": [
              "        sepal length (cm)           sepal width (cm)            \\\n",
              "                     mean       var             mean       var   \n",
              "Species                                                          \n",
              "0                4.987879  0.141098         3.418182  0.119659   \n",
              "1                5.845455  0.185682         2.787879  0.099848   \n",
              "2                6.555882  0.344964         2.976471  0.106096   \n",
              "\n",
              "        petal length (cm)           petal width (cm)            \n",
              "                     mean       var             mean       var  \n",
              "Species                                                         \n",
              "0                1.463636  0.042386         0.248485  0.013201  \n",
              "1                4.206061  0.214962         1.324242  0.040644  \n",
              "2                5.502941  0.274234         2.020588  0.080472  "
            ]
          },
          "execution_count": 122,
          "metadata": {},
          "output_type": "execute_result"
        }
      ]
    },
    {
      "cell_type": "markdown",
      "metadata": {
        "id": "38So2dbH2iCV"
      },
      "source": [
        "### 2.4.5 SVM\n",
        "결정 경계선을 hyperplane이라 부르고, 결정 경계선과 가장 가까운 벡터를 SV(Support Vector)라 부른다. 이때, 경계선과 SV간의 거리를 마진이라하고, 이 <U>마진을 최대화하는 hyperplane을 찾는 것이 바로 SVM이 하는 일이다.</U>\n",
        "\n",
        "이 마진을 최대화하는 hyperplane을 찾는 것은 SV만 결정되면 결정 경계선은 바로 찾아진다.\n",
        "![](https://ichi.pro/assets/images/max/724/1*NIyB9TnNuW0PTB3GxvtvJQ.jpeg)\n",
        "\n",
        "마진은 $\\cfrac 2 {|w|}$ 이기 때문에 우리는 |w|을 최소화하는 방법으로 결정 경계선 $x \\cdot w + b = 0$을 구한다.\n",
        "\n",
        "그런데 많은 경우 우리는 직선으로 데이터를 완벽히 분리하지 못하는 문제를 맞닦드리고, 이때 제대로 분리하지 못하는 데이터를 slack이라 부르는데, \"slack을 얼마나 허용할 것인가\" 가 중요한 하이퍼파라미터(C)이다. \n",
        "\n",
        "이때, loss함수는 다음과 같이 기술된다.\n",
        "$$Loss(w) = \\cfrac 1 2 |w|^2 + C*\\sum_i \\xi_i $$\n",
        "- $\\xi$ : slack 벡터의 결정 경계선과의 거리\n",
        "- C : slack에 대한 loss의 가중치\n",
        "- C가 커지면 slack을 줄이도록 하므로, 마진이 줄고, |w|가 커진다."
      ]
    },
    {
      "cell_type": "code",
      "metadata": {
        "id": "Mxe1NTjT2iCV",
        "outputId": "6d4ae5d6-113b-4a34-c393-84b9ff6f7afe"
      },
      "source": [
        "import numpy as np\n",
        "from sklearn import svm\n",
        "\n",
        "X = np.array([[0, 0], [1, 1]])\n",
        "y = [0, 1]\n",
        "\n",
        "lsvm = svm.LinearSVC(C=1)\n",
        "lsvm.fit(X, y)"
      ],
      "execution_count": null,
      "outputs": [
        {
          "data": {
            "text/plain": [
              "LinearSVC(C=1)"
            ]
          },
          "execution_count": 69,
          "metadata": {},
          "output_type": "execute_result"
        }
      ]
    },
    {
      "cell_type": "code",
      "metadata": {
        "id": "7LVDQgnw2iCV",
        "outputId": "a61647eb-fff2-4bc7-aa1b-083112a85622"
      },
      "source": [
        "lsvm.predict([[2,2]])"
      ],
      "execution_count": null,
      "outputs": [
        {
          "data": {
            "text/plain": [
              "array([1])"
            ]
          },
          "execution_count": 70,
          "metadata": {},
          "output_type": "execute_result"
        }
      ]
    },
    {
      "cell_type": "code",
      "metadata": {
        "id": "6nwdv3wP2iCV",
        "outputId": "90e1f31d-c1c3-4081-f5bb-b516b3bc20b9"
      },
      "source": [
        "lsvm.predict([[-1,1]])"
      ],
      "execution_count": null,
      "outputs": [
        {
          "data": {
            "text/plain": [
              "array([0])"
            ]
          },
          "execution_count": 71,
          "metadata": {},
          "output_type": "execute_result"
        }
      ]
    },
    {
      "cell_type": "markdown",
      "metadata": {
        "id": "L6m0j0HQ2iCW"
      },
      "source": [
        "- coef.shape = (n_classes, n_features) : W\n",
        "- intercept.shape = (n_classes) : b"
      ]
    },
    {
      "cell_type": "code",
      "metadata": {
        "id": "CEcNx7Xo2iCW",
        "outputId": "09f0c24b-f870-4c57-e1c6-89b8a96421e1"
      },
      "source": [
        "print(lsvm.coef_)\n",
        "print(lsvm.intercept_)"
      ],
      "execution_count": null,
      "outputs": [
        {
          "name": "stdout",
          "output_type": "stream",
          "text": [
            "[[0.58822994 0.58822994]]\n",
            "[-0.47059002]\n"
          ]
        }
      ]
    },
    {
      "cell_type": "markdown",
      "metadata": {
        "id": "ucYRg7SD2iCW"
      },
      "source": [
        "[Quiz] 결정경계면을 시각화해보자."
      ]
    },
    {
      "cell_type": "code",
      "metadata": {
        "id": "l_8MMfZZ2iCW",
        "outputId": "bcd98ee2-a0ff-466c-eebd-112af5fe646b"
      },
      "source": [
        "x1 = np.linspace(0, 1, 100)\n",
        "x2 = -x1 - (lsvm.intercept_[0] / lsvm.coef_[0,1])\n",
        "\n",
        "fig, ax = plt.subplots(figsize=(5,5))\n",
        "ax.plot(x1, x2)\n",
        "ax.scatter([0, 1], [0, 1])\n",
        "ax.set_aspect('equal')"
      ],
      "execution_count": null,
      "outputs": [
        {
          "data": {
            "image/png": "[encoded data removed]",
            "text/plain": [
              "<Figure size 360x360 with 1 Axes>"
            ]
          },
          "metadata": {
            "needs_background": "light"
          },
          "output_type": "display_data"
        }
      ]
    },
    {
      "cell_type": "markdown",
      "metadata": {
        "id": "XVnxIpOa2iCW"
      },
      "source": [
        "[Quiz] 마진$(Margin(X) = \\cfrac 1 {|w|} )$은 얼마나 될까?"
      ]
    },
    {
      "cell_type": "code",
      "metadata": {
        "id": "Mcs8LUc92iCW",
        "outputId": "c9b36460-6a01-4561-f7bf-186d837c18f9"
      },
      "source": [
        "w = lsvm.coef_\n",
        "b = lsvm.intercept_\n",
        "1 / np.sqrt((w*w).sum())"
      ],
      "execution_count": null,
      "outputs": [
        {
          "data": {
            "text/plain": [
              "1.202092463116915"
            ]
          },
          "execution_count": 91,
          "metadata": {},
          "output_type": "execute_result"
        }
      ]
    },
    {
      "cell_type": "markdown",
      "metadata": {
        "id": "ob6wCym52iCW"
      },
      "source": [
        "한점과 하나의 직선간 거리를 계산:\n",
        "- 결정경계선: $X \\cdot w + b = 0$\n",
        "- SV에 해당하는 점 $X^+$: (1, 1)\n",
        "- 거리는 $\\cfrac {|X^+ \\cdot w + b|}{|w|^2}$"
      ]
    },
    {
      "cell_type": "code",
      "metadata": {
        "id": "3E92Djon2iCX",
        "outputId": "891a2f05-b1ba-4eb4-87ac-8ae920ad7458"
      },
      "source": [
        "from numpy.linalg import norm\n",
        "np.abs(X[1].dot(w[0]) + b) / norm(w)**2"
      ],
      "execution_count": null,
      "outputs": [
        {
          "data": {
            "text/plain": [
              "array([1.02000027])"
            ]
          },
          "execution_count": 141,
          "metadata": {},
          "output_type": "execute_result"
        }
      ]
    },
    {
      "cell_type": "code",
      "metadata": {
        "id": "2QvAVX5A2iCX"
      },
      "source": [
        "import matplotlib.pyplot as plt\n",
        "from matplotlib import style\n",
        "style.use(\"ggplot\")"
      ],
      "execution_count": null,
      "outputs": []
    },
    {
      "cell_type": "code",
      "metadata": {
        "id": "hCwM59AY2iCX",
        "outputId": "e3f90f40-394c-4608-b9fd-28ad8377c2a8"
      },
      "source": [
        "w = lsvm.coef_[0]\n",
        "b = lsvm.intercept_[0]\n",
        "slope = - w[0] / w[1]\n",
        "\n",
        "xx = np.linspace(0, 1, 6)\n",
        "yy = slope * xx - b / w[1]\n",
        "\n",
        "h0 = plt.plot(xx, yy, 'k-', label='Hyperplane')\n",
        "plt.scatter(X[:, 0], X[:, 1], c=y)\n",
        "plt.axis('equal')\n",
        "plt.legend()\n",
        "plt.show()"
      ],
      "execution_count": null,
      "outputs": [
        {
          "data": {
            "image/png": "[encoded data removed]",
            "text/plain": [
              "<Figure size 432x288 with 1 Axes>"
            ]
          },
          "metadata": {},
          "output_type": "display_data"
        }
      ]
    },
    {
      "cell_type": "code",
      "metadata": {
        "id": "vkm5Zm7_2iCX",
        "outputId": "9b0572f2-eb08-43de-b05e-a07d90f74372"
      },
      "source": [
        "slope, -b/w[0]"
      ],
      "execution_count": null,
      "outputs": [
        {
          "data": {
            "text/plain": [
              "(-1.0, 0.8000053021136313)"
            ]
          },
          "execution_count": 144,
          "metadata": {},
          "output_type": "execute_result"
        }
      ]
    },
    {
      "cell_type": "code",
      "metadata": {
        "id": "tJzvs74y2iCX",
        "outputId": "8af24cc1-43f5-4c90-f1bd-d08ab53c70d5"
      },
      "source": [
        "lsvm0 = svm.LinearSVC(C=100).fit(X, y)\n",
        "print(lsvm0.coef_)\n",
        "print(lsvm0.intercept_)"
      ],
      "execution_count": null,
      "outputs": [
        {
          "name": "stdout",
          "output_type": "stream",
          "text": [
            "[[0.99125371 0.99125371]]\n",
            "[-0.98746369]\n"
          ]
        }
      ]
    },
    {
      "cell_type": "code",
      "metadata": {
        "id": "9xnl-CS12iCX",
        "outputId": "49ec4258-d498-466d-9f00-fdebe66dd1ad"
      },
      "source": [
        "w = lsvm0.coef_[0]\n",
        "b = lsvm0.intercept_[0]\n",
        "- w[0] / w[1], - b / w[1]"
      ],
      "execution_count": null,
      "outputs": [
        {
          "data": {
            "text/plain": [
              "(-1.0, 0.99617653969264)"
            ]
          },
          "execution_count": 146,
          "metadata": {},
          "output_type": "execute_result"
        }
      ]
    },
    {
      "cell_type": "markdown",
      "metadata": {
        "id": "FY5abEMW2iCX"
      },
      "source": [
        "#### 커널 트릭\n",
        "![](https://mblogthumb-phinf.pstatic.net/MjAxNzExMDlfMjgw/MDAxNTEwMjMxNjA4NzYw.SwusLSsiU33wyJBKI0Yq5qUtSoqKeRFkiNcPensWZfgg.YX4asL-Zn_84Vn3BX774CIoLfE9O_2T4rSbHvCGKKl0g.PNG.sanghan1990/kernel.png?type=w800)\n",
        "앞서 데이터셋에 비선형 특성을 추가하여 강력한 선형 모델을 생성하였다. 하지만 많은 경우:\n",
        "- 어떤 특성을 추가해야 할지 모르고 \n",
        "- 특성을 많이 추가하면 연산 비용이 커진다. \n",
        "\n",
        "다행히 수학적 기교를 사용해서 새로운 특성을 많이 만들지 않고서도 고차원에서 분류기를 학습시킬 수 있다. 이를 **커널 기법(kernel trick)** 이라 하며 실제로 데이터를 확장하지 않고도 확장된 특성에 대한 데이터 포인트들의 거리(더 정확히는 유사도를 측정하는 스칼라 곱)를 계산해준다.\n",
        "$$\\kappa(\\mathbf x, \\mathbf x^`) = \\kappa(\\mathbf x^`, \\mathbf x) \\ge 0$$\n",
        "\n",
        "서포트 벡터 머신에서 데이터를 고차원 공간에 매핑하는 데 많이 사용하는 방법은 다음과 같다:\n",
        "1. $X^n$을 생성하는 다항식 커널\n",
        "$$\\kappa(x_1, x_2) = (\\gamma (x_1^Tx_2) + \\theta)^d$$\n",
        "2. $X$에 대한 다항정규(가우시안) 분포를 생성하는 RBF(radial basis function) 커널\n",
        "$$\\kappa(x_1, x_2) = \\exp \\left( -\\gamma ||x_1-x_2||^2 \\right)$$\n",
        "3. 시그모이드 커널 (Sigmoid Kernel)\n",
        "$$\\kappa(x_1, x_2) = \\tanh(\\gamma (x_1^Tx_2) + \\theta)$$\n",
        "\n",
        "![svc](https://i1.wp.com/dataaspirant.com/wp-content/uploads/2017/01/Iris_Petal_Svm.png?w=800&ssl=1)"
      ]
    },
    {
      "cell_type": "code",
      "metadata": {
        "id": "_wHmeMcm2iCY"
      },
      "source": [
        "import numpy as np\n",
        "from sklearn.svm import SVC\n",
        "import matplotlib.pyplot as plt\n",
        "from matplotlib import style\n",
        "style.use('ggplot')"
      ],
      "execution_count": null,
      "outputs": []
    },
    {
      "cell_type": "code",
      "metadata": {
        "id": "qlD6ICuP2iCY"
      },
      "source": [
        "X = np.array([[0,0], [1,1], [0,1], [1,0]])\n",
        "y = [0,0, 1,1]"
      ],
      "execution_count": null,
      "outputs": []
    },
    {
      "cell_type": "code",
      "metadata": {
        "scrolled": true,
        "id": "sEAt9w_62iCY",
        "outputId": "727ccc5d-d822-4245-fc40-de4dcf1a4996"
      },
      "source": [
        "SVM_XOR =SVC()\n",
        "SVM_XOR.fit(X, y)"
      ],
      "execution_count": null,
      "outputs": [
        {
          "data": {
            "text/plain": [
              "SVC()"
            ]
          },
          "execution_count": 94,
          "metadata": {},
          "output_type": "execute_result"
        }
      ]
    },
    {
      "cell_type": "code",
      "metadata": {
        "id": "4EGsJrml2iCY",
        "outputId": "ccfd3992-b78f-4678-d9b3-7ce312109de5"
      },
      "source": [
        "test_data = np.array([[.8,.8], [.2, .9]])\n",
        "SVM_XOR.predict(test_data)"
      ],
      "execution_count": null,
      "outputs": [
        {
          "data": {
            "text/plain": [
              "array([0, 1])"
            ]
          },
          "execution_count": 95,
          "metadata": {},
          "output_type": "execute_result"
        }
      ]
    },
    {
      "cell_type": "code",
      "metadata": {
        "id": "SYYcQiWr2iCY",
        "outputId": "a5bbb593-2f3a-4747-9409-d5baafe80100"
      },
      "source": [
        "np.random.seed(0)\n",
        "X = np.random.randn(300, 2)\n",
        "y = np.logical_xor(X[:,0] > 0, X[:, 1] > 0)\n",
        "\n",
        "SVM_XOR.fit(X, y)"
      ],
      "execution_count": null,
      "outputs": [
        {
          "data": {
            "text/plain": [
              "SVC()"
            ]
          },
          "execution_count": 96,
          "metadata": {},
          "output_type": "execute_result"
        }
      ]
    },
    {
      "cell_type": "code",
      "metadata": {
        "id": "3aGh6GWH2iCY",
        "outputId": "2a458016-65cd-466a-8f98-464a9428c454"
      },
      "source": [
        "X[:10]"
      ],
      "execution_count": null,
      "outputs": [
        {
          "data": {
            "text/plain": [
              "array([[ 1.76405235,  0.40015721],\n",
              "       [ 0.97873798,  2.2408932 ],\n",
              "       [ 1.86755799, -0.97727788],\n",
              "       [ 0.95008842, -0.15135721],\n",
              "       [-0.10321885,  0.4105985 ],\n",
              "       [ 0.14404357,  1.45427351],\n",
              "       [ 0.76103773,  0.12167502],\n",
              "       [ 0.44386323,  0.33367433],\n",
              "       [ 1.49407907, -0.20515826],\n",
              "       [ 0.3130677 , -0.85409574]])"
            ]
          },
          "execution_count": 97,
          "metadata": {},
          "output_type": "execute_result"
        }
      ]
    },
    {
      "cell_type": "code",
      "metadata": {
        "id": "V20rnXD02iCZ",
        "outputId": "ea32e824-ba66-4bf2-884d-8c89e44d40b1"
      },
      "source": [
        "y[:10]"
      ],
      "execution_count": null,
      "outputs": [
        {
          "data": {
            "text/plain": [
              "array([False, False,  True,  True,  True, False, False, False,  True,\n",
              "        True])"
            ]
          },
          "execution_count": 98,
          "metadata": {},
          "output_type": "execute_result"
        }
      ]
    },
    {
      "cell_type": "code",
      "metadata": {
        "id": "dn3pwtHb2iCZ",
        "outputId": "59047cf1-60a9-4da4-aabc-303cdf128f53"
      },
      "source": [
        "test_data = np.array([[.8, .8], [-.9, .9]])\n",
        "SVM_XOR.predict(test_data)"
      ],
      "execution_count": null,
      "outputs": [
        {
          "data": {
            "text/plain": [
              "array([False,  True])"
            ]
          },
          "execution_count": 99,
          "metadata": {},
          "output_type": "execute_result"
        }
      ]
    },
    {
      "cell_type": "code",
      "metadata": {
        "id": "z7Gf4N1-2iCZ",
        "outputId": "88ba5d14-8dc2-4e99-c346-58b7dc2e0304"
      },
      "source": [
        "np.c_[xx.ravel(), yy.ravel()].shape"
      ],
      "execution_count": null,
      "outputs": [
        {
          "data": {
            "text/plain": [
              "(250000, 2)"
            ]
          },
          "execution_count": 23,
          "metadata": {},
          "output_type": "execute_result"
        }
      ]
    },
    {
      "cell_type": "code",
      "metadata": {
        "id": "7HkLLOu-2iCZ",
        "outputId": "46f673cd-6579-42c1-bacb-89fc2c9a23d8"
      },
      "source": [
        "xx, yy = np.meshgrid(np.linspace(-3,3,500),\n",
        "                     np.linspace(-3,3,500))\n",
        "\n",
        "Z = SVM_XOR.decision_function(np.c_[xx.ravel(), yy.ravel()])\n",
        "Z = Z.reshape(xx.shape)\n",
        "\n",
        "plt.imshow(Z, interpolation='nearest',\n",
        "          extent=(xx.min(), xx.max(), yy.min(), yy.max()),\n",
        "          aspect='equal', origin='lower', cmap=plt.cm.PuOr_r)\n",
        "contours= plt.contour(xx, yy, Z, levels=[0], linewidths=2, linetypes='-*-')\n",
        "plt.scatter(X[:, 0], X[:, 1], s=30, c=y, cmap=plt.cm.Paired)\n",
        "plt.xticks(())\n",
        "plt.yticks(())\n",
        "plt.axis([-3,3,-3,3])\n",
        "plt.show()"
      ],
      "execution_count": null,
      "outputs": [
        {
          "name": "stderr",
          "output_type": "stream",
          "text": [
            "C:\\Users\\great\\Anaconda3\\lib\\site-packages\\ipykernel_launcher.py:10: UserWarning: The following kwargs were not used by contour: 'linetypes'\n",
            "  # Remove the CWD from sys.path while we load stuff.\n"
          ]
        },
        {
          "data": {
            "image/png": "[encoded data removed]",
            "text/plain": [
              "<Figure size 432x288 with 1 Axes>"
            ]
          },
          "metadata": {},
          "output_type": "display_data"
        }
      ]
    },
    {
      "cell_type": "markdown",
      "metadata": {
        "id": "MGbNxWhF2iCZ"
      },
      "source": [
        "#### IRIS 데이터 분석\n",
        "SVM의 결정 경계면 $X \\cdot w + b = 0$ 이므로, 선형분류기이다. 따라서, scaler가 필요하다."
      ]
    },
    {
      "cell_type": "code",
      "metadata": {
        "id": "l7jBY-pu2iCZ"
      },
      "source": [
        "from sklearn.datasets import load_iris\n",
        "iris = load_iris()"
      ],
      "execution_count": null,
      "outputs": []
    },
    {
      "cell_type": "code",
      "metadata": {
        "id": "I8LIZf662iCa"
      },
      "source": [
        "from sklearn.model_selection import train_test_split\n",
        "X_train, X_test, y_train, y_test = train_test_split(iris.data, iris.target, \n",
        "                                                    stratify=iris.target,\n",
        "                                                    random_state=123)"
      ],
      "execution_count": null,
      "outputs": []
    },
    {
      "cell_type": "code",
      "metadata": {
        "id": "WEEKbeCr2iCa",
        "colab": {
          "base_uri": "https://localhost:8080/"
        },
        "outputId": "4223f363-dba2-4447-ac98-b498a1a1752a"
      },
      "source": [
        "from sklearn.svm import LinearSVC\n",
        "svm = LinearSVC().fit(X_train, y_train)\n",
        "svm.score(X_test, y_test)"
      ],
      "execution_count": null,
      "outputs": [
        {
          "output_type": "stream",
          "name": "stderr",
          "text": [
            "/usr/local/lib/python3.7/dist-packages/sklearn/svm/_base.py:947: ConvergenceWarning: Liblinear failed to converge, increase the number of iterations.\n",
            "  \"the number of iterations.\", ConvergenceWarning)\n"
          ]
        },
        {
          "output_type": "execute_result",
          "data": {
            "text/plain": [
              "1.0"
            ]
          },
          "metadata": {},
          "execution_count": 3
        }
      ]
    },
    {
      "cell_type": "code",
      "metadata": {
        "id": "Al3hadT92iCa",
        "colab": {
          "base_uri": "https://localhost:8080/"
        },
        "outputId": "a629cc64-209c-44cd-abe6-e387e877c1de"
      },
      "source": [
        "from sklearn.svm import SVC\n",
        "svm = SVC().fit(X_train, y_train)\n",
        "svm.score(X_test, y_test)"
      ],
      "execution_count": null,
      "outputs": [
        {
          "output_type": "execute_result",
          "data": {
            "text/plain": [
              "0.9736842105263158"
            ]
          },
          "metadata": {},
          "execution_count": 8
        }
      ]
    },
    {
      "cell_type": "markdown",
      "metadata": {
        "id": "qkGKDHkc2iCa"
      },
      "source": [
        "SVC 튜닝하기"
      ]
    },
    {
      "cell_type": "code",
      "metadata": {
        "id": "lx1jssE62iCa",
        "colab": {
          "base_uri": "https://localhost:8080/"
        },
        "outputId": "c70d3a85-eadb-48ee-8525-301edfcdbaba"
      },
      "source": [
        "# gammas = [0.1, 1, 5, 10]\n",
        "# Cs = [0.1, 0.5, 1.0, 10]\n",
        "gammas = [0.01, 0.1, 1, 10]\n",
        "Cs = [0.01, 0.1, 1, 10]\n",
        "bestmodel = None\n",
        "bestparams = {}\n",
        "bestscore = 0\n",
        "for gamma in gammas:\n",
        "    for C in Cs:\n",
        "        svm = SVC(gamma=gamma, C=C).fit(X_train, y_train)\n",
        "        score = svm.score(X_test, y_test)\n",
        "        if score > bestscore:\n",
        "            bestscore = score\n",
        "            bestmodel = svm\n",
        "            bestparams[\"gamma\"]=gamma\n",
        "            bestparams[\"C\"]=C\n",
        "            print(f\"present best score is {score}\")\n",
        "            print(f\"best params is \\n{bestparams}\")\n",
        "        if bestscore == 1:\n",
        "            break"
      ],
      "execution_count": null,
      "outputs": [
        {
          "output_type": "stream",
          "name": "stdout",
          "text": [
            "present best score is 0.3157894736842105\n",
            "best params is \n",
            "{'gamma': 0.01, 'C': 0.01}\n",
            "present best score is 0.6052631578947368\n",
            "best params is \n",
            "{'gamma': 0.01, 'C': 0.1}\n",
            "present best score is 0.9473684210526315\n",
            "best params is \n",
            "{'gamma': 0.01, 'C': 1}\n",
            "present best score is 1.0\n",
            "best params is \n",
            "{'gamma': 0.1, 'C': 10}\n"
          ]
        }
      ]
    },
    {
      "cell_type": "markdown",
      "metadata": {
        "id": "Jjz4cDym2iCa"
      },
      "source": [
        "[Quiz] breast cancer 데이터를 SVC를 이용하여 모델 튜닝을 하여 성능을 높이도록 하자."
      ]
    },
    {
      "cell_type": "code",
      "metadata": {
        "id": "ELfIJnSG2iCb"
      },
      "source": [
        "from sklearn.datasets import load_breast_cancer\n",
        "cancer = load_breast_cancer()\n",
        "from sklearn.model_selection import train_test_split\n",
        "X_train, X_test, y_train, y_test = train_test_split(cancer.data, cancer.target, \n",
        "                                                    stratify=cancer.target,\n",
        "                                                    random_state=123)\n",
        "from sklearn.preprocessing import RobustScaler\n",
        "scaler = RobustScaler()\n",
        "X_train = scaler.fit_transform(X_train)\n",
        "X_test = scaler.transform(X_test)"
      ],
      "execution_count": null,
      "outputs": []
    },
    {
      "cell_type": "code",
      "metadata": {
        "id": "kroGMGuM2iCb",
        "colab": {
          "base_uri": "https://localhost:8080/"
        },
        "outputId": "9dab4543-5d66-4e9f-8721-14762d0aa5d5"
      },
      "source": [
        "# gammas = [0.01, 0.05, 0.1]\n",
        "# gammas = [0.1, 1, 5, 10]\n",
        "# Cs = [0.1, 0.5, 1.0, 10]\n",
        "gammas = [0.01, 0.1, 1, 10]\n",
        "Cs = [0.01, 0.1, 1, 10]\n",
        "bestmodel = svm\n",
        "bestparams = {}\n",
        "bestscore = 0\n",
        "for gamma in gammas:\n",
        "    for C in Cs:\n",
        "        svm = SVC(gamma=gamma, C=C).fit(X_train, y_train)\n",
        "        score = svm.score(X_test, y_test)\n",
        "        if score > bestscore:\n",
        "            bestscore = score\n",
        "            bestmodel = svm\n",
        "            bestparams[\"gamma\"]=gamma\n",
        "            bestparams[\"C\"]=C\n",
        "            print(f\"present best score is {score}\")\n",
        "            print(f\"best params is \\n{bestparams}\")\n",
        "        if bestscore == 1:\n",
        "            break"
      ],
      "execution_count": null,
      "outputs": [
        {
          "output_type": "stream",
          "name": "stdout",
          "text": [
            "present best score is 0.6293706293706294\n",
            "best params is \n",
            "{'gamma': 0.01, 'C': 0.01}\n",
            "present best score is 0.951048951048951\n",
            "best params is \n",
            "{'gamma': 0.01, 'C': 0.1}\n",
            "present best score is 0.972027972027972\n",
            "best params is \n",
            "{'gamma': 0.01, 'C': 1}\n"
          ]
        }
      ]
    },
    {
      "cell_type": "markdown",
      "metadata": {
        "id": "AoyPYMfW2iCb"
      },
      "source": [
        "[Quiz] titanic 데이터에 대해 SVC를 튜닝하여 best score를 구하고, 이 때의 param가 얼마가 되는 지 출력하자.\n",
        "- 참고: https://www.kaggle.com/hasanburakavci/titanic-eda-and-classification-top-5"
      ]
    },
    {
      "cell_type": "code",
      "metadata": {
        "id": "zx6coKVK2iCb"
      },
      "source": [
        "import seaborn as sns\n",
        "data = sns.load_dataset('titanic')"
      ],
      "execution_count": null,
      "outputs": []
    },
    {
      "cell_type": "code",
      "metadata": {
        "id": "4Lv3SGI82iCb"
      },
      "source": [
        "X_train, X_test, y_train, y_test = train_test_split(prep_data.iloc[:, 1:], \n",
        "                                                   prep_data.iloc[:, 0],\n",
        "                                                   random_state=42)"
      ],
      "execution_count": null,
      "outputs": []
    },
    {
      "cell_type": "code",
      "metadata": {
        "id": "tKaOY8Zw2iCb",
        "outputId": "e43b287a-4fc1-41ca-905c-b510286f94be"
      },
      "source": [
        "gammas = [0.01, 0.1, 1, 10, 100]\n",
        "Cs = [0.01, 0.1, 1, 10, 100]\n",
        "gammas = [0.001, 0.01, 0.1]\n",
        "Cs = [10, 100, 1000]\n",
        "gammas = [0.0001, 0.001, 0.01]\n",
        "Cs = [10, 100, 1000]\n",
        "gammas = [0.00005, 0.0001, 0.005]\n",
        "Cs = [5000, 10000, 50000]\n",
        "gammas = [0.000025, 0.00005, 0.000075]\n",
        "Cs = [50000, 70000, 90000]\n",
        "gammas = [0.00004, 0.00005, 0.00006]\n",
        "Cs = [60000, 70000, 80000]\n",
        "bestmodel = svm\n",
        "bestparams = {}\n",
        "bestscore = 0\n",
        "for gamma in gammas:\n",
        "    for C in Cs:\n",
        "        svm = SVC(gamma=gamma, C=C).fit(X_train, y_train)\n",
        "        score = svm.score(X_test, y_test)\n",
        "        if score > bestscore:\n",
        "            bestscore = score\n",
        "            bestmodel = svm\n",
        "            bestparams[\"gamma\"]=gamma\n",
        "            bestparams[\"C\"]=C\n",
        "            print(f\"present best score is {score}\")\n",
        "            print(f\"best params is \\n{bestparams}\")\n",
        "        if bestscore == 1:\n",
        "            break"
      ],
      "execution_count": null,
      "outputs": [
        {
          "name": "stdout",
          "output_type": "stream",
          "text": [
            "present best score is 0.8089887640449438\n",
            "best params is \n",
            "{'gamma': 4e-05, 'C': 60000}\n",
            "present best score is 0.8146067415730337\n",
            "best params is \n",
            "{'gamma': 5e-05, 'C': 70000}\n"
          ]
        }
      ]
    },
    {
      "cell_type": "code",
      "metadata": {
        "id": "_T7WHtMV2iCb"
      },
      "source": [
        ""
      ],
      "execution_count": null,
      "outputs": []
    }
  ]
}