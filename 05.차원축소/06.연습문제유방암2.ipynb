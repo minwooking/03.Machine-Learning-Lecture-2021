{
 "cells": [
  {
   "cell_type": "code",
   "execution_count": 95,
   "metadata": {},
   "outputs": [],
   "source": [
    "import numpy as np\n",
    "import pandas as pd\n",
    "import matplotlib.pyplot as plt\n",
    "from sklearn.datasets import load_breast_cancer\n",
    "cancer = load_breast_cancer()\n",
    "df = pd.DataFrame(cancer.data, columns=cancer.feature_names)\n",
    "df['target'] = cancer.target\n",
    "from sklearn.preprocessing import StandardScaler\n",
    "std = StandardScaler()\n",
    "cancer_std = StandardScaler().fit_transform(cancer.data)\n",
    "from sklearn.decomposition import PCA\n",
    "pca2 = PCA(n_components=2)\n",
    "pca5 = PCA(n_components=5)\n",
    "pca10 = PCA(n_components=10)"
   ]
  },
  {
   "cell_type": "code",
   "execution_count": 96,
   "metadata": {},
   "outputs": [],
   "source": [
    "cancer_pca2 = pca2.fit_transform(cancer_std)\n",
    "cancer_pca5 = pca5.fit_transform(cancer_std)\n",
    "cancer_pca10 = pca10.fit_transform(cancer_std)"
   ]
  },
  {
   "cell_type": "code",
   "execution_count": 97,
   "metadata": {},
   "outputs": [],
   "source": [
    "from sklearn.model_selection import train_test_split\n",
    "X_train,X_test,y_train,y_test = train_test_split(\n",
    "    cancer_std,cancer.target,stratify=cancer.target,random_state=2021\n",
    ")"
   ]
  },
  {
   "cell_type": "code",
   "execution_count": 181,
   "metadata": {},
   "outputs": [],
   "source": [
    "from sklearn.linear_model import LogisticRegression\n",
    "lrc = LogisticRegression()\n",
    "lrc.fit(X_train,y_train) # 학습\n",
    "lrc.score(X_test,y_test) # 정확도\n",
    "pred = lrc.predict(X_test)\n",
    "# lrc.score(pred,y_test)"
   ]
  },
  {
   "cell_type": "code",
   "execution_count": 180,
   "metadata": {},
   "outputs": [
    {
     "data": {
      "text/plain": [
       "0.9440559440559441"
      ]
     },
     "execution_count": 180,
     "metadata": {},
     "output_type": "execute_result"
    }
   ],
   "source": [
    "from sklearn.ensemble import RandomForestClassifier\n",
    "rfc = RandomForestClassifier()\n",
    "rfc.fit(X_train,y_train)\n",
    "rfc.score(X_test,y_test)"
   ]
  },
  {
   "cell_type": "markdown",
   "metadata": {},
   "source": [
    "- 새로운 방법"
   ]
  },
  {
   "cell_type": "code",
   "execution_count": 179,
   "metadata": {},
   "outputs": [],
   "source": [
    "def pca_accuracy(a,b):\n",
    "    X_train,X_test,y_train,y_test = train_test_split(\n",
    "    a,b,stratify=b,random_state=2021)\n",
    "    lrc = LogisticRegression()\n",
    "    lrc.fit(X_train,y_train) # 학습\n",
    "    lrc.score(X_test,y_test) # 정확도\n",
    "    score = lrc.score(X_test,y_test)\n",
    "    return np.round(score,4)"
   ]
  },
  {
   "cell_type": "code",
   "execution_count": 178,
   "metadata": {},
   "outputs": [
    {
     "name": "stdout",
     "output_type": "stream",
     "text": [
      "0.9441\n",
      "0.993\n",
      "0.986\n"
     ]
    }
   ],
   "source": [
    "As = [2,5,10]\n",
    "for A in As :\n",
    "    print(pca_accuracy(globals()[f'cancer_pca{A}'],cancer.target))"
   ]
  },
  {
   "cell_type": "code",
   "execution_count": 176,
   "metadata": {},
   "outputs": [
    {
     "name": "stdout",
     "output_type": "stream",
     "text": [
      "0.9441\n",
      "0.993\n",
      "0.986\n"
     ]
    }
   ],
   "source": [
    "for index in [2,5,10] :\n",
    "   print(pca_accuracy(globals()[f'cancer_pca{index}'],cancer.target))"
   ]
  },
  {
   "cell_type": "markdown",
   "metadata": {},
   "source": [
    "- globals() : 전역 변수를 딕셔너리에 담아두기\n"
   ]
  },
  {
   "cell_type": "code",
   "execution_count": 175,
   "metadata": {},
   "outputs": [
    {
     "name": "stdout",
     "output_type": "stream",
     "text": [
      "PCA 2의 정확도:0.9441\n",
      "PCA 5의 정확도:0.993\n",
      "PCA 10의 정확도:0.986\n",
      "원데이터 정확도 0.993\n"
     ]
    }
   ],
   "source": [
    "for dim in [2,5,10]:\n",
    "    globals()[f'pca{dim}']=PCA(n_components=dim)\n",
    "    globals()[f'cancer_pca{dim}'] = globals()[f'pca{dim}'].fit_transform(cancer_std)\n",
    "    acc = pca_accuracy(globals()[f'cancer_pca{dim}'], cancer.target)\n",
    "    print(f'PCA {dim}의 정확도:{acc}')\n",
    "print('원데이터 정확도',pca_accuracy(cancer_std,cancer.target))"
   ]
  },
  {
   "cell_type": "code",
   "execution_count": null,
   "metadata": {},
   "outputs": [],
   "source": []
  }
 ],
 "metadata": {
  "interpreter": {
   "hash": "01028a136781fc040f4ca2fc342be4af38db445d6d6e41b2bf3d0a768d20aeda"
  },
  "kernelspec": {
   "display_name": "Python 3.8.8 64-bit (conda)",
   "language": "python",
   "name": "python3"
  },
  "language_info": {
   "codemirror_mode": {
    "name": "ipython",
    "version": 3
   },
   "file_extension": ".py",
   "mimetype": "text/x-python",
   "name": "python",
   "nbconvert_exporter": "python",
   "pygments_lexer": "ipython3",
   "version": "3.8.8"
  },
  "orig_nbformat": 4
 },
 "nbformat": 4,
 "nbformat_minor": 2
}
